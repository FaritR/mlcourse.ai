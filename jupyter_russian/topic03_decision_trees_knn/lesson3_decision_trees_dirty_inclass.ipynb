{
    "metadata": {
        "kernelspec": {
            "name": "python3",
            "display_name": "Python 3",
            "language": "python"
        },
        "language_info": {
            "name": "python",
            "version": "3.9.7",
            "mimetype": "text/x-python",
            "codemirror_mode": {
                "name": "ipython",
                "version": 3
            },
            "pygments_lexer": "ipython3",
            "nbconvert_exporter": "python",
            "file_extension": ".py"
        }
    },
    "nbformat_minor": 2,
    "nbformat": 4,
    "cells": [
        {
            "cell_type": "code",
            "source": [
                "import pandas as pd\n",
                "from sklearn.tree import DecisionTreeClassifier\n",
                "from sklearn import tree"
            ],
            "metadata": {
                "azdata_cell_guid": "479d6f4e-3ecf-464b-9244-72caf276ddf6"
            },
            "outputs": [],
            "execution_count": 78
        },
        {
            "cell_type": "code",
            "source": [
                "data = pd.read_csv(\"../../data/telecom_churn.csv\")  "
            ],
            "metadata": {
                "azdata_cell_guid": "712e13e1-1950-480d-9a05-55693c094e40"
            },
            "outputs": [],
            "execution_count": 2
        },
        {
            "cell_type": "code",
            "source": [
                "data.head()"
            ],
            "metadata": {
                "azdata_cell_guid": "21363057-3788-490b-ab6b-2ac90589fcb5"
            },
            "outputs": [
                {
                    "data": {
                        "text/plain": "  State  Account length  Area code International plan Voice mail plan  \\\n0    KS             128        415                 No             Yes   \n1    OH             107        415                 No             Yes   \n2    NJ             137        415                 No              No   \n3    OH              84        408                Yes              No   \n4    OK              75        415                Yes              No   \n\n   Number vmail messages  Total day minutes  Total day calls  \\\n0                     25              265.1              110   \n1                     26              161.6              123   \n2                      0              243.4              114   \n3                      0              299.4               71   \n4                      0              166.7              113   \n\n   Total day charge  Total eve minutes  Total eve calls  Total eve charge  \\\n0             45.07              197.4               99             16.78   \n1             27.47              195.5              103             16.62   \n2             41.38              121.2              110             10.30   \n3             50.90               61.9               88              5.26   \n4             28.34              148.3              122             12.61   \n\n   Total night minutes  Total night calls  Total night charge  \\\n0                244.7                 91               11.01   \n1                254.4                103               11.45   \n2                162.6                104                7.32   \n3                196.9                 89                8.86   \n4                186.9                121                8.41   \n\n   Total intl minutes  Total intl calls  Total intl charge  \\\n0                10.0                 3               2.70   \n1                13.7                 3               3.70   \n2                12.2                 5               3.29   \n3                 6.6                 7               1.78   \n4                10.1                 3               2.73   \n\n   Customer service calls  Churn  \n0                       1  False  \n1                       1  False  \n2                       0  False  \n3                       2  False  \n4                       3  False  ",
                        "text/html": "<div>\n<style scoped>\n    .dataframe tbody tr th:only-of-type {\n        vertical-align: middle;\n    }\n\n    .dataframe tbody tr th {\n        vertical-align: top;\n    }\n\n    .dataframe thead th {\n        text-align: right;\n    }\n</style>\n<table border=\"1\" class=\"dataframe\">\n  <thead>\n    <tr style=\"text-align: right;\">\n      <th></th>\n      <th>State</th>\n      <th>Account length</th>\n      <th>Area code</th>\n      <th>International plan</th>\n      <th>Voice mail plan</th>\n      <th>Number vmail messages</th>\n      <th>Total day minutes</th>\n      <th>Total day calls</th>\n      <th>Total day charge</th>\n      <th>Total eve minutes</th>\n      <th>Total eve calls</th>\n      <th>Total eve charge</th>\n      <th>Total night minutes</th>\n      <th>Total night calls</th>\n      <th>Total night charge</th>\n      <th>Total intl minutes</th>\n      <th>Total intl calls</th>\n      <th>Total intl charge</th>\n      <th>Customer service calls</th>\n      <th>Churn</th>\n    </tr>\n  </thead>\n  <tbody>\n    <tr>\n      <th>0</th>\n      <td>KS</td>\n      <td>128</td>\n      <td>415</td>\n      <td>No</td>\n      <td>Yes</td>\n      <td>25</td>\n      <td>265.1</td>\n      <td>110</td>\n      <td>45.07</td>\n      <td>197.4</td>\n      <td>99</td>\n      <td>16.78</td>\n      <td>244.7</td>\n      <td>91</td>\n      <td>11.01</td>\n      <td>10.0</td>\n      <td>3</td>\n      <td>2.70</td>\n      <td>1</td>\n      <td>False</td>\n    </tr>\n    <tr>\n      <th>1</th>\n      <td>OH</td>\n      <td>107</td>\n      <td>415</td>\n      <td>No</td>\n      <td>Yes</td>\n      <td>26</td>\n      <td>161.6</td>\n      <td>123</td>\n      <td>27.47</td>\n      <td>195.5</td>\n      <td>103</td>\n      <td>16.62</td>\n      <td>254.4</td>\n      <td>103</td>\n      <td>11.45</td>\n      <td>13.7</td>\n      <td>3</td>\n      <td>3.70</td>\n      <td>1</td>\n      <td>False</td>\n    </tr>\n    <tr>\n      <th>2</th>\n      <td>NJ</td>\n      <td>137</td>\n      <td>415</td>\n      <td>No</td>\n      <td>No</td>\n      <td>0</td>\n      <td>243.4</td>\n      <td>114</td>\n      <td>41.38</td>\n      <td>121.2</td>\n      <td>110</td>\n      <td>10.30</td>\n      <td>162.6</td>\n      <td>104</td>\n      <td>7.32</td>\n      <td>12.2</td>\n      <td>5</td>\n      <td>3.29</td>\n      <td>0</td>\n      <td>False</td>\n    </tr>\n    <tr>\n      <th>3</th>\n      <td>OH</td>\n      <td>84</td>\n      <td>408</td>\n      <td>Yes</td>\n      <td>No</td>\n      <td>0</td>\n      <td>299.4</td>\n      <td>71</td>\n      <td>50.90</td>\n      <td>61.9</td>\n      <td>88</td>\n      <td>5.26</td>\n      <td>196.9</td>\n      <td>89</td>\n      <td>8.86</td>\n      <td>6.6</td>\n      <td>7</td>\n      <td>1.78</td>\n      <td>2</td>\n      <td>False</td>\n    </tr>\n    <tr>\n      <th>4</th>\n      <td>OK</td>\n      <td>75</td>\n      <td>415</td>\n      <td>Yes</td>\n      <td>No</td>\n      <td>0</td>\n      <td>166.7</td>\n      <td>113</td>\n      <td>28.34</td>\n      <td>148.3</td>\n      <td>122</td>\n      <td>12.61</td>\n      <td>186.9</td>\n      <td>121</td>\n      <td>8.41</td>\n      <td>10.1</td>\n      <td>3</td>\n      <td>2.73</td>\n      <td>3</td>\n      <td>False</td>\n    </tr>\n  </tbody>\n</table>\n</div>"
                    },
                    "metadata": {},
                    "execution_count": 3,
                    "output_type": "execute_result"
                }
            ],
            "execution_count": 3
        },
        {
            "cell_type": "code",
            "source": [
                "data.drop([\"State\", \"Voice mail plan\"], axis=1, inplace=True)"
            ],
            "metadata": {
                "azdata_cell_guid": "a2e8540d-2853-4a44-82a7-aae7793e9195"
            },
            "outputs": [],
            "execution_count": 4
        },
        {
            "cell_type": "code",
            "source": [
                "data[\"International plan\"] = data[\"International plan\"].map({\"Yes\": 1, \"No\": 0})"
            ],
            "metadata": {
                "azdata_cell_guid": "9c1dfc2e-35da-4ba0-b185-4b9b783cd536"
            },
            "outputs": [],
            "execution_count": 5
        },
        {
            "cell_type": "code",
            "source": [
                "data.info()"
            ],
            "metadata": {
                "azdata_cell_guid": "abf6a36c-73ac-4544-87f7-97558582e6a6"
            },
            "outputs": [
                {
                    "name": "stdout",
                    "text": "<class 'pandas.core.frame.DataFrame'>\nRangeIndex: 3333 entries, 0 to 3332\nData columns (total 18 columns):\n #   Column                  Non-Null Count  Dtype  \n---  ------                  --------------  -----  \n 0   Account length          3333 non-null   int64  \n 1   Area code               3333 non-null   int64  \n 2   International plan      3333 non-null   int64  \n 3   Number vmail messages   3333 non-null   int64  \n 4   Total day minutes       3333 non-null   float64\n 5   Total day calls         3333 non-null   int64  \n 6   Total day charge        3333 non-null   float64\n 7   Total eve minutes       3333 non-null   float64\n 8   Total eve calls         3333 non-null   int64  \n 9   Total eve charge        3333 non-null   float64\n 10  Total night minutes     3333 non-null   float64\n 11  Total night calls       3333 non-null   int64  \n 12  Total night charge      3333 non-null   float64\n 13  Total intl minutes      3333 non-null   float64\n 14  Total intl calls        3333 non-null   int64  \n 15  Total intl charge       3333 non-null   float64\n 16  Customer service calls  3333 non-null   int64  \n 17  Churn                   3333 non-null   bool   \ndtypes: bool(1), float64(8), int64(9)\nmemory usage: 446.0 KB\n",
                    "output_type": "stream"
                }
            ],
            "execution_count": 6
        },
        {
            "cell_type": "code",
            "source": [
                "y = data[\"Churn\"].astype(\"int\")"
            ],
            "metadata": {
                "azdata_cell_guid": "895064b1-d328-45e9-bac4-f578186fbf6f"
            },
            "outputs": [],
            "execution_count": 7
        },
        {
            "cell_type": "code",
            "source": [
                "X = data.drop(\"Churn\", axis=1)"
            ],
            "metadata": {
                "azdata_cell_guid": "230ca38b-c247-4c69-b5e8-24e4d1939fee"
            },
            "outputs": [],
            "execution_count": 8
        },
        {
            "cell_type": "code",
            "source": [
                "X.shape, y.shape"
            ],
            "metadata": {
                "azdata_cell_guid": "ee0d6777-eb5e-4ced-8f75-d4842557e0a3"
            },
            "outputs": [
                {
                    "data": {
                        "text/plain": "((3333, 17), (3333,))"
                    },
                    "metadata": {},
                    "execution_count": 9,
                    "output_type": "execute_result"
                }
            ],
            "execution_count": 9
        },
        {
            "cell_type": "code",
            "source": [
                "import numpy as np\n",
                "from sklearn.model_selection import cross_val_score, train_test_split"
            ],
            "metadata": {
                "azdata_cell_guid": "da96445a-82ea-4fa6-ad17-3a8099e9b1c5"
            },
            "outputs": [],
            "execution_count": 10
        },
        {
            "cell_type": "code",
            "source": [
                "X_train, X_valid, y_train, y_valid = train_test_split(\n",
                "    X, y, test_size=0.3, random_state=17\n",
                ")"
            ],
            "metadata": {
                "azdata_cell_guid": "03779137-1027-4a3f-9bf0-5091e92d9f10",
                "tags": []
            },
            "outputs": [],
            "execution_count": 11
        },
        {
            "cell_type": "code",
            "source": [
                "X_train.shape, X_valid.shape"
            ],
            "metadata": {
                "azdata_cell_guid": "bfd89861-f51d-4336-b00b-e89f987f26fc"
            },
            "outputs": [
                {
                    "data": {
                        "text/plain": "((2333, 17), (1000, 17))"
                    },
                    "metadata": {},
                    "execution_count": 12,
                    "output_type": "execute_result"
                }
            ],
            "execution_count": 12
        },
        {
            "cell_type": "code",
            "source": [
                "first_tree = DecisionTreeClassifier(random_state=17)"
            ],
            "metadata": {
                "azdata_cell_guid": "1635751c-301f-4881-b93f-888c257c511f"
            },
            "outputs": [],
            "execution_count": 99
        },
        {
            "cell_type": "code",
            "source": [
                "np.mean(cross_val_score(first_tree, X_train, y_train, cv=5))"
            ],
            "metadata": {
                "azdata_cell_guid": "b4bb19eb-c2ac-4a8e-bfae-6f36dfef3f21"
            },
            "outputs": [
                {
                    "data": {
                        "text/plain": "0.9138423504976518"
                    },
                    "metadata": {},
                    "execution_count": 74,
                    "output_type": "execute_result"
                }
            ],
            "execution_count": 74
        },
        {
            "cell_type": "code",
            "source": [
                "cross_val_score(first_tree, X_train, y_train, cv=5).mean()"
            ],
            "metadata": {
                "azdata_cell_guid": "36739da6-8216-4c14-98dc-4e26c89cafa4"
            },
            "outputs": [
                {
                    "data": {
                        "text/plain": "0.9138423504976518"
                    },
                    "metadata": {},
                    "execution_count": 75,
                    "output_type": "execute_result"
                }
            ],
            "execution_count": 75
        },
        {
            "cell_type": "code",
            "source": [
                "from sklearn.neighbors import KNeighborsClassifier"
            ],
            "metadata": {
                "azdata_cell_guid": "54813f03-5dac-4ed2-a997-b14eefa36f71"
            },
            "outputs": [],
            "execution_count": 16
        },
        {
            "cell_type": "code",
            "source": [
                "first_knn = KNeighborsClassifier()"
            ],
            "metadata": {
                "azdata_cell_guid": "ee11cddf-813d-40b1-8d13-02edc69e6fb8"
            },
            "outputs": [],
            "execution_count": 17
        },
        {
            "cell_type": "code",
            "source": [
                "np.mean(cross_val_score(first_knn, X_train, y_train, cv=5))"
            ],
            "metadata": {
                "azdata_cell_guid": "b06fc846-9a80-4599-8a6a-adab8119b966"
            },
            "outputs": [
                {
                    "data": {
                        "text/plain": "0.8671274043984523"
                    },
                    "metadata": {},
                    "execution_count": 18,
                    "output_type": "execute_result"
                }
            ],
            "execution_count": 18
        },
        {
            "cell_type": "markdown",
            "source": [
                "## настраиваем max_depth для дерева"
            ],
            "metadata": {
                "azdata_cell_guid": "9d7d50b5-5aca-4c04-9da2-6bef4df57769"
            }
        },
        {
            "cell_type": "code",
            "source": [
                "from sklearn.model_selection import GridSearchCV"
            ],
            "metadata": {
                "azdata_cell_guid": "f448c0ad-1d73-41f5-a24b-3697ae3de8fd"
            },
            "outputs": [],
            "execution_count": 80
        },
        {
            "cell_type": "code",
            "source": [
                "tree_params = {\"max_depth\": np.arange(1, 11), \"max_features\": [0.5, 0.7, 1]}"
            ],
            "metadata": {
                "azdata_cell_guid": "d91e1c18-a401-46bb-beb6-484719d39cd2"
            },
            "outputs": [],
            "execution_count": 81
        },
        {
            "cell_type": "code",
            "source": [
                "tree_grid = GridSearchCV(first_tree, tree_params, cv=5, n_jobs=-1)"
            ],
            "metadata": {
                "azdata_cell_guid": "35c72f67-d856-4eb7-86e3-ea60beaf6f66"
            },
            "outputs": [],
            "execution_count": 82
        },
        {
            "cell_type": "code",
            "source": [
                "%%time\n",
                "tree_grid.fit(X_train, y_train);"
            ],
            "metadata": {
                "azdata_cell_guid": "0b09148e-7a58-4e3f-9b04-9b0e39d824a6"
            },
            "outputs": [
                {
                    "name": "stdout",
                    "text": "Wall time: 16.2 s\n",
                    "output_type": "stream"
                },
                {
                    "data": {
                        "text/plain": "GridSearchCV(cv=5, estimator=DecisionTreeClassifier(random_state=17), n_jobs=-1,\n             param_grid={'max_depth': array([ 1,  2,  3,  4,  5,  6,  7,  8,  9, 10]),\n                         'max_features': [0.5, 0.7, 1]})"
                    },
                    "metadata": {},
                    "execution_count": 83,
                    "output_type": "execute_result"
                }
            ],
            "execution_count": 83
        },
        {
            "cell_type": "code",
            "source": [
                "tree_grid.best_score_, tree_grid.best_params_"
            ],
            "metadata": {
                "azdata_cell_guid": "b3d987b3-9742-459a-a02b-49c43d39f7d8"
            },
            "outputs": [
                {
                    "data": {
                        "text/plain": "(0.9391366681677404, {'max_depth': 6, 'max_features': 0.7})"
                    },
                    "metadata": {},
                    "execution_count": 84,
                    "output_type": "execute_result"
                }
            ],
            "execution_count": 84
        },
        {
            "cell_type": "code",
            "source": [
                "knn_params = {\"n_neighbors\": range(5, 30, 5)}"
            ],
            "metadata": {
                "azdata_cell_guid": "c4a7645a-cab0-4f34-98a5-95756a7e1a36"
            },
            "outputs": [],
            "execution_count": 43
        },
        {
            "cell_type": "code",
            "source": [
                "knn_grid = GridSearchCV(first_knn, knn_params, cv=5, n_jobs=-1)"
            ],
            "metadata": {
                "azdata_cell_guid": "f661dc7f-dd93-48b5-8abe-13966c4ec535"
            },
            "outputs": [],
            "execution_count": 44
        },
        {
            "cell_type": "code",
            "source": [
                "%%time\n",
                "knn_grid.fit(X_train, y_train);"
            ],
            "metadata": {
                "azdata_cell_guid": "8bd1474a-1d63-41f8-bdd1-7340dd212304"
            },
            "outputs": [
                {
                    "name": "stdout",
                    "text": "Wall time: 1.14 s\n",
                    "output_type": "stream"
                },
                {
                    "data": {
                        "text/plain": "GridSearchCV(cv=5, estimator=KNeighborsClassifier(), n_jobs=-1,\n             param_grid={'n_neighbors': range(5, 30, 5)})"
                    },
                    "metadata": {},
                    "execution_count": 45,
                    "output_type": "execute_result"
                }
            ],
            "execution_count": 45
        },
        {
            "cell_type": "code",
            "source": [
                "knn_grid.best_score_, knn_grid.best_params_"
            ],
            "metadata": {
                "azdata_cell_guid": "5ac94798-6072-477b-9812-245b40fe18cb"
            },
            "outputs": [
                {
                    "data": {
                        "text/plain": "(0.8701289391697531, {'n_neighbors': 10})"
                    },
                    "metadata": {},
                    "execution_count": 46,
                    "output_type": "execute_result"
                }
            ],
            "execution_count": 46
        },
        {
            "cell_type": "code",
            "source": [
                "knn_grid.best_estimator_"
            ],
            "metadata": {
                "azdata_cell_guid": "a5af805e-34c2-4d3f-9693-81407bb50a35"
            },
            "outputs": [
                {
                    "data": {
                        "text/plain": "KNeighborsClassifier(n_neighbors=10)"
                    },
                    "metadata": {},
                    "execution_count": 48,
                    "output_type": "execute_result"
                }
            ],
            "execution_count": 48
        },
        {
            "cell_type": "code",
            "source": [
                "tree_valid_pred = tree_grid.predict(X_valid)"
            ],
            "metadata": {
                "azdata_cell_guid": "f0d18c9d-ac77-425b-b933-e583656ae39f"
            },
            "outputs": [],
            "execution_count": 85
        },
        {
            "cell_type": "code",
            "source": [
                "from sklearn.metrics import accuracy_score"
            ],
            "metadata": {
                "azdata_cell_guid": "5b7e4652-3a15-461a-a743-cb4c68620880"
            },
            "outputs": [],
            "execution_count": 86
        },
        {
            "cell_type": "code",
            "source": [
                "accuracy_score(y_valid, tree_valid_pred)"
            ],
            "metadata": {
                "azdata_cell_guid": "a5e52a04-48ac-4637-94a6-1e7394ca723c"
            },
            "outputs": [
                {
                    "data": {
                        "text/plain": "0.936"
                    },
                    "metadata": {},
                    "execution_count": 87,
                    "output_type": "execute_result"
                }
            ],
            "execution_count": 87
        },
        {
            "cell_type": "code",
            "source": [
                "from sklearn.metrics import confusion_matrix"
            ],
            "metadata": {
                "azdata_cell_guid": "3351d023-aff2-4fc1-9d41-89cc8c3e5549"
            },
            "outputs": [],
            "execution_count": 106
        },
        {
            "cell_type": "code",
            "source": [
                "confusion_matrix(y_valid, tree_valid_pred)"
            ],
            "metadata": {
                "azdata_cell_guid": "80aa10c9-6650-4ba8-9011-3f47a1de171c"
            },
            "outputs": [
                {
                    "data": {
                        "text/plain": "array([[858,   9],\n       [ 55,  78]], dtype=int64)"
                    },
                    "metadata": {},
                    "execution_count": 107,
                    "output_type": "execute_result"
                }
            ],
            "execution_count": 107
        },
        {
            "cell_type": "code",
            "source": [
                "np.bincount(y_valid)"
            ],
            "metadata": {
                "azdata_cell_guid": "198bf0bc-246f-43b3-98cd-2a18b65af873"
            },
            "outputs": [
                {
                    "data": {
                        "text/plain": "array([867, 133], dtype=int64)"
                    },
                    "metadata": {},
                    "execution_count": 108,
                    "output_type": "execute_result"
                }
            ],
            "execution_count": 108
        },
        {
            "cell_type": "code",
            "source": [
                "from sklearn.tree import export_graphviz"
            ],
            "metadata": {
                "azdata_cell_guid": "0a61bbaa-1d13-4f2d-bc91-350825670215"
            },
            "outputs": [],
            "execution_count": 109
        },
        {
            "cell_type": "code",
            "source": [
                "second_tree = tree.DecisionTreeClassifier(max_depth=3).fit(X_train, y_train)\n",
                "second_tree.score(X_valid, y_valid)"
            ],
            "metadata": {
                "azdata_cell_guid": "454a07aa-2099-4087-8083-e96d87d809e1"
            },
            "outputs": [
                {
                    "data": {
                        "text/plain": "0.905"
                    },
                    "metadata": {},
                    "execution_count": 100,
                    "output_type": "execute_result"
                }
            ],
            "execution_count": 100
        },
        {
            "cell_type": "code",
            "source": [
                "export_graphviz(\n",
                "    second_tree, out_file=\"telecom_tree2.dot\", feature_names=X.columns, filled=True,\n",
                ")"
            ],
            "metadata": {
                "azdata_cell_guid": "3d89b6a9-53dc-4e77-bfb3-eb4b5254d506"
            },
            "outputs": [],
            "execution_count": 110
        },
        {
            "cell_type": "code",
            "source": [
                "!ls -l *.png"
            ],
            "metadata": {
                "azdata_cell_guid": "d5964329-871b-41f0-9c44-b2f2dac077f8"
            },
            "outputs": [
                {
                    "name": "stderr",
                    "text": "ls: File or directory \"*.png\" is not found\n",
                    "output_type": "stream"
                }
            ],
            "execution_count": 111
        },
        {
            "cell_type": "code",
            "source": [
                "!dot -Tpng telecom_tree2.dot -o telecom_tree2.png"
            ],
            "metadata": {
                "azdata_cell_guid": "7167dfc9-2e46-44e5-901a-5f46e641ae43"
            },
            "outputs": [
{
    "name": "stderr",
    "text": "'dot' is not recognized as an internal or external command,\noperable program or batch file.\n",
    "output_type": "stream"
}
],
            "execution_count": 112
        },
        {
            "cell_type": "markdown",
            "source": [
                "<img src='telecom_tree2.png'>"
            ],
            "metadata": {
                "azdata_cell_guid": "64eefe65-9dc9-42d0-9002-b6335102f9e9"
            }
        },
        {
            "cell_type": "code",
            "source": [
                "import matplotlib.pyplot as plt"
            ],
            "metadata": {
                "azdata_cell_guid": "ee3c2d36-0c41-43c9-a8fe-b2cad37baaea"
            },
            "outputs": [],
            "execution_count": 58
        },
        {
            "cell_type": "code",
            "source": [
                "clf = tree.DecisionTreeClassifier(max_depth=6, max_features = 0.7)"
            ],
            "metadata": {
                "azdata_cell_guid": "3c767051-e76b-4817-bbd0-06a4c97f405a"
            },
            "outputs": [],
            "execution_count": 89
        },
        {
            "cell_type": "code",
            "source": [
                "clf.fit(X_train, y_train)"
            ],
            "metadata": {
                "azdata_cell_guid": "8d4026a2-3166-47a5-8763-c1bdc048e180"
            },
            "outputs": [
                {
                    "data": {
                        "text/plain": "DecisionTreeClassifier(max_depth=6, max_features=0.7)"
                    },
                    "metadata": {},
                    "execution_count": 90,
                    "output_type": "execute_result"
                }
            ],
            "execution_count": 90
        },
        {
            "cell_type": "code",
            "source": [
                "import seaborn as sns\r\n",
                "sns.set(rc={'figure.figsize' : (9,6)})\r\n",
                ""
            ],
            "metadata": {
                "azdata_cell_guid": "1dd8d007-05a1-4b41-8993-139517d13d51"
            },
            "outputs": [],
            "execution_count": 96
        },
        {
            "cell_type": "code",
            "source": [
                "plt.figure(figsize=(15, 10))\r\n",
                "tree.plot_tree(second_tree, fontsize=10, feature_names=list(X), filled=True)\r\n",
                "plt.show( )"
            ],
            "metadata": {
                "azdata_cell_guid": "10ce0571-1877-4a7a-b07d-6bb854c0cdf2"
            },
            "outputs": [
                {
                    "data": {
                        "text/plain": "<Figure size 1080x720 with 1 Axes>",
                        "image/png": "[encoded data removed]"
                    },
                    "metadata": {},
                    "output_type": "display_data"
                }
            ],
            "execution_count": 105
        }
    ]
}