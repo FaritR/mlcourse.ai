{
    "metadata": {
        "kernelspec": {
            "name": "python3",
            "display_name": "Python 3",
            "language": "python"
        },
        "language_info": {
            "name": "python",
            "version": "3.9.7",
            "mimetype": "text/x-python",
            "codemirror_mode": {
                "name": "ipython",
                "version": 3
            },
            "pygments_lexer": "ipython3",
            "nbconvert_exporter": "python",
            "file_extension": ".py"
        },
        "anaconda-cloud": {}
    },
    "nbformat_minor": 2,
    "nbformat": 4,
    "cells": [
        {
            "cell_type": "markdown",
            "source": [
                "\n",
                "<img src=\"../../img/ods_stickers.jpg\">\n",
                "\n",
                "## <center> [mlcourse.ai](https://mlcourse.ai) – открытый курс OpenDataScience по машинному обучению \n",
                "\n",
                "Автор материала: Юрий Кашницкий (@yorko в Slack ODS). Материал распространяется на условиях лицензии [Creative Commons CC BY-NC-SA 4.0](https://creativecommons.org/licenses/by-nc-sa/4.0/). Можно использовать в любых целях (редактировать, поправлять и брать за основу), кроме коммерческих, но с обязательным упоминанием автора материала."
            ],
            "metadata": {
                "azdata_cell_guid": "95e3d4b3-9f82-405a-a2b9-e7fbe047541f"
            }
        },
        {
            "cell_type": "markdown",
            "source": [
                "# <center>Домашнее задание № 1 (демо).<br> Анализ данных по доходу населения UCI Adult</center>"
            ],
            "metadata": {
                "azdata_cell_guid": "40e45416-c992-47e2-9c6d-2580dc6b7d96"
            }
        },
        {
            "cell_type": "markdown",
            "source": [
                "**В задании предлагается с помощью Pandas ответить на несколько вопросов по данным репозитория UCI [Adult](https://archive.ics.uci.edu/ml/datasets/Adult) (качать данные не надо – они уже есть в репозитории). Для отправки решений используйте [онлайн-форму](https://docs.google.com/forms/d/1xAzU-5N6oEeR4UG8G44V6XL-Kbr4WYcPBG45Kijge2Y).**"
            ],
            "metadata": {
                "azdata_cell_guid": "210ba839-63d4-4652-936d-9e488854bdeb"
            }
        },
        {
            "cell_type": "markdown",
            "source": [
                "Уникальные значения признаков (больше информации по ссылке выше):\n",
                "- age: continuous.\n",
                "- workclass: Private, Self-emp-not-inc, Self-emp-inc, Federal-gov, Local-gov, State-gov, Without-pay, Never-worked.\n",
                "- fnlwgt: continuous.\n",
                "- education: Bachelors, Some-college, 11th, HS-grad, Prof-school, Assoc-acdm, Assoc-voc, 9th, 7th-8th, 12th, Masters, 1st-4th, 10th, Doctorate, 5th-6th, Preschool.\n",
                "- education-num: continuous.\n",
                "- marital-status: Married-civ-spouse, Divorced, Never-married, Separated, Widowed, Married-spouse-absent, Married-AF-spouse.\n",
                "- occupation: Tech-support, Craft-repair, Other-service, Sales, Exec-managerial, Prof-specialty, Handlers-cleaners, Machine-op-inspct, Adm-clerical, Farming-fishing, Transport-moving, Priv-house-serv, Protective-serv, Armed-Forces.\n",
                "- relationship: Wife, Own-child, Husband, Not-in-family, Other-relative, Unmarried.\n",
                "- race: White, Asian-Pac-Islander, Amer-Indian-Eskimo, Other, Black.\n",
                "- sex: Female, Male.\n",
                "- capital-gain: continuous.\n",
                "- capital-loss: continuous.\n",
                "- hours-per-week: continuous.\n",
                "- native-country: United-States, Cambodia, England, Puerto-Rico, Canada, Germany, Outlying-US(Guam-USVI-etc), India, Japan, Greece, South, China, Cuba, Iran, Honduras, Philippines, Italy, Poland, Jamaica, Vietnam, Mexico, Portugal, Ireland, France, Dominican-Republic, Laos, Ecuador, Taiwan, Haiti, Columbia, Hungary, Guatemala, Nicaragua, Scotland, Thailand, Yugoslavia, El-Salvador, Trinadad&Tobago, Peru, Hong, Holand-Netherlands.   \n",
                "- salary: >50K,<=50K"
            ],
            "metadata": {
                "azdata_cell_guid": "dd51e003-03bc-44fd-b741-f982e222d9df"
            }
        },
        {
            "cell_type": "code",
            "source": [
                "import pandas as pd"
            ],
            "metadata": {
                "azdata_cell_guid": "de4d1150-d01c-4220-9d1d-9ad72b2603c8"
            },
            "outputs": [],
            "execution_count": 1
        },
        {
            "cell_type": "code",
            "source": [
                "data = pd.read_csv(\"../../data/adult.data.csv\")\n",
                "data.tail()"
            ],
            "metadata": {
                "azdata_cell_guid": "69d8b387-fde9-4331-966b-bb3cc082948b"
            },
            "outputs": [
                {
                    "data": {
                        "text/plain": "       age     workclass  fnlwgt   education  education-num  \\\n32556   27       Private  257302  Assoc-acdm             12   \n32557   40       Private  154374     HS-grad              9   \n32558   58       Private  151910     HS-grad              9   \n32559   22       Private  201490     HS-grad              9   \n32560   52  Self-emp-inc  287927     HS-grad              9   \n\n           marital-status         occupation relationship   race     sex  \\\n32556  Married-civ-spouse       Tech-support         Wife  White  Female   \n32557  Married-civ-spouse  Machine-op-inspct      Husband  White    Male   \n32558             Widowed       Adm-clerical    Unmarried  White  Female   \n32559       Never-married       Adm-clerical    Own-child  White    Male   \n32560  Married-civ-spouse    Exec-managerial         Wife  White  Female   \n\n       capital-gain  capital-loss  hours-per-week native-country salary  \n32556             0             0              38  United-States  <=50K  \n32557             0             0              40  United-States   >50K  \n32558             0             0              40  United-States  <=50K  \n32559             0             0              20  United-States  <=50K  \n32560         15024             0              40  United-States   >50K  ",
                        "text/html": "<div>\n<style scoped>\n    .dataframe tbody tr th:only-of-type {\n        vertical-align: middle;\n    }\n\n    .dataframe tbody tr th {\n        vertical-align: top;\n    }\n\n    .dataframe thead th {\n        text-align: right;\n    }\n</style>\n<table border=\"1\" class=\"dataframe\">\n  <thead>\n    <tr style=\"text-align: right;\">\n      <th></th>\n      <th>age</th>\n      <th>workclass</th>\n      <th>fnlwgt</th>\n      <th>education</th>\n      <th>education-num</th>\n      <th>marital-status</th>\n      <th>occupation</th>\n      <th>relationship</th>\n      <th>race</th>\n      <th>sex</th>\n      <th>capital-gain</th>\n      <th>capital-loss</th>\n      <th>hours-per-week</th>\n      <th>native-country</th>\n      <th>salary</th>\n    </tr>\n  </thead>\n  <tbody>\n    <tr>\n      <th>32556</th>\n      <td>27</td>\n      <td>Private</td>\n      <td>257302</td>\n      <td>Assoc-acdm</td>\n      <td>12</td>\n      <td>Married-civ-spouse</td>\n      <td>Tech-support</td>\n      <td>Wife</td>\n      <td>White</td>\n      <td>Female</td>\n      <td>0</td>\n      <td>0</td>\n      <td>38</td>\n      <td>United-States</td>\n      <td>&lt;=50K</td>\n    </tr>\n    <tr>\n      <th>32557</th>\n      <td>40</td>\n      <td>Private</td>\n      <td>154374</td>\n      <td>HS-grad</td>\n      <td>9</td>\n      <td>Married-civ-spouse</td>\n      <td>Machine-op-inspct</td>\n      <td>Husband</td>\n      <td>White</td>\n      <td>Male</td>\n      <td>0</td>\n      <td>0</td>\n      <td>40</td>\n      <td>United-States</td>\n      <td>&gt;50K</td>\n    </tr>\n    <tr>\n      <th>32558</th>\n      <td>58</td>\n      <td>Private</td>\n      <td>151910</td>\n      <td>HS-grad</td>\n      <td>9</td>\n      <td>Widowed</td>\n      <td>Adm-clerical</td>\n      <td>Unmarried</td>\n      <td>White</td>\n      <td>Female</td>\n      <td>0</td>\n      <td>0</td>\n      <td>40</td>\n      <td>United-States</td>\n      <td>&lt;=50K</td>\n    </tr>\n    <tr>\n      <th>32559</th>\n      <td>22</td>\n      <td>Private</td>\n      <td>201490</td>\n      <td>HS-grad</td>\n      <td>9</td>\n      <td>Never-married</td>\n      <td>Adm-clerical</td>\n      <td>Own-child</td>\n      <td>White</td>\n      <td>Male</td>\n      <td>0</td>\n      <td>0</td>\n      <td>20</td>\n      <td>United-States</td>\n      <td>&lt;=50K</td>\n    </tr>\n    <tr>\n      <th>32560</th>\n      <td>52</td>\n      <td>Self-emp-inc</td>\n      <td>287927</td>\n      <td>HS-grad</td>\n      <td>9</td>\n      <td>Married-civ-spouse</td>\n      <td>Exec-managerial</td>\n      <td>Wife</td>\n      <td>White</td>\n      <td>Female</td>\n      <td>15024</td>\n      <td>0</td>\n      <td>40</td>\n      <td>United-States</td>\n      <td>&gt;50K</td>\n    </tr>\n  </tbody>\n</table>\n</div>"
                    },
                    "metadata": {},
                    "execution_count": 19,
                    "output_type": "execute_result"
                }
            ],
            "execution_count": 19
        },
        {
            "cell_type": "markdown",
            "source": [
                "**1. Сколько мужчин и женщин (признак *sex*) представлено в этом наборе данных?**"
            ],
            "metadata": {
                "azdata_cell_guid": "fd370a6e-59ed-4d04-819c-3d747438965c"
            }
        },
        {
            "cell_type": "code",
            "source": [
                "data['sex'].value_counts()"
            ],
            "metadata": {
                "azdata_cell_guid": "bc76b40e-4cec-4acf-aeed-5a1e0cd058c7"
            },
            "outputs": [
                {
                    "data": {
                        "text/plain": "Male      21790\nFemale    10771\nName: sex, dtype: int64"
                    },
                    "metadata": {},
                    "execution_count": 4,
                    "output_type": "execute_result"
                }
            ],
            "execution_count": 4
        },
        {
            "cell_type": "markdown",
            "source": [
                "**2. Каков средний возраст (признак *age*) женщин?**"
            ],
            "metadata": {
                "azdata_cell_guid": "3efd0765-eb9f-4b2c-acb0-0f66ebca77be"
            }
        },
        {
            "cell_type": "code",
            "source": [
                "data.groupby('sex')['age'].agg('mean')"
            ],
            "metadata": {
                "azdata_cell_guid": "9b2737d5-09ed-4b32-b6c9-62561a0059f6"
            },
            "outputs": [
                {
                    "data": {
                        "text/plain": "sex\nFemale    36.858230\nMale      39.433547\nName: age, dtype: float64"
                    },
                    "metadata": {},
                    "execution_count": 8,
                    "output_type": "execute_result"
                }
            ],
            "execution_count": 8
        },
        {
            "cell_type": "markdown",
            "source": [
                "**3. Какова доля граждан Германии (признак *native-country*)?**"
            ],
            "metadata": {
                "azdata_cell_guid": "b4a29caa-b7b6-4d87-93ca-3aab554a3038"
            }
        },
        {
            "cell_type": "code",
            "source": [
                "data['native-country'].value_counts(normalize=True)"
            ],
            "metadata": {
                "azdata_cell_guid": "8738eeb5-5ac9-4f39-af3d-dcd0880181f7"
            },
            "outputs": [
                {
                    "data": {
                        "text/plain": "United-States                 0.895857\nMexico                        0.019748\n?                             0.017905\nPhilippines                   0.006081\nGermany                       0.004207\nCanada                        0.003716\nPuerto-Rico                   0.003501\nEl-Salvador                   0.003255\nIndia                         0.003071\nCuba                          0.002918\nEngland                       0.002764\nJamaica                       0.002488\nSouth                         0.002457\nChina                         0.002303\nItaly                         0.002242\nDominican-Republic            0.002150\nVietnam                       0.002058\nGuatemala                     0.001966\nJapan                         0.001904\nPoland                        0.001843\nColumbia                      0.001812\nTaiwan                        0.001566\nHaiti                         0.001351\nIran                          0.001321\nPortugal                      0.001136\nNicaragua                     0.001044\nPeru                          0.000952\nFrance                        0.000891\nGreece                        0.000891\nEcuador                       0.000860\nIreland                       0.000737\nHong                          0.000614\nCambodia                      0.000584\nTrinadad&Tobago               0.000584\nLaos                          0.000553\nThailand                      0.000553\nYugoslavia                    0.000491\nOutlying-US(Guam-USVI-etc)    0.000430\nHonduras                      0.000399\nHungary                       0.000399\nScotland                      0.000369\nHoland-Netherlands            0.000031\nName: native-country, dtype: float64"
                    },
                    "metadata": {},
                    "execution_count": 12,
                    "output_type": "execute_result"
                }
            ],
            "execution_count": 12
        },
        {
            "cell_type": "markdown",
            "source": [
                "**4-5. Каковы средние значения и среднеквадратичные отклонения возраста тех, кто получает более 50K в год (признак *salary*) и тех, кто получает менее 50K в год? **"
            ],
            "metadata": {
                "azdata_cell_guid": "f7d60b51-d179-41fb-b73d-bca69dd32e8a"
            }
        },
        {
            "cell_type": "code",
            "source": [
                "data[data['salary'] == '<=50K']['age'].mean(), data[data['salary'] == '<=50K']['age'].std(), data[data['salary'] == '>50K']['age'].mean(), data[data['salary'] == '>50K']['age'].std(), "
            ],
            "metadata": {
                "azdata_cell_guid": "f2c0885b-e905-47ea-9eb7-b6fc0111bc1c"
            },
            "outputs": [
                {
                    "data": {
                        "text/plain": "(36.78373786407767, 14.02008849082488, 44.24984058155847, 10.519027719851826)"
                    },
                    "metadata": {},
                    "execution_count": 21,
                    "output_type": "execute_result"
                }
            ],
            "execution_count": 21
        },
        {
            "cell_type": "markdown",
            "source": [
                "**6. Правда ли, что люди, которые получают больше 50k, имеют как минимум высшее образование? (признак *education – Bachelors, Prof-school, Assoc-acdm, Assoc-voc, Masters* или *Doctorate*)**"
            ],
            "metadata": {
                "azdata_cell_guid": "86b1cd29-01ef-4f56-89f0-b5b5cffb35b5"
            }
        },
        {
            "cell_type": "code",
            "source": [
                "data[data['salary'] == '>50K']['education'].value_counts()"
            ],
            "metadata": {
                "azdata_cell_guid": "9b0ed192-b27e-43ca-b482-fb80d06e2404"
            },
            "outputs": [
                {
                    "data": {
                        "text/plain": "Bachelors       2221\nHS-grad         1675\nSome-college    1387\nMasters          959\nProf-school      423\nAssoc-voc        361\nDoctorate        306\nAssoc-acdm       265\n10th              62\n11th              60\n7th-8th           40\n12th              33\n9th               27\n5th-6th           16\n1st-4th            6\nName: education, dtype: int64"
                    },
                    "metadata": {},
                    "execution_count": 27,
                    "output_type": "execute_result"
                }
            ],
            "execution_count": 27
        },
        {
            "cell_type": "markdown",
            "source": [
                "**7. Выведите статистику возраста для каждой расы (признак *race*) и каждого пола. Используйте *groupby* и *describe*. Найдите таким образом максимальный возраст мужчин расы *Amer-Indian-Eskimo*.**"
            ],
            "metadata": {
                "azdata_cell_guid": "fc3d3e92-1c05-463f-af95-1df1ad68197b"
            }
        },
        {
            "cell_type": "code",
            "source": [
                "data.groupby(['race', 'sex']).describe()"
            ],
            "metadata": {
                "azdata_cell_guid": "c496fd10-6ff2-43c3-8600-78a65253cb17"
            },
            "outputs": [
                {
                    "data": {
                        "text/plain": "                               age                                          \\\n                             count       mean        std   min   25%   50%   \nrace               sex                                                       \nAmer-Indian-Eskimo Female    119.0  37.117647  13.114991  17.0  27.0  36.0   \n                   Male      192.0  37.208333  12.049563  17.0  28.0  35.0   \nAsian-Pac-Islander Female    346.0  35.089595  12.300845  17.0  25.0  33.0   \n                   Male      693.0  39.073593  12.883944  18.0  29.0  37.0   \nBlack              Female   1555.0  37.854019  12.637197  17.0  28.0  37.0   \n                   Male     1569.0  37.682600  12.882612  17.0  27.0  36.0   \nOther              Female    109.0  31.678899  11.631599  17.0  23.0  29.0   \n                   Male      162.0  34.654321  11.355531  17.0  26.0  32.0   \nWhite              Female   8642.0  36.811618  14.329093  17.0  25.0  35.0   \n                   Male    19174.0  39.652498  13.436029  17.0  29.0  38.0   \n\n                                         fnlwgt                 ...  \\\n                             75%   max    count           mean  ...   \nrace               sex                                          ...   \nAmer-Indian-Eskimo Female  46.00  80.0    119.0  112950.731092  ...   \n                   Male    45.00  82.0    192.0  125715.364583  ...   \nAsian-Pac-Islander Female  43.75  75.0    346.0  147452.075145  ...   \n                   Male    46.00  90.0    693.0  166175.865801  ...   \nBlack              Female  46.00  90.0   1555.0  212971.387781  ...   \n                   Male    46.00  90.0   1569.0  242920.644997  ...   \nOther              Female  39.00  74.0    109.0  172519.642202  ...   \n                   Male    42.00  77.0    162.0  213679.104938  ...   \nWhite              Female  46.00  90.0   8642.0  183549.966906  ...   \n                   Male    49.00  90.0  19174.0  188987.386148  ...   \n\n                          capital-loss         hours-per-week             \\\n                                   75%     max          count       mean   \nrace               sex                                                     \nAmer-Indian-Eskimo Female          0.0  1721.0          119.0  36.579832   \n                   Male            0.0  1980.0          192.0  42.197917   \nAsian-Pac-Islander Female          0.0  2258.0          346.0  37.439306   \n                   Male            0.0  2457.0          693.0  41.468975   \nBlack              Female          0.0  4356.0         1555.0  36.834084   \n                   Male            0.0  2824.0         1569.0  39.997451   \nOther              Female          0.0  1740.0          109.0  35.926606   \n                   Male            0.0  2179.0          162.0  41.851852   \nWhite              Female          0.0  4356.0         8642.0  36.296691   \n                   Male            0.0  3770.0        19174.0  42.668822   \n\n                                                                   \n                                 std  min   25%   50%   75%   max  \nrace               sex                                             \nAmer-Indian-Eskimo Female  11.046509  4.0  35.0  40.0  40.0  84.0  \n                   Male    11.596280  3.0  40.0  40.0  45.0  84.0  \nAsian-Pac-Islander Female  12.479459  1.0  35.0  40.0  40.0  99.0  \n                   Male    12.387563  1.0  40.0  40.0  45.0  99.0  \nBlack              Female   9.419960  2.0  35.0  40.0  40.0  99.0  \n                   Male    10.909413  1.0  40.0  40.0  40.0  99.0  \nOther              Female  10.300761  6.0  30.0  40.0  40.0  65.0  \n                   Male    11.084779  5.0  40.0  40.0  40.0  98.0  \nWhite              Female  12.190951  1.0  30.0  40.0  40.0  99.0  \n                   Male    12.194633  1.0  40.0  40.0  50.0  99.0  \n\n[10 rows x 48 columns]",
                        "text/html": "<div>\n<style scoped>\n    .dataframe tbody tr th:only-of-type {\n        vertical-align: middle;\n    }\n\n    .dataframe tbody tr th {\n        vertical-align: top;\n    }\n\n    .dataframe thead tr th {\n        text-align: left;\n    }\n\n    .dataframe thead tr:last-of-type th {\n        text-align: right;\n    }\n</style>\n<table border=\"1\" class=\"dataframe\">\n  <thead>\n    <tr>\n      <th></th>\n      <th></th>\n      <th colspan=\"8\" halign=\"left\">age</th>\n      <th colspan=\"2\" halign=\"left\">fnlwgt</th>\n      <th>...</th>\n      <th colspan=\"2\" halign=\"left\">capital-loss</th>\n      <th colspan=\"8\" halign=\"left\">hours-per-week</th>\n    </tr>\n    <tr>\n      <th></th>\n      <th></th>\n      <th>count</th>\n      <th>mean</th>\n      <th>std</th>\n      <th>min</th>\n      <th>25%</th>\n      <th>50%</th>\n      <th>75%</th>\n      <th>max</th>\n      <th>count</th>\n      <th>mean</th>\n      <th>...</th>\n      <th>75%</th>\n      <th>max</th>\n      <th>count</th>\n      <th>mean</th>\n      <th>std</th>\n      <th>min</th>\n      <th>25%</th>\n      <th>50%</th>\n      <th>75%</th>\n      <th>max</th>\n    </tr>\n    <tr>\n      <th>race</th>\n      <th>sex</th>\n      <th></th>\n      <th></th>\n      <th></th>\n      <th></th>\n      <th></th>\n      <th></th>\n      <th></th>\n      <th></th>\n      <th></th>\n      <th></th>\n      <th></th>\n      <th></th>\n      <th></th>\n      <th></th>\n      <th></th>\n      <th></th>\n      <th></th>\n      <th></th>\n      <th></th>\n      <th></th>\n      <th></th>\n    </tr>\n  </thead>\n  <tbody>\n    <tr>\n      <th rowspan=\"2\" valign=\"top\">Amer-Indian-Eskimo</th>\n      <th>Female</th>\n      <td>119.0</td>\n      <td>37.117647</td>\n      <td>13.114991</td>\n      <td>17.0</td>\n      <td>27.0</td>\n      <td>36.0</td>\n      <td>46.00</td>\n      <td>80.0</td>\n      <td>119.0</td>\n      <td>112950.731092</td>\n      <td>...</td>\n      <td>0.0</td>\n      <td>1721.0</td>\n      <td>119.0</td>\n      <td>36.579832</td>\n      <td>11.046509</td>\n      <td>4.0</td>\n      <td>35.0</td>\n      <td>40.0</td>\n      <td>40.0</td>\n      <td>84.0</td>\n    </tr>\n    <tr>\n      <th>Male</th>\n      <td>192.0</td>\n      <td>37.208333</td>\n      <td>12.049563</td>\n      <td>17.0</td>\n      <td>28.0</td>\n      <td>35.0</td>\n      <td>45.00</td>\n      <td>82.0</td>\n      <td>192.0</td>\n      <td>125715.364583</td>\n      <td>...</td>\n      <td>0.0</td>\n      <td>1980.0</td>\n      <td>192.0</td>\n      <td>42.197917</td>\n      <td>11.596280</td>\n      <td>3.0</td>\n      <td>40.0</td>\n      <td>40.0</td>\n      <td>45.0</td>\n      <td>84.0</td>\n    </tr>\n    <tr>\n      <th rowspan=\"2\" valign=\"top\">Asian-Pac-Islander</th>\n      <th>Female</th>\n      <td>346.0</td>\n      <td>35.089595</td>\n      <td>12.300845</td>\n      <td>17.0</td>\n      <td>25.0</td>\n      <td>33.0</td>\n      <td>43.75</td>\n      <td>75.0</td>\n      <td>346.0</td>\n      <td>147452.075145</td>\n      <td>...</td>\n      <td>0.0</td>\n      <td>2258.0</td>\n      <td>346.0</td>\n      <td>37.439306</td>\n      <td>12.479459</td>\n      <td>1.0</td>\n      <td>35.0</td>\n      <td>40.0</td>\n      <td>40.0</td>\n      <td>99.0</td>\n    </tr>\n    <tr>\n      <th>Male</th>\n      <td>693.0</td>\n      <td>39.073593</td>\n      <td>12.883944</td>\n      <td>18.0</td>\n      <td>29.0</td>\n      <td>37.0</td>\n      <td>46.00</td>\n      <td>90.0</td>\n      <td>693.0</td>\n      <td>166175.865801</td>\n      <td>...</td>\n      <td>0.0</td>\n      <td>2457.0</td>\n      <td>693.0</td>\n      <td>41.468975</td>\n      <td>12.387563</td>\n      <td>1.0</td>\n      <td>40.0</td>\n      <td>40.0</td>\n      <td>45.0</td>\n      <td>99.0</td>\n    </tr>\n    <tr>\n      <th rowspan=\"2\" valign=\"top\">Black</th>\n      <th>Female</th>\n      <td>1555.0</td>\n      <td>37.854019</td>\n      <td>12.637197</td>\n      <td>17.0</td>\n      <td>28.0</td>\n      <td>37.0</td>\n      <td>46.00</td>\n      <td>90.0</td>\n      <td>1555.0</td>\n      <td>212971.387781</td>\n      <td>...</td>\n      <td>0.0</td>\n      <td>4356.0</td>\n      <td>1555.0</td>\n      <td>36.834084</td>\n      <td>9.419960</td>\n      <td>2.0</td>\n      <td>35.0</td>\n      <td>40.0</td>\n      <td>40.0</td>\n      <td>99.0</td>\n    </tr>\n    <tr>\n      <th>Male</th>\n      <td>1569.0</td>\n      <td>37.682600</td>\n      <td>12.882612</td>\n      <td>17.0</td>\n      <td>27.0</td>\n      <td>36.0</td>\n      <td>46.00</td>\n      <td>90.0</td>\n      <td>1569.0</td>\n      <td>242920.644997</td>\n      <td>...</td>\n      <td>0.0</td>\n      <td>2824.0</td>\n      <td>1569.0</td>\n      <td>39.997451</td>\n      <td>10.909413</td>\n      <td>1.0</td>\n      <td>40.0</td>\n      <td>40.0</td>\n      <td>40.0</td>\n      <td>99.0</td>\n    </tr>\n    <tr>\n      <th rowspan=\"2\" valign=\"top\">Other</th>\n      <th>Female</th>\n      <td>109.0</td>\n      <td>31.678899</td>\n      <td>11.631599</td>\n      <td>17.0</td>\n      <td>23.0</td>\n      <td>29.0</td>\n      <td>39.00</td>\n      <td>74.0</td>\n      <td>109.0</td>\n      <td>172519.642202</td>\n      <td>...</td>\n      <td>0.0</td>\n      <td>1740.0</td>\n      <td>109.0</td>\n      <td>35.926606</td>\n      <td>10.300761</td>\n      <td>6.0</td>\n      <td>30.0</td>\n      <td>40.0</td>\n      <td>40.0</td>\n      <td>65.0</td>\n    </tr>\n    <tr>\n      <th>Male</th>\n      <td>162.0</td>\n      <td>34.654321</td>\n      <td>11.355531</td>\n      <td>17.0</td>\n      <td>26.0</td>\n      <td>32.0</td>\n      <td>42.00</td>\n      <td>77.0</td>\n      <td>162.0</td>\n      <td>213679.104938</td>\n      <td>...</td>\n      <td>0.0</td>\n      <td>2179.0</td>\n      <td>162.0</td>\n      <td>41.851852</td>\n      <td>11.084779</td>\n      <td>5.0</td>\n      <td>40.0</td>\n      <td>40.0</td>\n      <td>40.0</td>\n      <td>98.0</td>\n    </tr>\n    <tr>\n      <th rowspan=\"2\" valign=\"top\">White</th>\n      <th>Female</th>\n      <td>8642.0</td>\n      <td>36.811618</td>\n      <td>14.329093</td>\n      <td>17.0</td>\n      <td>25.0</td>\n      <td>35.0</td>\n      <td>46.00</td>\n      <td>90.0</td>\n      <td>8642.0</td>\n      <td>183549.966906</td>\n      <td>...</td>\n      <td>0.0</td>\n      <td>4356.0</td>\n      <td>8642.0</td>\n      <td>36.296691</td>\n      <td>12.190951</td>\n      <td>1.0</td>\n      <td>30.0</td>\n      <td>40.0</td>\n      <td>40.0</td>\n      <td>99.0</td>\n    </tr>\n    <tr>\n      <th>Male</th>\n      <td>19174.0</td>\n      <td>39.652498</td>\n      <td>13.436029</td>\n      <td>17.0</td>\n      <td>29.0</td>\n      <td>38.0</td>\n      <td>49.00</td>\n      <td>90.0</td>\n      <td>19174.0</td>\n      <td>188987.386148</td>\n      <td>...</td>\n      <td>0.0</td>\n      <td>3770.0</td>\n      <td>19174.0</td>\n      <td>42.668822</td>\n      <td>12.194633</td>\n      <td>1.0</td>\n      <td>40.0</td>\n      <td>40.0</td>\n      <td>50.0</td>\n      <td>99.0</td>\n    </tr>\n  </tbody>\n</table>\n<p>10 rows × 48 columns</p>\n</div>"
                    },
                    "metadata": {},
                    "execution_count": 28,
                    "output_type": "execute_result"
                }
            ],
            "execution_count": 28
        },
        {
            "cell_type": "markdown",
            "source": [
                "**8. Среди кого больше доля зарабатывающих много (>50K): среди женатых или холостых мужчин (признак *marital-status*)? Женатыми считаем тех, у кого *marital-status* начинается с *Married* (Married-civ-spouse, Married-spouse-absent или Married-AF-spouse), остальных считаем холостыми.**"
            ],
            "metadata": {
                "azdata_cell_guid": "7e380ee7-dae6-4260-be32-9731602e97ba"
            }
        },
        {
            "cell_type": "code",
            "source": [
                "data[data['salary'] == '>50K'][['sex', 'marital-status']].value_counts()"
            ],
            "metadata": {
                "azdata_cell_guid": "e2cae135-b00b-433d-89c2-dedec7a79084"
            },
            "outputs": [
                {
                    "data": {
                        "text/plain": "sex     marital-status       \nMale    Married-civ-spouse       5938\nFemale  Married-civ-spouse        754\nMale    Never-married             325\n        Divorced                  284\nFemale  Divorced                  179\n        Never-married             166\nMale    Separated                  49\nFemale  Widowed                    46\nMale    Widowed                    39\n        Married-spouse-absent      23\nFemale  Separated                  17\n        Married-spouse-absent      11\n        Married-AF-spouse           6\nMale    Married-AF-spouse           4\ndtype: int64"
                    },
                    "metadata": {},
                    "execution_count": 35,
                    "output_type": "execute_result"
                }
            ],
            "execution_count": 35
        },
        {
            "cell_type": "code",
            "source": [
                "data2 = data[(data['salary'] == '>50K') & (data['sex'] == 'Male')]"
            ],
            "metadata": {
                "azdata_cell_guid": "9bb5a304-92f3-4a4e-8003-ee2d7049fa5b"
            },
            "outputs": [],
            "execution_count": 41
        },
        {
            "cell_type": "code",
            "source": [
                "data.loc[(data['salary'] == '>50K') & (data['sex'] == 'Male')]['marital-status'].value_counts()"
            ],
            "metadata": {
                "azdata_cell_guid": "6fc2b415-3ab0-4b75-8dae-8aa3f03e9a3e"
            },
            "outputs": [
                {
                    "data": {
                        "text/plain": "Married-civ-spouse       5938\nNever-married             325\nDivorced                  284\nSeparated                  49\nWidowed                    39\nMarried-spouse-absent      23\nMarried-AF-spouse           4\nName: marital-status, dtype: int64"
                    },
                    "metadata": {},
                    "execution_count": 46,
                    "output_type": "execute_result"
                }
            ],
            "execution_count": 46
        },
        {
            "cell_type": "code",
            "source": [
                "data2['marital-status'].value_counts()"
            ],
            "metadata": {
                "azdata_cell_guid": "eb40ca52-c4ce-4ee4-aee1-0f3ff0472c97"
            },
            "outputs": [
                {
                    "data": {
                        "text/plain": "Married-civ-spouse       5938\nNever-married             325\nDivorced                  284\nSeparated                  49\nWidowed                    39\nMarried-spouse-absent      23\nMarried-AF-spouse           4\nName: marital-status, dtype: int64"
                    },
                    "metadata": {},
                    "execution_count": 43,
                    "output_type": "execute_result"
                }
            ],
            "execution_count": 43
        },
        {
            "cell_type": "code",
            "source": [
                "data2.groupby('sex')['marital-status'].value_counts()"
            ],
            "metadata": {
                "azdata_cell_guid": "4e8bbf2b-2bb4-462a-8ad9-6a0025dbe706"
            },
            "outputs": [
                {
                    "data": {
                        "text/plain": "sex     marital-status       \nFemale  Married-civ-spouse        754\n        Divorced                  179\n        Never-married             166\n        Widowed                    46\n        Separated                  17\n        Married-spouse-absent      11\n        Married-AF-spouse           6\nMale    Married-civ-spouse       5938\n        Never-married             325\n        Divorced                  284\n        Separated                  49\n        Widowed                    39\n        Married-spouse-absent      23\n        Married-AF-spouse           4\nName: marital-status, dtype: int64"
                    },
                    "metadata": {},
                    "execution_count": 40,
                    "output_type": "execute_result"
                }
            ],
            "execution_count": 40
        },
        {
            "cell_type": "markdown",
            "source": [
                "**9. Какое максимальное число часов человек работает в неделю (признак *hours-per-week*)? Сколько людей работают такое количество часов и каков среди них процент зарабатывающих много?**"
            ],
            "metadata": {
                "azdata_cell_guid": "10f4c36c-79fc-43d7-a51b-709e70cb1ae2"
            }
        },
        {
            "cell_type": "code",
            "source": [
                "data[data['hours-per-week'] == 99].count()"
            ],
            "metadata": {
                "azdata_cell_guid": "fae32b8e-3b08-43f7-93f0-17005220682c"
            },
            "outputs": [
                {
                    "data": {
                        "text/plain": "age               85\nworkclass         85\nfnlwgt            85\neducation         85\neducation-num     85\nmarital-status    85\noccupation        85\nrelationship      85\nrace              85\nsex               85\ncapital-gain      85\ncapital-loss      85\nhours-per-week    85\nnative-country    85\nsalary            85\ndtype: int64"
                    },
                    "metadata": {},
                    "execution_count": 55,
                    "output_type": "execute_result"
                }
            ],
            "execution_count": 55
        },
        {
            "cell_type": "markdown",
            "source": [
                "**10. Посчитайте среднее время работы (*hours-per-week*) зарабатывающих мало и много (*salary*) для каждой страны (*native-country*).**"
            ],
            "metadata": {
                "azdata_cell_guid": "b2197b4a-a9e9-4585-acfe-64da1fc2f460"
            }
        },
        {
            "cell_type": "code",
            "source": [
                "data.loc[(data['salary'] == '<=50K') & (data['sex'] == 'Male')].groupby(['native-country', 'salary']).agg({'hours-per-week' : 'mean'})"
            ],
            "metadata": {
                "azdata_cell_guid": "55fbac3e-ff4d-4307-a793-a85b2ff10d0f"
            },
            "outputs": [
                {
                    "data": {
                        "text/plain": "                                   hours-per-week\nnative-country             salary                \n?                          <=50K        41.415808\nCambodia                   <=50K        41.888889\nCanada                     <=50K        38.365385\nChina                      <=50K        37.641026\nColumbia                   <=50K        39.333333\nCuba                       <=50K        40.333333\nDominican-Republic         <=50K        44.742857\nEcuador                    <=50K        42.533333\nEl-Salvador                <=50K        36.714286\nEngland                    <=50K        39.294118\nFrance                     <=50K        46.375000\nGermany                    <=50K        44.100000\nGreece                     <=50K        43.176471\nGuatemala                  <=50K        39.243902\nHaiti                      <=50K        38.238095\nHonduras                   <=50K        36.666667\nHong                       <=50K        39.777778\nHungary                    <=50K        36.000000\nIndia                      <=50K        38.784314\nIran                       <=50K        41.473684\nIreland                    <=50K        40.538462\nItaly                      <=50K        40.656250\nJamaica                    <=50K        40.448276\nJapan                      <=50K        44.695652\nLaos                       <=50K        40.000000\nMexico                     <=50K        41.008584\nNicaragua                  <=50K        37.571429\nOutlying-US(Guam-USVI-etc) <=50K        44.285714\nPeru                       <=50K        31.200000\nPhilippines                <=50K        38.276316\nPoland                     <=50K        40.838710\nPortugal                   <=50K        43.652174\nPuerto-Rico                <=50K        40.634615\nScotland                   <=50K        40.000000\nSouth                      <=50K        43.270270\nTaiwan                     <=50K        35.150000\nThailand                   <=50K        41.600000\nTrinadad&Tobago            <=50K        43.000000\nUnited-States              <=50K        40.722757\nVietnam                    <=50K        37.925000\nYugoslavia                 <=50K        44.500000",
                        "text/html": "<div>\n<style scoped>\n    .dataframe tbody tr th:only-of-type {\n        vertical-align: middle;\n    }\n\n    .dataframe tbody tr th {\n        vertical-align: top;\n    }\n\n    .dataframe thead th {\n        text-align: right;\n    }\n</style>\n<table border=\"1\" class=\"dataframe\">\n  <thead>\n    <tr style=\"text-align: right;\">\n      <th></th>\n      <th></th>\n      <th>hours-per-week</th>\n    </tr>\n    <tr>\n      <th>native-country</th>\n      <th>salary</th>\n      <th></th>\n    </tr>\n  </thead>\n  <tbody>\n    <tr>\n      <th>?</th>\n      <th>&lt;=50K</th>\n      <td>41.415808</td>\n    </tr>\n    <tr>\n      <th>Cambodia</th>\n      <th>&lt;=50K</th>\n      <td>41.888889</td>\n    </tr>\n    <tr>\n      <th>Canada</th>\n      <th>&lt;=50K</th>\n      <td>38.365385</td>\n    </tr>\n    <tr>\n      <th>China</th>\n      <th>&lt;=50K</th>\n      <td>37.641026</td>\n    </tr>\n    <tr>\n      <th>Columbia</th>\n      <th>&lt;=50K</th>\n      <td>39.333333</td>\n    </tr>\n    <tr>\n      <th>Cuba</th>\n      <th>&lt;=50K</th>\n      <td>40.333333</td>\n    </tr>\n    <tr>\n      <th>Dominican-Republic</th>\n      <th>&lt;=50K</th>\n      <td>44.742857</td>\n    </tr>\n    <tr>\n      <th>Ecuador</th>\n      <th>&lt;=50K</th>\n      <td>42.533333</td>\n    </tr>\n    <tr>\n      <th>El-Salvador</th>\n      <th>&lt;=50K</th>\n      <td>36.714286</td>\n    </tr>\n    <tr>\n      <th>England</th>\n      <th>&lt;=50K</th>\n      <td>39.294118</td>\n    </tr>\n    <tr>\n      <th>France</th>\n      <th>&lt;=50K</th>\n      <td>46.375000</td>\n    </tr>\n    <tr>\n      <th>Germany</th>\n      <th>&lt;=50K</th>\n      <td>44.100000</td>\n    </tr>\n    <tr>\n      <th>Greece</th>\n      <th>&lt;=50K</th>\n      <td>43.176471</td>\n    </tr>\n    <tr>\n      <th>Guatemala</th>\n      <th>&lt;=50K</th>\n      <td>39.243902</td>\n    </tr>\n    <tr>\n      <th>Haiti</th>\n      <th>&lt;=50K</th>\n      <td>38.238095</td>\n    </tr>\n    <tr>\n      <th>Honduras</th>\n      <th>&lt;=50K</th>\n      <td>36.666667</td>\n    </tr>\n    <tr>\n      <th>Hong</th>\n      <th>&lt;=50K</th>\n      <td>39.777778</td>\n    </tr>\n    <tr>\n      <th>Hungary</th>\n      <th>&lt;=50K</th>\n      <td>36.000000</td>\n    </tr>\n    <tr>\n      <th>India</th>\n      <th>&lt;=50K</th>\n      <td>38.784314</td>\n    </tr>\n    <tr>\n      <th>Iran</th>\n      <th>&lt;=50K</th>\n      <td>41.473684</td>\n    </tr>\n    <tr>\n      <th>Ireland</th>\n      <th>&lt;=50K</th>\n      <td>40.538462</td>\n    </tr>\n    <tr>\n      <th>Italy</th>\n      <th>&lt;=50K</th>\n      <td>40.656250</td>\n    </tr>\n    <tr>\n      <th>Jamaica</th>\n      <th>&lt;=50K</th>\n      <td>40.448276</td>\n    </tr>\n    <tr>\n      <th>Japan</th>\n      <th>&lt;=50K</th>\n      <td>44.695652</td>\n    </tr>\n    <tr>\n      <th>Laos</th>\n      <th>&lt;=50K</th>\n      <td>40.000000</td>\n    </tr>\n    <tr>\n      <th>Mexico</th>\n      <th>&lt;=50K</th>\n      <td>41.008584</td>\n    </tr>\n    <tr>\n      <th>Nicaragua</th>\n      <th>&lt;=50K</th>\n      <td>37.571429</td>\n    </tr>\n    <tr>\n      <th>Outlying-US(Guam-USVI-etc)</th>\n      <th>&lt;=50K</th>\n      <td>44.285714</td>\n    </tr>\n    <tr>\n      <th>Peru</th>\n      <th>&lt;=50K</th>\n      <td>31.200000</td>\n    </tr>\n    <tr>\n      <th>Philippines</th>\n      <th>&lt;=50K</th>\n      <td>38.276316</td>\n    </tr>\n    <tr>\n      <th>Poland</th>\n      <th>&lt;=50K</th>\n      <td>40.838710</td>\n    </tr>\n    <tr>\n      <th>Portugal</th>\n      <th>&lt;=50K</th>\n      <td>43.652174</td>\n    </tr>\n    <tr>\n      <th>Puerto-Rico</th>\n      <th>&lt;=50K</th>\n      <td>40.634615</td>\n    </tr>\n    <tr>\n      <th>Scotland</th>\n      <th>&lt;=50K</th>\n      <td>40.000000</td>\n    </tr>\n    <tr>\n      <th>South</th>\n      <th>&lt;=50K</th>\n      <td>43.270270</td>\n    </tr>\n    <tr>\n      <th>Taiwan</th>\n      <th>&lt;=50K</th>\n      <td>35.150000</td>\n    </tr>\n    <tr>\n      <th>Thailand</th>\n      <th>&lt;=50K</th>\n      <td>41.600000</td>\n    </tr>\n    <tr>\n      <th>Trinadad&amp;Tobago</th>\n      <th>&lt;=50K</th>\n      <td>43.000000</td>\n    </tr>\n    <tr>\n      <th>United-States</th>\n      <th>&lt;=50K</th>\n      <td>40.722757</td>\n    </tr>\n    <tr>\n      <th>Vietnam</th>\n      <th>&lt;=50K</th>\n      <td>37.925000</td>\n    </tr>\n    <tr>\n      <th>Yugoslavia</th>\n      <th>&lt;=50K</th>\n      <td>44.500000</td>\n    </tr>\n  </tbody>\n</table>\n</div>"
                    },
                    "metadata": {},
                    "execution_count": 60,
                    "output_type": "execute_result"
                }
            ],
            "execution_count": 60
        }
    ]
}