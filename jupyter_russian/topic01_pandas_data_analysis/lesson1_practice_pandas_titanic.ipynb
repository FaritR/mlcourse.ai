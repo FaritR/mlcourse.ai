{
    "metadata": {
        "kernelspec": {
            "name": "python3",
            "display_name": "Python 3",
            "language": "python"
        },
        "language_info": {
            "name": "python",
            "version": "3.9.7",
            "mimetype": "text/x-python",
            "codemirror_mode": {
                "name": "ipython",
                "version": 3
            },
            "pygments_lexer": "ipython3",
            "nbconvert_exporter": "python",
            "file_extension": ".py"
        },
        "anaconda-cloud": {},
        "name": "seminar02_practice_pandas_titanic.ipynb"
    },
    "nbformat_minor": 2,
    "nbformat": 4,
    "cells": [
        {
            "cell_type": "markdown",
            "source": [
                "<center>\n",
                "<img src=\"../../img/ods_stickers.jpg\">\n",
                "## Открытый курс по машинному обучению. Сессия № 2\n",
                "</center>\n",
                "Автор материала: программист-исследователь Mail.ru Group, старший преподаватель Факультета Компьютерных Наук ВШЭ Юрий Кашницкий. Материал распространяется на условиях лицензии [Creative Commons CC BY-NC-SA 4.0](https://creativecommons.org/licenses/by-nc-sa/4.0/). Можно использовать в любых целях (редактировать, поправлять и брать за основу), кроме коммерческих, но с обязательным упоминанием автора материала."
            ],
            "metadata": {
                "azdata_cell_guid": "fff7109f-4745-4491-af26-b79481c4dea6"
            }
        },
        {
            "cell_type": "markdown",
            "source": [
                "# <center>Тема 1. Первичный анализ данных с Pandas</center>\n",
                "## <center>Практическое задание. Анализ данных пассажиров \"Титаника\"</center>\n",
                "\n",
                "**Заполните код в клетках (где написано \"Ваш код здесь\") и ответьте на вопросы в [веб-форме](https://goo.gl/SbRcpW).**"
            ],
            "metadata": {
                "azdata_cell_guid": "7137a756-da62-46f1-b623-74c95a0307e4"
            }
        },
        {
            "cell_type": "code",
            "source": [
                "import numpy as np\n",
                "import pandas as pd\n",
                "\n",
                "%matplotlib inline"
            ],
            "metadata": {
                "azdata_cell_guid": "26077a41-87c7-4fbd-98aa-76912274a67d"
            },
            "outputs": [],
            "execution_count": 5
        },
        {
            "cell_type": "markdown",
            "source": [
                "**Считаем данные из файла в память в виде объекта Pandas.DataFrame**"
            ],
            "metadata": {
                "azdata_cell_guid": "772450a2-f227-4654-99d3-ae7912e87ee7"
            }
        },
        {
            "cell_type": "code",
            "source": [
                "data = pd.read_csv(\"../../data/titanic_train.csv\", index_col=\"PassengerId\")"
            ],
            "metadata": {
                "azdata_cell_guid": "68a4e2f0-f27e-42f1-81a7-350d19f88fc2"
            },
            "outputs": [],
            "execution_count": 6
        },
        {
            "cell_type": "markdown",
            "source": [
                "**Данные представлены в виде таблицы. Посмотрим на первые 5 строк:**"
            ],
            "metadata": {
                "azdata_cell_guid": "7299239d-942a-4339-bbaf-c7f9e6357a55"
            }
        },
        {
            "cell_type": "code",
            "source": [
                "data.head(5)"
            ],
            "metadata": {
                "azdata_cell_guid": "063b222c-0f44-4dae-9e99-be2bc3237b2c"
            },
            "outputs": [
                {
                    "data": {
                        "text/plain": "             Survived  Pclass  \\\nPassengerId                     \n1                   0       3   \n2                   1       1   \n3                   1       3   \n4                   1       1   \n5                   0       3   \n\n                                                          Name     Sex   Age  \\\nPassengerId                                                                    \n1                                      Braund, Mr. Owen Harris    male  22.0   \n2            Cumings, Mrs. John Bradley (Florence Briggs Th...  female  38.0   \n3                                       Heikkinen, Miss. Laina  female  26.0   \n4                 Futrelle, Mrs. Jacques Heath (Lily May Peel)  female  35.0   \n5                                     Allen, Mr. William Henry    male  35.0   \n\n             SibSp  Parch            Ticket     Fare Cabin Embarked  \nPassengerId                                                          \n1                1      0         A/5 21171   7.2500   NaN        S  \n2                1      0          PC 17599  71.2833   C85        C  \n3                0      0  STON/O2. 3101282   7.9250   NaN        S  \n4                1      0            113803  53.1000  C123        S  \n5                0      0            373450   8.0500   NaN        S  ",
                        "text/html": "<div>\n<style scoped>\n    .dataframe tbody tr th:only-of-type {\n        vertical-align: middle;\n    }\n\n    .dataframe tbody tr th {\n        vertical-align: top;\n    }\n\n    .dataframe thead th {\n        text-align: right;\n    }\n</style>\n<table border=\"1\" class=\"dataframe\">\n  <thead>\n    <tr style=\"text-align: right;\">\n      <th></th>\n      <th>Survived</th>\n      <th>Pclass</th>\n      <th>Name</th>\n      <th>Sex</th>\n      <th>Age</th>\n      <th>SibSp</th>\n      <th>Parch</th>\n      <th>Ticket</th>\n      <th>Fare</th>\n      <th>Cabin</th>\n      <th>Embarked</th>\n    </tr>\n    <tr>\n      <th>PassengerId</th>\n      <th></th>\n      <th></th>\n      <th></th>\n      <th></th>\n      <th></th>\n      <th></th>\n      <th></th>\n      <th></th>\n      <th></th>\n      <th></th>\n      <th></th>\n    </tr>\n  </thead>\n  <tbody>\n    <tr>\n      <th>1</th>\n      <td>0</td>\n      <td>3</td>\n      <td>Braund, Mr. Owen Harris</td>\n      <td>male</td>\n      <td>22.0</td>\n      <td>1</td>\n      <td>0</td>\n      <td>A/5 21171</td>\n      <td>7.2500</td>\n      <td>NaN</td>\n      <td>S</td>\n    </tr>\n    <tr>\n      <th>2</th>\n      <td>1</td>\n      <td>1</td>\n      <td>Cumings, Mrs. John Bradley (Florence Briggs Th...</td>\n      <td>female</td>\n      <td>38.0</td>\n      <td>1</td>\n      <td>0</td>\n      <td>PC 17599</td>\n      <td>71.2833</td>\n      <td>C85</td>\n      <td>C</td>\n    </tr>\n    <tr>\n      <th>3</th>\n      <td>1</td>\n      <td>3</td>\n      <td>Heikkinen, Miss. Laina</td>\n      <td>female</td>\n      <td>26.0</td>\n      <td>0</td>\n      <td>0</td>\n      <td>STON/O2. 3101282</td>\n      <td>7.9250</td>\n      <td>NaN</td>\n      <td>S</td>\n    </tr>\n    <tr>\n      <th>4</th>\n      <td>1</td>\n      <td>1</td>\n      <td>Futrelle, Mrs. Jacques Heath (Lily May Peel)</td>\n      <td>female</td>\n      <td>35.0</td>\n      <td>1</td>\n      <td>0</td>\n      <td>113803</td>\n      <td>53.1000</td>\n      <td>C123</td>\n      <td>S</td>\n    </tr>\n    <tr>\n      <th>5</th>\n      <td>0</td>\n      <td>3</td>\n      <td>Allen, Mr. William Henry</td>\n      <td>male</td>\n      <td>35.0</td>\n      <td>0</td>\n      <td>0</td>\n      <td>373450</td>\n      <td>8.0500</td>\n      <td>NaN</td>\n      <td>S</td>\n    </tr>\n  </tbody>\n</table>\n</div>"
                    },
                    "metadata": {},
                    "execution_count": 7,
                    "output_type": "execute_result"
                }
            ],
            "execution_count": 7
        },
        {
            "cell_type": "code",
            "source": [
                "data.describe()"
            ],
            "metadata": {
                "azdata_cell_guid": "c09fc802-fab9-45b6-9da9-820a6e599a0f"
            },
            "outputs": [
                {
                    "data": {
                        "text/plain": "         Survived      Pclass         Age       SibSp       Parch        Fare\ncount  891.000000  891.000000  714.000000  891.000000  891.000000  891.000000\nmean     0.383838    2.308642   29.699118    0.523008    0.381594   32.204208\nstd      0.486592    0.836071   14.526497    1.102743    0.806057   49.693429\nmin      0.000000    1.000000    0.420000    0.000000    0.000000    0.000000\n25%      0.000000    2.000000   20.125000    0.000000    0.000000    7.910400\n50%      0.000000    3.000000   28.000000    0.000000    0.000000   14.454200\n75%      1.000000    3.000000   38.000000    1.000000    0.000000   31.000000\nmax      1.000000    3.000000   80.000000    8.000000    6.000000  512.329200",
                        "text/html": "<div>\n<style scoped>\n    .dataframe tbody tr th:only-of-type {\n        vertical-align: middle;\n    }\n\n    .dataframe tbody tr th {\n        vertical-align: top;\n    }\n\n    .dataframe thead th {\n        text-align: right;\n    }\n</style>\n<table border=\"1\" class=\"dataframe\">\n  <thead>\n    <tr style=\"text-align: right;\">\n      <th></th>\n      <th>Survived</th>\n      <th>Pclass</th>\n      <th>Age</th>\n      <th>SibSp</th>\n      <th>Parch</th>\n      <th>Fare</th>\n    </tr>\n  </thead>\n  <tbody>\n    <tr>\n      <th>count</th>\n      <td>891.000000</td>\n      <td>891.000000</td>\n      <td>714.000000</td>\n      <td>891.000000</td>\n      <td>891.000000</td>\n      <td>891.000000</td>\n    </tr>\n    <tr>\n      <th>mean</th>\n      <td>0.383838</td>\n      <td>2.308642</td>\n      <td>29.699118</td>\n      <td>0.523008</td>\n      <td>0.381594</td>\n      <td>32.204208</td>\n    </tr>\n    <tr>\n      <th>std</th>\n      <td>0.486592</td>\n      <td>0.836071</td>\n      <td>14.526497</td>\n      <td>1.102743</td>\n      <td>0.806057</td>\n      <td>49.693429</td>\n    </tr>\n    <tr>\n      <th>min</th>\n      <td>0.000000</td>\n      <td>1.000000</td>\n      <td>0.420000</td>\n      <td>0.000000</td>\n      <td>0.000000</td>\n      <td>0.000000</td>\n    </tr>\n    <tr>\n      <th>25%</th>\n      <td>0.000000</td>\n      <td>2.000000</td>\n      <td>20.125000</td>\n      <td>0.000000</td>\n      <td>0.000000</td>\n      <td>7.910400</td>\n    </tr>\n    <tr>\n      <th>50%</th>\n      <td>0.000000</td>\n      <td>3.000000</td>\n      <td>28.000000</td>\n      <td>0.000000</td>\n      <td>0.000000</td>\n      <td>14.454200</td>\n    </tr>\n    <tr>\n      <th>75%</th>\n      <td>1.000000</td>\n      <td>3.000000</td>\n      <td>38.000000</td>\n      <td>1.000000</td>\n      <td>0.000000</td>\n      <td>31.000000</td>\n    </tr>\n    <tr>\n      <th>max</th>\n      <td>1.000000</td>\n      <td>3.000000</td>\n      <td>80.000000</td>\n      <td>8.000000</td>\n      <td>6.000000</td>\n      <td>512.329200</td>\n    </tr>\n  </tbody>\n</table>\n</div>"
                    },
                    "metadata": {},
                    "execution_count": 8,
                    "output_type": "execute_result"
                }
            ],
            "execution_count": 8
        },
        {
            "cell_type": "markdown",
            "source": [
                "**Для примера отберем пассажиров, которые сели в Cherbourg (Embarked=C) и заплатили более 200 у.е. за билет (fare > 200).**\n",
                "\n",
                "Убедитесь, что Вы понимаете, как эта конструкция работает. <br>\n",
                "Если нет – посмотрите, как вычисляется выражение в квадратных в скобках."
            ],
            "metadata": {
                "azdata_cell_guid": "3c0332b7-4e3c-47ae-bddc-bc96a863f79e"
            }
        },
        {
            "cell_type": "code",
            "source": [
                "data[(data[\"Embarked\"] == \"C\") & (data.Fare > 200)].head()"
            ],
            "metadata": {
                "azdata_cell_guid": "554b4d4d-99a9-4a55-831e-fff29f842429"
            },
            "outputs": [
                {
                    "data": {
                        "text/plain": "             Survived  Pclass  \\\nPassengerId                     \n119                 0       1   \n259                 1       1   \n300                 1       1   \n312                 1       1   \n378                 0       1   \n\n                                                        Name     Sex   Age  \\\nPassengerId                                                                  \n119                                 Baxter, Mr. Quigg Edmond    male  24.0   \n259                                         Ward, Miss. Anna  female  35.0   \n300          Baxter, Mrs. James (Helene DeLaudeniere Chaput)  female  50.0   \n312                               Ryerson, Miss. Emily Borie  female  18.0   \n378                                Widener, Mr. Harry Elkins    male  27.0   \n\n             SibSp  Parch    Ticket      Fare            Cabin Embarked  \nPassengerId                                                              \n119              0      1  PC 17558  247.5208          B58 B60        C  \n259              0      0  PC 17755  512.3292              NaN        C  \n300              0      1  PC 17558  247.5208          B58 B60        C  \n312              2      2  PC 17608  262.3750  B57 B59 B63 B66        C  \n378              0      2    113503  211.5000              C82        C  ",
                        "text/html": "<div>\n<style scoped>\n    .dataframe tbody tr th:only-of-type {\n        vertical-align: middle;\n    }\n\n    .dataframe tbody tr th {\n        vertical-align: top;\n    }\n\n    .dataframe thead th {\n        text-align: right;\n    }\n</style>\n<table border=\"1\" class=\"dataframe\">\n  <thead>\n    <tr style=\"text-align: right;\">\n      <th></th>\n      <th>Survived</th>\n      <th>Pclass</th>\n      <th>Name</th>\n      <th>Sex</th>\n      <th>Age</th>\n      <th>SibSp</th>\n      <th>Parch</th>\n      <th>Ticket</th>\n      <th>Fare</th>\n      <th>Cabin</th>\n      <th>Embarked</th>\n    </tr>\n    <tr>\n      <th>PassengerId</th>\n      <th></th>\n      <th></th>\n      <th></th>\n      <th></th>\n      <th></th>\n      <th></th>\n      <th></th>\n      <th></th>\n      <th></th>\n      <th></th>\n      <th></th>\n    </tr>\n  </thead>\n  <tbody>\n    <tr>\n      <th>119</th>\n      <td>0</td>\n      <td>1</td>\n      <td>Baxter, Mr. Quigg Edmond</td>\n      <td>male</td>\n      <td>24.0</td>\n      <td>0</td>\n      <td>1</td>\n      <td>PC 17558</td>\n      <td>247.5208</td>\n      <td>B58 B60</td>\n      <td>C</td>\n    </tr>\n    <tr>\n      <th>259</th>\n      <td>1</td>\n      <td>1</td>\n      <td>Ward, Miss. Anna</td>\n      <td>female</td>\n      <td>35.0</td>\n      <td>0</td>\n      <td>0</td>\n      <td>PC 17755</td>\n      <td>512.3292</td>\n      <td>NaN</td>\n      <td>C</td>\n    </tr>\n    <tr>\n      <th>300</th>\n      <td>1</td>\n      <td>1</td>\n      <td>Baxter, Mrs. James (Helene DeLaudeniere Chaput)</td>\n      <td>female</td>\n      <td>50.0</td>\n      <td>0</td>\n      <td>1</td>\n      <td>PC 17558</td>\n      <td>247.5208</td>\n      <td>B58 B60</td>\n      <td>C</td>\n    </tr>\n    <tr>\n      <th>312</th>\n      <td>1</td>\n      <td>1</td>\n      <td>Ryerson, Miss. Emily Borie</td>\n      <td>female</td>\n      <td>18.0</td>\n      <td>2</td>\n      <td>2</td>\n      <td>PC 17608</td>\n      <td>262.3750</td>\n      <td>B57 B59 B63 B66</td>\n      <td>C</td>\n    </tr>\n    <tr>\n      <th>378</th>\n      <td>0</td>\n      <td>1</td>\n      <td>Widener, Mr. Harry Elkins</td>\n      <td>male</td>\n      <td>27.0</td>\n      <td>0</td>\n      <td>2</td>\n      <td>113503</td>\n      <td>211.5000</td>\n      <td>C82</td>\n      <td>C</td>\n    </tr>\n  </tbody>\n</table>\n</div>"
                    },
                    "metadata": {},
                    "execution_count": 9,
                    "output_type": "execute_result"
                }
            ],
            "execution_count": 9
        },
        {
            "cell_type": "markdown",
            "source": [
                "**Можно отсортировать этих людей по убыванию платы за билет.**"
            ],
            "metadata": {
                "azdata_cell_guid": "e36d6a15-f8cd-4534-a85d-3891f8c6b058"
            }
        },
        {
            "cell_type": "code",
            "source": [
                "data[(data[\"Embarked\"] == \"C\") & (data[\"Fare\"] > 200)].sort_values(\n",
                "    by=\"Fare\", ascending=False\n",
                ").head()"
            ],
            "metadata": {
                "azdata_cell_guid": "0583c2a3-ce05-4eaa-9d70-1db065e5e119"
            },
            "outputs": [
                {
                    "data": {
                        "text/plain": "             Survived  Pclass                                   Name     Sex  \\\nPassengerId                                                                    \n259                 1       1                       Ward, Miss. Anna  female   \n680                 1       1     Cardeza, Mr. Thomas Drake Martinez    male   \n738                 1       1                 Lesurer, Mr. Gustave J    male   \n312                 1       1             Ryerson, Miss. Emily Borie  female   \n743                 1       1  Ryerson, Miss. Susan Parker \"Suzette\"  female   \n\n              Age  SibSp  Parch    Ticket      Fare            Cabin Embarked  \nPassengerId                                                                    \n259          35.0      0      0  PC 17755  512.3292              NaN        C  \n680          36.0      0      1  PC 17755  512.3292      B51 B53 B55        C  \n738          35.0      0      0  PC 17755  512.3292             B101        C  \n312          18.0      2      2  PC 17608  262.3750  B57 B59 B63 B66        C  \n743          21.0      2      2  PC 17608  262.3750  B57 B59 B63 B66        C  ",
                        "text/html": "<div>\n<style scoped>\n    .dataframe tbody tr th:only-of-type {\n        vertical-align: middle;\n    }\n\n    .dataframe tbody tr th {\n        vertical-align: top;\n    }\n\n    .dataframe thead th {\n        text-align: right;\n    }\n</style>\n<table border=\"1\" class=\"dataframe\">\n  <thead>\n    <tr style=\"text-align: right;\">\n      <th></th>\n      <th>Survived</th>\n      <th>Pclass</th>\n      <th>Name</th>\n      <th>Sex</th>\n      <th>Age</th>\n      <th>SibSp</th>\n      <th>Parch</th>\n      <th>Ticket</th>\n      <th>Fare</th>\n      <th>Cabin</th>\n      <th>Embarked</th>\n    </tr>\n    <tr>\n      <th>PassengerId</th>\n      <th></th>\n      <th></th>\n      <th></th>\n      <th></th>\n      <th></th>\n      <th></th>\n      <th></th>\n      <th></th>\n      <th></th>\n      <th></th>\n      <th></th>\n    </tr>\n  </thead>\n  <tbody>\n    <tr>\n      <th>259</th>\n      <td>1</td>\n      <td>1</td>\n      <td>Ward, Miss. Anna</td>\n      <td>female</td>\n      <td>35.0</td>\n      <td>0</td>\n      <td>0</td>\n      <td>PC 17755</td>\n      <td>512.3292</td>\n      <td>NaN</td>\n      <td>C</td>\n    </tr>\n    <tr>\n      <th>680</th>\n      <td>1</td>\n      <td>1</td>\n      <td>Cardeza, Mr. Thomas Drake Martinez</td>\n      <td>male</td>\n      <td>36.0</td>\n      <td>0</td>\n      <td>1</td>\n      <td>PC 17755</td>\n      <td>512.3292</td>\n      <td>B51 B53 B55</td>\n      <td>C</td>\n    </tr>\n    <tr>\n      <th>738</th>\n      <td>1</td>\n      <td>1</td>\n      <td>Lesurer, Mr. Gustave J</td>\n      <td>male</td>\n      <td>35.0</td>\n      <td>0</td>\n      <td>0</td>\n      <td>PC 17755</td>\n      <td>512.3292</td>\n      <td>B101</td>\n      <td>C</td>\n    </tr>\n    <tr>\n      <th>312</th>\n      <td>1</td>\n      <td>1</td>\n      <td>Ryerson, Miss. Emily Borie</td>\n      <td>female</td>\n      <td>18.0</td>\n      <td>2</td>\n      <td>2</td>\n      <td>PC 17608</td>\n      <td>262.3750</td>\n      <td>B57 B59 B63 B66</td>\n      <td>C</td>\n    </tr>\n    <tr>\n      <th>743</th>\n      <td>1</td>\n      <td>1</td>\n      <td>Ryerson, Miss. Susan Parker \"Suzette\"</td>\n      <td>female</td>\n      <td>21.0</td>\n      <td>2</td>\n      <td>2</td>\n      <td>PC 17608</td>\n      <td>262.3750</td>\n      <td>B57 B59 B63 B66</td>\n      <td>C</td>\n    </tr>\n  </tbody>\n</table>\n</div>"
                    },
                    "metadata": {},
                    "execution_count": 10,
                    "output_type": "execute_result"
                }
            ],
            "execution_count": 10
        },
        {
            "cell_type": "markdown",
            "source": [
                "**Пример создания признака.**"
            ],
            "metadata": {
                "azdata_cell_guid": "17209649-8c13-4e41-9fba-bd1ee424290a"
            }
        },
        {
            "cell_type": "code",
            "source": [
                "def age_category(age):\n",
                "    \"\"\"\n",
                "    < 30 -> 1\n",
                "    >= 30, <55 -> 2\n",
                "    >= 55 -> 3\n",
                "    \"\"\"\n",
                "    if age < 30:\n",
                "        return 1\n",
                "    elif age < 55:\n",
                "        return 2\n",
                "    else:\n",
                "        return 3"
            ],
            "metadata": {
                "azdata_cell_guid": "2a551668-2350-482a-a2a2-f77a54e449d9"
            },
            "outputs": [],
            "execution_count": 12
        },
        {
            "cell_type": "code",
            "source": [
                "age_categories = [age_category(age) for age in data.Age]"
            ],
            "metadata": {
                "azdata_cell_guid": "15667fe4-0dce-4a86-870d-d39f5cbc72c2"
            },
            "outputs": [],
            "execution_count": 13
        },
        {
            "cell_type": "code",
            "source": [
                "data[\"Age_category\"] = age_categories"
            ],
            "metadata": {
                "azdata_cell_guid": "f4437590-d2c2-4136-b238-f3182c6e865e"
            },
            "outputs": [],
            "execution_count": 14
        },
        {
            "cell_type": "markdown",
            "source": [
                "**Другой способ – через `apply`.**"
            ],
            "metadata": {
                "azdata_cell_guid": "9c377140-2f31-4a0c-8f02-23f41dc08c22"
            }
        },
        {
            "cell_type": "code",
            "source": [
                "data[\"Age_category\"] = data[\"Age\"].apply(age_category)"
            ],
            "metadata": {
                "azdata_cell_guid": "61273214-27ab-4d50-92b9-7db81aabb377"
            },
            "outputs": [],
            "execution_count": 15
        },
        {
            "cell_type": "markdown",
            "source": [
                "**1. Сколько мужчин / женщин находилось на борту?**\n",
                "- 412 мужчин и 479 женщин\n",
                "- 314 мужчин и 577 женщин\n",
                "- 479 мужчин и 412 женщин\n",
                "- 577 мужчин и 314 женщин"
            ],
            "metadata": {
                "azdata_cell_guid": "d2a8bd17-2550-4add-81e2-032b3b8e3515"
            }
        },
        {
            "cell_type": "code",
            "source": [
                "data['Sex'].value_counts()"
            ],
            "metadata": {
                "azdata_cell_guid": "36559c89-d300-452a-b8cb-82367dcc4fa1"
            },
            "outputs": [
                {
                    "data": {
                        "text/plain": "male      577\nfemale    314\nName: Sex, dtype: int64"
                    },
                    "metadata": {},
                    "execution_count": 16,
                    "output_type": "execute_result"
                }
            ],
            "execution_count": 16
        },
        {
            "cell_type": "markdown",
            "source": [
                "**2. Выведите распределение переменной `Pclass` (социально-экономический статус) и это же распределение, только для мужчин / женщин по отдельности. Сколько было мужчин 2-го класса?**\n",
                "- 104\n",
                "- 108\n",
                "- 112\n",
                "- 125"
            ],
            "metadata": {
                "azdata_cell_guid": "d67f8334-9336-4aa4-a9b2-1c09fea1c7e7"
            }
        },
        {
            "cell_type": "code",
            "source": [
                "data.groupby(['Pclass', 'Sex'])['Sex'].count()"
            ],
            "metadata": {
                "azdata_cell_guid": "92bcb535-c39a-48c9-a5a9-de8194ecdb8d"
            },
            "outputs": [
                {
                    "data": {
                        "text/plain": "Pclass  Sex   \n1       female     94\n        male      122\n2       female     76\n        male      108\n3       female    144\n        male      347\nName: Sex, dtype: int64"
                    },
                    "metadata": {},
                    "execution_count": 32,
                    "output_type": "execute_result"
                }
            ],
            "execution_count": 32
        },
        {
            "cell_type": "markdown",
            "source": [
                "**3. Каковы медиана и стандартное отклонение платежей (`Fare`)? Округлите до 2 десятичных знаков.**\n",
                "- Медиана – 14.45, стандартное отклонение – 49.69\n",
                "- Медиана – 15.1, стандартное отклонение – 12.15\n",
                "- Медиана – 13.15, стандартное отклонение – 35.3\n",
                "- Медиана – 17.43, стандартное отклонение – 39.1"
            ],
            "metadata": {
                "azdata_cell_guid": "d45d0fe9-d7d3-4782-bb8d-ac12b65fa4f7"
            }
        },
        {
            "cell_type": "code",
            "source": [
                "data['Fare'].median().round(2), data['Fare'].std().round(2)"
            ],
            "metadata": {
                "azdata_cell_guid": "6cbd6735-5f6e-4549-af70-599c2c90d29a"
            },
            "outputs": [
                {
                    "data": {
                        "text/plain": "(14.45, 49.69)"
                    },
                    "metadata": {},
                    "execution_count": 34,
                    "output_type": "execute_result"
                }
            ],
            "execution_count": 34
        },
        {
            "cell_type": "markdown",
            "source": [
                "**4. Правда ли, что люди моложе 30 лет выживали чаще, чем люди старше 60 лет? Каковы доли выживших в обеих группах?**\n",
                "- 22.7% среди молодых и 40.6% среди старых\n",
                "- 40.6% среди молодых и 22.7% среди старых\n",
                "- 35.3% среди молодых и 27.4% среди старых\n",
                "- 27.4% среди молодых и 35.3% среди старых"
            ],
            "metadata": {
                "azdata_cell_guid": "f5a7e6d8-41b5-4046-a9f3-3b3324b6bc59"
            }
        },
        {
            "cell_type": "code",
            "source": [
                "pd.crosstab(data['Age_category'], data['Survived'], margins=True)"
            ],
            "metadata": {
                "azdata_cell_guid": "bfa702bc-f626-4ce1-b358-ebe3880d0472"
            },
            "outputs": [
                {
                    "data": {
                        "text/plain": "Survived        0    1  All\nAge_category               \n1             228  156  384\n2             167  121  288\n3             154   65  219\nAll           549  342  891",
                        "text/html": "<div>\n<style scoped>\n    .dataframe tbody tr th:only-of-type {\n        vertical-align: middle;\n    }\n\n    .dataframe tbody tr th {\n        vertical-align: top;\n    }\n\n    .dataframe thead th {\n        text-align: right;\n    }\n</style>\n<table border=\"1\" class=\"dataframe\">\n  <thead>\n    <tr style=\"text-align: right;\">\n      <th>Survived</th>\n      <th>0</th>\n      <th>1</th>\n      <th>All</th>\n    </tr>\n    <tr>\n      <th>Age_category</th>\n      <th></th>\n      <th></th>\n      <th></th>\n    </tr>\n  </thead>\n  <tbody>\n    <tr>\n      <th>1</th>\n      <td>228</td>\n      <td>156</td>\n      <td>384</td>\n    </tr>\n    <tr>\n      <th>2</th>\n      <td>167</td>\n      <td>121</td>\n      <td>288</td>\n    </tr>\n    <tr>\n      <th>3</th>\n      <td>154</td>\n      <td>65</td>\n      <td>219</td>\n    </tr>\n    <tr>\n      <th>All</th>\n      <td>549</td>\n      <td>342</td>\n      <td>891</td>\n    </tr>\n  </tbody>\n</table>\n</div>"
                    },
                    "metadata": {},
                    "execution_count": 42,
                    "output_type": "execute_result"
                }
            ],
            "execution_count": 42
        },
        {
            "cell_type": "markdown",
            "source": [
                "**5. Правда ли, что женщины выживали чаще мужчин? Каковы доли выживших в обеих группах?**\n",
                "- 30.2% среди мужчин и 46.2% среди женщин\n",
                "- 35.7% среди мужчин и 74.2% среди женщин\n",
                "- 21.1% среди мужчин и 46.2% среди женщин\n",
                "- 18.9% среди мужчин и 74.2% среди женщин"
            ],
            "metadata": {
                "azdata_cell_guid": "ec52ba38-2f8c-43ff-99e4-7cb087c421ab"
            }
        },
        {
            "cell_type": "code",
            "source": [
                "pd.crosstab(data['Sex'], data['Survived'], normalize=True)"
            ],
            "metadata": {
                "azdata_cell_guid": "5c332a66-9106-444e-acf3-1ed2e0bea52b"
            },
            "outputs": [
                {
                    "data": {
                        "text/plain": "Survived         0         1\nSex                         \nfemale    0.090909  0.261504\nmale      0.525253  0.122334",
                        "text/html": "<div>\n<style scoped>\n    .dataframe tbody tr th:only-of-type {\n        vertical-align: middle;\n    }\n\n    .dataframe tbody tr th {\n        vertical-align: top;\n    }\n\n    .dataframe thead th {\n        text-align: right;\n    }\n</style>\n<table border=\"1\" class=\"dataframe\">\n  <thead>\n    <tr style=\"text-align: right;\">\n      <th>Survived</th>\n      <th>0</th>\n      <th>1</th>\n    </tr>\n    <tr>\n      <th>Sex</th>\n      <th></th>\n      <th></th>\n    </tr>\n  </thead>\n  <tbody>\n    <tr>\n      <th>female</th>\n      <td>0.090909</td>\n      <td>0.261504</td>\n    </tr>\n    <tr>\n      <th>male</th>\n      <td>0.525253</td>\n      <td>0.122334</td>\n    </tr>\n  </tbody>\n</table>\n</div>"
                    },
                    "metadata": {},
                    "execution_count": 44,
                    "output_type": "execute_result"
                }
            ],
            "execution_count": 44
        },
        {
            "cell_type": "markdown",
            "source": [
                "**6. Найдите самое популярное имя среди пассажиров Титаника мужского пола?**\n",
                "- Charles\n",
                "- Thomas\n",
                "- William\n",
                "- John"
            ],
            "metadata": {
                "azdata_cell_guid": "cae5ec22-30e0-4fec-91a1-1937fed23160"
            }
        },
        {
            "cell_type": "code",
            "source": [
                "data['Name'].str.split(', ', expand=True)[1].value_counts().head(10)"
            ],
            "metadata": {
                "azdata_cell_guid": "6014eff5-06f7-4ce2-8cb0-80d908fdcdea"
            },
            "outputs": [
                {
                    "data": {
                        "text/plain": "Mr. John             7\nMr. James            7\nMiss. Mary           6\nMr. William          6\nMr. William John     4\nMiss. Bertha         4\nMr. Ivan             4\nMr. William Henry    4\nMiss. Anna Sofia     3\nMr. George           3\nName: 1, dtype: int64"
                    },
                    "metadata": {},
                    "execution_count": 70,
                    "output_type": "execute_result"
                }
            ],
            "execution_count": 70
        },
        {
            "cell_type": "markdown",
            "source": [
                "**7. Сравните графически распределение стоимости билетов и возраста у спасенных и у погибших. Средний возраст погибших выше, верно?**\n",
                "- Да \n",
                "- Нет"
            ],
            "metadata": {
                "azdata_cell_guid": "428ac186-4b12-4f88-9eee-e34635b69ba5"
            }
        },
        {
            "cell_type": "code",
            "source": [
                "import seaborn as sns\r\n",
                "sns.set(rc={'figure.figsize': (9,6)})\r\n",
                "data[['Age_category','Fare']].mean().plot()"
            ],
            "metadata": {
                "azdata_cell_guid": "03b7aef5-b0ca-4738-a7ce-47ce39468a6e"
            },
            "outputs": [
                {
                    "data": {
                        "text/plain": "<Figure size 648x432 with 1 Axes>",
                        "image/png": "[encoded data removed]"
                    },
                    "metadata": {},
                    "output_type": "display_data"
                },
                {
                    "data": {
                        "text/plain": "<AxesSubplot:>"
                    },
                    "metadata": {},
                    "execution_count": 89,
                    "output_type": "execute_result"
                }
            ],
            "execution_count": 89
        },
        {
            "cell_type": "markdown",
            "source": [
                "**8. Как отличается средний возраст мужчин / женщин в зависимости от класса обслуживания? Выберите верные утверждения:**\n",
                "- В среднем мужчины 1-го класса старше 40 лет\n",
                "- В среднем женщины 1-го класса старше 40 лет\n",
                "- Мужчины всех классов в среднем старше женщин того же класса\n",
                "- В среднем люди в 1 классе старше, чем во 2-ом, а те старше представителей 3-го класса"
            ],
            "metadata": {
                "azdata_cell_guid": "9b5da4a0-b110-47bc-8015-32e54a30e005"
            }
        },
        {
            "cell_type": "code",
            "source": [
                "data.groupby(['Pclass', 'Sex']).agg({'Age' : 'mean'})"
            ],
            "metadata": {
                "azdata_cell_guid": "3b7117b8-127e-4c71-9ebb-b198d447386c"
            },
            "outputs": [
                {
                    "data": {
                        "text/plain": "                     Age\nPclass Sex              \n1      female  34.611765\n       male    41.281386\n2      female  28.722973\n       male    30.740707\n3      female  21.750000\n       male    26.507589",
                        "text/html": "<div>\n<style scoped>\n    .dataframe tbody tr th:only-of-type {\n        vertical-align: middle;\n    }\n\n    .dataframe tbody tr th {\n        vertical-align: top;\n    }\n\n    .dataframe thead th {\n        text-align: right;\n    }\n</style>\n<table border=\"1\" class=\"dataframe\">\n  <thead>\n    <tr style=\"text-align: right;\">\n      <th></th>\n      <th></th>\n      <th>Age</th>\n    </tr>\n    <tr>\n      <th>Pclass</th>\n      <th>Sex</th>\n      <th></th>\n    </tr>\n  </thead>\n  <tbody>\n    <tr>\n      <th rowspan=\"2\" valign=\"top\">1</th>\n      <th>female</th>\n      <td>34.611765</td>\n    </tr>\n    <tr>\n      <th>male</th>\n      <td>41.281386</td>\n    </tr>\n    <tr>\n      <th rowspan=\"2\" valign=\"top\">2</th>\n      <th>female</th>\n      <td>28.722973</td>\n    </tr>\n    <tr>\n      <th>male</th>\n      <td>30.740707</td>\n    </tr>\n    <tr>\n      <th rowspan=\"2\" valign=\"top\">3</th>\n      <th>female</th>\n      <td>21.750000</td>\n    </tr>\n    <tr>\n      <th>male</th>\n      <td>26.507589</td>\n    </tr>\n  </tbody>\n</table>\n</div>"
                    },
                    "metadata": {},
                    "execution_count": 97,
                    "output_type": "execute_result"
                }
            ],
            "execution_count": 97
        }
    ]
}