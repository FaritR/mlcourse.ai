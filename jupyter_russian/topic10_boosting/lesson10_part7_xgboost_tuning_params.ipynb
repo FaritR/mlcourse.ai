{
 "cells": [
  {
   "cell_type": "markdown",
   "metadata": {},
   "source": [
    "<center>\n",
    "<img src=\"../../img/ods_stickers.jpg\">\n",
    "## Открытый курс по машинному обучению. Сессия № 2\n",
    "Автор материала: программист-исследователь Mail.ru Group, старший преподаватель Факультета Компьютерных Наук ВШЭ Юрий Кашницкий. Материал распространяется на условиях лицензии [Creative Commons CC BY-NC-SA 4.0](https://creativecommons.org/licenses/by-nc-sa/4.0/). Можно использовать в любых целях (редактировать, поправлять и брать за основу), кроме коммерческих, но с обязательным упоминанием автора материала."
   ]
  },
  {
   "cell_type": "markdown",
   "metadata": {},
   "source": [
    "# <center>Тема 10. Бустинг\n",
    "## <center>Часть 7. Xgboost и Hyperopt в соревновании Kaggle Forest Cover Type Prediction"
   ]
  },
  {
   "cell_type": "markdown",
   "metadata": {},
   "source": [
    "[Соревнование](https://www.kaggle.com/c/forest-cover-type-prediction). \n",
    "Задача учебная. Предлагается предсказывать тип лесного покрытия на участках 30х30 метров Национального заповедника Рузвельта в Колорадо.\n",
    "\n",
    "Признаки (подробней на [странице](https://www.kaggle.com/c/forest-cover-type-prediction/data) соревнования):"
   ]
  },
  {
   "cell_type": "markdown",
   "metadata": {},
   "source": [
    "- Elevation (высота) - Elevation in meters\n",
    "- Aspect - Aspect in degrees azimuth\n",
    "- Slope (наклон) - Slope in degrees\n",
    "- Horizontal_Distance_To_Hydrology (горизонтальное расстояние до воды) - Horz Dist to nearest surface water features\n",
    "- Vertical_Distance_To_Hydrology (вертикальное расстояние до воды) - Vert Dist to nearest surface water features\n",
    "- Horizontal_Distance_To_Roadways (горизонтальное расстояние до дорог) - Horz Dist to nearest roadway\n",
    "- Hillshade_9am (0 to 255 index) - Hillshade index at 9am, summer solstice\n",
    "- Hillshade_Noon (0 to 255 index) - Hillshade index at noon, summer solstice\n",
    "- Hillshade_3pm (0 to 255 index) - Hillshade index at 3pm, summer solstice \n",
    "- Horizontal_Distance_To_Fire_Points (горизонтальное расстояние до центров воспламенения) - Horz Dist to nearest wildfire ignition points \n",
    "- Wilderness_Area (4 binary columns, 0 = absence or 1 = presence) - Wilderness area designation\n",
    "- Soil_Type (тип почвы) - (40 binary columns, 0 = absence or 1 = presence) - Soil Type designation\n",
    "Cover_Type (7 types, integers 1 to 7) - Forest Cover Type designation"
   ]
  },
  {
   "cell_type": "markdown",
   "metadata": {},
   "source": [
    "**Подключаем библиотеки и загружаем данные. Используем [log_progress](https://github.com/alexanderkuk/log-progress) для отслеживания итераций в циклах.**"
   ]
  },
  {
   "cell_type": "code",
   "execution_count": 1,
   "metadata": {},
   "outputs": [],
   "source": [
    "import numpy as np\n",
    "import pandas as pd\n",
    "import xgboost as xgb\n",
    "from sklearn.ensemble import RandomForestClassifier\n",
    "from sklearn.metrics import accuracy_score, confusion_matrix\n",
    "from sklearn.model_selection import GridSearchCV, StratifiedKFold, train_test_split\n",
    "\n",
    "%matplotlib inline\n",
    "import matplotlib.pyplot as plt"
   ]
  },
  {
   "cell_type": "markdown",
   "metadata": {},
   "source": [
    "**Файл forest_test.csv можно скачать [отсюда](https://drive.google.com/file/d/1Ktn5JjFlAjABp6kGDldAYI2aVG-OMgvW/view?usp=sharing)**"
   ]
  },
  {
   "cell_type": "code",
   "execution_count": 4,
   "metadata": {},
   "outputs": [],
   "source": [
    "train_df = pd.read_csv(\"/Users/rakhmangulovs/Downloads/train.csv\")\n",
    "test_df = pd.read_csv(\"/Users/rakhmangulovs/Downloads/Users/kashnitskiyy/Downloads/forest_test.csv\")"
   ]
  },
  {
   "cell_type": "code",
   "execution_count": 6,
   "metadata": {},
   "outputs": [
    {
     "data": {
      "text/html": [
       "<div>\n",
       "<style scoped>\n",
       "    .dataframe tbody tr th:only-of-type {\n",
       "        vertical-align: middle;\n",
       "    }\n",
       "\n",
       "    .dataframe tbody tr th {\n",
       "        vertical-align: top;\n",
       "    }\n",
       "\n",
       "    .dataframe thead th {\n",
       "        text-align: right;\n",
       "    }\n",
       "</style>\n",
       "<table border=\"1\" class=\"dataframe\">\n",
       "  <thead>\n",
       "    <tr style=\"text-align: right;\">\n",
       "      <th></th>\n",
       "      <th>Id</th>\n",
       "      <th>Elevation</th>\n",
       "      <th>Aspect</th>\n",
       "      <th>Slope</th>\n",
       "      <th>Horizontal_Distance_To_Hydrology</th>\n",
       "      <th>Vertical_Distance_To_Hydrology</th>\n",
       "      <th>Horizontal_Distance_To_Roadways</th>\n",
       "      <th>Hillshade_9am</th>\n",
       "      <th>Hillshade_Noon</th>\n",
       "      <th>Hillshade_3pm</th>\n",
       "      <th>...</th>\n",
       "      <th>Soil_Type32</th>\n",
       "      <th>Soil_Type33</th>\n",
       "      <th>Soil_Type34</th>\n",
       "      <th>Soil_Type35</th>\n",
       "      <th>Soil_Type36</th>\n",
       "      <th>Soil_Type37</th>\n",
       "      <th>Soil_Type38</th>\n",
       "      <th>Soil_Type39</th>\n",
       "      <th>Soil_Type40</th>\n",
       "      <th>Cover_Type</th>\n",
       "    </tr>\n",
       "  </thead>\n",
       "  <tbody>\n",
       "    <tr>\n",
       "      <th>0</th>\n",
       "      <td>1</td>\n",
       "      <td>2596</td>\n",
       "      <td>51</td>\n",
       "      <td>3</td>\n",
       "      <td>258</td>\n",
       "      <td>0</td>\n",
       "      <td>510</td>\n",
       "      <td>221</td>\n",
       "      <td>232</td>\n",
       "      <td>148</td>\n",
       "      <td>...</td>\n",
       "      <td>0</td>\n",
       "      <td>0</td>\n",
       "      <td>0</td>\n",
       "      <td>0</td>\n",
       "      <td>0</td>\n",
       "      <td>0</td>\n",
       "      <td>0</td>\n",
       "      <td>0</td>\n",
       "      <td>0</td>\n",
       "      <td>5</td>\n",
       "    </tr>\n",
       "    <tr>\n",
       "      <th>1</th>\n",
       "      <td>2</td>\n",
       "      <td>2590</td>\n",
       "      <td>56</td>\n",
       "      <td>2</td>\n",
       "      <td>212</td>\n",
       "      <td>-6</td>\n",
       "      <td>390</td>\n",
       "      <td>220</td>\n",
       "      <td>235</td>\n",
       "      <td>151</td>\n",
       "      <td>...</td>\n",
       "      <td>0</td>\n",
       "      <td>0</td>\n",
       "      <td>0</td>\n",
       "      <td>0</td>\n",
       "      <td>0</td>\n",
       "      <td>0</td>\n",
       "      <td>0</td>\n",
       "      <td>0</td>\n",
       "      <td>0</td>\n",
       "      <td>5</td>\n",
       "    </tr>\n",
       "    <tr>\n",
       "      <th>2</th>\n",
       "      <td>3</td>\n",
       "      <td>2804</td>\n",
       "      <td>139</td>\n",
       "      <td>9</td>\n",
       "      <td>268</td>\n",
       "      <td>65</td>\n",
       "      <td>3180</td>\n",
       "      <td>234</td>\n",
       "      <td>238</td>\n",
       "      <td>135</td>\n",
       "      <td>...</td>\n",
       "      <td>0</td>\n",
       "      <td>0</td>\n",
       "      <td>0</td>\n",
       "      <td>0</td>\n",
       "      <td>0</td>\n",
       "      <td>0</td>\n",
       "      <td>0</td>\n",
       "      <td>0</td>\n",
       "      <td>0</td>\n",
       "      <td>2</td>\n",
       "    </tr>\n",
       "    <tr>\n",
       "      <th>3</th>\n",
       "      <td>4</td>\n",
       "      <td>2785</td>\n",
       "      <td>155</td>\n",
       "      <td>18</td>\n",
       "      <td>242</td>\n",
       "      <td>118</td>\n",
       "      <td>3090</td>\n",
       "      <td>238</td>\n",
       "      <td>238</td>\n",
       "      <td>122</td>\n",
       "      <td>...</td>\n",
       "      <td>0</td>\n",
       "      <td>0</td>\n",
       "      <td>0</td>\n",
       "      <td>0</td>\n",
       "      <td>0</td>\n",
       "      <td>0</td>\n",
       "      <td>0</td>\n",
       "      <td>0</td>\n",
       "      <td>0</td>\n",
       "      <td>2</td>\n",
       "    </tr>\n",
       "    <tr>\n",
       "      <th>4</th>\n",
       "      <td>5</td>\n",
       "      <td>2595</td>\n",
       "      <td>45</td>\n",
       "      <td>2</td>\n",
       "      <td>153</td>\n",
       "      <td>-1</td>\n",
       "      <td>391</td>\n",
       "      <td>220</td>\n",
       "      <td>234</td>\n",
       "      <td>150</td>\n",
       "      <td>...</td>\n",
       "      <td>0</td>\n",
       "      <td>0</td>\n",
       "      <td>0</td>\n",
       "      <td>0</td>\n",
       "      <td>0</td>\n",
       "      <td>0</td>\n",
       "      <td>0</td>\n",
       "      <td>0</td>\n",
       "      <td>0</td>\n",
       "      <td>5</td>\n",
       "    </tr>\n",
       "    <tr>\n",
       "      <th>...</th>\n",
       "      <td>...</td>\n",
       "      <td>...</td>\n",
       "      <td>...</td>\n",
       "      <td>...</td>\n",
       "      <td>...</td>\n",
       "      <td>...</td>\n",
       "      <td>...</td>\n",
       "      <td>...</td>\n",
       "      <td>...</td>\n",
       "      <td>...</td>\n",
       "      <td>...</td>\n",
       "      <td>...</td>\n",
       "      <td>...</td>\n",
       "      <td>...</td>\n",
       "      <td>...</td>\n",
       "      <td>...</td>\n",
       "      <td>...</td>\n",
       "      <td>...</td>\n",
       "      <td>...</td>\n",
       "      <td>...</td>\n",
       "      <td>...</td>\n",
       "    </tr>\n",
       "    <tr>\n",
       "      <th>15115</th>\n",
       "      <td>15116</td>\n",
       "      <td>2607</td>\n",
       "      <td>243</td>\n",
       "      <td>23</td>\n",
       "      <td>258</td>\n",
       "      <td>7</td>\n",
       "      <td>660</td>\n",
       "      <td>170</td>\n",
       "      <td>251</td>\n",
       "      <td>214</td>\n",
       "      <td>...</td>\n",
       "      <td>0</td>\n",
       "      <td>0</td>\n",
       "      <td>0</td>\n",
       "      <td>0</td>\n",
       "      <td>0</td>\n",
       "      <td>0</td>\n",
       "      <td>0</td>\n",
       "      <td>0</td>\n",
       "      <td>0</td>\n",
       "      <td>3</td>\n",
       "    </tr>\n",
       "    <tr>\n",
       "      <th>15116</th>\n",
       "      <td>15117</td>\n",
       "      <td>2603</td>\n",
       "      <td>121</td>\n",
       "      <td>19</td>\n",
       "      <td>633</td>\n",
       "      <td>195</td>\n",
       "      <td>618</td>\n",
       "      <td>249</td>\n",
       "      <td>221</td>\n",
       "      <td>91</td>\n",
       "      <td>...</td>\n",
       "      <td>0</td>\n",
       "      <td>0</td>\n",
       "      <td>0</td>\n",
       "      <td>0</td>\n",
       "      <td>0</td>\n",
       "      <td>0</td>\n",
       "      <td>0</td>\n",
       "      <td>0</td>\n",
       "      <td>0</td>\n",
       "      <td>3</td>\n",
       "    </tr>\n",
       "    <tr>\n",
       "      <th>15117</th>\n",
       "      <td>15118</td>\n",
       "      <td>2492</td>\n",
       "      <td>134</td>\n",
       "      <td>25</td>\n",
       "      <td>365</td>\n",
       "      <td>117</td>\n",
       "      <td>335</td>\n",
       "      <td>250</td>\n",
       "      <td>220</td>\n",
       "      <td>83</td>\n",
       "      <td>...</td>\n",
       "      <td>0</td>\n",
       "      <td>0</td>\n",
       "      <td>0</td>\n",
       "      <td>0</td>\n",
       "      <td>0</td>\n",
       "      <td>0</td>\n",
       "      <td>0</td>\n",
       "      <td>0</td>\n",
       "      <td>0</td>\n",
       "      <td>3</td>\n",
       "    </tr>\n",
       "    <tr>\n",
       "      <th>15118</th>\n",
       "      <td>15119</td>\n",
       "      <td>2487</td>\n",
       "      <td>167</td>\n",
       "      <td>28</td>\n",
       "      <td>218</td>\n",
       "      <td>101</td>\n",
       "      <td>242</td>\n",
       "      <td>229</td>\n",
       "      <td>237</td>\n",
       "      <td>119</td>\n",
       "      <td>...</td>\n",
       "      <td>0</td>\n",
       "      <td>0</td>\n",
       "      <td>0</td>\n",
       "      <td>0</td>\n",
       "      <td>0</td>\n",
       "      <td>0</td>\n",
       "      <td>0</td>\n",
       "      <td>0</td>\n",
       "      <td>0</td>\n",
       "      <td>3</td>\n",
       "    </tr>\n",
       "    <tr>\n",
       "      <th>15119</th>\n",
       "      <td>15120</td>\n",
       "      <td>2475</td>\n",
       "      <td>197</td>\n",
       "      <td>34</td>\n",
       "      <td>319</td>\n",
       "      <td>78</td>\n",
       "      <td>270</td>\n",
       "      <td>189</td>\n",
       "      <td>244</td>\n",
       "      <td>164</td>\n",
       "      <td>...</td>\n",
       "      <td>0</td>\n",
       "      <td>0</td>\n",
       "      <td>0</td>\n",
       "      <td>0</td>\n",
       "      <td>0</td>\n",
       "      <td>0</td>\n",
       "      <td>0</td>\n",
       "      <td>0</td>\n",
       "      <td>0</td>\n",
       "      <td>3</td>\n",
       "    </tr>\n",
       "  </tbody>\n",
       "</table>\n",
       "<p>15120 rows × 56 columns</p>\n",
       "</div>"
      ],
      "text/plain": [
       "          Id  Elevation  Aspect  Slope  Horizontal_Distance_To_Hydrology  \\\n",
       "0          1       2596      51      3                               258   \n",
       "1          2       2590      56      2                               212   \n",
       "2          3       2804     139      9                               268   \n",
       "3          4       2785     155     18                               242   \n",
       "4          5       2595      45      2                               153   \n",
       "...      ...        ...     ...    ...                               ...   \n",
       "15115  15116       2607     243     23                               258   \n",
       "15116  15117       2603     121     19                               633   \n",
       "15117  15118       2492     134     25                               365   \n",
       "15118  15119       2487     167     28                               218   \n",
       "15119  15120       2475     197     34                               319   \n",
       "\n",
       "       Vertical_Distance_To_Hydrology  Horizontal_Distance_To_Roadways  \\\n",
       "0                                   0                              510   \n",
       "1                                  -6                              390   \n",
       "2                                  65                             3180   \n",
       "3                                 118                             3090   \n",
       "4                                  -1                              391   \n",
       "...                               ...                              ...   \n",
       "15115                               7                              660   \n",
       "15116                             195                              618   \n",
       "15117                             117                              335   \n",
       "15118                             101                              242   \n",
       "15119                              78                              270   \n",
       "\n",
       "       Hillshade_9am  Hillshade_Noon  Hillshade_3pm  ...  Soil_Type32  \\\n",
       "0                221             232            148  ...            0   \n",
       "1                220             235            151  ...            0   \n",
       "2                234             238            135  ...            0   \n",
       "3                238             238            122  ...            0   \n",
       "4                220             234            150  ...            0   \n",
       "...              ...             ...            ...  ...          ...   \n",
       "15115            170             251            214  ...            0   \n",
       "15116            249             221             91  ...            0   \n",
       "15117            250             220             83  ...            0   \n",
       "15118            229             237            119  ...            0   \n",
       "15119            189             244            164  ...            0   \n",
       "\n",
       "       Soil_Type33  Soil_Type34  Soil_Type35  Soil_Type36  Soil_Type37  \\\n",
       "0                0            0            0            0            0   \n",
       "1                0            0            0            0            0   \n",
       "2                0            0            0            0            0   \n",
       "3                0            0            0            0            0   \n",
       "4                0            0            0            0            0   \n",
       "...            ...          ...          ...          ...          ...   \n",
       "15115            0            0            0            0            0   \n",
       "15116            0            0            0            0            0   \n",
       "15117            0            0            0            0            0   \n",
       "15118            0            0            0            0            0   \n",
       "15119            0            0            0            0            0   \n",
       "\n",
       "       Soil_Type38  Soil_Type39  Soil_Type40  Cover_Type  \n",
       "0                0            0            0           5  \n",
       "1                0            0            0           5  \n",
       "2                0            0            0           2  \n",
       "3                0            0            0           2  \n",
       "4                0            0            0           5  \n",
       "...            ...          ...          ...         ...  \n",
       "15115            0            0            0           3  \n",
       "15116            0            0            0           3  \n",
       "15117            0            0            0           3  \n",
       "15118            0            0            0           3  \n",
       "15119            0            0            0           3  \n",
       "\n",
       "[15120 rows x 56 columns]"
      ]
     },
     "execution_count": 6,
     "metadata": {},
     "output_type": "execute_result"
    }
   ],
   "source": [
    "train_df"
   ]
  },
  {
   "cell_type": "code",
   "execution_count": 22,
   "metadata": {},
   "outputs": [],
   "source": [
    "def write_to_submission_file(\n",
    "    predicted_labels, out_file, target=\"Cover_Type\", index_label=\"Id\", init_index=15121\n",
    "):\n",
    "    # turn predictions into data frame and save as csv file\n",
    "    predicted_df = pd.DataFrame(\n",
    "        predicted_labels,\n",
    "        index=np.arange(init_index, predicted_labels.shape[0] + init_index),\n",
    "        columns=[target],\n",
    "    )\n",
    "    predicted_df.to_csv(out_file, index_label=index_label)"
   ]
  },
  {
   "cell_type": "markdown",
   "metadata": {},
   "source": [
    "**Создаем признаки.**"
   ]
  },
  {
   "cell_type": "code",
   "execution_count": 23,
   "metadata": {},
   "outputs": [],
   "source": [
    "train_df[\"Under_water\"] = train_df.Vertical_Distance_To_Hydrology < 0\n",
    "test_df[\"Under_water\"] = test_df.Vertical_Distance_To_Hydrology < 0"
   ]
  },
  {
   "cell_type": "code",
   "execution_count": 24,
   "metadata": {},
   "outputs": [],
   "source": [
    "train_df[\"EVDtH\"] = train_df.Elevation - train_df.Vertical_Distance_To_Hydrology\n",
    "test_df[\"EVDtH\"] = test_df.Elevation - test_df.Vertical_Distance_To_Hydrology\n",
    "\n",
    "train_df[\"EHDtH\"] = train_df.Elevation - train_df.Horizontal_Distance_To_Hydrology * 0.2\n",
    "test_df[\"EHDtH\"] = test_df.Elevation - test_df.Horizontal_Distance_To_Hydrology * 0.2"
   ]
  },
  {
   "cell_type": "code",
   "execution_count": 25,
   "metadata": {},
   "outputs": [],
   "source": [
    "train_df[\"Distanse_to_Hydrolody\"] = (\n",
    "    train_df[\"Horizontal_Distance_To_Hydrology\"] ** 2\n",
    "    + train_df[\"Vertical_Distance_To_Hydrology\"] ** 2\n",
    ") ** 0.5\n",
    "test_df[\"Distanse_to_Hydrolody\"] = (\n",
    "    test_df[\"Horizontal_Distance_To_Hydrology\"] ** 2\n",
    "    + test_df[\"Vertical_Distance_To_Hydrology\"] ** 2\n",
    ") ** 0.5\n",
    "\n",
    "train_df[\"Hydro_Fire_1\"] = (\n",
    "    train_df[\"Horizontal_Distance_To_Hydrology\"]\n",
    "    + train_df[\"Horizontal_Distance_To_Fire_Points\"]\n",
    ")\n",
    "test_df[\"Hydro_Fire_1\"] = (\n",
    "    test_df[\"Horizontal_Distance_To_Hydrology\"]\n",
    "    + test_df[\"Horizontal_Distance_To_Fire_Points\"]\n",
    ")\n",
    "\n",
    "train_df[\"Hydro_Fire_2\"] = abs(\n",
    "    train_df[\"Horizontal_Distance_To_Hydrology\"]\n",
    "    - train_df[\"Horizontal_Distance_To_Fire_Points\"]\n",
    ")\n",
    "test_df[\"Hydro_Fire_2\"] = abs(\n",
    "    test_df[\"Horizontal_Distance_To_Hydrology\"]\n",
    "    - test_df[\"Horizontal_Distance_To_Fire_Points\"]\n",
    ")\n",
    "\n",
    "train_df[\"Hydro_Road_1\"] = abs(\n",
    "    train_df[\"Horizontal_Distance_To_Hydrology\"]\n",
    "    + train_df[\"Horizontal_Distance_To_Roadways\"]\n",
    ")\n",
    "test_df[\"Hydro_Road_1\"] = abs(\n",
    "    test_df[\"Horizontal_Distance_To_Hydrology\"]\n",
    "    + test_df[\"Horizontal_Distance_To_Roadways\"]\n",
    ")\n",
    "\n",
    "train_df[\"Hydro_Road_2\"] = abs(\n",
    "    train_df[\"Horizontal_Distance_To_Hydrology\"]\n",
    "    - train_df[\"Horizontal_Distance_To_Roadways\"]\n",
    ")\n",
    "test_df[\"Hydro_Road_2\"] = abs(\n",
    "    test_df[\"Horizontal_Distance_To_Hydrology\"]\n",
    "    - test_df[\"Horizontal_Distance_To_Roadways\"]\n",
    ")\n",
    "\n",
    "train_df[\"Fire_Road_1\"] = abs(\n",
    "    train_df[\"Horizontal_Distance_To_Fire_Points\"]\n",
    "    + train_df[\"Horizontal_Distance_To_Roadways\"]\n",
    ")\n",
    "test_df[\"Fire_Road_1\"] = abs(\n",
    "    test_df[\"Horizontal_Distance_To_Fire_Points\"]\n",
    "    + test_df[\"Horizontal_Distance_To_Roadways\"]\n",
    ")\n",
    "\n",
    "train_df[\"Fire_Road_2\"] = abs(\n",
    "    train_df[\"Horizontal_Distance_To_Fire_Points\"]\n",
    "    - train_df[\"Horizontal_Distance_To_Roadways\"]\n",
    ")\n",
    "test_df[\"Fire_Road_2\"] = abs(\n",
    "    test_df[\"Horizontal_Distance_To_Fire_Points\"]\n",
    "    - test_df[\"Horizontal_Distance_To_Roadways\"]\n",
    ")"
   ]
  },
  {
   "cell_type": "code",
   "execution_count": 26,
   "metadata": {},
   "outputs": [],
   "source": [
    "y = train_df[\"Cover_Type\"]\n",
    "train_df = train_df.drop([\"Cover_Type\", \"Id\"], axis=1)\n",
    "test_df = test_df.drop([\"Id\"], axis=1)"
   ]
  },
  {
   "cell_type": "code",
   "execution_count": 27,
   "metadata": {},
   "outputs": [],
   "source": [
    "y = y - 1  # Чтоб классы нумеровались от о до 6"
   ]
  },
  {
   "cell_type": "code",
   "execution_count": 28,
   "metadata": {},
   "outputs": [],
   "source": [
    "from hyperopt import STATUS_OK, Trials, fmin, hp, tpe"
   ]
  },
  {
   "cell_type": "code",
   "execution_count": 29,
   "metadata": {},
   "outputs": [],
   "source": [
    "def score(params):\n",
    "    from sklearn.metrics import log_loss\n",
    "\n",
    "    print(\"Training with params:\")\n",
    "    print(params)\n",
    "    params[\"max_depth\"] = int(params[\"max_depth\"])\n",
    "    dtrain = xgb.DMatrix(X_train, label=y_train)\n",
    "    dvalid = xgb.DMatrix(X_test, label=y_test)\n",
    "    model = xgb.train(params, dtrain, params[\"num_round\"])\n",
    "    predictions = model.predict(dvalid).reshape((X_test.shape[0], 7))\n",
    "    score = log_loss(y_test, predictions)\n",
    "    print(\"\\tScore {0}\\n\\n\".format(score))\n",
    "    return {\"loss\": score, \"status\": STATUS_OK}"
   ]
  },
  {
   "cell_type": "code",
   "execution_count": 30,
   "metadata": {},
   "outputs": [],
   "source": [
    "def optimize(trials):\n",
    "    space = {\n",
    "        \"num_round\": 100,\n",
    "        \"learning_rate\": hp.quniform(\"eta\", 0.005, 0.05, 0.005),\n",
    "        \"max_depth\": hp.quniform(\"max_depth\", 3, 14, 1),\n",
    "        \"min_child_weight\": hp.quniform(\"min_child_weight\", 1, 10, 1),\n",
    "        \"subsample\": hp.quniform(\"subsample\", 0.5, 1, 0.05),\n",
    "        \"gamma\": hp.quniform(\"gamma\", 0.5, 1, 0.01),\n",
    "        \"colsample_bytree\": hp.quniform(\"colsample_bytree\", 0.4, 1, 0.05),\n",
    "        \"num_class\": 7,\n",
    "        \"eval_metric\": \"merror\",\n",
    "        \"objective\": \"multi:softprob\",\n",
    "        \"nthread\": 4,\n",
    "        \"silent\": 1,\n",
    "    }\n",
    "\n",
    "    best = fmin(score, space, algo=tpe.suggest, trials=trials, max_evals=10, rstate=np.random.default_rng(50))\n",
    "    return best"
   ]
  },
  {
   "cell_type": "code",
   "execution_count": null,
   "metadata": {},
   "outputs": [],
   "source": []
  },
  {
   "cell_type": "code",
   "execution_count": 58,
   "metadata": {},
   "outputs": [],
   "source": [
    "xgb.train?"
   ]
  },
  {
   "cell_type": "code",
   "execution_count": 59,
   "metadata": {},
   "outputs": [],
   "source": [
    "fmin?"
   ]
  },
  {
   "cell_type": "code",
   "execution_count": 31,
   "metadata": {},
   "outputs": [],
   "source": [
    "X_train, X_test, y_train, y_test = train_test_split(\n",
    "    train_df, y, test_size=0.3, random_state=17\n",
    ")"
   ]
  },
  {
   "cell_type": "code",
   "execution_count": 32,
   "metadata": {
    "scrolled": true
   },
   "outputs": [
    {
     "name": "stdout",
     "output_type": "stream",
     "text": [
      "Training with params:                                                           \n",
      "{'colsample_bytree': 0.6000000000000001, 'eval_metric': 'merror', 'gamma': 0.76, 'learning_rate': 0.045, 'max_depth': 7.0, 'min_child_weight': 7.0, 'nthread': 4, 'num_class': 7, 'num_round': 100, 'objective': 'multi:softprob', 'silent': 1, 'subsample': 0.75}\n",
      "[21:28:43] WARNING: ../src/learner.cc:576:                                      \n",
      "Parameters: { \"num_round\", \"silent\" } might not be used.\n",
      "\n",
      "  This could be a false alarm, with some parameters getting used by language bindings but\n",
      "  then being mistakenly passed down to XGBoost core, or some parameter actually being used\n",
      "  but getting flagged wrongly here. Please open an issue if you find any such cases.\n",
      "\n",
      "\n",
      "  0%|                                    | 0/10 [00:00<?, ?trial/s, best loss=?]"
     ]
    },
    {
     "name": "stderr",
     "output_type": "stream",
     "text": [
      "/opt/homebrew/Caskroom/miniforge/base/envs/my_env/lib/python3.9/site-packages/xgboost/data.py:250: FutureWarning: pandas.Int64Index is deprecated and will be removed from pandas in a future version. Use pandas.Index with the appropriate dtype instead.\n",
      "  elif isinstance(data.columns, (pd.Int64Index, pd.RangeIndex)):\n",
      "\n"
     ]
    },
    {
     "name": "stdout",
     "output_type": "stream",
     "text": [
      "\tScore 0.49445284969654635                                                      \n",
      "\n",
      "\n",
      "Training with params:                                                           \n",
      "{'colsample_bytree': 0.55, 'eval_metric': 'merror', 'gamma': 0.92, 'learning_rate': 0.03, 'max_depth': 7.0, 'min_child_weight': 3.0, 'nthread': 4, 'num_class': 7, 'num_round': 100, 'objective': 'multi:softprob', 'silent': 1, 'subsample': 0.8500000000000001}\n",
      "[21:28:47] WARNING: ../src/learner.cc:576:                                      \n",
      "Parameters: { \"num_round\", \"silent\" } might not be used.\n",
      "\n",
      "  This could be a false alarm, with some parameters getting used by language bindings but\n",
      "  then being mistakenly passed down to XGBoost core, or some parameter actually being used\n",
      "  but getting flagged wrongly here. Please open an issue if you find any such cases.\n",
      "\n",
      "\n",
      " 10%|▉        | 1/10 [00:04<00:37,  4.19s/trial, best loss: 0.49445284969654635]"
     ]
    },
    {
     "name": "stderr",
     "output_type": "stream",
     "text": [
      "/opt/homebrew/Caskroom/miniforge/base/envs/my_env/lib/python3.9/site-packages/xgboost/data.py:250: FutureWarning: pandas.Int64Index is deprecated and will be removed from pandas in a future version. Use pandas.Index with the appropriate dtype instead.\n",
      "  elif isinstance(data.columns, (pd.Int64Index, pd.RangeIndex)):\n",
      "\n"
     ]
    },
    {
     "name": "stdout",
     "output_type": "stream",
     "text": [
      "\tScore 0.5703978712425766                                                       \n",
      "\n",
      "\n",
      "Training with params:                                                           \n",
      "{'colsample_bytree': 0.45, 'eval_metric': 'merror', 'gamma': 0.63, 'learning_rate': 0.015, 'max_depth': 9.0, 'min_child_weight': 4.0, 'nthread': 4, 'num_class': 7, 'num_round': 100, 'objective': 'multi:softprob', 'silent': 1, 'subsample': 0.9}\n",
      "[21:28:51] WARNING: ../src/learner.cc:576:                                      \n",
      "Parameters: { \"num_round\", \"silent\" } might not be used.\n",
      "\n",
      "  This could be a false alarm, with some parameters getting used by language bindings but\n",
      "  then being mistakenly passed down to XGBoost core, or some parameter actually being used\n",
      "  but getting flagged wrongly here. Please open an issue if you find any such cases.\n",
      "\n",
      "\n",
      " 20%|█▊       | 2/10 [00:08<00:34,  4.28s/trial, best loss: 0.49445284969654635]"
     ]
    },
    {
     "name": "stderr",
     "output_type": "stream",
     "text": [
      "/opt/homebrew/Caskroom/miniforge/base/envs/my_env/lib/python3.9/site-packages/xgboost/data.py:250: FutureWarning: pandas.Int64Index is deprecated and will be removed from pandas in a future version. Use pandas.Index with the appropriate dtype instead.\n",
      "  elif isinstance(data.columns, (pd.Int64Index, pd.RangeIndex)):\n",
      "\n"
     ]
    },
    {
     "name": "stdout",
     "output_type": "stream",
     "text": [
      "\tScore 0.8016159019680986                                                       \n",
      "\n",
      "\n",
      "Training with params:                                                           \n",
      "{'colsample_bytree': 0.8500000000000001, 'eval_metric': 'merror', 'gamma': 0.6900000000000001, 'learning_rate': 0.015, 'max_depth': 11.0, 'min_child_weight': 2.0, 'nthread': 4, 'num_class': 7, 'num_round': 100, 'objective': 'multi:softprob', 'silent': 1, 'subsample': 0.6000000000000001}\n",
      "[21:28:56] WARNING: ../src/learner.cc:576:                                      \n",
      "Parameters: { \"num_round\", \"silent\" } might not be used.\n",
      "\n",
      "  This could be a false alarm, with some parameters getting used by language bindings but\n",
      "  then being mistakenly passed down to XGBoost core, or some parameter actually being used\n",
      "  but getting flagged wrongly here. Please open an issue if you find any such cases.\n",
      "\n",
      "\n",
      " 30%|██▋      | 3/10 [00:13<00:32,  4.60s/trial, best loss: 0.49445284969654635]"
     ]
    },
    {
     "name": "stderr",
     "output_type": "stream",
     "text": [
      "/opt/homebrew/Caskroom/miniforge/base/envs/my_env/lib/python3.9/site-packages/xgboost/data.py:250: FutureWarning: pandas.Int64Index is deprecated and will be removed from pandas in a future version. Use pandas.Index with the appropriate dtype instead.\n",
      "  elif isinstance(data.columns, (pd.Int64Index, pd.RangeIndex)):\n",
      "\n"
     ]
    },
    {
     "name": "stdout",
     "output_type": "stream",
     "text": [
      "\tScore 0.7485820408154943                                                       \n",
      "\n",
      "\n",
      "Training with params:                                                           \n",
      "{'colsample_bytree': 0.6000000000000001, 'eval_metric': 'merror', 'gamma': 0.56, 'learning_rate': 0.035, 'max_depth': 14.0, 'min_child_weight': 5.0, 'nthread': 4, 'num_class': 7, 'num_round': 100, 'objective': 'multi:softprob', 'silent': 1, 'subsample': 1.0}\n",
      "[21:29:04] WARNING: ../src/learner.cc:576:                                      \n",
      "Parameters: { \"num_round\", \"silent\" } might not be used.\n",
      "\n",
      "  This could be a false alarm, with some parameters getting used by language bindings but\n",
      "  then being mistakenly passed down to XGBoost core, or some parameter actually being used\n",
      "  but getting flagged wrongly here. Please open an issue if you find any such cases.\n",
      "\n",
      "\n",
      " 40%|███▌     | 4/10 [00:21<00:35,  5.90s/trial, best loss: 0.49445284969654635]"
     ]
    },
    {
     "name": "stderr",
     "output_type": "stream",
     "text": [
      "/opt/homebrew/Caskroom/miniforge/base/envs/my_env/lib/python3.9/site-packages/xgboost/data.py:250: FutureWarning: pandas.Int64Index is deprecated and will be removed from pandas in a future version. Use pandas.Index with the appropriate dtype instead.\n",
      "  elif isinstance(data.columns, (pd.Int64Index, pd.RangeIndex)):\n",
      "\n"
     ]
    },
    {
     "name": "stdout",
     "output_type": "stream",
     "text": [
      "\tScore 0.4297896036730399                                                       \n",
      "\n",
      "\n",
      "Training with params:                                                           \n",
      "{'colsample_bytree': 0.6000000000000001, 'eval_metric': 'merror', 'gamma': 0.64, 'learning_rate': 0.03, 'max_depth': 7.0, 'min_child_weight': 5.0, 'nthread': 4, 'num_class': 7, 'num_round': 100, 'objective': 'multi:softprob', 'silent': 1, 'subsample': 0.65}\n",
      "[21:29:12] WARNING: ../src/learner.cc:576:                                      \n",
      "Parameters: { \"num_round\", \"silent\" } might not be used.\n",
      "\n",
      "  This could be a false alarm, with some parameters getting used by language bindings but\n",
      "  then being mistakenly passed down to XGBoost core, or some parameter actually being used\n",
      "  but getting flagged wrongly here. Please open an issue if you find any such cases.\n",
      "\n",
      "\n",
      " 50%|█████     | 5/10 [00:28<00:32,  6.41s/trial, best loss: 0.4297896036730399]"
     ]
    },
    {
     "name": "stderr",
     "output_type": "stream",
     "text": [
      "/opt/homebrew/Caskroom/miniforge/base/envs/my_env/lib/python3.9/site-packages/xgboost/data.py:250: FutureWarning: pandas.Int64Index is deprecated and will be removed from pandas in a future version. Use pandas.Index with the appropriate dtype instead.\n",
      "  elif isinstance(data.columns, (pd.Int64Index, pd.RangeIndex)):\n",
      "\n"
     ]
    },
    {
     "name": "stdout",
     "output_type": "stream",
     "text": [
      "\tScore 0.5862053308284446                                                       \n",
      "\n",
      "\n",
      "Training with params:                                                           \n",
      "{'colsample_bytree': 0.65, 'eval_metric': 'merror', 'gamma': 0.99, 'learning_rate': 0.01, 'max_depth': 10.0, 'min_child_weight': 8.0, 'nthread': 4, 'num_class': 7, 'num_round': 100, 'objective': 'multi:softprob', 'silent': 1, 'subsample': 0.65}\n",
      "[21:29:16] WARNING: ../src/learner.cc:576:                                      \n",
      "Parameters: { \"num_round\", \"silent\" } might not be used.\n",
      "\n",
      "  This could be a false alarm, with some parameters getting used by language bindings but\n",
      "  then being mistakenly passed down to XGBoost core, or some parameter actually being used\n",
      "  but getting flagged wrongly here. Please open an issue if you find any such cases.\n",
      "\n",
      "\n",
      " 60%|██████    | 6/10 [00:33<00:22,  5.71s/trial, best loss: 0.4297896036730399]"
     ]
    },
    {
     "name": "stderr",
     "output_type": "stream",
     "text": [
      "/opt/homebrew/Caskroom/miniforge/base/envs/my_env/lib/python3.9/site-packages/xgboost/data.py:250: FutureWarning: pandas.Int64Index is deprecated and will be removed from pandas in a future version. Use pandas.Index with the appropriate dtype instead.\n",
      "  elif isinstance(data.columns, (pd.Int64Index, pd.RangeIndex)):\n",
      "\n"
     ]
    },
    {
     "name": "stdout",
     "output_type": "stream",
     "text": [
      "\tScore 1.000445758762919                                                        \n",
      "\n",
      "\n",
      "Training with params:                                                           \n",
      "{'colsample_bytree': 0.8, 'eval_metric': 'merror', 'gamma': 0.8, 'learning_rate': 0.035, 'max_depth': 12.0, 'min_child_weight': 9.0, 'nthread': 4, 'num_class': 7, 'num_round': 100, 'objective': 'multi:softprob', 'silent': 1, 'subsample': 0.9500000000000001}\n",
      "[21:29:22] WARNING: ../src/learner.cc:576:                                      \n",
      "Parameters: { \"num_round\", \"silent\" } might not be used.\n",
      "\n",
      "  This could be a false alarm, with some parameters getting used by language bindings but\n",
      "  then being mistakenly passed down to XGBoost core, or some parameter actually being used\n",
      "  but getting flagged wrongly here. Please open an issue if you find any such cases.\n",
      "\n",
      "\n",
      " 70%|███████   | 7/10 [00:38<00:17,  5.71s/trial, best loss: 0.4297896036730399]"
     ]
    },
    {
     "name": "stderr",
     "output_type": "stream",
     "text": [
      "/opt/homebrew/Caskroom/miniforge/base/envs/my_env/lib/python3.9/site-packages/xgboost/data.py:250: FutureWarning: pandas.Int64Index is deprecated and will be removed from pandas in a future version. Use pandas.Index with the appropriate dtype instead.\n",
      "  elif isinstance(data.columns, (pd.Int64Index, pd.RangeIndex)):\n",
      "\n"
     ]
    },
    {
     "name": "stdout",
     "output_type": "stream",
     "text": [
      "\tScore 0.4681107398406709                                                       \n",
      "\n",
      "\n",
      "Training with params:                                                           \n",
      "{'colsample_bytree': 0.65, 'eval_metric': 'merror', 'gamma': 0.8300000000000001, 'learning_rate': 0.01, 'max_depth': 11.0, 'min_child_weight': 5.0, 'nthread': 4, 'num_class': 7, 'num_round': 100, 'objective': 'multi:softprob', 'silent': 1, 'subsample': 0.55}\n",
      "[21:29:30] WARNING: ../src/learner.cc:576:                                      \n",
      "Parameters: { \"num_round\", \"silent\" } might not be used.\n",
      "\n",
      "  This could be a false alarm, with some parameters getting used by language bindings but\n",
      "  then being mistakenly passed down to XGBoost core, or some parameter actually being used\n",
      "  but getting flagged wrongly here. Please open an issue if you find any such cases.\n",
      "\n",
      "\n",
      " 80%|████████  | 8/10 [00:47<00:13,  6.54s/trial, best loss: 0.4297896036730399]"
     ]
    },
    {
     "name": "stderr",
     "output_type": "stream",
     "text": [
      "/opt/homebrew/Caskroom/miniforge/base/envs/my_env/lib/python3.9/site-packages/xgboost/data.py:250: FutureWarning: pandas.Int64Index is deprecated and will be removed from pandas in a future version. Use pandas.Index with the appropriate dtype instead.\n",
      "  elif isinstance(data.columns, (pd.Int64Index, pd.RangeIndex)):\n",
      "\n"
     ]
    },
    {
     "name": "stdout",
     "output_type": "stream",
     "text": [
      "\tScore 0.986176770817771                                                        \n",
      "\n",
      "\n",
      "Training with params:                                                           \n",
      "{'colsample_bytree': 0.75, 'eval_metric': 'merror', 'gamma': 0.7000000000000001, 'learning_rate': 0.005, 'max_depth': 5.0, 'min_child_weight': 9.0, 'nthread': 4, 'num_class': 7, 'num_round': 100, 'objective': 'multi:softprob', 'silent': 1, 'subsample': 0.65}\n",
      "[21:29:37] WARNING: ../src/learner.cc:576:                                      \n",
      "Parameters: { \"num_round\", \"silent\" } might not be used.\n",
      "\n",
      "  This could be a false alarm, with some parameters getting used by language bindings but\n",
      "  then being mistakenly passed down to XGBoost core, or some parameter actually being used\n",
      "  but getting flagged wrongly here. Please open an issue if you find any such cases.\n",
      "\n",
      "\n",
      " 90%|█████████ | 9/10 [00:53<00:06,  6.53s/trial, best loss: 0.4297896036730399]"
     ]
    },
    {
     "name": "stderr",
     "output_type": "stream",
     "text": [
      "/opt/homebrew/Caskroom/miniforge/base/envs/my_env/lib/python3.9/site-packages/xgboost/data.py:250: FutureWarning: pandas.Int64Index is deprecated and will be removed from pandas in a future version. Use pandas.Index with the appropriate dtype instead.\n",
      "  elif isinstance(data.columns, (pd.Int64Index, pd.RangeIndex)):\n",
      "\n"
     ]
    },
    {
     "name": "stdout",
     "output_type": "stream",
     "text": [
      "\tScore 1.3779288610768696                                                       \n",
      "\n",
      "\n",
      "100%|█████████| 10/10 [00:58<00:00,  5.82s/trial, best loss: 0.4297896036730399]\n"
     ]
    },
    {
     "data": {
      "text/plain": [
       "{'colsample_bytree': 0.6000000000000001,\n",
       " 'eta': 0.035,\n",
       " 'gamma': 0.56,\n",
       " 'max_depth': 14.0,\n",
       " 'min_child_weight': 5.0,\n",
       " 'subsample': 1.0}"
      ]
     },
     "execution_count": 32,
     "metadata": {},
     "output_type": "execute_result"
    }
   ],
   "source": [
    "trials = Trials()\n",
    "best_params = optimize(trials)\n",
    "best_params"
   ]
  },
  {
   "cell_type": "code",
   "execution_count": 17,
   "metadata": {},
   "outputs": [
    {
     "data": {
      "text/plain": [
       "[{'state': 2,\n",
       "  'tid': 0,\n",
       "  'spec': None,\n",
       "  'result': {'loss': 0.5249120855565976, 'status': 'ok'},\n",
       "  'misc': {'tid': 0,\n",
       "   'cmd': ('domain_attachment', 'FMinIter_Domain'),\n",
       "   'workdir': None,\n",
       "   'idxs': {'colsample_bytree': [0],\n",
       "    'eta': [0],\n",
       "    'gamma': [0],\n",
       "    'max_depth': [0],\n",
       "    'min_child_weight': [0],\n",
       "    'subsample': [0]},\n",
       "   'vals': {'colsample_bytree': [0.6000000000000001],\n",
       "    'eta': [0.045],\n",
       "    'gamma': [0.76],\n",
       "    'max_depth': [7.0],\n",
       "    'min_child_weight': [7.0],\n",
       "    'subsample': [0.75]}},\n",
       "  'exp_key': None,\n",
       "  'owner': None,\n",
       "  'version': 0,\n",
       "  'book_time': datetime.datetime(2022, 6, 16, 16, 9, 20, 978000),\n",
       "  'refresh_time': datetime.datetime(2022, 6, 16, 16, 9, 24, 487000)},\n",
       " {'state': 2,\n",
       "  'tid': 1,\n",
       "  'spec': None,\n",
       "  'result': {'loss': 0.602085160748537, 'status': 'ok'},\n",
       "  'misc': {'tid': 1,\n",
       "   'cmd': ('domain_attachment', 'FMinIter_Domain'),\n",
       "   'workdir': None,\n",
       "   'idxs': {'colsample_bytree': [1],\n",
       "    'eta': [1],\n",
       "    'gamma': [1],\n",
       "    'max_depth': [1],\n",
       "    'min_child_weight': [1],\n",
       "    'subsample': [1]},\n",
       "   'vals': {'colsample_bytree': [0.55],\n",
       "    'eta': [0.03],\n",
       "    'gamma': [0.92],\n",
       "    'max_depth': [7.0],\n",
       "    'min_child_weight': [3.0],\n",
       "    'subsample': [0.8500000000000001]}},\n",
       "  'exp_key': None,\n",
       "  'owner': None,\n",
       "  'version': 0,\n",
       "  'book_time': datetime.datetime(2022, 6, 16, 16, 9, 24, 488000),\n",
       "  'refresh_time': datetime.datetime(2022, 6, 16, 16, 9, 27, 929000)},\n",
       " {'state': 2,\n",
       "  'tid': 2,\n",
       "  'spec': None,\n",
       "  'result': {'loss': 0.8447988632626214, 'status': 'ok'},\n",
       "  'misc': {'tid': 2,\n",
       "   'cmd': ('domain_attachment', 'FMinIter_Domain'),\n",
       "   'workdir': None,\n",
       "   'idxs': {'colsample_bytree': [2],\n",
       "    'eta': [2],\n",
       "    'gamma': [2],\n",
       "    'max_depth': [2],\n",
       "    'min_child_weight': [2],\n",
       "    'subsample': [2]},\n",
       "   'vals': {'colsample_bytree': [0.45],\n",
       "    'eta': [0.015],\n",
       "    'gamma': [0.63],\n",
       "    'max_depth': [9.0],\n",
       "    'min_child_weight': [4.0],\n",
       "    'subsample': [0.9]}},\n",
       "  'exp_key': None,\n",
       "  'owner': None,\n",
       "  'version': 0,\n",
       "  'book_time': datetime.datetime(2022, 6, 16, 16, 9, 27, 930000),\n",
       "  'refresh_time': datetime.datetime(2022, 6, 16, 16, 9, 31, 807000)},\n",
       " {'state': 2,\n",
       "  'tid': 3,\n",
       "  'spec': None,\n",
       "  'result': {'loss': 0.7697590568630153, 'status': 'ok'},\n",
       "  'misc': {'tid': 3,\n",
       "   'cmd': ('domain_attachment', 'FMinIter_Domain'),\n",
       "   'workdir': None,\n",
       "   'idxs': {'colsample_bytree': [3],\n",
       "    'eta': [3],\n",
       "    'gamma': [3],\n",
       "    'max_depth': [3],\n",
       "    'min_child_weight': [3],\n",
       "    'subsample': [3]},\n",
       "   'vals': {'colsample_bytree': [0.8500000000000001],\n",
       "    'eta': [0.015],\n",
       "    'gamma': [0.6900000000000001],\n",
       "    'max_depth': [11.0],\n",
       "    'min_child_weight': [2.0],\n",
       "    'subsample': [0.6000000000000001]}},\n",
       "  'exp_key': None,\n",
       "  'owner': None,\n",
       "  'version': 0,\n",
       "  'book_time': datetime.datetime(2022, 6, 16, 16, 9, 31, 808000),\n",
       "  'refresh_time': datetime.datetime(2022, 6, 16, 16, 9, 38, 416000)},\n",
       " {'state': 2,\n",
       "  'tid': 4,\n",
       "  'spec': None,\n",
       "  'result': {'loss': 0.4658616929540059, 'status': 'ok'},\n",
       "  'misc': {'tid': 4,\n",
       "   'cmd': ('domain_attachment', 'FMinIter_Domain'),\n",
       "   'workdir': None,\n",
       "   'idxs': {'colsample_bytree': [4],\n",
       "    'eta': [4],\n",
       "    'gamma': [4],\n",
       "    'max_depth': [4],\n",
       "    'min_child_weight': [4],\n",
       "    'subsample': [4]},\n",
       "   'vals': {'colsample_bytree': [0.6000000000000001],\n",
       "    'eta': [0.035],\n",
       "    'gamma': [0.56],\n",
       "    'max_depth': [14.0],\n",
       "    'min_child_weight': [5.0],\n",
       "    'subsample': [1.0]}},\n",
       "  'exp_key': None,\n",
       "  'owner': None,\n",
       "  'version': 0,\n",
       "  'book_time': datetime.datetime(2022, 6, 16, 16, 9, 38, 418000),\n",
       "  'refresh_time': datetime.datetime(2022, 6, 16, 16, 9, 44, 508000)},\n",
       " {'state': 2,\n",
       "  'tid': 5,\n",
       "  'spec': None,\n",
       "  'result': {'loss': 0.6143246467785362, 'status': 'ok'},\n",
       "  'misc': {'tid': 5,\n",
       "   'cmd': ('domain_attachment', 'FMinIter_Domain'),\n",
       "   'workdir': None,\n",
       "   'idxs': {'colsample_bytree': [5],\n",
       "    'eta': [5],\n",
       "    'gamma': [5],\n",
       "    'max_depth': [5],\n",
       "    'min_child_weight': [5],\n",
       "    'subsample': [5]},\n",
       "   'vals': {'colsample_bytree': [0.6000000000000001],\n",
       "    'eta': [0.03],\n",
       "    'gamma': [0.64],\n",
       "    'max_depth': [7.0],\n",
       "    'min_child_weight': [5.0],\n",
       "    'subsample': [0.65]}},\n",
       "  'exp_key': None,\n",
       "  'owner': None,\n",
       "  'version': 0,\n",
       "  'book_time': datetime.datetime(2022, 6, 16, 16, 9, 44, 510000),\n",
       "  'refresh_time': datetime.datetime(2022, 6, 16, 16, 9, 48, 48000)},\n",
       " {'state': 2,\n",
       "  'tid': 6,\n",
       "  'spec': None,\n",
       "  'result': {'loss': 1.0187447725465058, 'status': 'ok'},\n",
       "  'misc': {'tid': 6,\n",
       "   'cmd': ('domain_attachment', 'FMinIter_Domain'),\n",
       "   'workdir': None,\n",
       "   'idxs': {'colsample_bytree': [6],\n",
       "    'eta': [6],\n",
       "    'gamma': [6],\n",
       "    'max_depth': [6],\n",
       "    'min_child_weight': [6],\n",
       "    'subsample': [6]},\n",
       "   'vals': {'colsample_bytree': [0.65],\n",
       "    'eta': [0.01],\n",
       "    'gamma': [0.99],\n",
       "    'max_depth': [10.0],\n",
       "    'min_child_weight': [8.0],\n",
       "    'subsample': [0.65]}},\n",
       "  'exp_key': None,\n",
       "  'owner': None,\n",
       "  'version': 0,\n",
       "  'book_time': datetime.datetime(2022, 6, 16, 16, 9, 48, 50000),\n",
       "  'refresh_time': datetime.datetime(2022, 6, 16, 16, 9, 52, 710000)},\n",
       " {'state': 2,\n",
       "  'tid': 7,\n",
       "  'spec': None,\n",
       "  'result': {'loss': 0.49761154481112907, 'status': 'ok'},\n",
       "  'misc': {'tid': 7,\n",
       "   'cmd': ('domain_attachment', 'FMinIter_Domain'),\n",
       "   'workdir': None,\n",
       "   'idxs': {'colsample_bytree': [7],\n",
       "    'eta': [7],\n",
       "    'gamma': [7],\n",
       "    'max_depth': [7],\n",
       "    'min_child_weight': [7],\n",
       "    'subsample': [7]},\n",
       "   'vals': {'colsample_bytree': [0.8],\n",
       "    'eta': [0.035],\n",
       "    'gamma': [0.8],\n",
       "    'max_depth': [12.0],\n",
       "    'min_child_weight': [9.0],\n",
       "    'subsample': [0.9500000000000001]}},\n",
       "  'exp_key': None,\n",
       "  'owner': None,\n",
       "  'version': 0,\n",
       "  'book_time': datetime.datetime(2022, 6, 16, 16, 9, 52, 712000),\n",
       "  'refresh_time': datetime.datetime(2022, 6, 16, 16, 9, 59, 60000)},\n",
       " {'state': 2,\n",
       "  'tid': 8,\n",
       "  'spec': None,\n",
       "  'result': {'loss': 1.0056194296169112, 'status': 'ok'},\n",
       "  'misc': {'tid': 8,\n",
       "   'cmd': ('domain_attachment', 'FMinIter_Domain'),\n",
       "   'workdir': None,\n",
       "   'idxs': {'colsample_bytree': [8],\n",
       "    'eta': [8],\n",
       "    'gamma': [8],\n",
       "    'max_depth': [8],\n",
       "    'min_child_weight': [8],\n",
       "    'subsample': [8]},\n",
       "   'vals': {'colsample_bytree': [0.65],\n",
       "    'eta': [0.01],\n",
       "    'gamma': [0.8300000000000001],\n",
       "    'max_depth': [11.0],\n",
       "    'min_child_weight': [5.0],\n",
       "    'subsample': [0.55]}},\n",
       "  'exp_key': None,\n",
       "  'owner': None,\n",
       "  'version': 0,\n",
       "  'book_time': datetime.datetime(2022, 6, 16, 16, 9, 59, 61000),\n",
       "  'refresh_time': datetime.datetime(2022, 6, 16, 16, 10, 4, 160000)},\n",
       " {'state': 2,\n",
       "  'tid': 9,\n",
       "  'spec': None,\n",
       "  'result': {'loss': 1.3863407455029941, 'status': 'ok'},\n",
       "  'misc': {'tid': 9,\n",
       "   'cmd': ('domain_attachment', 'FMinIter_Domain'),\n",
       "   'workdir': None,\n",
       "   'idxs': {'colsample_bytree': [9],\n",
       "    'eta': [9],\n",
       "    'gamma': [9],\n",
       "    'max_depth': [9],\n",
       "    'min_child_weight': [9],\n",
       "    'subsample': [9]},\n",
       "   'vals': {'colsample_bytree': [0.75],\n",
       "    'eta': [0.005],\n",
       "    'gamma': [0.7000000000000001],\n",
       "    'max_depth': [5.0],\n",
       "    'min_child_weight': [9.0],\n",
       "    'subsample': [0.65]}},\n",
       "  'exp_key': None,\n",
       "  'owner': None,\n",
       "  'version': 0,\n",
       "  'book_time': datetime.datetime(2022, 6, 16, 16, 10, 4, 162000),\n",
       "  'refresh_time': datetime.datetime(2022, 6, 16, 16, 10, 7, 512000)}]"
      ]
     },
     "execution_count": 17,
     "metadata": {},
     "output_type": "execute_result"
    }
   ],
   "source": [
    "trials.trials"
   ]
  },
  {
   "cell_type": "code",
   "execution_count": 18,
   "metadata": {
    "scrolled": false
   },
   "outputs": [
    {
     "data": {
      "text/plain": [
       "{'state': 2,\n",
       " 'tid': 4,\n",
       " 'spec': None,\n",
       " 'result': {'loss': 0.4658616929540059, 'status': 'ok'},\n",
       " 'misc': {'tid': 4,\n",
       "  'cmd': ('domain_attachment', 'FMinIter_Domain'),\n",
       "  'workdir': None,\n",
       "  'idxs': {'colsample_bytree': [4],\n",
       "   'eta': [4],\n",
       "   'gamma': [4],\n",
       "   'max_depth': [4],\n",
       "   'min_child_weight': [4],\n",
       "   'subsample': [4]},\n",
       "  'vals': {'colsample_bytree': [0.6000000000000001],\n",
       "   'eta': [0.035],\n",
       "   'gamma': [0.56],\n",
       "   'max_depth': [14.0],\n",
       "   'min_child_weight': [5.0],\n",
       "   'subsample': [1.0]}},\n",
       " 'exp_key': None,\n",
       " 'owner': None,\n",
       " 'version': 0,\n",
       " 'book_time': datetime.datetime(2022, 6, 16, 16, 9, 38, 418000),\n",
       " 'refresh_time': datetime.datetime(2022, 6, 16, 16, 9, 44, 508000)}"
      ]
     },
     "execution_count": 18,
     "metadata": {},
     "output_type": "execute_result"
    }
   ],
   "source": [
    "trials.best_trial"
   ]
  },
  {
   "cell_type": "code",
   "execution_count": 16,
   "metadata": {},
   "outputs": [
    {
     "data": {
      "text/plain": [
       "0.4297896036730399"
      ]
     },
     "execution_count": 16,
     "metadata": {},
     "output_type": "execute_result"
    }
   ],
   "source": [
    "trials.best_trial['result']['loss']"
   ]
  },
  {
   "cell_type": "code",
   "execution_count": 17,
   "metadata": {},
   "outputs": [
    {
     "data": {
      "text/plain": [
       "{'colsample_bytree': [4],\n",
       " 'eta': [4],\n",
       " 'gamma': [4],\n",
       " 'max_depth': [4],\n",
       " 'min_child_weight': [4],\n",
       " 'subsample': [4]}"
      ]
     },
     "execution_count": 17,
     "metadata": {},
     "output_type": "execute_result"
    }
   ],
   "source": [
    "trials.best_trial['misc']['idxs']"
   ]
  },
  {
   "cell_type": "code",
   "execution_count": 18,
   "metadata": {},
   "outputs": [
    {
     "data": {
      "text/plain": [
       "{'loss': 0.49445284969654635, 'status': 'ok'}"
      ]
     },
     "execution_count": 18,
     "metadata": {},
     "output_type": "execute_result"
    }
   ],
   "source": [
    "trials.results[0]"
   ]
  },
  {
   "cell_type": "code",
   "execution_count": 33,
   "metadata": {},
   "outputs": [],
   "source": [
    "best_params[\"max_depth\"] = int(best_params[\"max_depth\"])\n",
    "best_params[\"num_class\"] = 7\n",
    "best_params[\"eval_metric\"] = \"merror\"\n",
    "best_params[\"objective\"] = \"multi:softprob\"\n",
    "best_params[\"nthread\"] = 4\n",
    "best_params[\"silent\"] = 1"
   ]
  },
  {
   "cell_type": "code",
   "execution_count": 34,
   "metadata": {},
   "outputs": [
    {
     "name": "stderr",
     "output_type": "stream",
     "text": [
      "/opt/homebrew/Caskroom/miniforge/base/envs/my_env/lib/python3.9/site-packages/xgboost/data.py:250: FutureWarning: pandas.Int64Index is deprecated and will be removed from pandas in a future version. Use pandas.Index with the appropriate dtype instead.\n",
      "  elif isinstance(data.columns, (pd.Int64Index, pd.RangeIndex)):\n"
     ]
    }
   ],
   "source": [
    "dtrain = xgb.DMatrix(train_df, y)"
   ]
  },
  {
   "cell_type": "code",
   "execution_count": 36,
   "metadata": {
    "scrolled": true
   },
   "outputs": [
    {
     "name": "stdout",
     "output_type": "stream",
     "text": [
      "[21:35:31] WARNING: ../src/learner.cc:576: \n",
      "Parameters: { \"silent\" } might not be used.\n",
      "\n",
      "  This could be a false alarm, with some parameters getting used by language bindings but\n",
      "  then being mistakenly passed down to XGBoost core, or some parameter actually being used\n",
      "  but getting flagged wrongly here. Please open an issue if you find any such cases.\n",
      "\n",
      "\n",
      "[21:35:31] WARNING: ../src/learner.cc:576: \n",
      "Parameters: { \"silent\" } might not be used.\n",
      "\n",
      "  This could be a false alarm, with some parameters getting used by language bindings but\n",
      "  then being mistakenly passed down to XGBoost core, or some parameter actually being used\n",
      "  but getting flagged wrongly here. Please open an issue if you find any such cases.\n",
      "\n",
      "\n",
      "[21:35:31] WARNING: ../src/learner.cc:576: \n",
      "Parameters: { \"silent\" } might not be used.\n",
      "\n",
      "  This could be a false alarm, with some parameters getting used by language bindings but\n",
      "  then being mistakenly passed down to XGBoost core, or some parameter actually being used\n",
      "  but getting flagged wrongly here. Please open an issue if you find any such cases.\n",
      "\n",
      "\n",
      "CPU times: user 5min 33s, sys: 2.78 s, total: 5min 36s\n",
      "Wall time: 1min 24s\n"
     ]
    }
   ],
   "source": [
    "%%time\n",
    "xgbCvResult = xgb.cv(\n",
    "    best_params, dtrain, num_boost_round=500, nfold=3, early_stopping_rounds=50\n",
    ")"
   ]
  },
  {
   "cell_type": "code",
   "execution_count": 74,
   "metadata": {
    "scrolled": true
   },
   "outputs": [
    {
     "data": {
      "text/html": [
       "<div>\n",
       "<style scoped>\n",
       "    .dataframe tbody tr th:only-of-type {\n",
       "        vertical-align: middle;\n",
       "    }\n",
       "\n",
       "    .dataframe tbody tr th {\n",
       "        vertical-align: top;\n",
       "    }\n",
       "\n",
       "    .dataframe thead th {\n",
       "        text-align: right;\n",
       "    }\n",
       "</style>\n",
       "<table border=\"1\" class=\"dataframe\">\n",
       "  <thead>\n",
       "    <tr style=\"text-align: right;\">\n",
       "      <th></th>\n",
       "      <th>train-merror-mean</th>\n",
       "      <th>train-merror-std</th>\n",
       "      <th>test-merror-mean</th>\n",
       "      <th>test-merror-std</th>\n",
       "    </tr>\n",
       "  </thead>\n",
       "  <tbody>\n",
       "    <tr>\n",
       "      <th>0</th>\n",
       "      <td>0.291964</td>\n",
       "      <td>0.006997</td>\n",
       "      <td>0.311574</td>\n",
       "      <td>0.009749</td>\n",
       "    </tr>\n",
       "    <tr>\n",
       "      <th>1</th>\n",
       "      <td>0.269279</td>\n",
       "      <td>0.004548</td>\n",
       "      <td>0.287302</td>\n",
       "      <td>0.008224</td>\n",
       "    </tr>\n",
       "    <tr>\n",
       "      <th>2</th>\n",
       "      <td>0.260284</td>\n",
       "      <td>0.001933</td>\n",
       "      <td>0.278836</td>\n",
       "      <td>0.008359</td>\n",
       "    </tr>\n",
       "    <tr>\n",
       "      <th>3</th>\n",
       "      <td>0.263757</td>\n",
       "      <td>0.000539</td>\n",
       "      <td>0.282011</td>\n",
       "      <td>0.007442</td>\n",
       "    </tr>\n",
       "    <tr>\n",
       "      <th>4</th>\n",
       "      <td>0.257970</td>\n",
       "      <td>0.002390</td>\n",
       "      <td>0.275992</td>\n",
       "      <td>0.010268</td>\n",
       "    </tr>\n",
       "    <tr>\n",
       "      <th>...</th>\n",
       "      <td>...</td>\n",
       "      <td>...</td>\n",
       "      <td>...</td>\n",
       "      <td>...</td>\n",
       "    </tr>\n",
       "    <tr>\n",
       "      <th>495</th>\n",
       "      <td>0.205787</td>\n",
       "      <td>0.002837</td>\n",
       "      <td>0.229630</td>\n",
       "      <td>0.007711</td>\n",
       "    </tr>\n",
       "    <tr>\n",
       "      <th>496</th>\n",
       "      <td>0.205919</td>\n",
       "      <td>0.002930</td>\n",
       "      <td>0.229497</td>\n",
       "      <td>0.007623</td>\n",
       "    </tr>\n",
       "    <tr>\n",
       "      <th>497</th>\n",
       "      <td>0.205787</td>\n",
       "      <td>0.002904</td>\n",
       "      <td>0.229431</td>\n",
       "      <td>0.007610</td>\n",
       "    </tr>\n",
       "    <tr>\n",
       "      <th>498</th>\n",
       "      <td>0.205721</td>\n",
       "      <td>0.002923</td>\n",
       "      <td>0.229233</td>\n",
       "      <td>0.007551</td>\n",
       "    </tr>\n",
       "    <tr>\n",
       "      <th>499</th>\n",
       "      <td>0.205688</td>\n",
       "      <td>0.003123</td>\n",
       "      <td>0.229299</td>\n",
       "      <td>0.007463</td>\n",
       "    </tr>\n",
       "  </tbody>\n",
       "</table>\n",
       "<p>500 rows × 4 columns</p>\n",
       "</div>"
      ],
      "text/plain": [
       "     train-merror-mean  train-merror-std  test-merror-mean  test-merror-std\n",
       "0             0.291964          0.006997          0.311574         0.009749\n",
       "1             0.269279          0.004548          0.287302         0.008224\n",
       "2             0.260284          0.001933          0.278836         0.008359\n",
       "3             0.263757          0.000539          0.282011         0.007442\n",
       "4             0.257970          0.002390          0.275992         0.010268\n",
       "..                 ...               ...               ...              ...\n",
       "495           0.205787          0.002837          0.229630         0.007711\n",
       "496           0.205919          0.002930          0.229497         0.007623\n",
       "497           0.205787          0.002904          0.229431         0.007610\n",
       "498           0.205721          0.002923          0.229233         0.007551\n",
       "499           0.205688          0.003123          0.229299         0.007463\n",
       "\n",
       "[500 rows x 4 columns]"
      ]
     },
     "execution_count": 74,
     "metadata": {},
     "output_type": "execute_result"
    }
   ],
   "source": [
    "xgbCvResult"
   ]
  },
  {
   "cell_type": "code",
   "execution_count": 75,
   "metadata": {},
   "outputs": [
    {
     "data": {
      "image/png": "[encoded data removed]",
      "text/plain": [
       "<Figure size 432x288 with 1 Axes>"
      ]
     },
     "metadata": {
      "needs_background": "light"
     },
     "output_type": "display_data"
    }
   ],
   "source": [
    "plt.plot(range(xgbCvResult.shape[0]), xgbCvResult[\"test-merror-mean\"])\n",
    "plt.plot(range(xgbCvResult.shape[0]), xgbCvResult[\"train-merror-mean\"]);"
   ]
  },
  {
   "cell_type": "code",
   "execution_count": 76,
   "metadata": {},
   "outputs": [
    {
     "data": {
      "text/plain": [
       "498"
      ]
     },
     "execution_count": 76,
     "metadata": {},
     "output_type": "execute_result"
    }
   ],
   "source": [
    "best_num_round = np.argmin(xgbCvResult[\"test-merror-mean\"])\n",
    "best_num_round"
   ]
  },
  {
   "cell_type": "code",
   "execution_count": 77,
   "metadata": {},
   "outputs": [],
   "source": [
    "xgb.train?"
   ]
  },
  {
   "cell_type": "markdown",
   "metadata": {},
   "source": [
    "**Сделаем прогноз для всей тестовой выборки.**"
   ]
  },
  {
   "cell_type": "code",
   "execution_count": 78,
   "metadata": {},
   "outputs": [
    {
     "name": "stdout",
     "output_type": "stream",
     "text": [
      "[22:43:03] WARNING: /Users/runner/work/xgboost/xgboost/python-package/build/temp.macosx-11.0-arm64-3.8/xgboost/src/learner.cc:627: \n",
      "Parameters: { \"silent\" } might not be used.\n",
      "\n",
      "  This could be a false alarm, with some parameters getting used by language bindings but\n",
      "  then being mistakenly passed down to XGBoost core, or some parameter actually being used\n",
      "  but getting flagged wrongly here. Please open an issue if you find any such cases.\n",
      "\n",
      "\n"
     ]
    }
   ],
   "source": [
    "bestXgb = xgb.train(best_params, dtrain, num_boost_round=best_num_round)"
   ]
  },
  {
   "cell_type": "code",
   "execution_count": 29,
   "metadata": {},
   "outputs": [],
   "source": [
    "dtest = xgb.DMatrix(test_df)"
   ]
  },
  {
   "cell_type": "code",
   "execution_count": 30,
   "metadata": {},
   "outputs": [],
   "source": [
    "xgboost_predict_proba = bestXgb.predict(dtest)"
   ]
  },
  {
   "cell_type": "code",
   "execution_count": 34,
   "metadata": {},
   "outputs": [
    {
     "data": {
      "text/plain": [
       "array([[1.06216796e-01, 3.45100880e-01, 5.45024779e-03, ...,\n",
       "        5.33308685e-01, 8.06001946e-03, 8.93665769e-04],\n",
       "       [1.43958971e-01, 3.85648251e-01, 5.37964329e-03, ...,\n",
       "        4.48571354e-01, 1.43786045e-02, 9.84669314e-04],\n",
       "       [6.43465519e-01, 2.24347398e-01, 7.78729504e-04, ...,\n",
       "        1.29002810e-01, 1.94086845e-03, 2.19877824e-04],\n",
       "       ...,\n",
       "       [2.22614588e-04, 1.92043919e-03, 9.04889703e-01, ...,\n",
       "        2.54762243e-04, 9.20723155e-02, 1.07666434e-04],\n",
       "       [2.13807085e-04, 1.60604855e-03, 9.09108341e-01, ...,\n",
       "        2.14373867e-04, 8.82892236e-02, 9.07786161e-05],\n",
       "       [2.44098163e-04, 1.86945254e-03, 8.48672450e-01, ...,\n",
       "        2.44511932e-04, 1.48320243e-01, 9.84316648e-05]], dtype=float32)"
      ]
     },
     "execution_count": 34,
     "metadata": {},
     "output_type": "execute_result"
    }
   ],
   "source": [
    "xgboost_predict_proba"
   ]
  },
  {
   "cell_type": "code",
   "execution_count": 31,
   "metadata": {},
   "outputs": [],
   "source": [
    "xgboost_prediction = np.argmax(xgboost_predict_proba, axis=1)"
   ]
  },
  {
   "cell_type": "code",
   "execution_count": 35,
   "metadata": {},
   "outputs": [
    {
     "data": {
      "text/plain": [
       "array([5, 5, 1, ..., 3, 3, 3])"
      ]
     },
     "execution_count": 35,
     "metadata": {},
     "output_type": "execute_result"
    }
   ],
   "source": [
    "xgboost_prediction"
   ]
  },
  {
   "cell_type": "markdown",
   "metadata": {},
   "source": [
    "**Мы вычитали из целевых меток 1, теперь добавляем.**"
   ]
  },
  {
   "cell_type": "code",
   "execution_count": 32,
   "metadata": {},
   "outputs": [],
   "source": [
    "xgboost_prediction += 1"
   ]
  },
  {
   "cell_type": "code",
   "execution_count": 33,
   "metadata": {},
   "outputs": [],
   "source": [
    "write_to_submission_file(xgboost_prediction, \"forest_cover_type_xgboost.csv\")"
   ]
  },
  {
   "cell_type": "markdown",
   "metadata": {},
   "source": [
    "**У такой посылки на Kaggle результат - 0.771.**"
   ]
  }
 ],
 "metadata": {
  "anaconda-cloud": {},
  "kernelspec": {
   "display_name": "Python 3 (ipykernel)",
   "language": "python",
   "name": "python3"
  },
  "language_info": {
   "codemirror_mode": {
    "name": "ipython",
    "version": 3
   },
   "file_extension": ".py",
   "mimetype": "text/x-python",
   "name": "python",
   "nbconvert_exporter": "python",
   "pygments_lexer": "ipython3",
   "version": "3.9.13"
  },
  "name": "ForestCoverType.ipynb"
 },
 "nbformat": 4,
 "nbformat_minor": 1
}
