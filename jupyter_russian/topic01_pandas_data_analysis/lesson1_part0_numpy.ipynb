{
    "metadata": {
        "kernelspec": {
            "name": "python3",
            "display_name": "Python 3",
            "language": "python"
        },
        "language_info": {
            "name": "python",
            "version": "3.9.7",
            "mimetype": "text/x-python",
            "codemirror_mode": {
                "name": "ipython",
                "version": 3
            },
            "pygments_lexer": "ipython3",
            "nbconvert_exporter": "python",
            "file_extension": ".py"
        },
        "anaconda-cloud": {},
        "name": "lesson5_part1_NumPy.ipynb"
    },
    "nbformat_minor": 2,
    "nbformat": 4,
    "cells": [
        {
            "cell_type": "markdown",
            "source": [
                "<center>\n",
                "<img src=\"../../img/ods_stickers.jpg\">\n",
                "## Открытый курс по машинному обучению\n",
                "Авторы материала: программист-исследователь Mail.ru Group, старший преподаватель Факультета Компьютерных Наук ВШЭ Юрий Кашницкий и Data Scientist в Segmento Екатерина Демидова. Материал распространяется на условиях лицензии [Creative Commons CC BY-NC-SA 4.0](https://creativecommons.org/licenses/by-nc-sa/4.0/). Можно использовать в любых целях (редактировать, поправлять и брать за основу), кроме коммерческих, но с обязательным упоминанием автора материала."
            ],
            "metadata": {
                "azdata_cell_guid": "31cf2385-7f43-447a-9e91-3bd8a2c965a2"
            }
        },
        {
            "cell_type": "markdown",
            "source": [
                "# <center>Тема 1. Первичный анализ данных с Pandas</center>\n",
                "## <center>Часть 0. Работа с векторами в библиотеке NumPy"
            ],
            "metadata": {
                "azdata_cell_guid": "df8b6468-137a-47a0-920e-356ca409ba26"
            }
        },
        {
            "cell_type": "markdown",
            "source": [
                "**Numpy** - это библиотека Python для вычислительно эффективных операций с многомерными массивами, предназначенная в основном для научных вычислений."
            ],
            "metadata": {
                "azdata_cell_guid": "a108b1df-ac26-467a-9a41-a6c8ae2e5e0f"
            }
        },
        {
            "cell_type": "code",
            "source": [
                "# Python 2 and 3 compatibility\n",
                "from __future__ import absolute_import, division, print_function, unicode_literals\n",
                "\n",
                "# отключим предупреждения Anaconda\n",
                "import warnings\n",
                "\n",
                "warnings.simplefilter(\"ignore\")\n",
                "import numpy as np"
            ],
            "metadata": {
                "azdata_cell_guid": "f73fcb02-a86f-4b65-bf8c-05a8b714809c"
            },
            "outputs": [],
            "execution_count": 2
        },
        {
            "cell_type": "code",
            "source": [
                "a = np.array([0, 1, 2, 3])\n",
                "a"
            ],
            "metadata": {
                "azdata_cell_guid": "9b028c2b-7233-4338-b433-a1d96245b082"
            },
            "outputs": [
                {
                    "data": {
                        "text/plain": "array([0, 1, 2, 3])"
                    },
                    "metadata": {},
                    "execution_count": 3,
                    "output_type": "execute_result"
                }
            ],
            "execution_count": 3
        },
        {
            "cell_type": "markdown",
            "source": [
                "Такой массив может содержать:\n",
                "- значения физических величин в разые моменты времени при моделировании\n",
                "- значения сигнала, измеренного прибором\n",
                "- интенсивности пикселов \n",
                "- 3D координаты объектов, полученных, например, при МРТ\n",
                "- ...\n"
            ],
            "metadata": {
                "azdata_cell_guid": "d2ffe329-a47e-47fe-a68d-bdf019b528f0"
            }
        },
        {
            "cell_type": "markdown",
            "source": [
                "**Зачем NumPy:** Эффективность базовых операций \n"
            ],
            "metadata": {
                "azdata_cell_guid": "cadd0f84-7baf-4ff9-a424-e08e0cca6cbc"
            }
        },
        {
            "cell_type": "code",
            "source": [
                "L = range(1000)"
            ],
            "metadata": {
                "azdata_cell_guid": "0feb48b4-b6bb-44f9-bb54-5b6a1cd6648c"
            },
            "outputs": [],
            "execution_count": 4
        },
        {
            "cell_type": "code",
            "source": [
                "%timeit [i**2 for i in L]"
            ],
            "metadata": {
                "azdata_cell_guid": "770ea364-1a7a-4346-a3e7-6c03577b5313"
            },
            "outputs": [
                {
                    "name": "stdout",
                    "text": "363 µs ± 50.6 µs per loop (mean ± std. dev. of 7 runs, 1000 loops each)\n",
                    "output_type": "stream"
                }
            ],
            "execution_count": 5
        },
        {
            "cell_type": "code",
            "source": [
                "a = np.arange(1000)"
            ],
            "metadata": {
                "azdata_cell_guid": "4fd4b969-841f-4cbe-bfbb-2f1ff06e2027"
            },
            "outputs": [],
            "execution_count": 6
        },
        {
            "cell_type": "code",
            "source": [
                "%timeit a**2"
            ],
            "metadata": {
                "azdata_cell_guid": "3b313eff-02b3-4864-9c13-dfeab87c6588"
            },
            "outputs": [
                {
                    "name": "stdout",
                    "text": "2.54 µs ± 693 ns per loop (mean ± std. dev. of 7 runs, 100000 loops each)\n",
                    "output_type": "stream"
                }
            ],
            "execution_count": 7
        },
        {
            "cell_type": "markdown",
            "source": [
                "Интерактивная справка\n"
            ],
            "metadata": {
                "azdata_cell_guid": "80ef23d2-cd0e-43b0-93b4-8b05b8111da2"
            }
        },
        {
            "cell_type": "code",
            "source": [
                "?np.array"
            ],
            "metadata": {
                "azdata_cell_guid": "001c652d-4562-4f18-8be2-bb76d47456f6"
            },
            "outputs": [],
            "execution_count": 9
        },
        {
            "cell_type": "markdown",
            "source": [
                "поиск в документации\n"
            ],
            "metadata": {
                "azdata_cell_guid": "9f9d5f96-2e5c-42ca-a400-051199ea7a7a"
            }
        },
        {
            "cell_type": "code",
            "source": [
                "np.lookfor(\"create array\")"
            ],
            "metadata": {
                "azdata_cell_guid": "e42cde52-4618-4e20-bb37-9d557fa7b39b"
            },
            "outputs": [],
            "execution_count": null
        },
        {
            "cell_type": "code",
            "source": [
                "np.con*?"
            ],
            "metadata": {
                "azdata_cell_guid": "bc4102e6-7d1b-4761-8cfc-93c6cd2bd22c"
            },
            "outputs": [],
            "execution_count": 11
        },
        {
            "cell_type": "markdown",
            "source": [
                "#### Библиотеку принято импортировать так"
            ],
            "metadata": {
                "azdata_cell_guid": "93b2c9aa-f303-451f-b293-3fb86473f750"
            }
        },
        {
            "cell_type": "code",
            "source": [
                "import numpy as np"
            ],
            "metadata": {
                "azdata_cell_guid": "1e30e584-b0d0-4369-b405-ceec08ba7a83"
            },
            "outputs": [],
            "execution_count": 12
        },
        {
            "cell_type": "markdown",
            "source": [
                "## Создание массивов"
            ],
            "metadata": {
                "azdata_cell_guid": "ca6c3572-0d36-4658-8599-ca9837a03e2d"
            }
        },
        {
            "cell_type": "markdown",
            "source": [
                "* **1-D**:\n"
            ],
            "metadata": {
                "azdata_cell_guid": "ffa9212c-58f3-4482-af15-f9a67b8ec221"
            }
        },
        {
            "cell_type": "code",
            "source": [
                "a = np.array([0, 1, 2, 3])\n",
                "a"
            ],
            "metadata": {
                "azdata_cell_guid": "ca9fd4ce-dab8-431c-9998-ceeeb2c770ff"
            },
            "outputs": [
                {
                    "data": {
                        "text/plain": "array([0, 1, 2, 3])"
                    },
                    "metadata": {},
                    "execution_count": 13,
                    "output_type": "execute_result"
                }
            ],
            "execution_count": 13
        },
        {
            "cell_type": "code",
            "source": [
                "a.ndim"
            ],
            "metadata": {
                "azdata_cell_guid": "0acd244c-b016-4ab4-a3e5-f3d568096c5e"
            },
            "outputs": [
                {
                    "data": {
                        "text/plain": "1"
                    },
                    "metadata": {},
                    "execution_count": 14,
                    "output_type": "execute_result"
                }
            ],
            "execution_count": 14
        },
        {
            "cell_type": "code",
            "source": [
                "a.shape"
            ],
            "metadata": {
                "azdata_cell_guid": "b6b6e4ad-a7fc-4884-9c56-d5ee19566fef"
            },
            "outputs": [
                {
                    "data": {
                        "text/plain": "(4,)"
                    },
                    "metadata": {},
                    "execution_count": 15,
                    "output_type": "execute_result"
                }
            ],
            "execution_count": 15
        },
        {
            "cell_type": "code",
            "source": [
                "len(a)"
            ],
            "metadata": {
                "azdata_cell_guid": "44ad5d50-9997-4d64-bbc5-d33feefe7dda"
            },
            "outputs": [
                {
                    "data": {
                        "text/plain": "4"
                    },
                    "metadata": {},
                    "execution_count": 16,
                    "output_type": "execute_result"
                }
            ],
            "execution_count": 16
        },
        {
            "cell_type": "markdown",
            "source": [
                "* **2-D, 3-D, ...**:\n"
            ],
            "metadata": {
                "azdata_cell_guid": "5ba5b8b4-9e9c-455c-8e1e-7851b17f3fec"
            }
        },
        {
            "cell_type": "code",
            "source": [
                "b = np.array([[0, 1, 2], [3, 4, 5]])  # 2 x 3 array\n",
                "b"
            ],
            "metadata": {
                "azdata_cell_guid": "3ef6439b-a1e8-403f-84ef-e118be0dde30"
            },
            "outputs": [
                {
                    "data": {
                        "text/plain": "array([[0, 1, 2],\n       [3, 4, 5]])"
                    },
                    "metadata": {},
                    "execution_count": 17,
                    "output_type": "execute_result"
                }
            ],
            "execution_count": 17
        },
        {
            "cell_type": "code",
            "source": [
                "b.ndim"
            ],
            "metadata": {
                "azdata_cell_guid": "d431fa20-ee6f-427f-beea-2c00e4cdca6c"
            },
            "outputs": [
                {
                    "data": {
                        "text/plain": "2"
                    },
                    "metadata": {},
                    "execution_count": 18,
                    "output_type": "execute_result"
                }
            ],
            "execution_count": 18
        },
        {
            "cell_type": "code",
            "source": [
                "b.shape"
            ],
            "metadata": {
                "azdata_cell_guid": "12491a69-cfd4-44df-8777-a3fceb75e358"
            },
            "outputs": [
                {
                    "data": {
                        "text/plain": "(2, 3)"
                    },
                    "metadata": {},
                    "execution_count": 19,
                    "output_type": "execute_result"
                }
            ],
            "execution_count": 19
        },
        {
            "cell_type": "code",
            "source": [
                "len(b)  # returns the size of the first dimension"
            ],
            "metadata": {
                "azdata_cell_guid": "188eda55-afc6-460a-89bd-64e054db1c9e"
            },
            "outputs": [
                {
                    "data": {
                        "text/plain": "2"
                    },
                    "metadata": {},
                    "execution_count": 20,
                    "output_type": "execute_result"
                }
            ],
            "execution_count": 20
        },
        {
            "cell_type": "code",
            "source": [
                "c = np.array([[[1], [2]], [[3], [4]]])\n",
                "c"
            ],
            "metadata": {
                "azdata_cell_guid": "f204e654-0875-4228-a6be-f41f9f473f18"
            },
            "outputs": [
                {
                    "data": {
                        "text/plain": "array([[[1],\n        [2]],\n\n       [[3],\n        [4]]])"
                    },
                    "metadata": {},
                    "execution_count": 21,
                    "output_type": "execute_result"
                }
            ],
            "execution_count": 21
        },
        {
            "cell_type": "code",
            "source": [
                "c.shape"
            ],
            "metadata": {
                "azdata_cell_guid": "86fc85f4-86c9-436f-ae70-e5a7100f7c8b"
            },
            "outputs": [
                {
                    "data": {
                        "text/plain": "(2, 2, 1)"
                    },
                    "metadata": {},
                    "execution_count": 22,
                    "output_type": "execute_result"
                }
            ],
            "execution_count": 22
        },
        {
            "cell_type": "markdown",
            "source": [
                "## Методы для создания массивов"
            ],
            "metadata": {
                "azdata_cell_guid": "4cf47992-6b35-48cc-a33a-f9f04f74bf8e"
            }
        },
        {
            "cell_type": "markdown",
            "source": [
                "На практике мы редко добавляем элементы по одному\n"
            ],
            "metadata": {
                "azdata_cell_guid": "5b43cfee-723d-4dd5-877a-972dd37b8f7f"
            }
        },
        {
            "cell_type": "markdown",
            "source": [
                "- Равномерно распределенные элементы:\n"
            ],
            "metadata": {
                "azdata_cell_guid": "b30d44ed-ab92-41b8-bc96-2d13f55768f9"
            }
        },
        {
            "cell_type": "code",
            "source": [
                "a = np.arange(10)  # 0 .. n-1  (!)\n",
                "a"
            ],
            "metadata": {
                "azdata_cell_guid": "56708a3e-4ba0-4aa3-9dcc-e5f7f1db064c"
            },
            "outputs": [
                {
                    "data": {
                        "text/plain": "array([0, 1, 2, 3, 4, 5, 6, 7, 8, 9])"
                    },
                    "metadata": {},
                    "execution_count": 23,
                    "output_type": "execute_result"
                }
            ],
            "execution_count": 23
        },
        {
            "cell_type": "code",
            "source": [
                "b = np.arange(1, 9, 2)  # start, end (exclusive), step\n",
                "b"
            ],
            "metadata": {
                "azdata_cell_guid": "7a13144c-4f74-4ae3-bf8d-91b70350d5b7"
            },
            "outputs": [
                {
                    "data": {
                        "text/plain": "array([1, 3, 5, 7])"
                    },
                    "metadata": {},
                    "execution_count": 24,
                    "output_type": "execute_result"
                }
            ],
            "execution_count": 24
        },
        {
            "cell_type": "markdown",
            "source": [
                "- по числу элементов:\n"
            ],
            "metadata": {
                "azdata_cell_guid": "34175497-303f-416c-a2e9-cc41cface46d"
            }
        },
        {
            "cell_type": "code",
            "source": [
                "c = np.linspace(0, 1, 6)  # start, end, num-points\n",
                "c"
            ],
            "metadata": {
                "azdata_cell_guid": "0afb6887-d95d-4332-80df-3419c8704092"
            },
            "outputs": [
                {
                    "data": {
                        "text/plain": "array([0. , 0.2, 0.4, 0.6, 0.8, 1. ])"
                    },
                    "metadata": {},
                    "execution_count": 25,
                    "output_type": "execute_result"
                }
            ],
            "execution_count": 25
        },
        {
            "cell_type": "code",
            "source": [
                "d = np.linspace(0, 1, 5, endpoint=False)\n",
                "d"
            ],
            "metadata": {
                "azdata_cell_guid": "da7224c7-6121-4626-b6d6-560f813134a2"
            },
            "outputs": [
                {
                    "data": {
                        "text/plain": "array([0. , 0.2, 0.4, 0.6, 0.8])"
                    },
                    "metadata": {},
                    "execution_count": 26,
                    "output_type": "execute_result"
                }
            ],
            "execution_count": 26
        },
        {
            "cell_type": "markdown",
            "source": [
                "- Часто встречающиеся массивы:\n"
            ],
            "metadata": {
                "azdata_cell_guid": "dc5a4eec-e826-4461-8d54-761b14675904"
            }
        },
        {
            "cell_type": "code",
            "source": [
                "a = np.ones((3, 3))  # reminder: (3, 3) is a tuple\n",
                "a"
            ],
            "metadata": {
                "azdata_cell_guid": "cf691348-8e36-4c66-9c77-1bc46f026e33"
            },
            "outputs": [
                {
                    "data": {
                        "text/plain": "array([[1., 1., 1.],\n       [1., 1., 1.],\n       [1., 1., 1.]])"
                    },
                    "metadata": {},
                    "execution_count": 27,
                    "output_type": "execute_result"
                }
            ],
            "execution_count": 27
        },
        {
            "cell_type": "code",
            "source": [
                "b = np.zeros((2, 2))\n",
                "b"
            ],
            "metadata": {
                "azdata_cell_guid": "17011c05-6f23-4a27-aeaf-61e02ee5b5ad"
            },
            "outputs": [
                {
                    "data": {
                        "text/plain": "array([[0., 0.],\n       [0., 0.]])"
                    },
                    "metadata": {},
                    "execution_count": 28,
                    "output_type": "execute_result"
                }
            ],
            "execution_count": 28
        },
        {
            "cell_type": "code",
            "source": [
                "c = np.eye(3)\n",
                "c"
            ],
            "metadata": {
                "azdata_cell_guid": "59cc03aa-6b9a-4b13-af99-0201059ce620"
            },
            "outputs": [
                {
                    "data": {
                        "text/plain": "array([[1., 0., 0.],\n       [0., 1., 0.],\n       [0., 0., 1.]])"
                    },
                    "metadata": {},
                    "execution_count": 29,
                    "output_type": "execute_result"
                }
            ],
            "execution_count": 29
        },
        {
            "cell_type": "code",
            "source": [
                "d = np.diag(np.array([1, 2, 3, 4]))\n",
                "d"
            ],
            "metadata": {
                "azdata_cell_guid": "84c71240-aa01-4e38-bf28-24dff9f791f0"
            },
            "outputs": [
                {
                    "data": {
                        "text/plain": "array([[1, 0, 0, 0],\n       [0, 2, 0, 0],\n       [0, 0, 3, 0],\n       [0, 0, 0, 4]])"
                    },
                    "metadata": {},
                    "execution_count": 30,
                    "output_type": "execute_result"
                }
            ],
            "execution_count": 30
        },
        {
            "cell_type": "markdown",
            "source": [
                "* `np.random` генерация случайных чисел (Mersenne Twister PRNG):"
            ],
            "metadata": {
                "azdata_cell_guid": "400c0693-a833-41b8-81c5-85cc2dd29e2e"
            }
        },
        {
            "cell_type": "code",
            "source": [
                "a = np.random.rand(4)  # uniform in [0, 1]\n",
                "a"
            ],
            "metadata": {
                "azdata_cell_guid": "96b51241-07a1-4f6f-9031-80e2992d334b"
            },
            "outputs": [
                {
                    "data": {
                        "text/plain": "array([0.34430914, 0.16947804, 0.06856514, 0.11865386])"
                    },
                    "metadata": {},
                    "execution_count": 31,
                    "output_type": "execute_result"
                }
            ],
            "execution_count": 31
        },
        {
            "cell_type": "code",
            "source": [
                "b = np.random.randn(4)  # Gaussian\n",
                "b"
            ],
            "metadata": {
                "azdata_cell_guid": "30faa549-97cb-4ca8-94aa-0ed5dccfe776"
            },
            "outputs": [
                {
                    "data": {
                        "text/plain": "array([-0.52782849, -0.31717043,  0.94371524,  0.12664307])"
                    },
                    "metadata": {},
                    "execution_count": 32,
                    "output_type": "execute_result"
                }
            ],
            "execution_count": 32
        },
        {
            "cell_type": "code",
            "source": [
                "np.random.seed(1234)  # Setting the random seed"
            ],
            "metadata": {
                "azdata_cell_guid": "867d0d0e-7076-4e17-9dd1-c074dd7ec5d4"
            },
            "outputs": [],
            "execution_count": 35
        },
        {
            "cell_type": "markdown",
            "source": [
                "## Основные типы данных NumPy"
            ],
            "metadata": {
                "azdata_cell_guid": "ca577298-178f-45f0-8bc7-3d56eac588c1"
            }
        },
        {
            "cell_type": "markdown",
            "source": [
                "Точка после числа означает, что это тип данных `float64`\n"
            ],
            "metadata": {
                "azdata_cell_guid": "3f18176e-cc4d-4cfb-87ad-d7f12b2a0ec1"
            }
        },
        {
            "cell_type": "code",
            "source": [
                "a = np.array([1, 2, 3])\n",
                "a.dtype"
            ],
            "metadata": {
                "azdata_cell_guid": "d42eea73-751c-452a-a7c2-26011a871f2e"
            },
            "outputs": [
                {
                    "data": {
                        "text/plain": "dtype('int32')"
                    },
                    "metadata": {},
                    "execution_count": 36,
                    "output_type": "execute_result"
                }
            ],
            "execution_count": 36
        },
        {
            "cell_type": "code",
            "source": [
                "b = np.array([1.0, 2.0, 3.0])\n",
                "b.dtype"
            ],
            "metadata": {
                "azdata_cell_guid": "9563951b-1c59-4449-8769-ca3c6f335d98"
            },
            "outputs": [
                {
                    "data": {
                        "text/plain": "dtype('float64')"
                    },
                    "metadata": {},
                    "execution_count": 38,
                    "output_type": "execute_result"
                }
            ],
            "execution_count": 38
        },
        {
            "cell_type": "markdown",
            "source": [
                "Можно задать тип данных явно. По умолчанию - `float64`"
            ],
            "metadata": {
                "azdata_cell_guid": "d9e53586-8595-4ad3-bfd5-5bde939b2cc7"
            }
        },
        {
            "cell_type": "code",
            "source": [
                "c = np.array([1, 2, 3], dtype=float)\n",
                "c.dtype"
            ],
            "metadata": {
                "azdata_cell_guid": "04950d5b-bd9d-4b66-8876-7f03229c811a"
            },
            "outputs": [
                {
                    "data": {
                        "text/plain": "dtype('float64')"
                    },
                    "metadata": {},
                    "execution_count": 39,
                    "output_type": "execute_result"
                }
            ],
            "execution_count": 39
        },
        {
            "cell_type": "code",
            "source": [
                "a = np.ones((3, 3))\n",
                "a.dtype"
            ],
            "metadata": {
                "azdata_cell_guid": "4bd9819d-d0f0-4574-87c3-b2391d481d09"
            },
            "outputs": [
                {
                    "data": {
                        "text/plain": "dtype('float64')"
                    },
                    "metadata": {},
                    "execution_count": 40,
                    "output_type": "execute_result"
                }
            ],
            "execution_count": 40
        },
        {
            "cell_type": "markdown",
            "source": [
                "Прочие типы данных:"
            ],
            "metadata": {
                "azdata_cell_guid": "2278833e-7d3f-48bf-b2b0-f803edf0b035"
            }
        },
        {
            "cell_type": "markdown",
            "source": [
                "- Комплексные числа\n"
            ],
            "metadata": {
                "azdata_cell_guid": "0dd84b9c-0c5a-4702-9ccb-571e13a03731"
            }
        },
        {
            "cell_type": "code",
            "source": [
                "d = np.array([1 + 2j, 3 + 4j, 5 + 6 * 1j])\n",
                "d.dtype"
            ],
            "metadata": {
                "azdata_cell_guid": "f6312a77-0aed-47bb-88b8-f6610dcbe102"
            },
            "outputs": [
                {
                    "data": {
                        "text/plain": "dtype('complex128')"
                    },
                    "metadata": {},
                    "execution_count": 41,
                    "output_type": "execute_result"
                }
            ],
            "execution_count": 41
        },
        {
            "cell_type": "markdown",
            "source": [
                " - Bool\n"
            ],
            "metadata": {
                "azdata_cell_guid": "df78405a-fc93-471e-a3e7-814a2987e02e"
            }
        },
        {
            "cell_type": "code",
            "source": [
                "e = np.array([True, False, False, True])\n",
                "e.dtype"
            ],
            "metadata": {
                "azdata_cell_guid": "f7c16cb5-8e1f-4df7-b5f4-da75bb203f7e"
            },
            "outputs": [
                {
                    "data": {
                        "text/plain": "dtype('bool')"
                    },
                    "metadata": {},
                    "execution_count": 42,
                    "output_type": "execute_result"
                }
            ],
            "execution_count": 42
        },
        {
            "cell_type": "markdown",
            "source": [
                "- Строки\n",
                "\n",
                "На строки память выделяется \"жадно\" - по максимальному числу литер в строке. \n",
                "В этом примере на каждую строку выделяется по 7 литер, и тип данных - 'S7'"
            ],
            "metadata": {
                "azdata_cell_guid": "aa1e0318-23c8-4d19-afea-5e870fb8ec5e"
            }
        },
        {
            "cell_type": "code",
            "source": [
                "f = np.array([\"Bonjour\", \"Hello\", \"Hallo\",])\n",
                "f.dtype  # <--- strings containing max. 7 letters"
            ],
            "metadata": {
                "azdata_cell_guid": "a55d8c49-4cd2-4c07-b52c-de2c1634566e"
            },
            "outputs": [
                {
                    "data": {
                        "text/plain": "dtype('<U7')"
                    },
                    "metadata": {},
                    "execution_count": 43,
                    "output_type": "execute_result"
                }
            ],
            "execution_count": 43
        },
        {
            "cell_type": "markdown",
            "source": [
                "## Основы визуализации"
            ],
            "metadata": {
                "azdata_cell_guid": "ada2a9dd-7340-4c88-959a-a80e68202a43"
            }
        },
        {
            "cell_type": "markdown",
            "source": [
                "$ ipython notebook --pylab=inline"
            ],
            "metadata": {
                "azdata_cell_guid": "70ab05c4-4165-438c-a026-4237d9e8cbd6"
            }
        },
        {
            "cell_type": "markdown",
            "source": [
                "Или из тетрадки:"
            ],
            "metadata": {
                "azdata_cell_guid": "112790ae-1a3b-4dbe-9dab-a8242eaa4089"
            }
        },
        {
            "cell_type": "code",
            "source": [
                "%pylab inline"
            ],
            "metadata": {
                "azdata_cell_guid": "065fb55d-0c50-4f73-9cf6-fd9dea3a5ef3"
            },
            "outputs": [
                {
                    "name": "stdout",
                    "text": "Populating the interactive namespace from numpy and matplotlib\n",
                    "output_type": "stream"
                }
            ],
            "execution_count": 44
        },
        {
            "cell_type": "markdown",
            "source": [
                "Параметр `inline` говорит серверу IPython о том, что результаты будут отображаться в самой тетрадке, а не в новом окне. \n"
            ],
            "metadata": {
                "azdata_cell_guid": "4de534ae-be64-48bc-bd33-9b696484df35"
            }
        },
        {
            "cell_type": "markdown",
            "source": [
                "Импортируем *Matplotlib*\n"
            ],
            "metadata": {
                "azdata_cell_guid": "7f350ac8-d0e3-4840-99f7-e5c961bb4902"
            }
        },
        {
            "cell_type": "code",
            "source": [
                "import matplotlib.pyplot as plt  # the tidy way\r\n",
                "import seaborn as sns"
            ],
            "metadata": {
                "azdata_cell_guid": "2e1c7723-3eb2-4a33-a570-f0b532cfbf6c"
            },
            "outputs": [],
            "execution_count": 49
        },
        {
            "cell_type": "code",
            "source": [
                "sns.set(rc={'figure.figsize': (9,6)})"
            ],
            "metadata": {
                "azdata_cell_guid": "e240afb0-cb0c-481b-9aab-60829ec3e112"
            },
            "outputs": [],
            "execution_count": 50
        },
        {
            "cell_type": "code",
            "source": [
                "x = np.linspace(0, 3, 20)\n",
                "y = np.linspace(0, 9, 20)\n",
                "plt.plot(x, y)  # line plot\n",
                "plt.show()  # <-- shows the plot (not needed with pylab)"
            ],
            "metadata": {
                "azdata_cell_guid": "5927fea4-39e1-4ad1-a40b-a0aca406d6d7"
            },
            "outputs": [
                {
                    "data": {
                        "text/plain": "<Figure size 648x432 with 1 Axes>",
                        "image/png": "[encoded data removed]"
                    },
                    "metadata": {},
                    "output_type": "display_data"
                }
            ],
            "execution_count": 51
        },
        {
            "cell_type": "code",
            "source": [
                "x"
            ],
            "metadata": {
                "azdata_cell_guid": "172962a6-068c-4cfb-bf69-edd5184105f1"
            },
            "outputs": [
                {
                    "data": {
                        "text/plain": "array([0.        , 0.15789474, 0.31578947, 0.47368421, 0.63157895,\n       0.78947368, 0.94736842, 1.10526316, 1.26315789, 1.42105263,\n       1.57894737, 1.73684211, 1.89473684, 2.05263158, 2.21052632,\n       2.36842105, 2.52631579, 2.68421053, 2.84210526, 3.        ])"
                    },
                    "metadata": {},
                    "execution_count": 53,
                    "output_type": "execute_result"
                }
            ],
            "execution_count": 53
        },
        {
            "cell_type": "markdown",
            "source": [
                "Или с использованием *pylab*:\n"
            ],
            "metadata": {
                "azdata_cell_guid": "d3a01a3d-e216-49af-81d2-4a9bd5aab7cc"
            }
        },
        {
            "cell_type": "code",
            "source": [
                "plot(x, y)  # line plot"
            ],
            "metadata": {
                "azdata_cell_guid": "ca1c4648-a9f0-4e9f-a50d-e8a50b2cead4"
            },
            "outputs": [
                {
                    "data": {
                        "text/plain": "<Figure size 648x432 with 1 Axes>",
                        "image/png": "[encoded data removed]"
                    },
                    "metadata": {},
                    "output_type": "display_data"
                },
                {
                    "data": {
                        "text/plain": "[<matplotlib.lines.Line2D at 0x15cfd820be0>]"
                    },
                    "metadata": {},
                    "execution_count": 52,
                    "output_type": "execute_result"
                }
            ],
            "execution_count": 52
        },
        {
            "cell_type": "markdown",
            "source": [
                "Использование `import matplotlib.pyplot as plt` рекомендуется для скриптов, а `pylab` - в тетрадках IPython."
            ],
            "metadata": {
                "azdata_cell_guid": "c4aef10c-4428-4445-b686-1910e5474efc"
            }
        },
        {
            "cell_type": "markdown",
            "source": [
                " - Отображение одномерных массивов:\n"
            ],
            "metadata": {
                "azdata_cell_guid": "8f611c15-de79-419f-a84a-73e01fc81906"
            }
        },
        {
            "cell_type": "code",
            "source": [
                "x = np.linspace(0, 3, 20)\n",
                "y = np.linspace(0, 9, 20)\n",
                "plt.plot(x, y)  # line plot"
            ],
            "metadata": {
                "azdata_cell_guid": "7d725c41-4793-4f02-acb2-fe7b878454d1"
            },
            "outputs": [
                {
                    "data": {
                        "text/plain": "<Figure size 648x432 with 1 Axes>",
                        "image/png": "[encoded data removed]"
                    },
                    "metadata": {},
                    "output_type": "display_data"
                },
                {
                    "data": {
                        "text/plain": "[<matplotlib.lines.Line2D at 0x15cfd88e0d0>]"
                    },
                    "metadata": {},
                    "execution_count": 54,
                    "output_type": "execute_result"
                }
            ],
            "execution_count": 54
        },
        {
            "cell_type": "code",
            "source": [
                "plt.plot(x, y, \"o\")  # dot plot"
            ],
            "metadata": {
                "azdata_cell_guid": "c5d2f53b-1743-4623-bf84-308d1230b30a"
            },
            "outputs": [
                {
                    "data": {
                        "text/plain": "<Figure size 648x432 with 1 Axes>",
                        "image/png": "[encoded data removed]"
                    },
                    "metadata": {},
                    "output_type": "display_data"
                },
                {
                    "data": {
                        "text/plain": "[<matplotlib.lines.Line2D at 0x15cfd8f0100>]"
                    },
                    "metadata": {},
                    "execution_count": 55,
                    "output_type": "execute_result"
                }
            ],
            "execution_count": 55
        },
        {
            "cell_type": "markdown",
            "source": [
                "- Отображение двухмерных массивов (например, изображений):\n"
            ],
            "metadata": {
                "azdata_cell_guid": "554c74d5-d90b-4989-90f8-f0c65dca0ed2"
            }
        },
        {
            "cell_type": "code",
            "source": [
                "image = np.random.rand(30, 30)\n",
                "plt.imshow(image, cmap=plt.cm.hot)\n",
                "plt.colorbar()"
            ],
            "metadata": {
                "azdata_cell_guid": "a0f7548d-0e86-409e-a89b-bf8efddebb00"
            },
            "outputs": [
                {
                    "data": {
                        "text/plain": "<Figure size 648x432 with 2 Axes>",
                        "image/png": "[encoded data removed]"
                    },
                    "metadata": {},
                    "output_type": "display_data"
                },
                {
                    "data": {
                        "text/plain": "<matplotlib.colorbar.Colorbar at 0x15cfd9de760>"
                    },
                    "metadata": {},
                    "execution_count": 56,
                    "output_type": "execute_result"
                }
            ],
            "execution_count": 56
        },
        {
            "cell_type": "markdown",
            "source": [
                "## Индексирование массивов и срезы"
            ],
            "metadata": {
                "azdata_cell_guid": "3f431b0e-a85b-46c6-b482-c1dc5f586503"
            }
        },
        {
            "cell_type": "markdown",
            "source": [
                "В целом так же, как со встроенными последовательностями Python (например, как со списками).\n"
            ],
            "metadata": {
                "azdata_cell_guid": "d4e94809-40b0-4a30-a233-4760a83badff"
            }
        },
        {
            "cell_type": "code",
            "source": [
                "a = np.arange(10)\n",
                "a"
            ],
            "metadata": {
                "azdata_cell_guid": "15bb8b02-93de-4eab-b0b5-200933e99f0b"
            },
            "outputs": [],
            "execution_count": null
        },
        {
            "cell_type": "code",
            "source": [
                "a[0], a[2], a[-1]"
            ],
            "metadata": {
                "azdata_cell_guid": "21d38d78-e6ff-493f-85f7-0459d4e9eaeb"
            },
            "outputs": [
                {
                    "data": {
                        "text/plain": "(array([1., 1., 1.]), array([1., 1., 1.]), array([1., 1., 1.]))"
                    },
                    "metadata": {},
                    "execution_count": 58,
                    "output_type": "execute_result"
                }
            ],
            "execution_count": 58
        },
        {
            "cell_type": "markdown",
            "source": [
                "Работает и популярный в Python способ отражения массива:\n"
            ],
            "metadata": {
                "azdata_cell_guid": "e11db770-d4d9-4740-b297-2be8f4faac1e"
            }
        },
        {
            "cell_type": "code",
            "source": [
                "a[::-1]"
            ],
            "metadata": {
                "azdata_cell_guid": "fa7af526-f050-412b-9e69-40662b496765"
            },
            "outputs": [
                {
                    "data": {
                        "text/plain": "array([[1., 1., 1.],\n       [1., 1., 1.],\n       [1., 1., 1.]])"
                    },
                    "metadata": {},
                    "execution_count": 59,
                    "output_type": "execute_result"
                }
            ],
            "execution_count": 59
        },
        {
            "cell_type": "markdown",
            "source": [
                "Для многомерных массивов индексы - это кортежи целых чисел\n"
            ],
            "metadata": {
                "azdata_cell_guid": "d443ec4e-e9e6-4880-83a5-7ae72a90dbc7"
            }
        },
        {
            "cell_type": "code",
            "source": [
                "a = np.diag(np.arange(3))\n",
                "a"
            ],
            "metadata": {
                "azdata_cell_guid": "720161f6-00df-4f36-8ae3-5c896e19e1b8"
            },
            "outputs": [
                {
                    "data": {
                        "text/plain": "array([[0, 0, 0],\n       [0, 1, 0],\n       [0, 0, 2]])"
                    },
                    "metadata": {},
                    "execution_count": 60,
                    "output_type": "execute_result"
                }
            ],
            "execution_count": 60
        },
        {
            "cell_type": "code",
            "source": [
                "a[1, 1]"
            ],
            "metadata": {
                "azdata_cell_guid": "dc899efa-0ded-409b-a067-3f7970fd346d"
            },
            "outputs": [
                {
                    "data": {
                        "text/plain": "1"
                    },
                    "metadata": {},
                    "execution_count": 61,
                    "output_type": "execute_result"
                }
            ],
            "execution_count": 61
        },
        {
            "cell_type": "code",
            "source": [
                "a[2, 1] = 10  # third line, second column\n",
                "a"
            ],
            "metadata": {
                "azdata_cell_guid": "4f346433-c000-4702-aa79-ff8a65b33eda"
            },
            "outputs": [
                {
                    "data": {
                        "text/plain": "array([[ 0,  0,  0],\n       [ 0,  1,  0],\n       [ 0, 10,  2]])"
                    },
                    "metadata": {},
                    "execution_count": 62,
                    "output_type": "execute_result"
                }
            ],
            "execution_count": 62
        },
        {
            "cell_type": "code",
            "source": [
                "a[1]"
            ],
            "metadata": {
                "azdata_cell_guid": "7d57578e-4965-478c-9497-f9c479e564ca"
            },
            "outputs": [],
            "execution_count": null
        },
        {
            "cell_type": "markdown",
            "source": [
                "**Срезы**"
            ],
            "metadata": {
                "azdata_cell_guid": "e356f4d5-8603-43eb-ba4a-4c3484ada99c"
            }
        },
        {
            "cell_type": "code",
            "source": [
                "a = np.arange(10)\n",
                "a"
            ],
            "metadata": {
                "azdata_cell_guid": "b5353f63-1928-42d4-9589-a32263ae666e"
            },
            "outputs": [
                {
                    "data": {
                        "text/plain": "array([0, 1, 2, 3, 4, 5, 6, 7, 8, 9])"
                    },
                    "metadata": {},
                    "execution_count": 63,
                    "output_type": "execute_result"
                }
            ],
            "execution_count": 63
        },
        {
            "cell_type": "code",
            "source": [
                "a[2:9:3]  # [start:end:step]"
            ],
            "metadata": {
                "azdata_cell_guid": "5c450c58-b886-4051-97a8-47e415d326f7"
            },
            "outputs": [
                {
                    "data": {
                        "text/plain": "array([2, 5, 8])"
                    },
                    "metadata": {},
                    "execution_count": 64,
                    "output_type": "execute_result"
                }
            ],
            "execution_count": 64
        },
        {
            "cell_type": "markdown",
            "source": [
                "Последний индекс не включается"
            ],
            "metadata": {
                "azdata_cell_guid": "3741922d-8335-46e1-92ba-b0796ee89285"
            }
        },
        {
            "cell_type": "code",
            "source": [
                "a[:4]"
            ],
            "metadata": {
                "azdata_cell_guid": "4309ad08-12d5-42c9-9502-a6e25bbbfbfa"
            },
            "outputs": [
                {
                    "data": {
                        "text/plain": "array([0, 1, 2, 3])"
                    },
                    "metadata": {},
                    "execution_count": 65,
                    "output_type": "execute_result"
                }
            ],
            "execution_count": 65
        },
        {
            "cell_type": "markdown",
            "source": [
                "По умолчанию \\`start\\` -  0,\n",
                "\\`end\\` - индекс последнего элемента, \\`step\\` - 1:\n"
            ],
            "metadata": {
                "azdata_cell_guid": "6be0662d-5c22-4d62-a46a-3d2af7f1738b"
            }
        },
        {
            "cell_type": "code",
            "source": [
                "a[1:3]"
            ],
            "metadata": {
                "azdata_cell_guid": "fd74c4ba-b343-48a0-b4eb-961af62ac7e6"
            },
            "outputs": [
                {
                    "data": {
                        "text/plain": "array([1, 2])"
                    },
                    "metadata": {},
                    "execution_count": 66,
                    "output_type": "execute_result"
                }
            ],
            "execution_count": 66
        },
        {
            "cell_type": "code",
            "source": [
                "a[::2]"
            ],
            "metadata": {
                "azdata_cell_guid": "5b7711be-06d8-4426-9036-342a51f89e20"
            },
            "outputs": [
                {
                    "data": {
                        "text/plain": "array([0, 2, 4, 6, 8])"
                    },
                    "metadata": {},
                    "execution_count": 67,
                    "output_type": "execute_result"
                }
            ],
            "execution_count": 67
        },
        {
            "cell_type": "code",
            "source": [
                "a[3:]"
            ],
            "metadata": {
                "azdata_cell_guid": "432b1afe-887b-48f3-ac86-a2a4ac2537e8"
            },
            "outputs": [
                {
                    "data": {
                        "text/plain": "array([3, 4, 5, 6, 7, 8, 9])"
                    },
                    "metadata": {},
                    "execution_count": 68,
                    "output_type": "execute_result"
                }
            ],
            "execution_count": 68
        },
        {
            "cell_type": "markdown",
            "source": [
                "Можно совмещать присваивание и срез:\n"
            ],
            "metadata": {
                "azdata_cell_guid": "18cca0ff-a732-437f-871e-f36eca2319cc"
            }
        },
        {
            "cell_type": "code",
            "source": [
                "a = np.arange(10)\n",
                "a[5:] = 10\n",
                "a"
            ],
            "metadata": {
                "azdata_cell_guid": "0e2bab1e-5fe3-4fd6-9bc2-26d0e6a8cc72"
            },
            "outputs": [
                {
                    "data": {
                        "text/plain": "array([ 0,  1,  2,  3,  4, 10, 10, 10, 10, 10])"
                    },
                    "metadata": {},
                    "execution_count": 69,
                    "output_type": "execute_result"
                }
            ],
            "execution_count": 69
        },
        {
            "cell_type": "code",
            "source": [
                "b = np.arange(5)\n",
                "a[5:] = b[::-1]\n",
                "a"
            ],
            "metadata": {
                "azdata_cell_guid": "3293409c-2abe-469a-98da-a397cd64bf3c"
            },
            "outputs": [
                {
                    "data": {
                        "text/plain": "array([0, 1, 2, 3, 4, 4, 3, 2, 1, 0])"
                    },
                    "metadata": {},
                    "execution_count": 70,
                    "output_type": "execute_result"
                }
            ],
            "execution_count": 70
        },
        {
            "cell_type": "markdown",
            "source": [
                "## Пример. Матрица делителей"
            ],
            "metadata": {
                "azdata_cell_guid": "3b97ac78-6305-410f-b370-04189bc8eb82"
            }
        },
        {
            "cell_type": "markdown",
            "source": [
                "Отобразить матрицу, в которой вычеркивается **(x, y)**, если **y** делится на **x**."
            ],
            "metadata": {
                "azdata_cell_guid": "d5a7684b-2da6-4458-9c84-32b27347b7ab"
            }
        },
        {
            "cell_type": "code",
            "source": [
                "from IPython.display import Image\n",
                "\n",
                "Image(filename=\"../../img/prime-sieve.png\")"
            ],
            "metadata": {
                "azdata_cell_guid": "5ac8ff5d-bf12-4a67-ae40-3130473d8897"
            },
            "outputs": [
                {
                    "data": {
                        "image/png": "[encoded data removed]",
                        "text/plain": "<IPython.core.display.Image object>"
                    },
                    "metadata": {},
                    "execution_count": 71,
                    "output_type": "execute_result"
                }
            ],
            "execution_count": 71
        },
        {
            "cell_type": "markdown",
            "source": [
                "* Создадим массив `is_prime`, заполненний значениями True\n"
            ],
            "metadata": {
                "azdata_cell_guid": "d9fe1b8b-18fb-49cf-b7c4-14af93dd7bc7"
            }
        },
        {
            "cell_type": "code",
            "source": [
                "is_prime = np.ones((100,), dtype=bool)"
            ],
            "metadata": {
                "azdata_cell_guid": "c37c18fc-e13e-45eb-997d-0b78c554561b"
            },
            "outputs": [],
            "execution_count": 72
        },
        {
            "cell_type": "markdown",
            "source": [
                "* Вычеркнем 0 и 1 как не являющиеся простыми:\n"
            ],
            "metadata": {
                "azdata_cell_guid": "b720ec84-2377-42e2-bebc-2b1119b6107f"
            }
        },
        {
            "cell_type": "code",
            "source": [
                "is_prime[:2] = 0"
            ],
            "metadata": {
                "azdata_cell_guid": "a35fd7e0-5aea-47f9-b27b-fff3b5c7e3bd"
            },
            "outputs": [],
            "execution_count": 73
        },
        {
            "cell_type": "markdown",
            "source": [
                "* Для каждого натурального `j` начиная с  2, \"вычеркнем\" числа, ему кратные:\n"
            ],
            "metadata": {
                "azdata_cell_guid": "9a10841d-1340-46ef-afe1-c71cefd6efac"
            }
        },
        {
            "cell_type": "code",
            "source": [
                "N_max = int(np.sqrt(len(is_prime)))\n",
                "for j in range(2, N_max):\n",
                "    is_prime[2 * j :: j] = False\n",
                "\n",
                "is_prime"
            ],
            "metadata": {
                "azdata_cell_guid": "037854ef-293e-4fc2-b7ba-f74afe9723c3"
            },
            "outputs": [
                {
                    "data": {
                        "text/plain": "array([False, False,  True,  True, False,  True, False,  True, False,\n       False, False,  True, False,  True, False, False, False,  True,\n       False,  True, False, False, False,  True, False, False, False,\n       False, False,  True, False,  True, False, False, False, False,\n       False,  True, False, False, False,  True, False,  True, False,\n       False, False,  True, False, False, False, False, False,  True,\n       False, False, False, False, False,  True, False,  True, False,\n       False, False, False, False,  True, False, False, False,  True,\n       False,  True, False, False, False, False, False,  True, False,\n       False, False,  True, False, False, False, False, False,  True,\n       False, False, False, False, False, False, False,  True, False,\n       False])"
                    },
                    "metadata": {},
                    "execution_count": 74,
                    "output_type": "execute_result"
                }
            ],
            "execution_count": 74
        },
        {
            "cell_type": "markdown",
            "source": [
                "## Индексирование масками"
            ],
            "metadata": {
                "azdata_cell_guid": "833bd488-3a07-4969-b52d-4e0b1ce19ec4"
            }
        },
        {
            "cell_type": "code",
            "source": [
                "np.random.seed(3)\n",
                "a = np.random.random_integers(0, 20, 15)\n",
                "a"
            ],
            "metadata": {
                "azdata_cell_guid": "14d02a9c-81f9-488d-ba17-512f41a2fb28"
            },
            "outputs": [
                {
                    "data": {
                        "text/plain": "array([10,  3,  8,  0, 19, 10, 11,  9, 10,  6,  0, 20, 12,  7, 14])"
                    },
                    "metadata": {},
                    "execution_count": 75,
                    "output_type": "execute_result"
                }
            ],
            "execution_count": 75
        },
        {
            "cell_type": "code",
            "source": [
                "(a % 3 == 0)"
            ],
            "metadata": {
                "azdata_cell_guid": "47b0360d-c752-4b1f-b93c-56529a3e910b"
            },
            "outputs": [
                {
                    "data": {
                        "text/plain": "array([False,  True, False,  True, False, False, False,  True, False,\n        True,  True, False,  True, False, False])"
                    },
                    "metadata": {},
                    "execution_count": 76,
                    "output_type": "execute_result"
                }
            ],
            "execution_count": 76
        },
        {
            "cell_type": "code",
            "source": [
                "mask = a % 3 == 0\n",
                "extract_from_a = a[mask]  # or,  a[a%3==0]\n",
                "extract_from_a  # extract a sub-array with the mask"
            ],
            "metadata": {
                "azdata_cell_guid": "68023128-4f4d-4671-88f8-d061eb0da39d"
            },
            "outputs": [
                {
                    "data": {
                        "text/plain": "array([ 3,  0,  9,  6,  0, 12])"
                    },
                    "metadata": {},
                    "execution_count": 77,
                    "output_type": "execute_result"
                }
            ],
            "execution_count": 77
        },
        {
            "cell_type": "markdown",
            "source": [
                "Индексирование маской может быть очень полезным для присваивания значений части элементов массива:\n"
            ],
            "metadata": {
                "azdata_cell_guid": "a9ab8e85-3085-484c-9dc8-1659a5405eb7"
            }
        },
        {
            "cell_type": "code",
            "source": [
                "a[a % 3 == 0] = -1\n",
                "a"
            ],
            "metadata": {
                "azdata_cell_guid": "2e9158d8-2482-45b9-bcd6-5cbfbb838bdb"
            },
            "outputs": [
                {
                    "data": {
                        "text/plain": "array([10, -1,  8, -1, 19, 10, 11, -1, 10, -1, -1, 20, -1,  7, 14])"
                    },
                    "metadata": {},
                    "execution_count": 78,
                    "output_type": "execute_result"
                }
            ],
            "execution_count": 78
        },
        {
            "cell_type": "markdown",
            "source": [
                "### Индексирование массивом целых чисел"
            ],
            "metadata": {
                "azdata_cell_guid": "e2f46655-ae78-4e64-b61e-ba7a1f4a8ce5"
            }
        },
        {
            "cell_type": "code",
            "source": [
                "a = np.arange(0, 100, 10)\n",
                "a"
            ],
            "metadata": {
                "azdata_cell_guid": "a86e1070-a148-4957-bba7-f20cb1c3191c"
            },
            "outputs": [
                {
                    "data": {
                        "text/plain": "array([ 0, 10, 20, 30, 40, 50, 60, 70, 80, 90])"
                    },
                    "metadata": {},
                    "execution_count": 79,
                    "output_type": "execute_result"
                }
            ],
            "execution_count": 79
        },
        {
            "cell_type": "code",
            "source": [
                "a[[2, 3, 2, 4, 2]]  # note: [2, 3, 2, 4, 2] is a Python list"
            ],
            "metadata": {
                "azdata_cell_guid": "c158ec8c-8894-4428-8751-22c815a4517d"
            },
            "outputs": [
                {
                    "data": {
                        "text/plain": "array([20, 30, 20, 40, 20])"
                    },
                    "metadata": {},
                    "execution_count": 80,
                    "output_type": "execute_result"
                }
            ],
            "execution_count": 80
        },
        {
            "cell_type": "code",
            "source": [
                "a[[9, 7]] = -100\n",
                "a"
            ],
            "metadata": {
                "azdata_cell_guid": "c6444ca2-70ed-45e7-9560-72bd73d6583b"
            },
            "outputs": [
                {
                    "data": {
                        "text/plain": "array([   0,   10,   20,   30,   40,   50,   60, -100,   80, -100])"
                    },
                    "metadata": {},
                    "execution_count": 81,
                    "output_type": "execute_result"
                }
            ],
            "execution_count": 81
        },
        {
            "cell_type": "code",
            "source": [
                "a = np.arange(10)\n",
                "idx = np.array([[3, 4], [9, 7]])\n",
                "idx.shape"
            ],
            "metadata": {
                "azdata_cell_guid": "323d3703-f12d-49ff-a1db-5aabc64a6835"
            },
            "outputs": [
                {
                    "data": {
                        "text/plain": "(2, 2)"
                    },
                    "metadata": {},
                    "execution_count": 82,
                    "output_type": "execute_result"
                }
            ],
            "execution_count": 82
        },
        {
            "cell_type": "code",
            "source": [
                "a[idx]"
            ],
            "metadata": {
                "azdata_cell_guid": "8434ee32-90d8-4ef7-b304-9c840f75e5d9"
            },
            "outputs": [
                {
                    "data": {
                        "text/plain": "array([[3, 4],\n       [9, 7]])"
                    },
                    "metadata": {},
                    "execution_count": 84,
                    "output_type": "execute_result"
                }
            ],
            "execution_count": 84
        }
    ]
}