{
    "metadata": {
        "kernelspec": {
            "name": "python3",
            "display_name": "Python 3",
            "language": "python"
        },
        "language_info": {
            "name": "python",
            "version": "3.9.7",
            "mimetype": "text/x-python",
            "codemirror_mode": {
                "name": "ipython",
                "version": 3
            },
            "pygments_lexer": "ipython3",
            "nbconvert_exporter": "python",
            "file_extension": ".py"
        },
        "toc": {
            "base_numbering": 1,
            "nav_menu": {},
            "number_sections": true,
            "sideBar": true,
            "skip_h1_title": false,
            "title_cell": "Table of Contents",
            "title_sidebar": "Contents",
            "toc_cell": false,
            "toc_position": {},
            "toc_section_display": true,
            "toc_window_display": false
        }
    },
    "nbformat_minor": 2,
    "nbformat": 4,
    "cells": [
        {
            "cell_type": "markdown",
            "source": [
                "<center>\n",
                "<img src=\"../../img/ods_stickers.jpg\">\n",
                "    \n",
                "## [mlcourse.ai](https://mlcourse.ai) - Open Machine Learning Course\n",
                "\n",
                "Authors: [Maria Sumarokova](https://www.linkedin.com/in/mariya-sumarokova-230b4054/), and [Yury Kashnitsky](https://www.linkedin.com/in/festline/). Translated and edited by Gleb Filatov, Aleksey Kiselev, [Anastasia Manokhina](https://www.linkedin.com/in/anastasiamanokhina/), [Egor Polusmak](https://www.linkedin.com/in/egor-polusmak/), and [Yuanyuan Pao](https://www.linkedin.com/in/yuanyuanpao/). All content is distributed under the [Creative Commons CC BY-NC-SA 4.0](https://creativecommons.org/licenses/by-nc-sa/4.0/) license."
            ],
            "metadata": {
                "azdata_cell_guid": "b24bd287-66b6-41ba-9fb0-f65640dd6cd3"
            }
        },
        {
            "cell_type": "markdown",
            "source": [
                "# <center> Assignment #3 (demo). Solution\n",
                "## <center>  Decision trees with a toy task and the UCI Adult dataset \n",
                "\n",
                "Same assignment as a [Kaggle Kernel](https://www.kaggle.com/kashnitsky/a3-demo-decision-trees) + [solution](https://www.kaggle.com/kashnitsky/a3-demo-decision-trees-solution). Fill in the answers in the [web-form](https://docs.google.com/forms/d/1wfWYYoqXTkZNOPy1wpewACXaj2MZjBdLOL58htGWYBA/edit)."
            ],
            "metadata": {
                "collapsed": true,
                "azdata_cell_guid": "6d9007ec-f72f-4273-9d7a-9f8190cf9c61"
            }
        },
        {
            "cell_type": "markdown",
            "source": [
                "Let's start by loading all necessary libraries:"
            ],
            "metadata": {
                "azdata_cell_guid": "7e3bc75a-cf45-48c4-baf9-82e690e80360"
            }
        },
        {
            "cell_type": "code",
            "source": [
                "%matplotlib inline\n",
                "from matplotlib import pyplot as plt\n",
                "\n",
                "plt.rcParams[\"figure.figsize\"] = (10, 8)\n",
                "\n",
                "import collections\n",
                "\n",
                "import numpy as np\n",
                "import pandas as pd\n",
                "from sklearn.ensemble import RandomForestClassifier\n",
                "from sklearn.metrics import accuracy_score\n",
                "from sklearn.model_selection import GridSearchCV, cross_val_score\n",
                "from sklearn.preprocessing import LabelEncoder\n",
                "from sklearn.tree import DecisionTreeClassifier, plot_tree"
            ],
            "metadata": {
                "azdata_cell_guid": "63d40067-4f56-43f2-9b6c-9536ba1ff2c2"
            },
            "outputs": [],
            "execution_count": 1
        },
        {
            "cell_type": "markdown",
            "source": [
                "### Part 1. Toy dataset \"Will They? Won't They?\""
            ],
            "metadata": {
                "azdata_cell_guid": "4b48b438-3090-489e-9515-45096e9ebd25"
            }
        },
        {
            "cell_type": "markdown",
            "source": [
                "Your goal is to figure out how decision trees work by walking through a toy problem. While a single decision tree does not yield outstanding results, other performant algorithms like gradient boosting and random forests are based on the same idea. That is why knowing how decision trees work might be useful."
            ],
            "metadata": {
                "azdata_cell_guid": "7983d803-0009-4043-920a-bb509317c5f5"
            }
        },
        {
            "cell_type": "markdown",
            "source": [
                "We'll go through a toy example of binary classification - Person A is deciding whether they will go on a second date with Person B. It will depend on their looks, eloquence, alcohol consumption (only for example), and how much money was spent on the first date."
            ],
            "metadata": {
                "azdata_cell_guid": "b0ab8fc1-2763-4842-b87f-4a667b0b41f0"
            }
        },
        {
            "cell_type": "markdown",
            "source": [
                "#### Creating the dataset"
            ],
            "metadata": {
                "azdata_cell_guid": "fe36330b-1ee1-4600-8e27-79f86b2cc430"
            }
        },
        {
            "cell_type": "code",
            "source": [
                "# Create dataframe with dummy variables\n",
                "def create_df(dic, feature_list):\n",
                "    out = pd.DataFrame(dic)\n",
                "    out = pd.concat([out, pd.get_dummies(out[feature_list])], axis=1)\n",
                "    out.drop(feature_list, axis=1, inplace=True)\n",
                "    return out\n",
                "\n",
                "\n",
                "# Some feature values are present in train and absent in test and vice-versa.\n",
                "def intersect_features(train, test):\n",
                "    common_feat = list(set(train.keys()) & set(test.keys()))\n",
                "    return train[common_feat], test[common_feat]"
            ],
            "metadata": {
                "azdata_cell_guid": "55bf57d8-69fd-4d5f-8f27-2bd2ec2570f6"
            },
            "outputs": [],
            "execution_count": 2
        },
        {
            "cell_type": "code",
            "source": [
                "features = [\"Looks\", \"Alcoholic_beverage\", \"Eloquence\", \"Money_spent\"]"
            ],
            "metadata": {
                "azdata_cell_guid": "d8b5fd1b-35a0-4ae6-98ed-637bc84889de"
            },
            "outputs": [],
            "execution_count": 3
        },
        {
            "cell_type": "markdown",
            "source": [
                "#### Training data"
            ],
            "metadata": {
                "azdata_cell_guid": "6039c273-f11f-47fe-ad0c-6156c1b63cb3"
            }
        },
        {
            "cell_type": "code",
            "source": [
                "df_train = {}\n",
                "df_train[\"Looks\"] = [\n",
                "    \"handsome\",\n",
                "    \"handsome\",\n",
                "    \"handsome\",\n",
                "    \"repulsive\",\n",
                "    \"repulsive\",\n",
                "    \"repulsive\",\n",
                "    \"handsome\",\n",
                "]\n",
                "df_train[\"Alcoholic_beverage\"] = [\"yes\", \"yes\", \"no\", \"no\", \"yes\", \"yes\", \"yes\"]\n",
                "df_train[\"Eloquence\"] = [\"high\", \"low\", \"average\", \"average\", \"low\", \"high\", \"average\"]\n",
                "df_train[\"Money_spent\"] = [\"lots\", \"little\", \"lots\", \"little\", \"lots\", \"lots\", \"lots\"]\n",
                "df_train[\"Will_go\"] = LabelEncoder().fit_transform([\"+\", \"-\", \"+\", \"-\", \"-\", \"+\", \"+\"])\n",
                "\n",
                "df_train = create_df(df_train, features)\n",
                "df_train"
            ],
            "metadata": {
                "azdata_cell_guid": "be74c985-9b1f-4aa7-bc76-ee054d145985"
            },
            "outputs": [
                {
                    "data": {
                        "text/plain": "   Will_go  Looks_handsome  Looks_repulsive  Alcoholic_beverage_no  \\\n0        0               1                0                      0   \n1        1               1                0                      0   \n2        0               1                0                      1   \n3        1               0                1                      1   \n4        1               0                1                      0   \n5        0               0                1                      0   \n6        0               1                0                      0   \n\n   Alcoholic_beverage_yes  Eloquence_average  Eloquence_high  Eloquence_low  \\\n0                       1                  0               1              0   \n1                       1                  0               0              1   \n2                       0                  1               0              0   \n3                       0                  1               0              0   \n4                       1                  0               0              1   \n5                       1                  0               1              0   \n6                       1                  1               0              0   \n\n   Money_spent_little  Money_spent_lots  \n0                   0                 1  \n1                   1                 0  \n2                   0                 1  \n3                   1                 0  \n4                   0                 1  \n5                   0                 1  \n6                   0                 1  ",
                        "text/html": "<div>\n<style scoped>\n    .dataframe tbody tr th:only-of-type {\n        vertical-align: middle;\n    }\n\n    .dataframe tbody tr th {\n        vertical-align: top;\n    }\n\n    .dataframe thead th {\n        text-align: right;\n    }\n</style>\n<table border=\"1\" class=\"dataframe\">\n  <thead>\n    <tr style=\"text-align: right;\">\n      <th></th>\n      <th>Will_go</th>\n      <th>Looks_handsome</th>\n      <th>Looks_repulsive</th>\n      <th>Alcoholic_beverage_no</th>\n      <th>Alcoholic_beverage_yes</th>\n      <th>Eloquence_average</th>\n      <th>Eloquence_high</th>\n      <th>Eloquence_low</th>\n      <th>Money_spent_little</th>\n      <th>Money_spent_lots</th>\n    </tr>\n  </thead>\n  <tbody>\n    <tr>\n      <th>0</th>\n      <td>0</td>\n      <td>1</td>\n      <td>0</td>\n      <td>0</td>\n      <td>1</td>\n      <td>0</td>\n      <td>1</td>\n      <td>0</td>\n      <td>0</td>\n      <td>1</td>\n    </tr>\n    <tr>\n      <th>1</th>\n      <td>1</td>\n      <td>1</td>\n      <td>0</td>\n      <td>0</td>\n      <td>1</td>\n      <td>0</td>\n      <td>0</td>\n      <td>1</td>\n      <td>1</td>\n      <td>0</td>\n    </tr>\n    <tr>\n      <th>2</th>\n      <td>0</td>\n      <td>1</td>\n      <td>0</td>\n      <td>1</td>\n      <td>0</td>\n      <td>1</td>\n      <td>0</td>\n      <td>0</td>\n      <td>0</td>\n      <td>1</td>\n    </tr>\n    <tr>\n      <th>3</th>\n      <td>1</td>\n      <td>0</td>\n      <td>1</td>\n      <td>1</td>\n      <td>0</td>\n      <td>1</td>\n      <td>0</td>\n      <td>0</td>\n      <td>1</td>\n      <td>0</td>\n    </tr>\n    <tr>\n      <th>4</th>\n      <td>1</td>\n      <td>0</td>\n      <td>1</td>\n      <td>0</td>\n      <td>1</td>\n      <td>0</td>\n      <td>0</td>\n      <td>1</td>\n      <td>0</td>\n      <td>1</td>\n    </tr>\n    <tr>\n      <th>5</th>\n      <td>0</td>\n      <td>0</td>\n      <td>1</td>\n      <td>0</td>\n      <td>1</td>\n      <td>0</td>\n      <td>1</td>\n      <td>0</td>\n      <td>0</td>\n      <td>1</td>\n    </tr>\n    <tr>\n      <th>6</th>\n      <td>0</td>\n      <td>1</td>\n      <td>0</td>\n      <td>0</td>\n      <td>1</td>\n      <td>1</td>\n      <td>0</td>\n      <td>0</td>\n      <td>0</td>\n      <td>1</td>\n    </tr>\n  </tbody>\n</table>\n</div>"
                    },
                    "metadata": {},
                    "execution_count": 4,
                    "output_type": "execute_result"
                }
            ],
            "execution_count": 4
        },
        {
            "cell_type": "markdown",
            "source": [
                "#### Test data"
            ],
            "metadata": {
                "azdata_cell_guid": "ef87728d-b209-41b8-b3b2-fc286cd1dcc0"
            }
        },
        {
            "cell_type": "code",
            "source": [
                "df_test = {}\n",
                "df_test[\"Looks\"] = [\"handsome\", \"handsome\", \"repulsive\"]\n",
                "df_test[\"Alcoholic_beverage\"] = [\"no\", \"yes\", \"yes\"]\n",
                "df_test[\"Eloquence\"] = [\"average\", \"high\", \"average\"]\n",
                "df_test[\"Money_spent\"] = [\"lots\", \"little\", \"lots\"]\n",
                "df_test = create_df(df_test, features)\n",
                "df_test"
            ],
            "metadata": {
                "azdata_cell_guid": "2a01ac51-42a5-4c7a-8401-2b380a6407e9"
            },
            "outputs": [
                {
                    "data": {
                        "text/plain": "   Looks_handsome  Looks_repulsive  Alcoholic_beverage_no  \\\n0               1                0                      1   \n1               1                0                      0   \n2               0                1                      0   \n\n   Alcoholic_beverage_yes  Eloquence_average  Eloquence_high  \\\n0                       0                  1               0   \n1                       1                  0               1   \n2                       1                  1               0   \n\n   Money_spent_little  Money_spent_lots  \n0                   0                 1  \n1                   1                 0  \n2                   0                 1  ",
                        "text/html": "<div>\n<style scoped>\n    .dataframe tbody tr th:only-of-type {\n        vertical-align: middle;\n    }\n\n    .dataframe tbody tr th {\n        vertical-align: top;\n    }\n\n    .dataframe thead th {\n        text-align: right;\n    }\n</style>\n<table border=\"1\" class=\"dataframe\">\n  <thead>\n    <tr style=\"text-align: right;\">\n      <th></th>\n      <th>Looks_handsome</th>\n      <th>Looks_repulsive</th>\n      <th>Alcoholic_beverage_no</th>\n      <th>Alcoholic_beverage_yes</th>\n      <th>Eloquence_average</th>\n      <th>Eloquence_high</th>\n      <th>Money_spent_little</th>\n      <th>Money_spent_lots</th>\n    </tr>\n  </thead>\n  <tbody>\n    <tr>\n      <th>0</th>\n      <td>1</td>\n      <td>0</td>\n      <td>1</td>\n      <td>0</td>\n      <td>1</td>\n      <td>0</td>\n      <td>0</td>\n      <td>1</td>\n    </tr>\n    <tr>\n      <th>1</th>\n      <td>1</td>\n      <td>0</td>\n      <td>0</td>\n      <td>1</td>\n      <td>0</td>\n      <td>1</td>\n      <td>1</td>\n      <td>0</td>\n    </tr>\n    <tr>\n      <th>2</th>\n      <td>0</td>\n      <td>1</td>\n      <td>0</td>\n      <td>1</td>\n      <td>1</td>\n      <td>0</td>\n      <td>0</td>\n      <td>1</td>\n    </tr>\n  </tbody>\n</table>\n</div>"
                    },
                    "metadata": {},
                    "execution_count": 5,
                    "output_type": "execute_result"
                }
            ],
            "execution_count": 5
        },
        {
            "cell_type": "code",
            "source": [
                "# Some feature values are present in train and absent in test and vice-versa.\n",
                "y = df_train[\"Will_go\"]\n",
                "df_train, df_test = intersect_features(train=df_train, test=df_test)\n",
                "df_train"
            ],
            "metadata": {
                "azdata_cell_guid": "4d1e9f8f-d967-4395-b45c-4f9914a8005e"
            },
            "outputs": [
                {
                    "data": {
                        "text/plain": "   Looks_handsome  Eloquence_average  Eloquence_high  Looks_repulsive  \\\n0               1                  0               1                0   \n1               1                  0               0                0   \n2               1                  1               0                0   \n3               0                  1               0                1   \n4               0                  0               0                1   \n5               0                  0               1                1   \n6               1                  1               0                0   \n\n   Money_spent_little  Alcoholic_beverage_yes  Money_spent_lots  \\\n0                   0                       1                 1   \n1                   1                       1                 0   \n2                   0                       0                 1   \n3                   1                       0                 0   \n4                   0                       1                 1   \n5                   0                       1                 1   \n6                   0                       1                 1   \n\n   Alcoholic_beverage_no  \n0                      0  \n1                      0  \n2                      1  \n3                      1  \n4                      0  \n5                      0  \n6                      0  ",
                        "text/html": "<div>\n<style scoped>\n    .dataframe tbody tr th:only-of-type {\n        vertical-align: middle;\n    }\n\n    .dataframe tbody tr th {\n        vertical-align: top;\n    }\n\n    .dataframe thead th {\n        text-align: right;\n    }\n</style>\n<table border=\"1\" class=\"dataframe\">\n  <thead>\n    <tr style=\"text-align: right;\">\n      <th></th>\n      <th>Looks_handsome</th>\n      <th>Eloquence_average</th>\n      <th>Eloquence_high</th>\n      <th>Looks_repulsive</th>\n      <th>Money_spent_little</th>\n      <th>Alcoholic_beverage_yes</th>\n      <th>Money_spent_lots</th>\n      <th>Alcoholic_beverage_no</th>\n    </tr>\n  </thead>\n  <tbody>\n    <tr>\n      <th>0</th>\n      <td>1</td>\n      <td>0</td>\n      <td>1</td>\n      <td>0</td>\n      <td>0</td>\n      <td>1</td>\n      <td>1</td>\n      <td>0</td>\n    </tr>\n    <tr>\n      <th>1</th>\n      <td>1</td>\n      <td>0</td>\n      <td>0</td>\n      <td>0</td>\n      <td>1</td>\n      <td>1</td>\n      <td>0</td>\n      <td>0</td>\n    </tr>\n    <tr>\n      <th>2</th>\n      <td>1</td>\n      <td>1</td>\n      <td>0</td>\n      <td>0</td>\n      <td>0</td>\n      <td>0</td>\n      <td>1</td>\n      <td>1</td>\n    </tr>\n    <tr>\n      <th>3</th>\n      <td>0</td>\n      <td>1</td>\n      <td>0</td>\n      <td>1</td>\n      <td>1</td>\n      <td>0</td>\n      <td>0</td>\n      <td>1</td>\n    </tr>\n    <tr>\n      <th>4</th>\n      <td>0</td>\n      <td>0</td>\n      <td>0</td>\n      <td>1</td>\n      <td>0</td>\n      <td>1</td>\n      <td>1</td>\n      <td>0</td>\n    </tr>\n    <tr>\n      <th>5</th>\n      <td>0</td>\n      <td>0</td>\n      <td>1</td>\n      <td>1</td>\n      <td>0</td>\n      <td>1</td>\n      <td>1</td>\n      <td>0</td>\n    </tr>\n    <tr>\n      <th>6</th>\n      <td>1</td>\n      <td>1</td>\n      <td>0</td>\n      <td>0</td>\n      <td>0</td>\n      <td>1</td>\n      <td>1</td>\n      <td>0</td>\n    </tr>\n  </tbody>\n</table>\n</div>"
                    },
                    "metadata": {},
                    "execution_count": 6,
                    "output_type": "execute_result"
                }
            ],
            "execution_count": 6
        },
        {
            "cell_type": "code",
            "source": [
                "df_test"
            ],
            "metadata": {
                "azdata_cell_guid": "82aa8a3a-9e1f-405d-876f-afeea0ec339f"
            },
            "outputs": [
                {
                    "data": {
                        "text/plain": "   Looks_handsome  Eloquence_average  Eloquence_high  Looks_repulsive  \\\n0               1                  1               0                0   \n1               1                  0               1                0   \n2               0                  1               0                1   \n\n   Money_spent_little  Alcoholic_beverage_yes  Money_spent_lots  \\\n0                   0                       0                 1   \n1                   1                       1                 0   \n2                   0                       1                 1   \n\n   Alcoholic_beverage_no  \n0                      1  \n1                      0  \n2                      0  ",
                        "text/html": "<div>\n<style scoped>\n    .dataframe tbody tr th:only-of-type {\n        vertical-align: middle;\n    }\n\n    .dataframe tbody tr th {\n        vertical-align: top;\n    }\n\n    .dataframe thead th {\n        text-align: right;\n    }\n</style>\n<table border=\"1\" class=\"dataframe\">\n  <thead>\n    <tr style=\"text-align: right;\">\n      <th></th>\n      <th>Looks_handsome</th>\n      <th>Eloquence_average</th>\n      <th>Eloquence_high</th>\n      <th>Looks_repulsive</th>\n      <th>Money_spent_little</th>\n      <th>Alcoholic_beverage_yes</th>\n      <th>Money_spent_lots</th>\n      <th>Alcoholic_beverage_no</th>\n    </tr>\n  </thead>\n  <tbody>\n    <tr>\n      <th>0</th>\n      <td>1</td>\n      <td>1</td>\n      <td>0</td>\n      <td>0</td>\n      <td>0</td>\n      <td>0</td>\n      <td>1</td>\n      <td>1</td>\n    </tr>\n    <tr>\n      <th>1</th>\n      <td>1</td>\n      <td>0</td>\n      <td>1</td>\n      <td>0</td>\n      <td>1</td>\n      <td>1</td>\n      <td>0</td>\n      <td>0</td>\n    </tr>\n    <tr>\n      <th>2</th>\n      <td>0</td>\n      <td>1</td>\n      <td>0</td>\n      <td>1</td>\n      <td>0</td>\n      <td>1</td>\n      <td>1</td>\n      <td>0</td>\n    </tr>\n  </tbody>\n</table>\n</div>"
                    },
                    "metadata": {},
                    "execution_count": 7,
                    "output_type": "execute_result"
                }
            ],
            "execution_count": 7
        },
        {
            "cell_type": "markdown",
            "source": [
                "#### Draw a decision tree (by hand or in any graphics editor) for this dataset. Optionally you can also implement tree construction and draw it here."
            ],
            "metadata": {
                "azdata_cell_guid": "a486750e-f730-4512-974f-8ab10eb60b98"
            }
        },
        {
            "cell_type": "markdown",
            "source": [
                "1\\. What is the entropy $S_0$ of the initial system? By system states, we mean values of the binary feature \"Will_go\" - 0 or 1 - two states in total."
            ],
            "metadata": {
                "azdata_cell_guid": "95acda91-008a-4b8e-8fb9-db71dcf4f139"
            }
        },
        {
            "cell_type": "markdown",
            "source": [
                "<font color='red'>Answer: </font>  $S_0 = -\\frac{3}{7}\\log_2{\\frac{3}{7}}-\\frac{4}{7}\\log_2{\\frac{4}{7}} = 0.985$."
            ],
            "metadata": {
                "azdata_cell_guid": "97d92d12-16c6-4614-ac8a-c04c641bbc20"
            }
        },
        {
            "cell_type": "markdown",
            "source": [
                "2\\. Let's split the data by the feature \"Looks_handsome\". What is the entropy $S_1$ of the left group - the one with \"Looks_handsome\". What is the entropy $S_2$ in the opposite group? What is the information gain (IG) if we consider such a split?"
            ],
            "metadata": {
                "azdata_cell_guid": "2e6f45c8-f1b4-41d6-ac69-1cdeb36c3dfe"
            }
        },
        {
            "cell_type": "markdown",
            "source": [
                "<font color='red'>Answer: </font> $S_1 = -\\frac{1}{4}\\log_2{\\frac{1}{4}}-\\frac{3}{4}\\log_2{\\frac{3}{4}} = 0.811$, $S_2 = -\\frac{2}{3}\\log_2{\\frac{2}{3}}-\\frac{1}{3}\\log_2{\\frac{1}{3}} = 0.918$, $IG = S_0-\\frac{4}{7}S_1-\\frac{3}{7}S_2 = 0.128$."
            ],
            "metadata": {
                "azdata_cell_guid": "94d0d8ac-1840-4a42-bee4-5a7d94247e9f"
            }
        },
        {
            "cell_type": "markdown",
            "source": [
                "#### Train a decision tree using sklearn on the training data. You may choose any depth for the tree."
            ],
            "metadata": {
                "azdata_cell_guid": "18abe769-512f-4c4e-9909-bc3330b72b49"
            }
        },
        {
            "cell_type": "code",
            "source": [
                "dt = DecisionTreeClassifier(criterion=\"entropy\", random_state=17)\n",
                "dt.fit(df_train, y);"
            ],
            "metadata": {
                "azdata_cell_guid": "add8f531-cf82-4a4d-a314-02a2e7dd5f61"
            },
            "outputs": [],
            "execution_count": 8
        },
        {
            "cell_type": "markdown",
            "source": [
                "#### Additional: display the resulting tree using graphviz."
            ],
            "metadata": {
                "azdata_cell_guid": "68ababc8-649a-4594-9834-eca7616ab209"
            }
        },
        {
            "cell_type": "code",
            "source": [
                "plot_tree(\n",
                "    dt, feature_names=df_train.columns, filled=True, class_names=[\"Won't go\", \"Will go\"]\n",
                ");"
            ],
            "metadata": {
                "azdata_cell_guid": "64597a7e-3dfc-47f5-8786-a766bb6a52ab"
            },
            "outputs": [
                {
                    "data": {
                        "text/plain": "<Figure size 720x576 with 1 Axes>",
                        "image/png": "[encoded data removed]"
                    },
                    "metadata": {
                        "needs_background": "light"
                    },
                    "output_type": "display_data"
                }
            ],
            "execution_count": 9
        },
        {
            "cell_type": "markdown",
            "source": [
                "### Part 2. Functions for calculating entropy and information gain."
            ],
            "metadata": {
                "azdata_cell_guid": "fdad495e-c00c-4587-8e6a-cef4fa3cabfe"
            }
        },
        {
            "cell_type": "markdown",
            "source": [
                "Consider the following warm-up example: we have 9 blue balls and 11 yellow balls. Let ball have label **1** if it is blue, **0** otherwise."
            ],
            "metadata": {
                "azdata_cell_guid": "3cc85b02-098c-4eb3-b2ef-d2c6ca1698a0"
            }
        },
        {
            "cell_type": "code",
            "source": [
                "balls = [1 for i in range(9)] + [0 for i in range(11)]"
            ],
            "metadata": {
                "azdata_cell_guid": "a95150fc-6466-4fda-8910-df6fc05d6b67"
            },
            "outputs": [],
            "execution_count": 12
        },
        {
            "cell_type": "markdown",
            "source": [
                "<img src = '../../img/decision_tree3.png'>"
            ],
            "metadata": {
                "azdata_cell_guid": "d3aef031-dd98-4a25-8989-de0468162b75"
            }
        },
        {
            "cell_type": "markdown",
            "source": [
                "Next split the balls into two groups:"
            ],
            "metadata": {
                "azdata_cell_guid": "75816029-418c-4dc5-8b83-aeaed691198a"
            }
        },
        {
            "cell_type": "markdown",
            "source": [
                "<img src = '../../img/decision_tree4.png'>"
            ],
            "metadata": {
                "azdata_cell_guid": "ba881404-0866-403b-9453-c80452fc0901"
            }
        },
        {
            "cell_type": "code",
            "source": [
                "# two groups\n",
                "balls_left = [1 for i in range(8)] + [0 for i in range(5)]  # 8 blue and 5 yellow\n",
                "balls_right = [1 for i in range(1)] + [0 for i in range(6)]  # 1 blue and 6 yellow"
            ],
            "metadata": {
                "azdata_cell_guid": "ac53f7d2-292e-4196-9555-b48ba637fb34"
            },
            "outputs": [],
            "execution_count": 11
        },
        {
            "cell_type": "markdown",
            "source": [
                "#### Implement a function to calculate the Shannon Entropy"
            ],
            "metadata": {
                "azdata_cell_guid": "22cdce5e-f6fd-40d7-b992-b251f7c68fb6"
            }
        },
        {
            "cell_type": "code",
            "source": [
                "from math import log\n",
                "\n",
                "\n",
                "def entropy(a_list):\n",
                "    lst = list(a_list)\n",
                "    size = len(lst)\n",
                "    entropy = 0\n",
                "    set_elements = len(set(lst))\n",
                "    if set_elements in [0, 1]:\n",
                "        return 0\n",
                "    for i in set(lst):\n",
                "        occ = lst.count(i)\n",
                "        entropy -= occ / size * log(occ / size, 2)\n",
                "    return entropy"
            ],
            "metadata": {
                "azdata_cell_guid": "d2ccaea1-2394-4dbc-a4a7-e056a7316494"
            },
            "outputs": [],
            "execution_count": 13
        },
        {
            "cell_type": "markdown",
            "source": [
                "Tests"
            ],
            "metadata": {
                "azdata_cell_guid": "a2df30fb-5b16-4c4b-9a6f-ed370e74b391"
            }
        },
        {
            "cell_type": "code",
            "source": [
                "print(entropy(balls))  # 9 blue and 11 yellow ones\n",
                "print(entropy(balls_left))  # 8 blue and 5 yellow ones\n",
                "print(entropy(balls_right))  # 1 blue and 6 yellow ones\n",
                "print(entropy([1, 2, 3, 4, 5, 6]))  # entropy of a fair 6-sided die"
            ],
            "metadata": {
                "azdata_cell_guid": "3bbe25fa-86be-4870-9bfc-7b842ddc3bac"
            },
            "outputs": [
                {
                    "name": "stdout",
                    "text": "0.9927744539878084\n0.961236604722876\n0.5916727785823275\n2.584962500721156\n",
                    "output_type": "stream"
                }
            ],
            "execution_count": 14
        },
        {
            "cell_type": "markdown",
            "source": [
                "3\\. What is the entropy of the state given by the list **balls_left**?"
            ],
            "metadata": {
                "azdata_cell_guid": "e74415b1-5c63-4a44-83aa-9a21f9c03968"
            }
        },
        {
            "cell_type": "markdown",
            "source": [
                "<font color='red'>Answer:</font> 0.961"
            ],
            "metadata": {
                "azdata_cell_guid": "7eacc80a-547b-4c70-b11f-1a17590606b0"
            }
        },
        {
            "cell_type": "markdown",
            "source": [
                "4\\. What is the entropy of a fair dice? (where we look at a dice as a system with 6 equally probable states)?"
            ],
            "metadata": {
                "azdata_cell_guid": "887bfb60-7492-495c-a28f-15a9afe44138"
            }
        },
        {
            "cell_type": "markdown",
            "source": [
                "<font color='red'>Answer:</font> 2.585"
            ],
            "metadata": {
                "azdata_cell_guid": "ced78597-d404-4611-b1fb-422ef567ec79"
            }
        },
        {
            "cell_type": "code",
            "source": [
                "# information gain calculation\n",
                "def information_gain(root, left, right):\n",
                "    \"\"\" root - initial data, left and right - two partitions of initial data\"\"\"\n",
                "\n",
                "    return (\n",
                "        entropy(root)\n",
                "        - 1.0 * len(left) / len(root) * entropy(left)\n",
                "        - 1.0 * len(right) / len(root) * entropy(right)\n",
                "    )"
            ],
            "metadata": {
                "azdata_cell_guid": "93e44fe4-5961-42f3-bdd6-3444f1d8478c"
            },
            "outputs": [],
            "execution_count": 15
        },
        {
            "cell_type": "code",
            "source": [
                "print(information_gain(balls, balls_left, balls_right))"
            ],
            "metadata": {
                "azdata_cell_guid": "14fa120f-3f53-4ef1-b02c-9ebf8244dac4"
            },
            "outputs": [
                {
                    "name": "stdout",
                    "text": "0.16088518841412436\n",
                    "output_type": "stream"
                }
            ],
            "execution_count": 16
        },
        {
            "cell_type": "markdown",
            "source": [
                "5\\. What is the information gain from splitting the initial dataset into **balls_left** and **balls_right** ?"
            ],
            "metadata": {
                "azdata_cell_guid": "2e4cbf18-242a-4599-8b28-272d19085905"
            }
        },
        {
            "cell_type": "markdown",
            "source": [
                "<font color='red'>Answer:</font> 0.161"
            ],
            "metadata": {
                "azdata_cell_guid": "d0dd0c9a-3982-4504-8c2d-68486a715d69"
            }
        },
        {
            "cell_type": "code",
            "source": [
                "def information_gains(X, y):\n",
                "    \"\"\"Outputs information gain when splitting with each feature\"\"\"\n",
                "    out = []\n",
                "    for i in X.columns:\n",
                "        out.append(information_gain(y, y[X[i] == 0], y[X[i] == 1]))\n",
                "    return out"
            ],
            "metadata": {
                "azdata_cell_guid": "48e1bc05-6253-4a09-b843-99cc8dd08c61"
            },
            "outputs": [],
            "execution_count": 17
        },
        {
            "cell_type": "markdown",
            "source": [
                "#### Optional:\n",
                "- Implement a decision tree building algorithm by calling `information_gains` recursively\n",
                "- Plot the resulting tree"
            ],
            "metadata": {
                "azdata_cell_guid": "7738be41-9efd-49ac-ba52-7e1b17cfe882"
            }
        },
        {
            "cell_type": "code",
            "source": [
                "information_gains(df_train, y)"
            ],
            "metadata": {
                "azdata_cell_guid": "9956a978-93a1-4d58-a20b-e760b8c7aefe"
            },
            "outputs": [
                {
                    "data": {
                        "text/plain": "[0.12808527889139454,\n 0.02024420715375619,\n 0.2916919971380598,\n 0.12808527889139454,\n 0.46956521111470706,\n 0.005977711423774124,\n 0.46956521111470706,\n 0.005977711423774124]"
                    },
                    "metadata": {},
                    "execution_count": 18,
                    "output_type": "execute_result"
                }
            ],
            "execution_count": 18
        },
        {
            "cell_type": "code",
            "source": [
                "def btree(X, y, feature_names):\n",
                "    clf = information_gains(X, y)\n",
                "    best_feat_id = clf.index(max(clf))\n",
                "    best_feature = feature_names[best_feat_id]\n",
                "    print(f\"Best feature to split: {best_feature}\")\n",
                "\n",
                "    x_left = X[X.iloc[:, best_feat_id] == 0]\n",
                "    x_right = X[X.iloc[:, best_feat_id] == 1]\n",
                "    print(f\"Samples: {len(x_left)} (left) and {len(x_right)} (right)\")\n",
                "\n",
                "    y_left = y[X.iloc[:, best_feat_id] == 0]\n",
                "    y_right = y[X.iloc[:, best_feat_id] == 1]\n",
                "    entropy_left = entropy(y_left)\n",
                "    entropy_right = entropy(y_right)\n",
                "    print(f\"Entropy: {entropy_left} (left) and {entropy_right} (right)\")\n",
                "    print(\"_\" * 30 + \"\\n\")\n",
                "    if entropy_left != 0:\n",
                "        print(f\"Splitting the left group with {len(x_left)} samples:\")\n",
                "        btree(x_left, y_left, feature_names)\n",
                "    if entropy_right != 0:\n",
                "        print(f\"Splitting the right group with {len(x_right)} samples:\")\n",
                "        btree(x_right, y_right, feature_names)"
            ],
            "metadata": {
                "azdata_cell_guid": "85ee2324-a2bc-4e27-a4bc-d74e9c46b383"
            },
            "outputs": [],
            "execution_count": 19
        },
        {
            "cell_type": "code",
            "source": [
                "btree(df_train, y, df_train.columns)"
            ],
            "metadata": {
                "azdata_cell_guid": "43e3eba5-1d7d-4641-922a-ee71bc855448"
            },
            "outputs": [
                {
                    "name": "stdout",
                    "text": "Best feature to split: Money_spent_little\nSamples: 5 (left) and 2 (right)\nEntropy: 0.7219280948873623 (left) and 0 (right)\n______________________________\n\nSplitting the left group with 5 samples:\nBest feature to split: Looks_handsome\nSamples: 2 (left) and 3 (right)\nEntropy: 1.0 (left) and 0 (right)\n______________________________\n\nSplitting the left group with 2 samples:\nBest feature to split: Eloquence_high\nSamples: 1 (left) and 1 (right)\nEntropy: 0 (left) and 0 (right)\n______________________________\n\n",
                    "output_type": "stream"
                }
            ],
            "execution_count": null
        },
        {
            "cell_type": "markdown",
            "source": [
                "This visualization is far from perfect, but it's easy to grasp if you compare it to the normal tree visualization (by sklearn) done above."
            ],
            "metadata": {
                "azdata_cell_guid": "21dd469f-1305-4e1f-a46e-4bf6cbfbdfa5"
            }
        },
        {
            "cell_type": "markdown",
            "source": [
                "### Part 3. The \"Adult\" dataset"
            ],
            "metadata": {
                "azdata_cell_guid": "7f451548-cafa-4bcf-9aa3-83ddcc036e09"
            }
        },
        {
            "cell_type": "markdown",
            "source": [
                "#### Dataset description:"
            ],
            "metadata": {
                "azdata_cell_guid": "fb4cc9f2-48df-4270-bd06-a8cab10894c5"
            }
        },
        {
            "cell_type": "markdown",
            "source": [
                "[Dataset](http://archive.ics.uci.edu/ml/machine-learning-databases/adult) UCI Adult (no need to download it, we have a copy in the course repository): classify people using demographical data - whether they earn more than \\$50,000 per year or not."
            ],
            "metadata": {
                "azdata_cell_guid": "1e16d130-0706-49e4-97c4-d995e01c46b9"
            }
        },
        {
            "cell_type": "markdown",
            "source": [
                "Feature descriptions:"
            ],
            "metadata": {
                "azdata_cell_guid": "821e5d18-e644-41eb-b484-2a69c23229d8"
            }
        },
        {
            "cell_type": "markdown",
            "source": [
                "- **Age** – continuous feature\n",
                "- **Workclass** –  continuous feature\n",
                "- **fnlwgt** – final weight of object, continuous feature\n",
                "- **Education** –  categorical feature\n",
                "- **Education_Num** – number of years of education, continuous feature\n",
                "- **Martial_Status** –  categorical feature\n",
                "- **Occupation** –  categorical feature\n",
                "- **Relationship** – categorical feature\n",
                "- **Race** – categorical feature\n",
                "- **Sex** – categorical feature\n",
                "- **Capital_Gain** – continuous feature\n",
                "- **Capital_Loss** – continuous feature\n",
                "- **Hours_per_week** – continuous feature\n",
                "- **Country** – categorical feature"
            ],
            "metadata": {
                "azdata_cell_guid": "95bf8a21-e7e7-4194-9163-b6df8d2132fe"
            }
        },
        {
            "cell_type": "markdown",
            "source": [
                "**Target** – earnings level, categorical (binary) feature."
            ],
            "metadata": {
                "azdata_cell_guid": "859a74b2-29bd-41de-a305-d4fa793f7999"
            }
        },
        {
            "cell_type": "markdown",
            "source": [
                "#### Reading train and test data"
            ],
            "metadata": {
                "azdata_cell_guid": "ecfd4add-609f-4169-9a7d-bb3a8c752484"
            }
        },
        {
            "cell_type": "code",
            "source": [
                "data_train = pd.read_csv(\"../../data/adult_train.csv\", sep=\";\")"
            ],
            "metadata": {
                "azdata_cell_guid": "ffbeff8c-defe-43ea-8edb-1af2809eaa3a"
            },
            "outputs": [],
            "execution_count": 21
        },
        {
            "cell_type": "code",
            "source": [
                "data_train.tail()"
            ],
            "metadata": {
                "azdata_cell_guid": "3ddaa3b4-8468-4094-b7c0-357c17efc01c"
            },
            "outputs": [
                {
                    "data": {
                        "text/plain": "       Age      Workclass  fnlwgt    Education  Education_Num  \\\n32556   27        Private  257302   Assoc-acdm             12   \n32557   40        Private  154374      HS-grad              9   \n32558   58        Private  151910      HS-grad              9   \n32559   22        Private  201490      HS-grad              9   \n32560   52   Self-emp-inc  287927      HS-grad              9   \n\n            Martial_Status          Occupation Relationship    Race      Sex  \\\n32556   Married-civ-spouse        Tech-support         Wife   White   Female   \n32557   Married-civ-spouse   Machine-op-inspct      Husband   White     Male   \n32558              Widowed        Adm-clerical    Unmarried   White   Female   \n32559        Never-married        Adm-clerical    Own-child   White     Male   \n32560   Married-civ-spouse     Exec-managerial         Wife   White   Female   \n\n       Capital_Gain  Capital_Loss  Hours_per_week         Country  Target  \n32556             0             0              38   United-States   <=50K  \n32557             0             0              40   United-States    >50K  \n32558             0             0              40   United-States   <=50K  \n32559             0             0              20   United-States   <=50K  \n32560         15024             0              40   United-States    >50K  ",
                        "text/html": "<div>\n<style scoped>\n    .dataframe tbody tr th:only-of-type {\n        vertical-align: middle;\n    }\n\n    .dataframe tbody tr th {\n        vertical-align: top;\n    }\n\n    .dataframe thead th {\n        text-align: right;\n    }\n</style>\n<table border=\"1\" class=\"dataframe\">\n  <thead>\n    <tr style=\"text-align: right;\">\n      <th></th>\n      <th>Age</th>\n      <th>Workclass</th>\n      <th>fnlwgt</th>\n      <th>Education</th>\n      <th>Education_Num</th>\n      <th>Martial_Status</th>\n      <th>Occupation</th>\n      <th>Relationship</th>\n      <th>Race</th>\n      <th>Sex</th>\n      <th>Capital_Gain</th>\n      <th>Capital_Loss</th>\n      <th>Hours_per_week</th>\n      <th>Country</th>\n      <th>Target</th>\n    </tr>\n  </thead>\n  <tbody>\n    <tr>\n      <th>32556</th>\n      <td>27</td>\n      <td>Private</td>\n      <td>257302</td>\n      <td>Assoc-acdm</td>\n      <td>12</td>\n      <td>Married-civ-spouse</td>\n      <td>Tech-support</td>\n      <td>Wife</td>\n      <td>White</td>\n      <td>Female</td>\n      <td>0</td>\n      <td>0</td>\n      <td>38</td>\n      <td>United-States</td>\n      <td>&lt;=50K</td>\n    </tr>\n    <tr>\n      <th>32557</th>\n      <td>40</td>\n      <td>Private</td>\n      <td>154374</td>\n      <td>HS-grad</td>\n      <td>9</td>\n      <td>Married-civ-spouse</td>\n      <td>Machine-op-inspct</td>\n      <td>Husband</td>\n      <td>White</td>\n      <td>Male</td>\n      <td>0</td>\n      <td>0</td>\n      <td>40</td>\n      <td>United-States</td>\n      <td>&gt;50K</td>\n    </tr>\n    <tr>\n      <th>32558</th>\n      <td>58</td>\n      <td>Private</td>\n      <td>151910</td>\n      <td>HS-grad</td>\n      <td>9</td>\n      <td>Widowed</td>\n      <td>Adm-clerical</td>\n      <td>Unmarried</td>\n      <td>White</td>\n      <td>Female</td>\n      <td>0</td>\n      <td>0</td>\n      <td>40</td>\n      <td>United-States</td>\n      <td>&lt;=50K</td>\n    </tr>\n    <tr>\n      <th>32559</th>\n      <td>22</td>\n      <td>Private</td>\n      <td>201490</td>\n      <td>HS-grad</td>\n      <td>9</td>\n      <td>Never-married</td>\n      <td>Adm-clerical</td>\n      <td>Own-child</td>\n      <td>White</td>\n      <td>Male</td>\n      <td>0</td>\n      <td>0</td>\n      <td>20</td>\n      <td>United-States</td>\n      <td>&lt;=50K</td>\n    </tr>\n    <tr>\n      <th>32560</th>\n      <td>52</td>\n      <td>Self-emp-inc</td>\n      <td>287927</td>\n      <td>HS-grad</td>\n      <td>9</td>\n      <td>Married-civ-spouse</td>\n      <td>Exec-managerial</td>\n      <td>Wife</td>\n      <td>White</td>\n      <td>Female</td>\n      <td>15024</td>\n      <td>0</td>\n      <td>40</td>\n      <td>United-States</td>\n      <td>&gt;50K</td>\n    </tr>\n  </tbody>\n</table>\n</div>"
                    },
                    "metadata": {},
                    "execution_count": 22,
                    "output_type": "execute_result"
                }
            ],
            "execution_count": 22
        },
        {
            "cell_type": "code",
            "source": [
                "data_test = pd.read_csv(\"../../data/adult_test.csv\", sep=\";\")"
            ],
            "metadata": {
                "azdata_cell_guid": "89973790-fa10-43b8-8a4a-6c46502ebb0a"
            },
            "outputs": [],
            "execution_count": 23
        },
        {
            "cell_type": "code",
            "source": [
                "data_test.tail()"
            ],
            "metadata": {
                "azdata_cell_guid": "5a72c822-c59f-486d-a5a8-3e8725d41380"
            },
            "outputs": [
                {
                    "data": {
                        "text/plain": "      Age      Workclass    fnlwgt   Education  Education_Num  \\\n16277  39        Private  215419.0   Bachelors           13.0   \n16278  64            NaN  321403.0     HS-grad            9.0   \n16279  38        Private  374983.0   Bachelors           13.0   \n16280  44        Private   83891.0   Bachelors           13.0   \n16281  35   Self-emp-inc  182148.0   Bachelors           13.0   \n\n            Martial_Status        Occupation     Relationship  \\\n16277             Divorced    Prof-specialty    Not-in-family   \n16278              Widowed               NaN   Other-relative   \n16279   Married-civ-spouse    Prof-specialty          Husband   \n16280             Divorced      Adm-clerical        Own-child   \n16281   Married-civ-spouse   Exec-managerial          Husband   \n\n                      Race      Sex  Capital_Gain  Capital_Loss  \\\n16277                White   Female           0.0           0.0   \n16278                Black     Male           0.0           0.0   \n16279                White     Male           0.0           0.0   \n16280   Asian-Pac-Islander     Male        5455.0           0.0   \n16281                White     Male           0.0           0.0   \n\n       Hours_per_week         Country   Target  \n16277            36.0   United-States   <=50K.  \n16278            40.0   United-States   <=50K.  \n16279            50.0   United-States   <=50K.  \n16280            40.0   United-States   <=50K.  \n16281            60.0   United-States    >50K.  ",
                        "text/html": "<div>\n<style scoped>\n    .dataframe tbody tr th:only-of-type {\n        vertical-align: middle;\n    }\n\n    .dataframe tbody tr th {\n        vertical-align: top;\n    }\n\n    .dataframe thead th {\n        text-align: right;\n    }\n</style>\n<table border=\"1\" class=\"dataframe\">\n  <thead>\n    <tr style=\"text-align: right;\">\n      <th></th>\n      <th>Age</th>\n      <th>Workclass</th>\n      <th>fnlwgt</th>\n      <th>Education</th>\n      <th>Education_Num</th>\n      <th>Martial_Status</th>\n      <th>Occupation</th>\n      <th>Relationship</th>\n      <th>Race</th>\n      <th>Sex</th>\n      <th>Capital_Gain</th>\n      <th>Capital_Loss</th>\n      <th>Hours_per_week</th>\n      <th>Country</th>\n      <th>Target</th>\n    </tr>\n  </thead>\n  <tbody>\n    <tr>\n      <th>16277</th>\n      <td>39</td>\n      <td>Private</td>\n      <td>215419.0</td>\n      <td>Bachelors</td>\n      <td>13.0</td>\n      <td>Divorced</td>\n      <td>Prof-specialty</td>\n      <td>Not-in-family</td>\n      <td>White</td>\n      <td>Female</td>\n      <td>0.0</td>\n      <td>0.0</td>\n      <td>36.0</td>\n      <td>United-States</td>\n      <td>&lt;=50K.</td>\n    </tr>\n    <tr>\n      <th>16278</th>\n      <td>64</td>\n      <td>NaN</td>\n      <td>321403.0</td>\n      <td>HS-grad</td>\n      <td>9.0</td>\n      <td>Widowed</td>\n      <td>NaN</td>\n      <td>Other-relative</td>\n      <td>Black</td>\n      <td>Male</td>\n      <td>0.0</td>\n      <td>0.0</td>\n      <td>40.0</td>\n      <td>United-States</td>\n      <td>&lt;=50K.</td>\n    </tr>\n    <tr>\n      <th>16279</th>\n      <td>38</td>\n      <td>Private</td>\n      <td>374983.0</td>\n      <td>Bachelors</td>\n      <td>13.0</td>\n      <td>Married-civ-spouse</td>\n      <td>Prof-specialty</td>\n      <td>Husband</td>\n      <td>White</td>\n      <td>Male</td>\n      <td>0.0</td>\n      <td>0.0</td>\n      <td>50.0</td>\n      <td>United-States</td>\n      <td>&lt;=50K.</td>\n    </tr>\n    <tr>\n      <th>16280</th>\n      <td>44</td>\n      <td>Private</td>\n      <td>83891.0</td>\n      <td>Bachelors</td>\n      <td>13.0</td>\n      <td>Divorced</td>\n      <td>Adm-clerical</td>\n      <td>Own-child</td>\n      <td>Asian-Pac-Islander</td>\n      <td>Male</td>\n      <td>5455.0</td>\n      <td>0.0</td>\n      <td>40.0</td>\n      <td>United-States</td>\n      <td>&lt;=50K.</td>\n    </tr>\n    <tr>\n      <th>16281</th>\n      <td>35</td>\n      <td>Self-emp-inc</td>\n      <td>182148.0</td>\n      <td>Bachelors</td>\n      <td>13.0</td>\n      <td>Married-civ-spouse</td>\n      <td>Exec-managerial</td>\n      <td>Husband</td>\n      <td>White</td>\n      <td>Male</td>\n      <td>0.0</td>\n      <td>0.0</td>\n      <td>60.0</td>\n      <td>United-States</td>\n      <td>&gt;50K.</td>\n    </tr>\n  </tbody>\n</table>\n</div>"
                    },
                    "metadata": {},
                    "execution_count": 24,
                    "output_type": "execute_result"
                }
            ],
            "execution_count": 24
        },
        {
            "cell_type": "code",
            "source": [
                "# necessary to remove rows with incorrect labels in test dataset\n",
                "data_test = data_test[\n",
                "    (data_test[\"Target\"] == \" >50K.\") | (data_test[\"Target\"] == \" <=50K.\")\n",
                "]\n",
                "\n",
                "# encode target variable as integer\n",
                "data_train.loc[data_train[\"Target\"] == \" <=50K\", \"Target\"] = 0\n",
                "data_train.loc[data_train[\"Target\"] == \" >50K\", \"Target\"] = 1\n",
                "\n",
                "data_test.loc[data_test[\"Target\"] == \" <=50K.\", \"Target\"] = 0\n",
                "data_test.loc[data_test[\"Target\"] == \" >50K.\", \"Target\"] = 1"
            ],
            "metadata": {
                "azdata_cell_guid": "58a64f9b-5e9d-492a-98af-1c9e22561847"
            },
            "outputs": [],
            "execution_count": 25
        },
        {
            "cell_type": "markdown",
            "source": [
                "#### Primary data analysis"
            ],
            "metadata": {
                "azdata_cell_guid": "f5848631-a2ec-4f77-baeb-0faeb8e759be"
            }
        },
        {
            "cell_type": "code",
            "source": [
                "data_test.describe(include=\"all\").T"
            ],
            "metadata": {
                "azdata_cell_guid": "ae317940-2c66-440c-8458-ef494bd21e65"
            },
            "outputs": [
                {
                    "data": {
                        "text/plain": "                  count unique                  top     freq           mean  \\\nAge               16281     73                   35      461            NaN   \nWorkclass         15318      8              Private    11210            NaN   \nfnlwgt          16281.0    NaN                  NaN      NaN  189435.677784   \nEducation         16281     16              HS-grad     5283            NaN   \nEducation_Num   16281.0    NaN                  NaN      NaN      10.072907   \nMartial_Status    16281      7   Married-civ-spouse     7403            NaN   \nOccupation        15315     14       Prof-specialty     2032            NaN   \nRelationship      16281      6              Husband     6523            NaN   \nRace              16281      5                White    13946            NaN   \nSex               16281      2                 Male    10860            NaN   \nCapital_Gain    16281.0    NaN                  NaN      NaN    1081.905104   \nCapital_Loss    16281.0    NaN                  NaN      NaN      87.899269   \nHours_per_week  16281.0    NaN                  NaN      NaN      40.392236   \nCountry           16007     40        United-States    14662            NaN   \nTarget          16281.0    2.0                  0.0  12435.0            NaN   \n\n                          std      min       25%       50%       75%  \\\nAge                       NaN      NaN       NaN       NaN       NaN   \nWorkclass                 NaN      NaN       NaN       NaN       NaN   \nfnlwgt          105714.907671  13492.0  116736.0  177831.0  238384.0   \nEducation                 NaN      NaN       NaN       NaN       NaN   \nEducation_Num        2.567545      1.0       9.0      10.0      12.0   \nMartial_Status            NaN      NaN       NaN       NaN       NaN   \nOccupation                NaN      NaN       NaN       NaN       NaN   \nRelationship              NaN      NaN       NaN       NaN       NaN   \nRace                      NaN      NaN       NaN       NaN       NaN   \nSex                       NaN      NaN       NaN       NaN       NaN   \nCapital_Gain      7583.935968      0.0       0.0       0.0       0.0   \nCapital_Loss       403.105286      0.0       0.0       0.0       0.0   \nHours_per_week      12.479332      1.0      40.0      40.0      45.0   \nCountry                   NaN      NaN       NaN       NaN       NaN   \nTarget                    NaN      NaN       NaN       NaN       NaN   \n\n                      max  \nAge                   NaN  \nWorkclass             NaN  \nfnlwgt          1490400.0  \nEducation             NaN  \nEducation_Num        16.0  \nMartial_Status        NaN  \nOccupation            NaN  \nRelationship          NaN  \nRace                  NaN  \nSex                   NaN  \nCapital_Gain      99999.0  \nCapital_Loss       3770.0  \nHours_per_week       99.0  \nCountry               NaN  \nTarget                NaN  ",
                        "text/html": "<div>\n<style scoped>\n    .dataframe tbody tr th:only-of-type {\n        vertical-align: middle;\n    }\n\n    .dataframe tbody tr th {\n        vertical-align: top;\n    }\n\n    .dataframe thead th {\n        text-align: right;\n    }\n</style>\n<table border=\"1\" class=\"dataframe\">\n  <thead>\n    <tr style=\"text-align: right;\">\n      <th></th>\n      <th>count</th>\n      <th>unique</th>\n      <th>top</th>\n      <th>freq</th>\n      <th>mean</th>\n      <th>std</th>\n      <th>min</th>\n      <th>25%</th>\n      <th>50%</th>\n      <th>75%</th>\n      <th>max</th>\n    </tr>\n  </thead>\n  <tbody>\n    <tr>\n      <th>Age</th>\n      <td>16281</td>\n      <td>73</td>\n      <td>35</td>\n      <td>461</td>\n      <td>NaN</td>\n      <td>NaN</td>\n      <td>NaN</td>\n      <td>NaN</td>\n      <td>NaN</td>\n      <td>NaN</td>\n      <td>NaN</td>\n    </tr>\n    <tr>\n      <th>Workclass</th>\n      <td>15318</td>\n      <td>8</td>\n      <td>Private</td>\n      <td>11210</td>\n      <td>NaN</td>\n      <td>NaN</td>\n      <td>NaN</td>\n      <td>NaN</td>\n      <td>NaN</td>\n      <td>NaN</td>\n      <td>NaN</td>\n    </tr>\n    <tr>\n      <th>fnlwgt</th>\n      <td>16281.0</td>\n      <td>NaN</td>\n      <td>NaN</td>\n      <td>NaN</td>\n      <td>189435.677784</td>\n      <td>105714.907671</td>\n      <td>13492.0</td>\n      <td>116736.0</td>\n      <td>177831.0</td>\n      <td>238384.0</td>\n      <td>1490400.0</td>\n    </tr>\n    <tr>\n      <th>Education</th>\n      <td>16281</td>\n      <td>16</td>\n      <td>HS-grad</td>\n      <td>5283</td>\n      <td>NaN</td>\n      <td>NaN</td>\n      <td>NaN</td>\n      <td>NaN</td>\n      <td>NaN</td>\n      <td>NaN</td>\n      <td>NaN</td>\n    </tr>\n    <tr>\n      <th>Education_Num</th>\n      <td>16281.0</td>\n      <td>NaN</td>\n      <td>NaN</td>\n      <td>NaN</td>\n      <td>10.072907</td>\n      <td>2.567545</td>\n      <td>1.0</td>\n      <td>9.0</td>\n      <td>10.0</td>\n      <td>12.0</td>\n      <td>16.0</td>\n    </tr>\n    <tr>\n      <th>Martial_Status</th>\n      <td>16281</td>\n      <td>7</td>\n      <td>Married-civ-spouse</td>\n      <td>7403</td>\n      <td>NaN</td>\n      <td>NaN</td>\n      <td>NaN</td>\n      <td>NaN</td>\n      <td>NaN</td>\n      <td>NaN</td>\n      <td>NaN</td>\n    </tr>\n    <tr>\n      <th>Occupation</th>\n      <td>15315</td>\n      <td>14</td>\n      <td>Prof-specialty</td>\n      <td>2032</td>\n      <td>NaN</td>\n      <td>NaN</td>\n      <td>NaN</td>\n      <td>NaN</td>\n      <td>NaN</td>\n      <td>NaN</td>\n      <td>NaN</td>\n    </tr>\n    <tr>\n      <th>Relationship</th>\n      <td>16281</td>\n      <td>6</td>\n      <td>Husband</td>\n      <td>6523</td>\n      <td>NaN</td>\n      <td>NaN</td>\n      <td>NaN</td>\n      <td>NaN</td>\n      <td>NaN</td>\n      <td>NaN</td>\n      <td>NaN</td>\n    </tr>\n    <tr>\n      <th>Race</th>\n      <td>16281</td>\n      <td>5</td>\n      <td>White</td>\n      <td>13946</td>\n      <td>NaN</td>\n      <td>NaN</td>\n      <td>NaN</td>\n      <td>NaN</td>\n      <td>NaN</td>\n      <td>NaN</td>\n      <td>NaN</td>\n    </tr>\n    <tr>\n      <th>Sex</th>\n      <td>16281</td>\n      <td>2</td>\n      <td>Male</td>\n      <td>10860</td>\n      <td>NaN</td>\n      <td>NaN</td>\n      <td>NaN</td>\n      <td>NaN</td>\n      <td>NaN</td>\n      <td>NaN</td>\n      <td>NaN</td>\n    </tr>\n    <tr>\n      <th>Capital_Gain</th>\n      <td>16281.0</td>\n      <td>NaN</td>\n      <td>NaN</td>\n      <td>NaN</td>\n      <td>1081.905104</td>\n      <td>7583.935968</td>\n      <td>0.0</td>\n      <td>0.0</td>\n      <td>0.0</td>\n      <td>0.0</td>\n      <td>99999.0</td>\n    </tr>\n    <tr>\n      <th>Capital_Loss</th>\n      <td>16281.0</td>\n      <td>NaN</td>\n      <td>NaN</td>\n      <td>NaN</td>\n      <td>87.899269</td>\n      <td>403.105286</td>\n      <td>0.0</td>\n      <td>0.0</td>\n      <td>0.0</td>\n      <td>0.0</td>\n      <td>3770.0</td>\n    </tr>\n    <tr>\n      <th>Hours_per_week</th>\n      <td>16281.0</td>\n      <td>NaN</td>\n      <td>NaN</td>\n      <td>NaN</td>\n      <td>40.392236</td>\n      <td>12.479332</td>\n      <td>1.0</td>\n      <td>40.0</td>\n      <td>40.0</td>\n      <td>45.0</td>\n      <td>99.0</td>\n    </tr>\n    <tr>\n      <th>Country</th>\n      <td>16007</td>\n      <td>40</td>\n      <td>United-States</td>\n      <td>14662</td>\n      <td>NaN</td>\n      <td>NaN</td>\n      <td>NaN</td>\n      <td>NaN</td>\n      <td>NaN</td>\n      <td>NaN</td>\n      <td>NaN</td>\n    </tr>\n    <tr>\n      <th>Target</th>\n      <td>16281.0</td>\n      <td>2.0</td>\n      <td>0.0</td>\n      <td>12435.0</td>\n      <td>NaN</td>\n      <td>NaN</td>\n      <td>NaN</td>\n      <td>NaN</td>\n      <td>NaN</td>\n      <td>NaN</td>\n      <td>NaN</td>\n    </tr>\n  </tbody>\n</table>\n</div>"
                    },
                    "metadata": {},
                    "execution_count": 26,
                    "output_type": "execute_result"
                }
            ],
            "execution_count": 26
        },
        {
            "cell_type": "code",
            "source": [
                "data_train[\"Target\"].value_counts()"
            ],
            "metadata": {
                "azdata_cell_guid": "87700389-0d71-4fe6-89ac-d17ef71bc81a"
            },
            "outputs": [
                {
                    "data": {
                        "text/plain": "0    24720\n1     7841\nName: Target, dtype: int64"
                    },
                    "metadata": {},
                    "execution_count": 27,
                    "output_type": "execute_result"
                }
            ],
            "execution_count": 27
        },
        {
            "cell_type": "code",
            "source": [
                "fig = plt.figure(figsize=(25, 15))\n",
                "cols = 5\n",
                "rows = np.ceil(float(data_train.shape[1]) / cols)\n",
                "for i, column in enumerate(data_train.columns):\n",
                "    ax = fig.add_subplot(rows, cols, i + 1)\n",
                "    ax.set_title(column)\n",
                "    if data_train.dtypes[column] == np.object:\n",
                "        data_train[column].value_counts().plot(kind=\"bar\", axes=ax)\n",
                "    else:\n",
                "        data_train[column].hist(axes=ax)\n",
                "        plt.xticks(rotation=\"vertical\")\n",
                "plt.subplots_adjust(hspace=0.7, wspace=0.2)"
            ],
            "metadata": {
                "azdata_cell_guid": "1f052b17-dd86-4843-87e6-fadc90b65f7a"
            },
            "outputs": [
                {
                    "name": "stderr",
                    "text": "<ipython-input-28-ef35fa5cb270>:5: MatplotlibDeprecationWarning: Passing non-integers as three-element position specification is deprecated since 3.3 and will be removed two minor releases later.\n  ax = fig.add_subplot(rows, cols, i + 1)\n<ipython-input-28-ef35fa5cb270>:7: DeprecationWarning: `np.object` is a deprecated alias for the builtin `object`. To silence this warning, use `object` by itself. Doing this will not modify any behavior and is safe. \nDeprecated in NumPy 1.20; for more details and guidance: https://numpy.org/devdocs/release/1.20.0-notes.html#deprecations\n  if data_train.dtypes[column] == np.object:\n",
                    "output_type": "stream"
                },
                {
                    "name": "stderr",
                    "text": "<ipython-input-28-ef35fa5cb270>:5: MatplotlibDeprecationWarning: Passing non-integers as three-element position specification is deprecated since 3.3 and will be removed two minor releases later.\n  ax = fig.add_subplot(rows, cols, i + 1)\n<ipython-input-28-ef35fa5cb270>:7: DeprecationWarning: `np.object` is a deprecated alias for the builtin `object`. To silence this warning, use `object` by itself. Doing this will not modify any behavior and is safe. \nDeprecated in NumPy 1.20; for more details and guidance: https://numpy.org/devdocs/release/1.20.0-notes.html#deprecations\n  if data_train.dtypes[column] == np.object:\n<ipython-input-28-ef35fa5cb270>:5: MatplotlibDeprecationWarning: Passing non-integers as three-element position specification is deprecated since 3.3 and will be removed two minor releases later.\n  ax = fig.add_subplot(rows, cols, i + 1)\n<ipython-input-28-ef35fa5cb270>:7: DeprecationWarning: `np.object` is a deprecated alias for the builtin `object`. To silence this warning, use `object` by itself. Doing this will not modify any behavior and is safe. \nDeprecated in NumPy 1.20; for more details and guidance: https://numpy.org/devdocs/release/1.20.0-notes.html#deprecations\n  if data_train.dtypes[column] == np.object:\n<ipython-input-28-ef35fa5cb270>:5: MatplotlibDeprecationWarning: Passing non-integers as three-element position specification is deprecated since 3.3 and will be removed two minor releases later.\n  ax = fig.add_subplot(rows, cols, i + 1)\n<ipython-input-28-ef35fa5cb270>:7: DeprecationWarning: `np.object` is a deprecated alias for the builtin `object`. To silence this warning, use `object` by itself. Doing this will not modify any behavior and is safe. \nDeprecated in NumPy 1.20; for more details and guidance: https://numpy.org/devdocs/release/1.20.0-notes.html#deprecations\n  if data_train.dtypes[column] == np.object:\n",
                    "output_type": "stream"
                },
                {
                    "name": "stderr",
                    "text": "<ipython-input-28-ef35fa5cb270>:5: MatplotlibDeprecationWarning: Passing non-integers as three-element position specification is deprecated since 3.3 and will be removed two minor releases later.\n  ax = fig.add_subplot(rows, cols, i + 1)\n<ipython-input-28-ef35fa5cb270>:7: DeprecationWarning: `np.object` is a deprecated alias for the builtin `object`. To silence this warning, use `object` by itself. Doing this will not modify any behavior and is safe. \nDeprecated in NumPy 1.20; for more details and guidance: https://numpy.org/devdocs/release/1.20.0-notes.html#deprecations\n  if data_train.dtypes[column] == np.object:\n<ipython-input-28-ef35fa5cb270>:5: MatplotlibDeprecationWarning: Passing non-integers as three-element position specification is deprecated since 3.3 and will be removed two minor releases later.\n  ax = fig.add_subplot(rows, cols, i + 1)\n<ipython-input-28-ef35fa5cb270>:7: DeprecationWarning: `np.object` is a deprecated alias for the builtin `object`. To silence this warning, use `object` by itself. Doing this will not modify any behavior and is safe. \nDeprecated in NumPy 1.20; for more details and guidance: https://numpy.org/devdocs/release/1.20.0-notes.html#deprecations\n  if data_train.dtypes[column] == np.object:\n<ipython-input-28-ef35fa5cb270>:5: MatplotlibDeprecationWarning: Passing non-integers as three-element position specification is deprecated since 3.3 and will be removed two minor releases later.\n  ax = fig.add_subplot(rows, cols, i + 1)\n<ipython-input-28-ef35fa5cb270>:7: DeprecationWarning: `np.object` is a deprecated alias for the builtin `object`. To silence this warning, use `object` by itself. Doing this will not modify any behavior and is safe. \nDeprecated in NumPy 1.20; for more details and guidance: https://numpy.org/devdocs/release/1.20.0-notes.html#deprecations\n  if data_train.dtypes[column] == np.object:\n<ipython-input-28-ef35fa5cb270>:5: MatplotlibDeprecationWarning: Passing non-integers as three-element position specification is deprecated since 3.3 and will be removed two minor releases later.\n  ax = fig.add_subplot(rows, cols, i + 1)\n",
                    "output_type": "stream"
                },
                {
                    "name": "stderr",
                    "text": "<ipython-input-28-ef35fa5cb270>:7: DeprecationWarning: `np.object` is a deprecated alias for the builtin `object`. To silence this warning, use `object` by itself. Doing this will not modify any behavior and is safe. \nDeprecated in NumPy 1.20; for more details and guidance: https://numpy.org/devdocs/release/1.20.0-notes.html#deprecations\n  if data_train.dtypes[column] == np.object:\n<ipython-input-28-ef35fa5cb270>:5: MatplotlibDeprecationWarning: Passing non-integers as three-element position specification is deprecated since 3.3 and will be removed two minor releases later.\n  ax = fig.add_subplot(rows, cols, i + 1)\n<ipython-input-28-ef35fa5cb270>:7: DeprecationWarning: `np.object` is a deprecated alias for the builtin `object`. To silence this warning, use `object` by itself. Doing this will not modify any behavior and is safe. \nDeprecated in NumPy 1.20; for more details and guidance: https://numpy.org/devdocs/release/1.20.0-notes.html#deprecations\n  if data_train.dtypes[column] == np.object:\n",
                    "output_type": "stream"
                },
                {
                    "name": "stderr",
                    "text": "<ipython-input-28-ef35fa5cb270>:5: MatplotlibDeprecationWarning: Passing non-integers as three-element position specification is deprecated since 3.3 and will be removed two minor releases later.\n  ax = fig.add_subplot(rows, cols, i + 1)\n<ipython-input-28-ef35fa5cb270>:7: DeprecationWarning: `np.object` is a deprecated alias for the builtin `object`. To silence this warning, use `object` by itself. Doing this will not modify any behavior and is safe. \nDeprecated in NumPy 1.20; for more details and guidance: https://numpy.org/devdocs/release/1.20.0-notes.html#deprecations\n  if data_train.dtypes[column] == np.object:\n",
                    "output_type": "stream"
                },
                {
                    "data": {
                        "text/plain": "<Figure size 1800x1080 with 15 Axes>",
                        "image/png": "[encoded data removed]"
                    },
                    "metadata": {
                        "needs_background": "light"
                    },
                    "output_type": "display_data"
                }
            ],
            "execution_count": 28
        },
        {
            "cell_type": "markdown",
            "source": [
                "#### Checking data types"
            ],
            "metadata": {
                "azdata_cell_guid": "8e18b0a1-5585-4e2f-bb28-4e17ef32e25e"
            }
        },
        {
            "cell_type": "code",
            "source": [
                "data_train.dtypes"
            ],
            "metadata": {
                "azdata_cell_guid": "a4d7b5c0-7e95-4890-89dd-3ec57648c95d"
            },
            "outputs": [
                {
                    "data": {
                        "text/plain": "Age                int64\nWorkclass         object\nfnlwgt             int64\nEducation         object\nEducation_Num      int64\nMartial_Status    object\nOccupation        object\nRelationship      object\nRace              object\nSex               object\nCapital_Gain       int64\nCapital_Loss       int64\nHours_per_week     int64\nCountry           object\nTarget            object\ndtype: object"
                    },
                    "metadata": {},
                    "execution_count": 29,
                    "output_type": "execute_result"
                }
            ],
            "execution_count": 29
        },
        {
            "cell_type": "code",
            "source": [
                "data_test.dtypes"
            ],
            "metadata": {
                "azdata_cell_guid": "92d7ecb2-f680-483c-bc1c-435e00ad8dd8"
            },
            "outputs": [
                {
                    "data": {
                        "text/plain": "Age                object\nWorkclass          object\nfnlwgt            float64\nEducation          object\nEducation_Num     float64\nMartial_Status     object\nOccupation         object\nRelationship       object\nRace               object\nSex                object\nCapital_Gain      float64\nCapital_Loss      float64\nHours_per_week    float64\nCountry            object\nTarget             object\ndtype: object"
                    },
                    "metadata": {},
                    "execution_count": 30,
                    "output_type": "execute_result"
                }
            ],
            "execution_count": 30
        },
        {
            "cell_type": "markdown",
            "source": [
                "As we see, in the test data, age is treated as type **object**. We need to fix this."
            ],
            "metadata": {
                "azdata_cell_guid": "9300b37f-7e5c-4ab1-ad2c-cecc7dc437eb"
            }
        },
        {
            "cell_type": "code",
            "source": [
                "data_test[\"Age\"] = data_test[\"Age\"].astype(int)"
            ],
            "metadata": {
                "azdata_cell_guid": "0bee189e-8b05-4eb9-bda8-bc6e4b2b462c"
            },
            "outputs": [],
            "execution_count": 31
        },
        {
            "cell_type": "markdown",
            "source": [
                "Also we'll cast all **float** features to **int** type to keep types consistent between our train and test data."
            ],
            "metadata": {
                "azdata_cell_guid": "b2008f72-f989-4a89-be37-19f72bf154aa"
            }
        },
        {
            "cell_type": "code",
            "source": [
                "data_test[\"fnlwgt\"] = data_test[\"fnlwgt\"].astype(int)\n",
                "data_test[\"Education_Num\"] = data_test[\"Education_Num\"].astype(int)\n",
                "data_test[\"Capital_Gain\"] = data_test[\"Capital_Gain\"].astype(int)\n",
                "data_test[\"Capital_Loss\"] = data_test[\"Capital_Loss\"].astype(int)\n",
                "data_test[\"Hours_per_week\"] = data_test[\"Hours_per_week\"].astype(int)"
            ],
            "metadata": {
                "azdata_cell_guid": "2d12b2bc-c22a-42fc-b155-7dfcd37e942d"
            },
            "outputs": [],
            "execution_count": 32
        },
        {
            "cell_type": "markdown",
            "source": [
                "#### Fill in missing data for continuous features with their median values, for categorical features with their mode."
            ],
            "metadata": {
                "azdata_cell_guid": "161cc718-23c5-4dff-bb0b-46db71d9c8f2"
            }
        },
        {
            "cell_type": "code",
            "source": [
                "# we see some missing values\n",
                "data_train.info()"
            ],
            "metadata": {
                "azdata_cell_guid": "5fe93e2a-c2b2-4627-9f10-363733c98c97"
            },
            "outputs": [
                {
                    "name": "stdout",
                    "text": "<class 'pandas.core.frame.DataFrame'>\nRangeIndex: 32561 entries, 0 to 32560\nData columns (total 15 columns):\n #   Column          Non-Null Count  Dtype \n---  ------          --------------  ----- \n 0   Age             32561 non-null  int64 \n 1   Workclass       30725 non-null  object\n 2   fnlwgt          32561 non-null  int64 \n 3   Education       32561 non-null  object\n 4   Education_Num   32561 non-null  int64 \n 5   Martial_Status  32561 non-null  object\n 6   Occupation      30718 non-null  object\n 7   Relationship    32561 non-null  object\n 8   Race            32561 non-null  object\n 9   Sex             32561 non-null  object\n 10  Capital_Gain    32561 non-null  int64 \n 11  Capital_Loss    32561 non-null  int64 \n 12  Hours_per_week  32561 non-null  int64 \n 13  Country         31978 non-null  object\n 14  Target          32561 non-null  object\ndtypes: int64(6), object(9)\nmemory usage: 3.7+ MB\n",
                    "output_type": "stream"
                }
            ],
            "execution_count": 33
        },
        {
            "cell_type": "code",
            "source": [
                "# choose categorical and continuous features from data\n",
                "\n",
                "categorical_columns = [\n",
                "    c for c in data_train.columns if data_train[c].dtype.name == \"object\"\n",
                "]\n",
                "numerical_columns = [\n",
                "    c for c in data_train.columns if data_train[c].dtype.name != \"object\"\n",
                "]\n",
                "\n",
                "print(\"categorical_columns:\", categorical_columns)\n",
                "print(\"numerical_columns:\", numerical_columns)"
            ],
            "metadata": {
                "azdata_cell_guid": "7d6dddef-9391-41af-9c43-5bb12c45f9e1"
            },
            "outputs": [
                {
                    "name": "stdout",
                    "text": "categorical_columns: ['Workclass', 'Education', 'Martial_Status', 'Occupation', 'Relationship', 'Race', 'Sex', 'Country', 'Target']\nnumerical_columns: ['Age', 'fnlwgt', 'Education_Num', 'Capital_Gain', 'Capital_Loss', 'Hours_per_week']\n",
                    "output_type": "stream"
                }
            ],
            "execution_count": 34
        },
        {
            "cell_type": "code",
            "source": [
                "# fill missing data\n",
                "\n",
                "for c in categorical_columns:\n",
                "    data_train[c].fillna(data_train[c].mode()[0], inplace=True)\n",
                "    data_test[c].fillna(data_train[c].mode()[0], inplace=True)\n",
                "\n",
                "for c in numerical_columns:\n",
                "    data_train[c].fillna(data_train[c].median(), inplace=True)\n",
                "    data_test[c].fillna(data_train[c].median(), inplace=True)"
            ],
            "metadata": {
                "azdata_cell_guid": "807b5049-d692-45b0-89a5-83270f91d912"
            },
            "outputs": [],
            "execution_count": 35
        },
        {
            "cell_type": "code",
            "source": [
                "# no more missing values\n",
                "data_train.info()"
            ],
            "metadata": {
                "azdata_cell_guid": "eb15c62c-3c4e-4213-9fc0-72225e1f402c"
            },
            "outputs": [
                {
                    "name": "stdout",
                    "text": "<class 'pandas.core.frame.DataFrame'>\nRangeIndex: 32561 entries, 0 to 32560\nData columns (total 15 columns):\n #   Column          Non-Null Count  Dtype \n---  ------          --------------  ----- \n 0   Age             32561 non-null  int64 \n 1   Workclass       32561 non-null  object\n 2   fnlwgt          32561 non-null  int64 \n 3   Education       32561 non-null  object\n 4   Education_Num   32561 non-null  int64 \n 5   Martial_Status  32561 non-null  object\n 6   Occupation      32561 non-null  object\n 7   Relationship    32561 non-null  object\n 8   Race            32561 non-null  object\n 9   Sex             32561 non-null  object\n 10  Capital_Gain    32561 non-null  int64 \n 11  Capital_Loss    32561 non-null  int64 \n 12  Hours_per_week  32561 non-null  int64 \n 13  Country         32561 non-null  object\n 14  Target          32561 non-null  int64 \ndtypes: int64(7), object(8)\nmemory usage: 3.7+ MB\n",
                    "output_type": "stream"
                }
            ],
            "execution_count": 36
        },
        {
            "cell_type": "markdown",
            "source": [
                "We'll dummy code some categorical features: **Workclass**, **Education**, **Martial_Status**, **Occupation**, **Relationship**, **Race**, **Sex**, **Country**. It can be done via pandas method **get_dummies**"
            ],
            "metadata": {
                "azdata_cell_guid": "96b3ac61-0308-414f-91ac-60bbc65d719f"
            }
        },
        {
            "cell_type": "code",
            "source": [
                "data_train = pd.concat(\n",
                "    [data_train[numerical_columns], pd.get_dummies(data_train[categorical_columns])],\n",
                "    axis=1,\n",
                ")\n",
                "\n",
                "data_test = pd.concat(\n",
                "    [data_test[numerical_columns], pd.get_dummies(data_test[categorical_columns])],\n",
                "    axis=1,\n",
                ")"
            ],
            "metadata": {
                "azdata_cell_guid": "be95d432-6200-432b-ba4b-8231e1f96b6c"
            },
            "outputs": [],
            "execution_count": 37
        },
        {
            "cell_type": "code",
            "source": [
                "set(data_train.columns) - set(data_test.columns)"
            ],
            "metadata": {
                "azdata_cell_guid": "fdbdfcee-7c1e-4cc0-98ae-7aea880d8a04"
            },
            "outputs": [
                {
                    "data": {
                        "text/plain": "{'Country_ Holand-Netherlands'}"
                    },
                    "metadata": {},
                    "execution_count": 38,
                    "output_type": "execute_result"
                }
            ],
            "execution_count": 38
        },
        {
            "cell_type": "code",
            "source": [
                "data_train.shape, data_test.shape"
            ],
            "metadata": {
                "azdata_cell_guid": "236443dd-6196-48ae-890a-c72719c00e03"
            },
            "outputs": [
                {
                    "data": {
                        "text/plain": "((32561, 106), (16281, 105))"
                    },
                    "metadata": {},
                    "execution_count": 39,
                    "output_type": "execute_result"
                }
            ],
            "execution_count": 39
        },
        {
            "cell_type": "markdown",
            "source": [
                "#### There is no Holland in the test data. Create new zero-valued feature."
            ],
            "metadata": {
                "azdata_cell_guid": "b74094a8-3ea8-4576-838b-4ac7865f675c"
            }
        },
        {
            "cell_type": "code",
            "source": [
                "data_test[\"Country_ Holand-Netherlands\"] = 0"
            ],
            "metadata": {
                "azdata_cell_guid": "2a0e926f-9134-434d-958e-d14dc57e3dbb"
            },
            "outputs": [],
            "execution_count": 40
        },
        {
            "cell_type": "code",
            "source": [
                "set(data_train.columns) - set(data_test.columns)"
            ],
            "metadata": {
                "azdata_cell_guid": "d1ca4d06-021b-4d2d-a193-1659466e0689"
            },
            "outputs": [
                {
                    "data": {
                        "text/plain": "set()"
                    },
                    "metadata": {},
                    "execution_count": 41,
                    "output_type": "execute_result"
                }
            ],
            "execution_count": 41
        },
        {
            "cell_type": "code",
            "source": [
                "data_train.head(2)"
            ],
            "metadata": {
                "azdata_cell_guid": "4bd753cf-8a5a-4a92-8337-fbefb8f36c34"
            },
            "outputs": [
                {
                    "data": {
                        "text/plain": "   Age  fnlwgt  Education_Num  Capital_Gain  Capital_Loss  Hours_per_week  \\\n0   39   77516             13          2174             0              40   \n1   50   83311             13             0             0              13   \n\n   Target  Workclass_ Federal-gov  Workclass_ Local-gov  \\\n0       0                       0                     0   \n1       0                       0                     0   \n\n   Workclass_ Never-worked  ...  Country_ Portugal  Country_ Puerto-Rico  \\\n0                        0  ...                  0                     0   \n1                        0  ...                  0                     0   \n\n   Country_ Scotland  Country_ South  Country_ Taiwan  Country_ Thailand  \\\n0                  0               0                0                  0   \n1                  0               0                0                  0   \n\n   Country_ Trinadad&Tobago  Country_ United-States  Country_ Vietnam  \\\n0                         0                       1                 0   \n1                         0                       1                 0   \n\n   Country_ Yugoslavia  \n0                    0  \n1                    0  \n\n[2 rows x 106 columns]",
                        "text/html": "<div>\n<style scoped>\n    .dataframe tbody tr th:only-of-type {\n        vertical-align: middle;\n    }\n\n    .dataframe tbody tr th {\n        vertical-align: top;\n    }\n\n    .dataframe thead th {\n        text-align: right;\n    }\n</style>\n<table border=\"1\" class=\"dataframe\">\n  <thead>\n    <tr style=\"text-align: right;\">\n      <th></th>\n      <th>Age</th>\n      <th>fnlwgt</th>\n      <th>Education_Num</th>\n      <th>Capital_Gain</th>\n      <th>Capital_Loss</th>\n      <th>Hours_per_week</th>\n      <th>Target</th>\n      <th>Workclass_ Federal-gov</th>\n      <th>Workclass_ Local-gov</th>\n      <th>Workclass_ Never-worked</th>\n      <th>...</th>\n      <th>Country_ Portugal</th>\n      <th>Country_ Puerto-Rico</th>\n      <th>Country_ Scotland</th>\n      <th>Country_ South</th>\n      <th>Country_ Taiwan</th>\n      <th>Country_ Thailand</th>\n      <th>Country_ Trinadad&amp;Tobago</th>\n      <th>Country_ United-States</th>\n      <th>Country_ Vietnam</th>\n      <th>Country_ Yugoslavia</th>\n    </tr>\n  </thead>\n  <tbody>\n    <tr>\n      <th>0</th>\n      <td>39</td>\n      <td>77516</td>\n      <td>13</td>\n      <td>2174</td>\n      <td>0</td>\n      <td>40</td>\n      <td>0</td>\n      <td>0</td>\n      <td>0</td>\n      <td>0</td>\n      <td>...</td>\n      <td>0</td>\n      <td>0</td>\n      <td>0</td>\n      <td>0</td>\n      <td>0</td>\n      <td>0</td>\n      <td>0</td>\n      <td>1</td>\n      <td>0</td>\n      <td>0</td>\n    </tr>\n    <tr>\n      <th>1</th>\n      <td>50</td>\n      <td>83311</td>\n      <td>13</td>\n      <td>0</td>\n      <td>0</td>\n      <td>13</td>\n      <td>0</td>\n      <td>0</td>\n      <td>0</td>\n      <td>0</td>\n      <td>...</td>\n      <td>0</td>\n      <td>0</td>\n      <td>0</td>\n      <td>0</td>\n      <td>0</td>\n      <td>0</td>\n      <td>0</td>\n      <td>1</td>\n      <td>0</td>\n      <td>0</td>\n    </tr>\n  </tbody>\n</table>\n<p>2 rows × 106 columns</p>\n</div>"
                    },
                    "metadata": {},
                    "execution_count": 42,
                    "output_type": "execute_result"
                }
            ],
            "execution_count": 42
        },
        {
            "cell_type": "code",
            "source": [
                "data_test.head(2)"
            ],
            "metadata": {
                "azdata_cell_guid": "21e68b10-fe07-4114-a0ef-d1e03cf375cb"
            },
            "outputs": [
                {
                    "data": {
                        "text/plain": "   Age  fnlwgt  Education_Num  Capital_Gain  Capital_Loss  Hours_per_week  \\\n1   25  226802              7             0             0              40   \n2   38   89814              9             0             0              50   \n\n   Target  Workclass_ Federal-gov  Workclass_ Local-gov  \\\n1       0                       0                     0   \n2       0                       0                     0   \n\n   Workclass_ Never-worked  ...  Country_ Puerto-Rico  Country_ Scotland  \\\n1                        0  ...                     0                  0   \n2                        0  ...                     0                  0   \n\n   Country_ South  Country_ Taiwan  Country_ Thailand  \\\n1               0                0                  0   \n2               0                0                  0   \n\n   Country_ Trinadad&Tobago  Country_ United-States  Country_ Vietnam  \\\n1                         0                       1                 0   \n2                         0                       1                 0   \n\n   Country_ Yugoslavia  Country_ Holand-Netherlands  \n1                    0                            0  \n2                    0                            0  \n\n[2 rows x 106 columns]",
                        "text/html": "<div>\n<style scoped>\n    .dataframe tbody tr th:only-of-type {\n        vertical-align: middle;\n    }\n\n    .dataframe tbody tr th {\n        vertical-align: top;\n    }\n\n    .dataframe thead th {\n        text-align: right;\n    }\n</style>\n<table border=\"1\" class=\"dataframe\">\n  <thead>\n    <tr style=\"text-align: right;\">\n      <th></th>\n      <th>Age</th>\n      <th>fnlwgt</th>\n      <th>Education_Num</th>\n      <th>Capital_Gain</th>\n      <th>Capital_Loss</th>\n      <th>Hours_per_week</th>\n      <th>Target</th>\n      <th>Workclass_ Federal-gov</th>\n      <th>Workclass_ Local-gov</th>\n      <th>Workclass_ Never-worked</th>\n      <th>...</th>\n      <th>Country_ Puerto-Rico</th>\n      <th>Country_ Scotland</th>\n      <th>Country_ South</th>\n      <th>Country_ Taiwan</th>\n      <th>Country_ Thailand</th>\n      <th>Country_ Trinadad&amp;Tobago</th>\n      <th>Country_ United-States</th>\n      <th>Country_ Vietnam</th>\n      <th>Country_ Yugoslavia</th>\n      <th>Country_ Holand-Netherlands</th>\n    </tr>\n  </thead>\n  <tbody>\n    <tr>\n      <th>1</th>\n      <td>25</td>\n      <td>226802</td>\n      <td>7</td>\n      <td>0</td>\n      <td>0</td>\n      <td>40</td>\n      <td>0</td>\n      <td>0</td>\n      <td>0</td>\n      <td>0</td>\n      <td>...</td>\n      <td>0</td>\n      <td>0</td>\n      <td>0</td>\n      <td>0</td>\n      <td>0</td>\n      <td>0</td>\n      <td>1</td>\n      <td>0</td>\n      <td>0</td>\n      <td>0</td>\n    </tr>\n    <tr>\n      <th>2</th>\n      <td>38</td>\n      <td>89814</td>\n      <td>9</td>\n      <td>0</td>\n      <td>0</td>\n      <td>50</td>\n      <td>0</td>\n      <td>0</td>\n      <td>0</td>\n      <td>0</td>\n      <td>...</td>\n      <td>0</td>\n      <td>0</td>\n      <td>0</td>\n      <td>0</td>\n      <td>0</td>\n      <td>0</td>\n      <td>1</td>\n      <td>0</td>\n      <td>0</td>\n      <td>0</td>\n    </tr>\n  </tbody>\n</table>\n<p>2 rows × 106 columns</p>\n</div>"
                    },
                    "metadata": {},
                    "execution_count": 43,
                    "output_type": "execute_result"
                }
            ],
            "execution_count": 43
        },
        {
            "cell_type": "code",
            "source": [
                "X_train = data_train.drop([\"Target\"], axis=1)\n",
                "y_train = data_train[\"Target\"]\n",
                "\n",
                "X_test = data_test.drop([\"Target\"], axis=1)\n",
                "y_test = data_test[\"Target\"]"
            ],
            "metadata": {
                "azdata_cell_guid": "3542fceb-b91c-4d90-8eaa-07af19c4a1c5"
            },
            "outputs": [],
            "execution_count": 44
        },
        {
            "cell_type": "markdown",
            "source": [
                "### 3.1 Decision tree without parameter tuning"
            ],
            "metadata": {
                "azdata_cell_guid": "4561e6b4-bd80-4148-b78b-ccc7d31a883a"
            }
        },
        {
            "cell_type": "markdown",
            "source": [
                "Train a decision tree **(DecisionTreeClassifier)** with a maximum depth of 3, and evaluate the accuracy metric on the test data. Use parameter **random_state = 17** for results reproducibility."
            ],
            "metadata": {
                "azdata_cell_guid": "f087e133-fc49-47bc-a179-194707f8bb04"
            }
        },
        {
            "cell_type": "code",
            "source": [
                "tree = DecisionTreeClassifier(max_depth=3, random_state=17)\n",
                "tree.fit(X_train, y_train)"
            ],
            "metadata": {
                "azdata_cell_guid": "7d5cc75a-1a87-4ef0-841e-b13869a87fde"
            },
            "outputs": [
                {
                    "data": {
                        "text/plain": "DecisionTreeClassifier(max_depth=3, random_state=17)"
                    },
                    "metadata": {},
                    "execution_count": 45,
                    "output_type": "execute_result"
                }
            ],
            "execution_count": 45
        },
        {
            "cell_type": "code",
            "source": [
                "X_test"
            ],
            "metadata": {
                "azdata_cell_guid": "ae112294-de0c-4f9b-b648-33904bfaf747"
            },
            "outputs": [
                {
                    "data": {
                        "text/plain": "       Age  fnlwgt  Education_Num  Capital_Gain  Capital_Loss  Hours_per_week  \\\n1       25  226802              7             0             0              40   \n2       38   89814              9             0             0              50   \n3       28  336951             12             0             0              40   \n4       44  160323             10          7688             0              40   \n5       18  103497             10             0             0              30   \n...    ...     ...            ...           ...           ...             ...   \n16277   39  215419             13             0             0              36   \n16278   64  321403              9             0             0              40   \n16279   38  374983             13             0             0              50   \n16280   44   83891             13          5455             0              40   \n16281   35  182148             13             0             0              60   \n\n       Workclass_ Federal-gov  Workclass_ Local-gov  Workclass_ Never-worked  \\\n1                           0                     0                        0   \n2                           0                     0                        0   \n3                           0                     1                        0   \n4                           0                     0                        0   \n5                           0                     0                        0   \n...                       ...                   ...                      ...   \n16277                       0                     0                        0   \n16278                       0                     0                        0   \n16279                       0                     0                        0   \n16280                       0                     0                        0   \n16281                       0                     0                        0   \n\n       Workclass_ Private  ...  Country_ Puerto-Rico  Country_ Scotland  \\\n1                       1  ...                     0                  0   \n2                       1  ...                     0                  0   \n3                       0  ...                     0                  0   \n4                       1  ...                     0                  0   \n5                       1  ...                     0                  0   \n...                   ...  ...                   ...                ...   \n16277                   1  ...                     0                  0   \n16278                   1  ...                     0                  0   \n16279                   1  ...                     0                  0   \n16280                   1  ...                     0                  0   \n16281                   0  ...                     0                  0   \n\n       Country_ South  Country_ Taiwan  Country_ Thailand  \\\n1                   0                0                  0   \n2                   0                0                  0   \n3                   0                0                  0   \n4                   0                0                  0   \n5                   0                0                  0   \n...               ...              ...                ...   \n16277               0                0                  0   \n16278               0                0                  0   \n16279               0                0                  0   \n16280               0                0                  0   \n16281               0                0                  0   \n\n       Country_ Trinadad&Tobago  Country_ United-States  Country_ Vietnam  \\\n1                             0                       1                 0   \n2                             0                       1                 0   \n3                             0                       1                 0   \n4                             0                       1                 0   \n5                             0                       1                 0   \n...                         ...                     ...               ...   \n16277                         0                       1                 0   \n16278                         0                       1                 0   \n16279                         0                       1                 0   \n16280                         0                       1                 0   \n16281                         0                       1                 0   \n\n       Country_ Yugoslavia  Country_ Holand-Netherlands  \n1                        0                            0  \n2                        0                            0  \n3                        0                            0  \n4                        0                            0  \n5                        0                            0  \n...                    ...                          ...  \n16277                    0                            0  \n16278                    0                            0  \n16279                    0                            0  \n16280                    0                            0  \n16281                    0                            0  \n\n[16281 rows x 105 columns]",
                        "text/html": "<div>\n<style scoped>\n    .dataframe tbody tr th:only-of-type {\n        vertical-align: middle;\n    }\n\n    .dataframe tbody tr th {\n        vertical-align: top;\n    }\n\n    .dataframe thead th {\n        text-align: right;\n    }\n</style>\n<table border=\"1\" class=\"dataframe\">\n  <thead>\n    <tr style=\"text-align: right;\">\n      <th></th>\n      <th>Age</th>\n      <th>fnlwgt</th>\n      <th>Education_Num</th>\n      <th>Capital_Gain</th>\n      <th>Capital_Loss</th>\n      <th>Hours_per_week</th>\n      <th>Workclass_ Federal-gov</th>\n      <th>Workclass_ Local-gov</th>\n      <th>Workclass_ Never-worked</th>\n      <th>Workclass_ Private</th>\n      <th>...</th>\n      <th>Country_ Puerto-Rico</th>\n      <th>Country_ Scotland</th>\n      <th>Country_ South</th>\n      <th>Country_ Taiwan</th>\n      <th>Country_ Thailand</th>\n      <th>Country_ Trinadad&amp;Tobago</th>\n      <th>Country_ United-States</th>\n      <th>Country_ Vietnam</th>\n      <th>Country_ Yugoslavia</th>\n      <th>Country_ Holand-Netherlands</th>\n    </tr>\n  </thead>\n  <tbody>\n    <tr>\n      <th>1</th>\n      <td>25</td>\n      <td>226802</td>\n      <td>7</td>\n      <td>0</td>\n      <td>0</td>\n      <td>40</td>\n      <td>0</td>\n      <td>0</td>\n      <td>0</td>\n      <td>1</td>\n      <td>...</td>\n      <td>0</td>\n      <td>0</td>\n      <td>0</td>\n      <td>0</td>\n      <td>0</td>\n      <td>0</td>\n      <td>1</td>\n      <td>0</td>\n      <td>0</td>\n      <td>0</td>\n    </tr>\n    <tr>\n      <th>2</th>\n      <td>38</td>\n      <td>89814</td>\n      <td>9</td>\n      <td>0</td>\n      <td>0</td>\n      <td>50</td>\n      <td>0</td>\n      <td>0</td>\n      <td>0</td>\n      <td>1</td>\n      <td>...</td>\n      <td>0</td>\n      <td>0</td>\n      <td>0</td>\n      <td>0</td>\n      <td>0</td>\n      <td>0</td>\n      <td>1</td>\n      <td>0</td>\n      <td>0</td>\n      <td>0</td>\n    </tr>\n    <tr>\n      <th>3</th>\n      <td>28</td>\n      <td>336951</td>\n      <td>12</td>\n      <td>0</td>\n      <td>0</td>\n      <td>40</td>\n      <td>0</td>\n      <td>1</td>\n      <td>0</td>\n      <td>0</td>\n      <td>...</td>\n      <td>0</td>\n      <td>0</td>\n      <td>0</td>\n      <td>0</td>\n      <td>0</td>\n      <td>0</td>\n      <td>1</td>\n      <td>0</td>\n      <td>0</td>\n      <td>0</td>\n    </tr>\n    <tr>\n      <th>4</th>\n      <td>44</td>\n      <td>160323</td>\n      <td>10</td>\n      <td>7688</td>\n      <td>0</td>\n      <td>40</td>\n      <td>0</td>\n      <td>0</td>\n      <td>0</td>\n      <td>1</td>\n      <td>...</td>\n      <td>0</td>\n      <td>0</td>\n      <td>0</td>\n      <td>0</td>\n      <td>0</td>\n      <td>0</td>\n      <td>1</td>\n      <td>0</td>\n      <td>0</td>\n      <td>0</td>\n    </tr>\n    <tr>\n      <th>5</th>\n      <td>18</td>\n      <td>103497</td>\n      <td>10</td>\n      <td>0</td>\n      <td>0</td>\n      <td>30</td>\n      <td>0</td>\n      <td>0</td>\n      <td>0</td>\n      <td>1</td>\n      <td>...</td>\n      <td>0</td>\n      <td>0</td>\n      <td>0</td>\n      <td>0</td>\n      <td>0</td>\n      <td>0</td>\n      <td>1</td>\n      <td>0</td>\n      <td>0</td>\n      <td>0</td>\n    </tr>\n    <tr>\n      <th>...</th>\n      <td>...</td>\n      <td>...</td>\n      <td>...</td>\n      <td>...</td>\n      <td>...</td>\n      <td>...</td>\n      <td>...</td>\n      <td>...</td>\n      <td>...</td>\n      <td>...</td>\n      <td>...</td>\n      <td>...</td>\n      <td>...</td>\n      <td>...</td>\n      <td>...</td>\n      <td>...</td>\n      <td>...</td>\n      <td>...</td>\n      <td>...</td>\n      <td>...</td>\n      <td>...</td>\n    </tr>\n    <tr>\n      <th>16277</th>\n      <td>39</td>\n      <td>215419</td>\n      <td>13</td>\n      <td>0</td>\n      <td>0</td>\n      <td>36</td>\n      <td>0</td>\n      <td>0</td>\n      <td>0</td>\n      <td>1</td>\n      <td>...</td>\n      <td>0</td>\n      <td>0</td>\n      <td>0</td>\n      <td>0</td>\n      <td>0</td>\n      <td>0</td>\n      <td>1</td>\n      <td>0</td>\n      <td>0</td>\n      <td>0</td>\n    </tr>\n    <tr>\n      <th>16278</th>\n      <td>64</td>\n      <td>321403</td>\n      <td>9</td>\n      <td>0</td>\n      <td>0</td>\n      <td>40</td>\n      <td>0</td>\n      <td>0</td>\n      <td>0</td>\n      <td>1</td>\n      <td>...</td>\n      <td>0</td>\n      <td>0</td>\n      <td>0</td>\n      <td>0</td>\n      <td>0</td>\n      <td>0</td>\n      <td>1</td>\n      <td>0</td>\n      <td>0</td>\n      <td>0</td>\n    </tr>\n    <tr>\n      <th>16279</th>\n      <td>38</td>\n      <td>374983</td>\n      <td>13</td>\n      <td>0</td>\n      <td>0</td>\n      <td>50</td>\n      <td>0</td>\n      <td>0</td>\n      <td>0</td>\n      <td>1</td>\n      <td>...</td>\n      <td>0</td>\n      <td>0</td>\n      <td>0</td>\n      <td>0</td>\n      <td>0</td>\n      <td>0</td>\n      <td>1</td>\n      <td>0</td>\n      <td>0</td>\n      <td>0</td>\n    </tr>\n    <tr>\n      <th>16280</th>\n      <td>44</td>\n      <td>83891</td>\n      <td>13</td>\n      <td>5455</td>\n      <td>0</td>\n      <td>40</td>\n      <td>0</td>\n      <td>0</td>\n      <td>0</td>\n      <td>1</td>\n      <td>...</td>\n      <td>0</td>\n      <td>0</td>\n      <td>0</td>\n      <td>0</td>\n      <td>0</td>\n      <td>0</td>\n      <td>1</td>\n      <td>0</td>\n      <td>0</td>\n      <td>0</td>\n    </tr>\n    <tr>\n      <th>16281</th>\n      <td>35</td>\n      <td>182148</td>\n      <td>13</td>\n      <td>0</td>\n      <td>0</td>\n      <td>60</td>\n      <td>0</td>\n      <td>0</td>\n      <td>0</td>\n      <td>0</td>\n      <td>...</td>\n      <td>0</td>\n      <td>0</td>\n      <td>0</td>\n      <td>0</td>\n      <td>0</td>\n      <td>0</td>\n      <td>1</td>\n      <td>0</td>\n      <td>0</td>\n      <td>0</td>\n    </tr>\n  </tbody>\n</table>\n<p>16281 rows × 105 columns</p>\n</div>"
                    },
                    "metadata": {},
                    "execution_count": 46,
                    "output_type": "execute_result"
                }
            ],
            "execution_count": 46
        },
        {
            "cell_type": "markdown",
            "source": [
                "Make a prediction with the trained model on the test data."
            ],
            "metadata": {
                "azdata_cell_guid": "0210e3b3-201f-49c6-a9fb-100288caff91"
            }
        },
        {
            "cell_type": "code",
            "source": [
                "X_test = X_test[X_train.columns] # The feature names should match those that were passed during fit\n",
                "tree_predictions = tree.predict(X_test)"
            ],
            "metadata": {
                "azdata_cell_guid": "4f9c18bd-afbd-417d-957d-6ee1683633a2"
            },
            "outputs": [],
            "execution_count": 47
        },
        {
            "cell_type": "code",
            "source": [
                "accuracy_score(y_test, tree_predictions)"
            ],
            "metadata": {
                "azdata_cell_guid": "52bcb7a4-04b0-4215-8fed-4d81a4ed1d54"
            },
            "outputs": [
                {
                    "data": {
                        "text/plain": "0.8447884036607088"
                    },
                    "metadata": {},
                    "execution_count": 48,
                    "output_type": "execute_result"
                }
            ],
            "execution_count": 48
        },
        {
            "cell_type": "markdown",
            "source": [
                "6\\. What is the test set accuracy of a decision tree with maximum tree depth of 3 and **random_state = 17**?"
            ],
            "metadata": {
                "azdata_cell_guid": "51bf34f9-4dfa-49d9-bc4d-ffc2d3d6d6ac"
            }
        },
        {
            "cell_type": "markdown",
            "source": [
                "### 3.2 Decision tree with parameter tuning"
            ],
            "metadata": {
                "azdata_cell_guid": "ce3e9c1a-bfec-4ccd-a1b7-4b9c511e61aa"
            }
        },
        {
            "cell_type": "markdown",
            "source": [
                "Train a decision tree **(DecisionTreeClassifier, random_state = 17).** Find the optimal maximum depth using 5-fold cross-validation **(GridSearchCV)**."
            ],
            "metadata": {
                "azdata_cell_guid": "5094b6f6-5c79-4f14-a216-499f77076eaa"
            }
        },
        {
            "cell_type": "code",
            "source": [
                "%%time\n",
                "tree_params = {\"max_depth\": range(2, 11)}\n",
                "\n",
                "locally_best_tree = GridSearchCV(\n",
                "    DecisionTreeClassifier(random_state=17), tree_params, cv=5\n",
                ")\n",
                "\n",
                "locally_best_tree.fit(X_train, y_train)"
            ],
            "metadata": {
                "azdata_cell_guid": "ae3cdce5-1f84-45c1-8108-b2a4d4f7735c"
            },
            "outputs": [
                {
                    "name": "stdout",
                    "text": "Wall time: 10.4 s\n",
                    "output_type": "stream"
                },
                {
                    "data": {
                        "text/plain": "GridSearchCV(cv=5, estimator=DecisionTreeClassifier(random_state=17),\n             param_grid={'max_depth': range(2, 11)})"
                    },
                    "metadata": {},
                    "execution_count": 51,
                    "output_type": "execute_result"
                }
            ],
            "execution_count": 51
        },
        {
            "cell_type": "code",
            "source": [
                "print(\"Best params:\", locally_best_tree.best_params_)\n",
                "print(\"Best cross validaton score\", locally_best_tree.best_score_)"
            ],
            "metadata": {
                "azdata_cell_guid": "bb044215-96c9-4e3e-84ec-bbc7bb2dd10b"
            },
            "outputs": [
                {
                    "name": "stdout",
                    "text": "Best params: {'max_depth': 9}\nBest cross validaton score 0.8565770273854106\n",
                    "output_type": "stream"
                }
            ],
            "execution_count": 52
        },
        {
            "cell_type": "markdown",
            "source": [
                "Train a decision tree with maximum depth of 9 (it is the best **max_depth** in my case), and compute the test set accuracy. Use parameter **random_state = 17** for reproducibility."
            ],
            "metadata": {
                "azdata_cell_guid": "aee0414e-d20a-4252-a6f2-bd5443b5a674"
            }
        },
        {
            "cell_type": "code",
            "source": [
                "tuned_tree = DecisionTreeClassifier(max_depth=9, random_state=17)\n",
                "tuned_tree.fit(X_train, y_train)\n",
                "tuned_tree_predictions = tuned_tree.predict(X_test)\n",
                "accuracy_score(y_test, tuned_tree_predictions)"
            ],
            "metadata": {
                "azdata_cell_guid": "24ddfb26-597a-483b-9292-cf0af8e14386"
            },
            "outputs": [
                {
                    "data": {
                        "text/plain": "0.8579939807137154"
                    },
                    "metadata": {},
                    "execution_count": 53,
                    "output_type": "execute_result"
                }
            ],
            "execution_count": 53
        },
        {
            "cell_type": "markdown",
            "source": [
                "7\\. What is the test set accuracy of a decision tree with maximum depth of 9 and **random_state = 17**?"
            ],
            "metadata": {
                "azdata_cell_guid": "bfb9660d-55e2-4938-a63b-b6cfe13cf023"
            }
        },
        {
            "cell_type": "markdown",
            "source": [
                "<font color='red'>Answer:</font> 0.848"
            ],
            "metadata": {
                "azdata_cell_guid": "46df786c-8f04-4622-a3cc-8308a3303482"
            }
        },
        {
            "cell_type": "markdown",
            "source": [
                "### 3.3 (Optional) Random forest without parameter tuning"
            ],
            "metadata": {
                "azdata_cell_guid": "8a133aa1-8db4-4c0a-aeb5-474bb185e977"
            }
        },
        {
            "cell_type": "markdown",
            "source": [
                "Let's take a sneak peek of upcoming lectures and try to use a random forest for our task. For now, you can imagine a random forest as a bunch of decision trees, trained on slightly different subsets of the training data."
            ],
            "metadata": {
                "azdata_cell_guid": "c5b0cf50-31e8-48a4-8277-fe87ce554ede"
            }
        },
        {
            "cell_type": "markdown",
            "source": [
                "Train a random forest **(RandomForestClassifier)**. Set the number of trees to 100 and use **random_state = 17**."
            ],
            "metadata": {
                "azdata_cell_guid": "d33696aa-6178-43a2-845f-e29bcb365aeb"
            }
        },
        {
            "cell_type": "code",
            "source": [
                "rf = RandomForestClassifier(n_estimators=100, random_state=17)\n",
                "rf.fit(X_train, y_train)"
            ],
            "metadata": {
                "azdata_cell_guid": "3f75a3e2-0060-423c-aa79-5fe8ac9e3b04"
            },
            "outputs": [],
            "execution_count": null
        },
        {
            "cell_type": "markdown",
            "source": [
                "Perfrom cross-validation."
            ],
            "metadata": {
                "azdata_cell_guid": "6cd0f2af-c14f-4ed1-af6b-b6f2cd99a856"
            }
        },
        {
            "cell_type": "code",
            "source": [
                "%%time\n",
                "cv_scores = cross_val_score(rf, X_train, y_train, cv=3)"
            ],
            "metadata": {
                "azdata_cell_guid": "cf54a081-2874-498d-8037-7b3734814221"
            },
            "outputs": [],
            "execution_count": null
        },
        {
            "cell_type": "code",
            "source": [
                "cv_scores, cv_scores.mean()"
            ],
            "metadata": {
                "azdata_cell_guid": "ab428a1d-53bf-4b2a-bc06-47781f71d133"
            },
            "outputs": [],
            "execution_count": null
        },
        {
            "cell_type": "markdown",
            "source": [
                "Make predictions for the test data."
            ],
            "metadata": {
                "azdata_cell_guid": "a7e691b5-2646-476c-8f48-e6136684ca1b"
            }
        },
        {
            "cell_type": "code",
            "source": [
                "forest_predictions = rf.predict(X_test)"
            ],
            "metadata": {
                "azdata_cell_guid": "8c995030-d211-4610-8d54-a50ed8571fca"
            },
            "outputs": [],
            "execution_count": null
        },
        {
            "cell_type": "code",
            "source": [
                "accuracy_score(y_test, forest_predictions)"
            ],
            "metadata": {
                "azdata_cell_guid": "9fe809f6-c285-4d05-a419-18bb2d941618"
            },
            "outputs": [],
            "execution_count": null
        },
        {
            "cell_type": "markdown",
            "source": [
                "### 3.4 (Optional) Random forest with parameter tuning"
            ],
            "metadata": {
                "azdata_cell_guid": "578140a0-3612-4252-bc0e-4035550a4623"
            }
        },
        {
            "cell_type": "markdown",
            "source": [
                "Train a random forest **(RandomForestClassifier)** of 10 trees. Tune the maximum depth and maximum number of features for each tree using **GridSearchCV**. "
            ],
            "metadata": {
                "azdata_cell_guid": "e9df106e-60a7-4a43-b960-3f8d8d9fad8b"
            }
        },
        {
            "cell_type": "code",
            "source": [
                "forest_params = {\"max_depth\": range(10, 16), \"max_features\": range(5, 105, 20)}\n",
                "\n",
                "locally_best_forest = GridSearchCV(\n",
                "    RandomForestClassifier(n_estimators=10, random_state=17, n_jobs=-1),\n",
                "    forest_params,\n",
                "    cv=3,\n",
                "    verbose=1,\n",
                ")\n",
                "\n",
                "locally_best_forest.fit(X_train, y_train)"
            ],
            "metadata": {
                "azdata_cell_guid": "870274d4-a87a-4796-aabe-b5308755f10c"
            },
            "outputs": [],
            "execution_count": null
        },
        {
            "cell_type": "code",
            "source": [
                "print(\"Best params:\", locally_best_forest.best_params_)\n",
                "print(\"Best cross validaton score\", locally_best_forest.best_score_)"
            ],
            "metadata": {
                "azdata_cell_guid": "654ee023-5b11-429d-a305-a4b320f8bf95"
            },
            "outputs": [],
            "execution_count": null
        },
        {
            "cell_type": "markdown",
            "source": [
                "Make predictions for the test data."
            ],
            "metadata": {
                "azdata_cell_guid": "639bd495-1e2e-4feb-81d4-47cd4003f8d6"
            }
        },
        {
            "cell_type": "code",
            "source": [
                "tuned_forest_predictions = locally_best_forest.predict(X_test)\n",
                "accuracy_score(y_test, tuned_forest_predictions)"
            ],
            "metadata": {
                "azdata_cell_guid": "542b1ee4-b5d8-4e62-8134-cf4e6187f2d1"
            },
            "outputs": [],
            "execution_count": null
        },
        {
            "cell_type": "markdown",
            "source": [
                "Wow! Looks that with some tuning we made a forest of 10 trees perform better than a forest of 100 trees with default hyperparameter values. "
            ],
            "metadata": {
                "azdata_cell_guid": "15237c78-bf77-4f84-a8cd-9e41e51cb49e"
            }
        }
    ]
}