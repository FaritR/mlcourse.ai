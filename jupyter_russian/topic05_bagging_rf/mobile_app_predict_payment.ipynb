{
 "cells": [
  {
   "cell_type": "code",
   "execution_count": 1,
   "metadata": {
    "id": "CKRCg7QX_M1k"
   },
   "outputs": [],
   "source": [
    "import numpy as np\n",
    "import pandas as pd\n",
    "import itertools\n",
    "from matplotlib import pyplot as plt"
   ]
  },
  {
   "cell_type": "markdown",
   "metadata": {
    "id": "pzzwu0DF_M1m"
   },
   "source": [
    "**The shared data contains only prepared data: `X_train`, `y_train`, `X_valid`, `y_valid`. To reproduce, execute the commented code below (first, uncomment it of course) and move to RF training (cell 13 or 14).**"
   ]
  },
  {
   "cell_type": "code",
   "execution_count": 4,
   "metadata": {
    "id": "U3NJnbaG_M1n"
   },
   "outputs": [],
   "source": [
    "# # how to read data\n",
    "import pickle\n",
    "with open('/Users/rakhmangulovs/Downloads/mobile_app_launches_sessions_payments.pkl', 'rb') as f:\n",
    "     shared_data = pickle.load(f)\n",
    "X_train, y_train = shared_data['X_train'], shared_data['y_train']\n",
    "X_valid, y_valid = shared_data['X_valid'], shared_data['y_valid']"
   ]
  },
  {
   "cell_type": "code",
   "execution_count": null,
   "metadata": {
    "id": "0kF8zH1u_M1n"
   },
   "outputs": [],
   "source": [
    "df = pd.read_csv('../../data/mobile_app_launches_sessions_payments.csv.gz')"
   ]
  },
  {
   "cell_type": "code",
   "execution_count": null,
   "metadata": {
    "id": "8OiQxGjf_M1n",
    "outputId": "77fa94ec-00e6-4b6c-e842-e1f037aa36ea"
   },
   "outputs": [
    {
     "data": {
      "text/plain": [
       "(1177829, 49)"
      ]
     },
     "execution_count": 3,
     "metadata": {},
     "output_type": "execute_result"
    }
   ],
   "source": [
    "df.shape"
   ]
  },
  {
   "cell_type": "code",
   "execution_count": null,
   "metadata": {
    "id": "PAd1rJ0L_M1o",
    "outputId": "2761c9f0-e700-41ba-8374-6a8bd4edfcad"
   },
   "outputs": [
    {
     "data": {
      "text/plain": [
       "Index(['idfa', 'idfv', 'gaid', 'android_id', 'imei', 'waid', 'idDevice',\n",
       "       'idProfile', 'idApp', 'idCountry', 'idRegion', 'age', 'idGender', 'dt',\n",
       "       'launches1', 'launches2', 'launches3', 'launches4', 'launches5',\n",
       "       'launches6', 'launches7', 'launches8', 'sessions1', 'sessions2',\n",
       "       'sessions3', 'sessions4', 'sessions5', 'sessions6', 'sessions7',\n",
       "       'sessions8', 'num_payments1', 'num_payments2', 'num_payments3',\n",
       "       'num_payments4', 'num_payments5', 'num_payments6', 'num_payments7',\n",
       "       'num_payments8', 'sum_payments1', 'sum_payments2', 'sum_payments3',\n",
       "       'sum_payments4', 'sum_payments5', 'sum_payments6', 'sum_payments7',\n",
       "       'sum_payments8', 'ltvDay30', 'ltvDay60', 'ltvDay90'],\n",
       "      dtype='object')"
      ]
     },
     "execution_count": 4,
     "metadata": {},
     "output_type": "execute_result"
    }
   ],
   "source": [
    "df.columns"
   ]
  },
  {
   "cell_type": "code",
   "execution_count": null,
   "metadata": {
    "id": "yGqnRfl4_M1o",
    "outputId": "deb15f36-7042-4118-f29b-f2af585fd742"
   },
   "outputs": [
    {
     "data": {
      "text/plain": [
       "False    1108205\n",
       "True       69624\n",
       "Name: sum_payments8, dtype: int64"
      ]
     },
     "execution_count": 5,
     "metadata": {},
     "output_type": "execute_result"
    }
   ],
   "source": [
    "(df['sum_payments8'] > 0).value_counts()"
   ]
  },
  {
   "cell_type": "code",
   "execution_count": null,
   "metadata": {
    "id": "704JWAL__M1p"
   },
   "outputs": [],
   "source": [
    "df.sort_values(by='dt', inplace=True)"
   ]
  },
  {
   "cell_type": "code",
   "execution_count": null,
   "metadata": {
    "id": "CVTNvo7V_M1p"
   },
   "outputs": [],
   "source": [
    "y = (df['ltvDay90'] > 0).astype('int')"
   ]
  },
  {
   "cell_type": "code",
   "execution_count": null,
   "metadata": {
    "id": "OdN448jF_M1p",
    "outputId": "c65a884a-dab2-4b1b-d6bf-cd1a0228330d"
   },
   "outputs": [
    {
     "data": {
      "text/plain": [
       "0.07425356312333964"
      ]
     },
     "execution_count": 8,
     "metadata": {},
     "output_type": "execute_result"
    }
   ],
   "source": [
    "y.mean()"
   ]
  },
  {
   "cell_type": "code",
   "execution_count": 90,
   "metadata": {
    "id": "m2eAeTAz_M1p"
   },
   "outputs": [],
   "source": [
    "sessions = ['sessions' + str(i) for i in range(1, 9)]\n",
    "launches = ['launches' + str(i) for i in range(1, 9)]\n",
    "num_payments = ['num_payments' + str(i) for i in range(1, 9)]\n",
    "sum_payments = ['sum_payments' + str(i) for i in range(1, 9)]"
   ]
  },
  {
   "cell_type": "code",
   "execution_count": 92,
   "metadata": {
    "id": "FOWMxD2g_M1p"
   },
   "outputs": [],
   "source": [
    "X = X_valid[sessions + launches + num_payments + sum_payments]"
   ]
  },
  {
   "cell_type": "code",
   "execution_count": null,
   "metadata": {
    "id": "ZzJrYIY2_M1p",
    "outputId": "589024b8-022b-4222-c71e-39bf340fa480"
   },
   "outputs": [],
   "source": [
    "X.shape, y.shape"
   ]
  },
  {
   "cell_type": "code",
   "execution_count": null,
   "metadata": {
    "id": "JeLNrvcm_M1q"
   },
   "outputs": [],
   "source": [
    "train_share = 0.7\n",
    "train_size = int(train_share * X.shape[0])\n",
    "\n",
    "X_train, X_valid = X.iloc[:train_size, :], X.iloc[train_size:, :]\n",
    "y_train, y_valid = y.iloc[:train_size], y.iloc[train_size:]"
   ]
  },
  {
   "cell_type": "code",
   "execution_count": 7,
   "metadata": {
    "id": "t_Ov4szE_M1q",
    "outputId": "0608d02b-f8d1-42e8-cd6c-efa98ec51b8b"
   },
   "outputs": [
    {
     "data": {
      "text/plain": [
       "(0.0763147680962546, 0.06944409068654503)"
      ]
     },
     "execution_count": 7,
     "metadata": {},
     "output_type": "execute_result"
    }
   ],
   "source": [
    "y_train.mean(), y_valid.mean()"
   ]
  },
  {
   "cell_type": "code",
   "execution_count": 11,
   "metadata": {
    "id": "57sRlEc2_M1q"
   },
   "outputs": [],
   "source": [
    "from sklearn.ensemble import RandomForestClassifier\n",
    "from sklearn.linear_model import LogisticRegression"
   ]
  },
  {
   "cell_type": "code",
   "execution_count": 12,
   "metadata": {
    "id": "1hrvmUQI_M1q"
   },
   "outputs": [],
   "source": [
    "forest = RandomForestClassifier(n_estimators=300, class_weight='balanced',\n",
    "                                n_jobs=4, random_state=17)"
   ]
  },
  {
   "cell_type": "code",
   "execution_count": 13,
   "metadata": {
    "id": "LdxE7kjA_M1r",
    "outputId": "f4711cd1-1d3d-4927-f80e-f4439d2a80f9"
   },
   "outputs": [
    {
     "name": "stdout",
     "output_type": "stream",
     "text": [
      "CPU times: user 3min 44s, sys: 2.82 s, total: 3min 47s\n",
      "Wall time: 58.4 s\n"
     ]
    },
    {
     "data": {
      "text/plain": [
       "RandomForestClassifier(class_weight='balanced', n_estimators=300, n_jobs=4,\n",
       "                       random_state=17)"
      ]
     },
     "execution_count": 13,
     "metadata": {},
     "output_type": "execute_result"
    }
   ],
   "source": [
    "%%time\n",
    "forest.fit(X_train, y_train)"
   ]
  },
  {
   "cell_type": "code",
   "execution_count": 14,
   "metadata": {
    "id": "UguCsxgS_M1r"
   },
   "outputs": [],
   "source": [
    "forest_pred_probs = forest.predict_proba(X_valid)[:, 1]"
   ]
  },
  {
   "cell_type": "code",
   "execution_count": 18,
   "metadata": {
    "id": "n5QEksg6_M1r"
   },
   "outputs": [],
   "source": [
    "from sklearn.metrics import accuracy_score, precision_score, recall_score\n",
    "from sklearn.metrics import roc_auc_score"
   ]
  },
  {
   "cell_type": "markdown",
   "metadata": {
    "id": "joTJcH3j_M1r"
   },
   "source": [
    "**Is that good?**"
   ]
  },
  {
   "cell_type": "code",
   "execution_count": 19,
   "metadata": {
    "id": "3uAkVbhG_M1r",
    "outputId": "a70261ff-8301-48d0-a733-ea1b195f3b55"
   },
   "outputs": [
    {
     "data": {
      "text/plain": [
       "0.9650000908647615"
      ]
     },
     "execution_count": 19,
     "metadata": {},
     "output_type": "execute_result"
    }
   ],
   "source": [
    "roc_auc_score(y_valid, forest_pred_probs)"
   ]
  },
  {
   "cell_type": "markdown",
   "metadata": {
    "id": "qO7pso60_M1r"
   },
   "source": [
    "**Accuracy can be misleading**"
   ]
  },
  {
   "cell_type": "markdown",
   "metadata": {
    "id": "_Ei6HgF__M1s"
   },
   "source": [
    "*Baseline*"
   ]
  },
  {
   "cell_type": "code",
   "execution_count": 20,
   "metadata": {
    "id": "rhjM-W42_M1s",
    "outputId": "2ef7a756-d5e2-446e-cb63-b23102c74f87"
   },
   "outputs": [
    {
     "data": {
      "text/plain": [
       "0.9879156301560214"
      ]
     },
     "execution_count": 20,
     "metadata": {},
     "output_type": "execute_result"
    }
   ],
   "source": [
    "accuracy_score(y_valid, X_valid['sum_payments8'] > 0)"
   ]
  },
  {
   "cell_type": "code",
   "execution_count": 21,
   "metadata": {
    "id": "Oyf8r4v1_M1s",
    "outputId": "95defe7f-183a-4623-9519-e8a4153b2583"
   },
   "outputs": [
    {
     "data": {
      "text/plain": [
       "0.9857393115588271"
      ]
     },
     "execution_count": 21,
     "metadata": {},
     "output_type": "execute_result"
    }
   ],
   "source": [
    "accuracy_score(y_valid, forest_pred_probs > 0.5)"
   ]
  },
  {
   "cell_type": "code",
   "execution_count": 22,
   "metadata": {
    "id": "3DDGmLwy_M1s",
    "outputId": "687a3312-f013-4a6a-8ab5-8bcffa78d368"
   },
   "outputs": [
    {
     "data": {
      "text/plain": [
       "(353349,)"
      ]
     },
     "execution_count": 22,
     "metadata": {},
     "output_type": "execute_result"
    }
   ],
   "source": [
    "y_valid.shape"
   ]
  },
  {
   "cell_type": "code",
   "execution_count": 23,
   "metadata": {
    "id": "bjnt6QKB_M1s"
   },
   "outputs": [],
   "source": [
    "pred_df = pd.DataFrame({'true': y_valid, 'pred_forest': forest_pred_probs, \n",
    "             'pred_baseline': (X_valid['sum_payments8'] > 0).astype('int')})"
   ]
  },
  {
   "cell_type": "code",
   "execution_count": 28,
   "metadata": {
    "id": "QQ-ag9Cz_M1s",
    "outputId": "c7d4fd58-1219-411b-bb28-107be329aca8"
   },
   "outputs": [
    {
     "data": {
      "text/html": [
       "<div>\n",
       "<style scoped>\n",
       "    .dataframe tbody tr th:only-of-type {\n",
       "        vertical-align: middle;\n",
       "    }\n",
       "\n",
       "    .dataframe tbody tr th {\n",
       "        vertical-align: top;\n",
       "    }\n",
       "\n",
       "    .dataframe thead th {\n",
       "        text-align: right;\n",
       "    }\n",
       "</style>\n",
       "<table border=\"1\" class=\"dataframe\">\n",
       "  <thead>\n",
       "    <tr style=\"text-align: right;\">\n",
       "      <th></th>\n",
       "      <th>true</th>\n",
       "      <th>pred_forest</th>\n",
       "      <th>pred_baseline</th>\n",
       "    </tr>\n",
       "  </thead>\n",
       "  <tbody>\n",
       "    <tr>\n",
       "      <th>36040</th>\n",
       "      <td>1</td>\n",
       "      <td>1.0</td>\n",
       "      <td>1</td>\n",
       "    </tr>\n",
       "    <tr>\n",
       "      <th>72208</th>\n",
       "      <td>1</td>\n",
       "      <td>1.0</td>\n",
       "      <td>1</td>\n",
       "    </tr>\n",
       "    <tr>\n",
       "      <th>12651</th>\n",
       "      <td>1</td>\n",
       "      <td>1.0</td>\n",
       "      <td>1</td>\n",
       "    </tr>\n",
       "    <tr>\n",
       "      <th>7614</th>\n",
       "      <td>1</td>\n",
       "      <td>1.0</td>\n",
       "      <td>1</td>\n",
       "    </tr>\n",
       "    <tr>\n",
       "      <th>50192</th>\n",
       "      <td>1</td>\n",
       "      <td>1.0</td>\n",
       "      <td>1</td>\n",
       "    </tr>\n",
       "  </tbody>\n",
       "</table>\n",
       "</div>"
      ],
      "text/plain": [
       "       true  pred_forest  pred_baseline\n",
       "36040     1          1.0              1\n",
       "72208     1          1.0              1\n",
       "12651     1          1.0              1\n",
       "7614      1          1.0              1\n",
       "50192     1          1.0              1"
      ]
     },
     "execution_count": 28,
     "metadata": {},
     "output_type": "execute_result"
    }
   ],
   "source": [
    "pred_df.sort_values(by='pred_forest', ascending=False, inplace=True)\n",
    "pred_df.head()"
   ]
  },
  {
   "cell_type": "code",
   "execution_count": 32,
   "metadata": {
    "id": "J1-Fxebr_M1s",
    "outputId": "99f2e618-628c-4be2-ce77-72fa3c2e0b08"
   },
   "outputs": [
    {
     "data": {
      "text/plain": [
       "6.295424069606325"
      ]
     },
     "execution_count": 32,
     "metadata": {},
     "output_type": "execute_result"
    }
   ],
   "source": [
    "pred_df.iloc[:50000]['true'].mean() / y_valid.mean()"
   ]
  },
  {
   "cell_type": "code",
   "execution_count": 33,
   "metadata": {
    "id": "L9FuUg29_M1t",
    "outputId": "474dcff5-1669-4dcd-f022-ec199ef2c082"
   },
   "outputs": [
    {
     "data": {
      "text/plain": [
       "5.871485910017117"
      ]
     },
     "execution_count": 33,
     "metadata": {},
     "output_type": "execute_result"
    }
   ],
   "source": [
    "pred_df.sort_values(by='pred_baseline', \n",
    "                    ascending=False).iloc[:50000]['true'].mean() / y_valid.mean()"
   ]
  },
  {
   "cell_type": "markdown",
   "metadata": {
    "id": "X7VByr8u_M1t"
   },
   "source": [
    "**Precision/recall**"
   ]
  },
  {
   "cell_type": "code",
   "execution_count": 34,
   "metadata": {
    "id": "J-xwt5m2_M1u",
    "outputId": "ba37e21d-98c5-4922-f251-2f81887fe638"
   },
   "outputs": [
    {
     "data": {
      "text/plain": [
       "(0.9614711033274956, 1.0)"
      ]
     },
     "execution_count": 34,
     "metadata": {},
     "output_type": "execute_result"
    }
   ],
   "source": [
    "precision_score(y_valid, forest_pred_probs > 0.5), \\\n",
    "    precision_score(y_valid, X_valid['sum_payments8'] > 0),"
   ]
  },
  {
   "cell_type": "code",
   "execution_count": 35,
   "metadata": {
    "id": "wObqYkc-_M1u",
    "outputId": "8ceb1120-01e6-4d0c-f8b8-ce166266634c"
   },
   "outputs": [
    {
     "data": {
      "text/plain": [
       "(0.8278180780829734, 0.825984187790366)"
      ]
     },
     "execution_count": 35,
     "metadata": {},
     "output_type": "execute_result"
    }
   ],
   "source": [
    "recall_score(y_valid, forest_pred_probs > 0.5), \\\n",
    "    recall_score(y_valid, X_valid['sum_payments8'] > 0),"
   ]
  },
  {
   "cell_type": "code",
   "execution_count": 36,
   "metadata": {
    "id": "BQ38lQhJ_M1u"
   },
   "outputs": [],
   "source": [
    "from sklearn.metrics import f1_score"
   ]
  },
  {
   "cell_type": "code",
   "execution_count": null,
   "metadata": {
    "id": "ThHmNt8I_M1v",
    "outputId": "5abc9557-ca15-4e28-e043-d48a136739b9"
   },
   "outputs": [
    {
     "data": {
      "text/plain": [
       "(0.8896237571722657, 0.904700263357586)"
      ]
     },
     "execution_count": 30,
     "metadata": {},
     "output_type": "execute_result"
    }
   ],
   "source": [
    "f1_score(y_valid, forest_pred_probs > 0.5), \\\n",
    "    f1_score(y_valid, X_valid['sum_payments8'] > 0),"
   ]
  },
  {
   "cell_type": "code",
   "execution_count": 41,
   "metadata": {},
   "outputs": [
    {
     "name": "stdout",
     "output_type": "stream",
     "text": [
      "\u001b[33mDEPRECATION: Configuring installation scheme with distutils config files is deprecated and will no longer work in the near future. If you are using a Homebrew or Linuxbrew Python, please see discussion at https://github.com/Homebrew/homebrew-core/issues/76621\u001b[0m\n",
      "Collecting funcsigs\n",
      "  Downloading funcsigs-1.0.2-py2.py3-none-any.whl (17 kB)\n",
      "Installing collected packages: funcsigs\n",
      "\u001b[33mDEPRECATION: Configuring installation scheme with distutils config files is deprecated and will no longer work in the near future. If you are using a Homebrew or Linuxbrew Python, please see discussion at https://github.com/Homebrew/homebrew-core/issues/76621\u001b[0m\n",
      "Successfully installed funcsigs-1.0.2\n",
      "\u001b[33mWARNING: You are using pip version 21.3.1; however, version 22.1 is available.\n",
      "You should consider upgrading via the '/opt/homebrew/opt/python@3.9/bin/python3.9 -m pip install --upgrade pip' command.\u001b[0m\n",
      "Note: you may need to restart the kernel to use updated packages.\n"
     ]
    }
   ],
   "source": [
    "pip install funcsigs"
   ]
  },
  {
   "cell_type": "code",
   "execution_count": 42,
   "metadata": {
    "id": "z3U3cXTx_M1v",
    "outputId": "0f07df21-a7e1-4caf-bf06-f660e7efee06"
   },
   "outputs": [
    {
     "data": {
      "image/png": "[encoded data removed]",
      "text/plain": [
       "<Figure size 432x288 with 1 Axes>"
      ]
     },
     "metadata": {
      "needs_background": "light"
     },
     "output_type": "display_data"
    }
   ],
   "source": [
    "from sklearn.metrics import precision_recall_curve\n",
    "# from sklearn.utils.fixes import signature\n",
    "from funcsigs import signature\n",
    "\n",
    "precision, recall, thres = precision_recall_curve(y_valid, forest_pred_probs)\n",
    "    \n",
    "step_kwargs = ({'step': 'post'}\n",
    "               if 'step' in signature(plt.fill_between).parameters\n",
    "               else {})\n",
    "plt.step(recall, precision, color='b', alpha=0.2,\n",
    "         where='post')\n",
    "plt.fill_between(recall, precision, alpha=0.2, color='b', **step_kwargs)\n",
    "\n",
    "plt.xlabel('Recall')\n",
    "plt.ylabel('Precision')\n",
    "plt.ylim([0.0, 1.05])\n",
    "plt.hlines(y=0.5, xmin=0, xmax=1)\n",
    "plt.xlim([0.0, 1.0])\n",
    "plt.title('2-class Precision-Recall curve: Random Forest');"
   ]
  },
  {
   "cell_type": "code",
   "execution_count": 37,
   "metadata": {
    "id": "OHjrRluO_M1v",
    "outputId": "e9754884-4f4a-4fe1-a883-72270ddddebf"
   },
   "outputs": [
    {
     "data": {
      "text/plain": [
       "(0.08411308949912949, 0.9883853614801532)"
      ]
     },
     "execution_count": 37,
     "metadata": {},
     "output_type": "execute_result"
    }
   ],
   "source": [
    "tau = 0\n",
    "precision_score(y_valid, forest_pred_probs > tau), \\\n",
    "recall_score(y_valid, forest_pred_probs > tau)"
   ]
  },
  {
   "cell_type": "code",
   "execution_count": 49,
   "metadata": {
    "id": "TqT6cHVT_M1v",
    "outputId": "ecf4a283-6819-4bc8-ca10-d979261af3c2"
   },
   "outputs": [
    {
     "data": {
      "image/png": "[encoded data removed]",
      "text/plain": [
       "<Figure size 432x288 with 1 Axes>"
      ]
     },
     "metadata": {
      "needs_background": "light"
     },
     "output_type": "display_data"
    }
   ],
   "source": [
    "plt.plot(thres, precision[:-1], label='precision')\n",
    "plt.plot(thres, recall[:-1], label='recall');\n",
    "plt.hlines(y=0.5, xmin=0, xmax=1, label='min. precision', linestyles='dashed')\n",
    "plt.vlines(x=0.195, ymin=0, ymax=1, color='red', label='opt. threshold', linestyles='dashed')\n",
    "plt.legend();\n",
    "plt.xlabel('threshold')\n",
    "plt.ylabel('metric');"
   ]
  },
  {
   "cell_type": "code",
   "execution_count": 44,
   "metadata": {
    "id": "5odwr6gL_M1w",
    "outputId": "9d215ef7-04ab-4163-d23f-80bb80fa5976"
   },
   "outputs": [
    {
     "data": {
      "text/plain": [
       "(0.5012687373713641, 0.8694677642839678)"
      ]
     },
     "execution_count": 44,
     "metadata": {},
     "output_type": "execute_result"
    }
   ],
   "source": [
    "precision_score(y_valid, forest_pred_probs > 0.194), \\\n",
    "    recall_score(y_valid, forest_pred_probs > 0.194)"
   ]
  },
  {
   "cell_type": "code",
   "execution_count": 50,
   "metadata": {
    "id": "Ph5kx8pA_M1w",
    "outputId": "442c786d-396a-4c58-9c34-81de312c6ba7"
   },
   "outputs": [
    {
     "data": {
      "text/plain": [
       "(1.0, 0.825984187790366)"
      ]
     },
     "execution_count": 50,
     "metadata": {},
     "output_type": "execute_result"
    }
   ],
   "source": [
    "precision_score(y_valid, X_valid['sum_payments8'] > 0),\\\n",
    "recall_score(y_valid, X_valid['sum_payments8'] > 0),"
   ]
  },
  {
   "cell_type": "code",
   "execution_count": 85,
   "metadata": {
    "id": "vT67FBC__M1w",
    "outputId": "e057e2df-29ca-4688-c787-2168dd761ad6"
   },
   "outputs": [
    {
     "data": {
      "image/png": "[encoded data removed]",
      "text/plain": [
       "<Figure size 432x288 with 1 Axes>"
      ]
     },
     "metadata": {
      "needs_background": "light"
     },
     "output_type": "display_data"
    }
   ],
   "source": [
    "plt.hist(forest_pred_probs);"
   ]
  },
  {
   "cell_type": "markdown",
   "metadata": {
    "id": "ydK8BMEt_M1x"
   },
   "source": [
    "**Feature importance**"
   ]
  },
  {
   "cell_type": "code",
   "execution_count": 89,
   "metadata": {},
   "outputs": [
    {
     "data": {
      "text/plain": [
       "array([0.01306427, 0.01408645, 0.01459825, 0.01548729, 0.0168702 ,\n",
       "       0.02156968, 0.02625049, 0.0403809 , 0.01331575, 0.01574201,\n",
       "       0.01545822, 0.01710981, 0.01847801, 0.02195262, 0.02920485,\n",
       "       0.03982181, 0.00478364, 0.01171862, 0.0208067 , 0.02600191,\n",
       "       0.03398163, 0.06304696, 0.07484035, 0.12015903, 0.00288291,\n",
       "       0.00729568, 0.0120586 , 0.02018938, 0.03630402, 0.04323586,\n",
       "       0.07241362, 0.11689051])"
      ]
     },
     "execution_count": 89,
     "metadata": {},
     "output_type": "execute_result"
    }
   ],
   "source": [
    "forest.feature_importances_"
   ]
  },
  {
   "cell_type": "code",
   "execution_count": 93,
   "metadata": {
    "id": "HhRIcn66_M1x",
    "outputId": "611e0fed-0758-4bd3-c84a-e4a20633dc36"
   },
   "outputs": [
    {
     "data": {
      "text/html": [
       "<div>\n",
       "<style scoped>\n",
       "    .dataframe tbody tr th:only-of-type {\n",
       "        vertical-align: middle;\n",
       "    }\n",
       "\n",
       "    .dataframe tbody tr th {\n",
       "        vertical-align: top;\n",
       "    }\n",
       "\n",
       "    .dataframe thead th {\n",
       "        text-align: right;\n",
       "    }\n",
       "</style>\n",
       "<table border=\"1\" class=\"dataframe\">\n",
       "  <thead>\n",
       "    <tr style=\"text-align: right;\">\n",
       "      <th></th>\n",
       "      <th>importance</th>\n",
       "    </tr>\n",
       "  </thead>\n",
       "  <tbody>\n",
       "    <tr>\n",
       "      <th>num_payments8</th>\n",
       "      <td>0.120159</td>\n",
       "    </tr>\n",
       "    <tr>\n",
       "      <th>sum_payments8</th>\n",
       "      <td>0.116891</td>\n",
       "    </tr>\n",
       "    <tr>\n",
       "      <th>num_payments7</th>\n",
       "      <td>0.074840</td>\n",
       "    </tr>\n",
       "    <tr>\n",
       "      <th>sum_payments7</th>\n",
       "      <td>0.072414</td>\n",
       "    </tr>\n",
       "    <tr>\n",
       "      <th>num_payments6</th>\n",
       "      <td>0.063047</td>\n",
       "    </tr>\n",
       "    <tr>\n",
       "      <th>sum_payments6</th>\n",
       "      <td>0.043236</td>\n",
       "    </tr>\n",
       "    <tr>\n",
       "      <th>sessions8</th>\n",
       "      <td>0.040381</td>\n",
       "    </tr>\n",
       "    <tr>\n",
       "      <th>launches8</th>\n",
       "      <td>0.039822</td>\n",
       "    </tr>\n",
       "    <tr>\n",
       "      <th>sum_payments5</th>\n",
       "      <td>0.036304</td>\n",
       "    </tr>\n",
       "    <tr>\n",
       "      <th>num_payments5</th>\n",
       "      <td>0.033982</td>\n",
       "    </tr>\n",
       "    <tr>\n",
       "      <th>launches7</th>\n",
       "      <td>0.029205</td>\n",
       "    </tr>\n",
       "    <tr>\n",
       "      <th>sessions7</th>\n",
       "      <td>0.026250</td>\n",
       "    </tr>\n",
       "    <tr>\n",
       "      <th>num_payments4</th>\n",
       "      <td>0.026002</td>\n",
       "    </tr>\n",
       "    <tr>\n",
       "      <th>launches6</th>\n",
       "      <td>0.021953</td>\n",
       "    </tr>\n",
       "    <tr>\n",
       "      <th>sessions6</th>\n",
       "      <td>0.021570</td>\n",
       "    </tr>\n",
       "    <tr>\n",
       "      <th>num_payments3</th>\n",
       "      <td>0.020807</td>\n",
       "    </tr>\n",
       "    <tr>\n",
       "      <th>sum_payments4</th>\n",
       "      <td>0.020189</td>\n",
       "    </tr>\n",
       "    <tr>\n",
       "      <th>launches5</th>\n",
       "      <td>0.018478</td>\n",
       "    </tr>\n",
       "    <tr>\n",
       "      <th>launches4</th>\n",
       "      <td>0.017110</td>\n",
       "    </tr>\n",
       "    <tr>\n",
       "      <th>sessions5</th>\n",
       "      <td>0.016870</td>\n",
       "    </tr>\n",
       "    <tr>\n",
       "      <th>launches2</th>\n",
       "      <td>0.015742</td>\n",
       "    </tr>\n",
       "    <tr>\n",
       "      <th>sessions4</th>\n",
       "      <td>0.015487</td>\n",
       "    </tr>\n",
       "    <tr>\n",
       "      <th>launches3</th>\n",
       "      <td>0.015458</td>\n",
       "    </tr>\n",
       "    <tr>\n",
       "      <th>sessions3</th>\n",
       "      <td>0.014598</td>\n",
       "    </tr>\n",
       "    <tr>\n",
       "      <th>sessions2</th>\n",
       "      <td>0.014086</td>\n",
       "    </tr>\n",
       "    <tr>\n",
       "      <th>launches1</th>\n",
       "      <td>0.013316</td>\n",
       "    </tr>\n",
       "    <tr>\n",
       "      <th>sessions1</th>\n",
       "      <td>0.013064</td>\n",
       "    </tr>\n",
       "    <tr>\n",
       "      <th>sum_payments3</th>\n",
       "      <td>0.012059</td>\n",
       "    </tr>\n",
       "    <tr>\n",
       "      <th>num_payments2</th>\n",
       "      <td>0.011719</td>\n",
       "    </tr>\n",
       "    <tr>\n",
       "      <th>sum_payments2</th>\n",
       "      <td>0.007296</td>\n",
       "    </tr>\n",
       "    <tr>\n",
       "      <th>num_payments1</th>\n",
       "      <td>0.004784</td>\n",
       "    </tr>\n",
       "    <tr>\n",
       "      <th>sum_payments1</th>\n",
       "      <td>0.002883</td>\n",
       "    </tr>\n",
       "  </tbody>\n",
       "</table>\n",
       "</div>"
      ],
      "text/plain": [
       "               importance\n",
       "num_payments8    0.120159\n",
       "sum_payments8    0.116891\n",
       "num_payments7    0.074840\n",
       "sum_payments7    0.072414\n",
       "num_payments6    0.063047\n",
       "sum_payments6    0.043236\n",
       "sessions8        0.040381\n",
       "launches8        0.039822\n",
       "sum_payments5    0.036304\n",
       "num_payments5    0.033982\n",
       "launches7        0.029205\n",
       "sessions7        0.026250\n",
       "num_payments4    0.026002\n",
       "launches6        0.021953\n",
       "sessions6        0.021570\n",
       "num_payments3    0.020807\n",
       "sum_payments4    0.020189\n",
       "launches5        0.018478\n",
       "launches4        0.017110\n",
       "sessions5        0.016870\n",
       "launches2        0.015742\n",
       "sessions4        0.015487\n",
       "launches3        0.015458\n",
       "sessions3        0.014598\n",
       "sessions2        0.014086\n",
       "launches1        0.013316\n",
       "sessions1        0.013064\n",
       "sum_payments3    0.012059\n",
       "num_payments2    0.011719\n",
       "sum_payments2    0.007296\n",
       "num_payments1    0.004784\n",
       "sum_payments1    0.002883"
      ]
     },
     "execution_count": 93,
     "metadata": {},
     "output_type": "execute_result"
    }
   ],
   "source": [
    "pd.DataFrame(forest.feature_importances_, index=X.columns,\n",
    "             columns=['importance']).sort_values(by='importance',\n",
    "                                                ascending=False)"
   ]
  },
  {
   "cell_type": "code",
   "execution_count": 52,
   "metadata": {
    "id": "1h3VKIxI_M1x"
   },
   "outputs": [],
   "source": [
    "from sklearn.metrics import confusion_matrix"
   ]
  },
  {
   "cell_type": "code",
   "execution_count": 53,
   "metadata": {
    "id": "SalKYe84_M1x"
   },
   "outputs": [],
   "source": [
    "def plot_confusion_matrix(actual, predicted, classes,\n",
    "                          normalize=False,\n",
    "                          title='Confusion matrix', figsize=(7,7),\n",
    "                          cmap=plt.cm.Blues, path_to_save_fig=None):\n",
    "    \"\"\"\n",
    "    This function prints and plots the confusion matrix.\n",
    "    Normalization can be applied by setting `normalize=True`.\n",
    "    \"\"\"\n",
    "    cm = confusion_matrix(actual, predicted).T\n",
    "    if normalize:\n",
    "        cm = cm.astype('float') / cm.sum(axis=1)[:, np.newaxis]\n",
    "    \n",
    "    plt.figure(figsize=figsize)\n",
    "    plt.imshow(cm, interpolation='nearest', cmap=cmap)\n",
    "    plt.title(title)\n",
    "    plt.colorbar()\n",
    "    tick_marks = np.arange(len(classes))\n",
    "    plt.xticks(tick_marks, classes, rotation=90)\n",
    "    plt.yticks(tick_marks, classes)\n",
    "\n",
    "    fmt = '.2f' if normalize else 'd'\n",
    "    thresh = cm.max() / 2.\n",
    "    for i, j in itertools.product(range(cm.shape[0]), range(cm.shape[1])):\n",
    "        plt.text(j, i, format(cm[i, j], fmt),\n",
    "                 horizontalalignment=\"center\",\n",
    "                 color=\"white\" if cm[i, j] > thresh else \"black\")\n",
    "\n",
    "    plt.tight_layout()\n",
    "    plt.ylabel('Predicted label')\n",
    "    plt.xlabel('True label')\n",
    "    \n",
    "    if path_to_save_fig:\n",
    "        plt.savefig(path_to_save_fig, dpi=300, bbox_inches='tight')"
   ]
  },
  {
   "cell_type": "code",
   "execution_count": 54,
   "metadata": {
    "id": "TpepLfsJ_M1y",
    "outputId": "952ac809-75ea-409f-a432-c6ad7f970283"
   },
   "outputs": [
    {
     "data": {
      "image/png": "[encoded data removed]",
      "text/plain": [
       "<Figure size 504x504 with 2 Axes>"
      ]
     },
     "metadata": {
      "needs_background": "light"
     },
     "output_type": "display_data"
    }
   ],
   "source": [
    "plot_confusion_matrix(actual=y_valid, predicted=X_valid['sum_payments8'] > 0,\n",
    "                     classes=forest.classes_)"
   ]
  },
  {
   "cell_type": "code",
   "execution_count": 55,
   "metadata": {
    "id": "YVyfq2ux_M1y",
    "outputId": "907652cc-359a-470e-e507-a812c435b9b3"
   },
   "outputs": [
    {
     "data": {
      "image/png": "[encoded data removed]",
      "text/plain": [
       "<Figure size 504x504 with 2 Axes>"
      ]
     },
     "metadata": {
      "needs_background": "light"
     },
     "output_type": "display_data"
    }
   ],
   "source": [
    "plot_confusion_matrix(actual=y_valid, predicted=(forest_pred_probs > 0.5),\n",
    "                     classes=forest.classes_)"
   ]
  },
  {
   "cell_type": "code",
   "execution_count": 56,
   "metadata": {
    "id": "SlcrE_Fw_M1y",
    "outputId": "9d6a907d-8bab-43ce-f57a-257cd9d6fa19"
   },
   "outputs": [
    {
     "data": {
      "image/png": "[encoded data removed]",
      "text/plain": [
       "<Figure size 504x504 with 2 Axes>"
      ]
     },
     "metadata": {
      "needs_background": "light"
     },
     "output_type": "display_data"
    }
   ],
   "source": [
    "plot_confusion_matrix(actual=y_valid, predicted=(forest_pred_probs > 0.194),\n",
    "                     classes=forest.classes_)"
   ]
  },
  {
   "cell_type": "markdown",
   "metadata": {
    "id": "Vo9Vgxd9_M1y"
   },
   "source": [
    "## Logistic regression"
   ]
  },
  {
   "cell_type": "code",
   "execution_count": 59,
   "metadata": {
    "id": "CamiGD1n_M1y"
   },
   "outputs": [],
   "source": [
    "from sklearn.preprocessing import StandardScaler"
   ]
  },
  {
   "cell_type": "code",
   "execution_count": 64,
   "metadata": {
    "id": "j9UGgebe_M1y"
   },
   "outputs": [],
   "source": [
    "logit = LogisticRegression(n_jobs=-1, random_state=17, \n",
    "                           class_weight='balanced', solver='sag')"
   ]
  },
  {
   "cell_type": "code",
   "execution_count": 61,
   "metadata": {
    "id": "e4Rv14gY_M1y"
   },
   "outputs": [],
   "source": [
    "scaler = StandardScaler()"
   ]
  },
  {
   "cell_type": "code",
   "execution_count": 62,
   "metadata": {
    "id": "jiNBo_y9_M1y",
    "outputId": "d83cb02b-bd07-49b1-bb40-338d3ea9b7fa"
   },
   "outputs": [],
   "source": [
    "X_train_scaled = scaler.fit_transform(X_train)\n",
    "X_valid_scaled = scaler.transform(X_valid)"
   ]
  },
  {
   "cell_type": "code",
   "execution_count": 65,
   "metadata": {
    "id": "_DbQo8zk_M1z",
    "outputId": "5d0b0ac3-727c-4cdf-bd76-afdbd0d962e4"
   },
   "outputs": [
    {
     "name": "stdout",
     "output_type": "stream",
     "text": [
      "CPU times: user 31.9 s, sys: 158 ms, total: 32 s\n",
      "Wall time: 32.1 s\n"
     ]
    },
    {
     "name": "stderr",
     "output_type": "stream",
     "text": [
      "/opt/homebrew/lib/python3.9/site-packages/sklearn/linear_model/_sag.py:352: ConvergenceWarning: The max_iter was reached which means the coef_ did not converge\n",
      "  warnings.warn(\n"
     ]
    },
    {
     "data": {
      "text/plain": [
       "LogisticRegression(class_weight='balanced', n_jobs=-1, random_state=17,\n",
       "                   solver='sag')"
      ]
     },
     "execution_count": 65,
     "metadata": {},
     "output_type": "execute_result"
    }
   ],
   "source": [
    "%%time\n",
    "logit.fit(X_train_scaled, y_train)"
   ]
  },
  {
   "cell_type": "code",
   "execution_count": 66,
   "metadata": {
    "id": "Q6-06khL_M1z"
   },
   "outputs": [],
   "source": [
    "logit_pred_probs = logit.predict_proba(X_valid_scaled)[:, 1]"
   ]
  },
  {
   "cell_type": "code",
   "execution_count": 67,
   "metadata": {
    "id": "sogQMng-_M1z",
    "outputId": "72022253-59f9-45f3-c96a-496e281a8733"
   },
   "outputs": [
    {
     "data": {
      "image/png": "[encoded data removed]",
      "text/plain": [
       "<Figure size 432x288 with 1 Axes>"
      ]
     },
     "metadata": {
      "needs_background": "light"
     },
     "output_type": "display_data"
    }
   ],
   "source": [
    "plt.hist(logit_pred_probs);"
   ]
  },
  {
   "cell_type": "markdown",
   "metadata": {
    "id": "cm-u7P4y_M1z"
   },
   "source": [
    "**Is that good?**"
   ]
  },
  {
   "cell_type": "code",
   "execution_count": 68,
   "metadata": {
    "id": "FTspEx1J_M1z",
    "outputId": "7b28efc9-2c6b-47a9-88fb-9bfa18bd392b"
   },
   "outputs": [
    {
     "data": {
      "text/plain": [
       "0.9764940094392004"
      ]
     },
     "execution_count": 68,
     "metadata": {},
     "output_type": "execute_result"
    }
   ],
   "source": [
    "roc_auc_score(y_valid, logit_pred_probs)"
   ]
  },
  {
   "cell_type": "markdown",
   "metadata": {
    "id": "1TcBZadm_M1z"
   },
   "source": [
    "**Accuracy can be misleading**"
   ]
  },
  {
   "cell_type": "markdown",
   "metadata": {
    "id": "lHfpsvK5_M1z"
   },
   "source": [
    "*Baseline*"
   ]
  },
  {
   "cell_type": "code",
   "execution_count": 69,
   "metadata": {
    "id": "Y2ppC4sO_M1z",
    "outputId": "3d5cb121-d9dd-486d-9558-8828f6a3c9a0"
   },
   "outputs": [
    {
     "data": {
      "text/plain": [
       "0.9879156301560214"
      ]
     },
     "execution_count": 69,
     "metadata": {},
     "output_type": "execute_result"
    }
   ],
   "source": [
    "accuracy_score(y_valid, X_valid['sum_payments8'] > 0)"
   ]
  },
  {
   "cell_type": "code",
   "execution_count": 71,
   "metadata": {
    "id": "RoACrNrB_M1z",
    "outputId": "9f529fcc-383c-4f24-a7e3-340185e5ceea"
   },
   "outputs": [
    {
     "data": {
      "text/plain": [
       "0.9642449815904389"
      ]
     },
     "execution_count": 71,
     "metadata": {},
     "output_type": "execute_result"
    }
   ],
   "source": [
    "accuracy_score(y_valid, logit_pred_probs > 0.5)"
   ]
  },
  {
   "cell_type": "code",
   "execution_count": 72,
   "metadata": {
    "id": "o_54yIyx_M1z"
   },
   "outputs": [],
   "source": [
    "pred_df = pd.DataFrame({'true': y_valid, 'pred_logit': logit_pred_probs, \n",
    "             'pred_baseline': (X_valid['sum_payments8'] > 0).astype('int')})"
   ]
  },
  {
   "cell_type": "code",
   "execution_count": 73,
   "metadata": {
    "id": "u-pBrZ8D_M1z",
    "outputId": "e376c2aa-cb35-421c-a3d3-f531d6f59286"
   },
   "outputs": [
    {
     "data": {
      "text/html": [
       "<div>\n",
       "<style scoped>\n",
       "    .dataframe tbody tr th:only-of-type {\n",
       "        vertical-align: middle;\n",
       "    }\n",
       "\n",
       "    .dataframe tbody tr th {\n",
       "        vertical-align: top;\n",
       "    }\n",
       "\n",
       "    .dataframe thead th {\n",
       "        text-align: right;\n",
       "    }\n",
       "</style>\n",
       "<table border=\"1\" class=\"dataframe\">\n",
       "  <thead>\n",
       "    <tr style=\"text-align: right;\">\n",
       "      <th></th>\n",
       "      <th>true</th>\n",
       "      <th>pred_logit</th>\n",
       "      <th>pred_baseline</th>\n",
       "    </tr>\n",
       "  </thead>\n",
       "  <tbody>\n",
       "    <tr>\n",
       "      <th>62466</th>\n",
       "      <td>1</td>\n",
       "      <td>1.0</td>\n",
       "      <td>1</td>\n",
       "    </tr>\n",
       "    <tr>\n",
       "      <th>10587</th>\n",
       "      <td>1</td>\n",
       "      <td>1.0</td>\n",
       "      <td>1</td>\n",
       "    </tr>\n",
       "    <tr>\n",
       "      <th>32466</th>\n",
       "      <td>1</td>\n",
       "      <td>1.0</td>\n",
       "      <td>1</td>\n",
       "    </tr>\n",
       "    <tr>\n",
       "      <th>52663</th>\n",
       "      <td>1</td>\n",
       "      <td>1.0</td>\n",
       "      <td>1</td>\n",
       "    </tr>\n",
       "    <tr>\n",
       "      <th>52996</th>\n",
       "      <td>1</td>\n",
       "      <td>1.0</td>\n",
       "      <td>1</td>\n",
       "    </tr>\n",
       "  </tbody>\n",
       "</table>\n",
       "</div>"
      ],
      "text/plain": [
       "       true  pred_logit  pred_baseline\n",
       "62466     1         1.0              1\n",
       "10587     1         1.0              1\n",
       "32466     1         1.0              1\n",
       "52663     1         1.0              1\n",
       "52996     1         1.0              1"
      ]
     },
     "execution_count": 73,
     "metadata": {},
     "output_type": "execute_result"
    }
   ],
   "source": [
    "pred_df.sort_values(by='pred_logit', ascending=False, inplace=True)\n",
    "pred_df.head()"
   ]
  },
  {
   "cell_type": "code",
   "execution_count": 74,
   "metadata": {
    "id": "ivQFa9md_M1z",
    "outputId": "a14fc67f-2f83-46bb-c4a7-f0123acbc1a4"
   },
   "outputs": [
    {
     "data": {
      "text/plain": [
       "6.4604489102616345"
      ]
     },
     "execution_count": 74,
     "metadata": {},
     "output_type": "execute_result"
    }
   ],
   "source": [
    "pred_df.iloc[:50000]['true'].mean() / y_valid.mean()"
   ]
  },
  {
   "cell_type": "code",
   "execution_count": 75,
   "metadata": {
    "id": "pHCOufyD_M10",
    "outputId": "9a4f62b6-349f-4ff1-bfd3-b99ba685a9cf"
   },
   "outputs": [
    {
     "data": {
      "text/plain": [
       "5.840669753036107"
      ]
     },
     "execution_count": 75,
     "metadata": {},
     "output_type": "execute_result"
    }
   ],
   "source": [
    "pred_df.sort_values(by='pred_baseline', \n",
    "                    ascending=False).iloc[:50000]['true'].mean() / y_valid.mean()"
   ]
  },
  {
   "cell_type": "markdown",
   "metadata": {
    "id": "ELhF-dxI_M10"
   },
   "source": [
    "**Precision/recall**"
   ]
  },
  {
   "cell_type": "code",
   "execution_count": 76,
   "metadata": {
    "id": "IZJA5Tp7_M10",
    "outputId": "cd1c415d-8358-4fd8-f2b1-ba5fdb1923b9"
   },
   "outputs": [
    {
     "data": {
      "image/png": "[encoded data removed]",
      "text/plain": [
       "<Figure size 432x288 with 1 Axes>"
      ]
     },
     "metadata": {
      "needs_background": "light"
     },
     "output_type": "display_data"
    }
   ],
   "source": [
    "precision, recall, thres = precision_recall_curve(y_valid, logit_pred_probs)\n",
    "    \n",
    "step_kwargs = ({'step': 'post'}\n",
    "               if 'step' in signature(plt.fill_between).parameters\n",
    "               else {})\n",
    "plt.step(recall, precision, color='b', alpha=0.2,\n",
    "         where='post')\n",
    "plt.fill_between(recall, precision, alpha=0.2, color='b', **step_kwargs)\n",
    "\n",
    "plt.xlabel('Recall')\n",
    "plt.ylabel('Precision')\n",
    "plt.ylim([0.0, 1.05])\n",
    "plt.hlines(y=0.5, xmin=0, xmax=1)\n",
    "plt.xlim([0.0, 1.0])\n",
    "plt.title('2-class Precision-Recall curve: Logit');"
   ]
  },
  {
   "cell_type": "code",
   "execution_count": 77,
   "metadata": {
    "id": "FEI0_Vhn_M10",
    "outputId": "0b87439b-ed76-4d2b-9a3e-6b4cf8db9694"
   },
   "outputs": [
    {
     "data": {
      "image/png": "[encoded data removed]",
      "text/plain": [
       "<Figure size 432x288 with 1 Axes>"
      ]
     },
     "metadata": {
      "needs_background": "light"
     },
     "output_type": "display_data"
    }
   ],
   "source": [
    "plt.plot(thres, precision[:-1], label='precision')\n",
    "plt.plot(thres, recall[:-1], label='recall');\n",
    "plt.hlines(y=0.5, xmin=0, xmax=1, label='min. precision', linestyles='dashed')\n",
    "plt.vlines(x=0.29, ymin=0, ymax=1, color='red', label='opt. threshold', linestyles='dashed')\n",
    "plt.legend();\n",
    "plt.xlabel('threshold')\n",
    "plt.ylabel('metric');"
   ]
  },
  {
   "cell_type": "code",
   "execution_count": 78,
   "metadata": {
    "id": "MVvcUSd2_M10",
    "outputId": "b14dcd9f-510e-49e5-aedf-94d0858e26a1"
   },
   "outputs": [
    {
     "data": {
      "text/plain": [
       "(0.5012316662523447, 0.9038633955497596)"
      ]
     },
     "execution_count": 78,
     "metadata": {},
     "output_type": "execute_result"
    }
   ],
   "source": [
    "precision_score(y_valid, logit_pred_probs > 0.29), \\\n",
    "    recall_score(y_valid, logit_pred_probs > 0.29)"
   ]
  },
  {
   "cell_type": "code",
   "execution_count": 82,
   "metadata": {
    "id": "wRWN0FPm_M10",
    "outputId": "660cd8db-e2a7-4967-d650-7811d99548cc"
   },
   "outputs": [
    {
     "data": {
      "text/plain": [
       "(1.0, 0.825984187790366)"
      ]
     },
     "execution_count": 82,
     "metadata": {},
     "output_type": "execute_result"
    }
   ],
   "source": [
    "precision_score(y_valid, X_valid['sum_payments8'] > 0),\\\n",
    "recall_score(y_valid, X_valid['sum_payments8'] > 0),"
   ]
  },
  {
   "cell_type": "code",
   "execution_count": 80,
   "metadata": {
    "id": "EfMb72gs_M10",
    "outputId": "cbb37bff-86d0-4c0a-9cfc-f6ef6a877b52"
   },
   "outputs": [
    {
     "data": {
      "image/png": "[encoded data removed]",
      "text/plain": [
       "<Figure size 432x288 with 1 Axes>"
      ]
     },
     "metadata": {
      "needs_background": "light"
     },
     "output_type": "display_data"
    }
   ],
   "source": [
    "plt.hist(logit_pred_probs);"
   ]
  },
  {
   "cell_type": "markdown",
   "metadata": {
    "id": "vw2OUKMS_M10"
   },
   "source": [
    "**Logistic regression worked better for us. Cool! We'll stick to this model. Also, logit will work better in case of sparse features.**"
   ]
  },
  {
   "cell_type": "markdown",
   "metadata": {
    "id": "__1yYBdS_M10"
   },
   "source": [
    "**Now let's take a look at coefficients**"
   ]
  },
  {
   "cell_type": "code",
   "execution_count": 94,
   "metadata": {
    "id": "dbO6v6Xw_M10",
    "outputId": "640c3556-b124-46ee-9a12-8fb33453e8e6"
   },
   "outputs": [
    {
     "data": {
      "text/html": [
       "<div>\n",
       "<style scoped>\n",
       "    .dataframe tbody tr th:only-of-type {\n",
       "        vertical-align: middle;\n",
       "    }\n",
       "\n",
       "    .dataframe tbody tr th {\n",
       "        vertical-align: top;\n",
       "    }\n",
       "\n",
       "    .dataframe thead th {\n",
       "        text-align: right;\n",
       "    }\n",
       "</style>\n",
       "<table border=\"1\" class=\"dataframe\">\n",
       "  <thead>\n",
       "    <tr style=\"text-align: right;\">\n",
       "      <th></th>\n",
       "      <th>coef</th>\n",
       "    </tr>\n",
       "  </thead>\n",
       "  <tbody>\n",
       "    <tr>\n",
       "      <th>num_payments8</th>\n",
       "      <td>3.415361</td>\n",
       "    </tr>\n",
       "    <tr>\n",
       "      <th>num_payments7</th>\n",
       "      <td>2.247397</td>\n",
       "    </tr>\n",
       "    <tr>\n",
       "      <th>num_payments6</th>\n",
       "      <td>1.757264</td>\n",
       "    </tr>\n",
       "    <tr>\n",
       "      <th>sessions8</th>\n",
       "      <td>1.605800</td>\n",
       "    </tr>\n",
       "    <tr>\n",
       "      <th>num_payments5</th>\n",
       "      <td>1.471147</td>\n",
       "    </tr>\n",
       "    <tr>\n",
       "      <th>sessions1</th>\n",
       "      <td>1.445354</td>\n",
       "    </tr>\n",
       "    <tr>\n",
       "      <th>num_payments4</th>\n",
       "      <td>1.290498</td>\n",
       "    </tr>\n",
       "    <tr>\n",
       "      <th>num_payments3</th>\n",
       "      <td>1.121328</td>\n",
       "    </tr>\n",
       "    <tr>\n",
       "      <th>num_payments2</th>\n",
       "      <td>0.975069</td>\n",
       "    </tr>\n",
       "    <tr>\n",
       "      <th>sessions2</th>\n",
       "      <td>0.951102</td>\n",
       "    </tr>\n",
       "    <tr>\n",
       "      <th>sessions3</th>\n",
       "      <td>0.767048</td>\n",
       "    </tr>\n",
       "    <tr>\n",
       "      <th>num_payments1</th>\n",
       "      <td>0.734173</td>\n",
       "    </tr>\n",
       "    <tr>\n",
       "      <th>sessions4</th>\n",
       "      <td>0.631701</td>\n",
       "    </tr>\n",
       "    <tr>\n",
       "      <th>launches8</th>\n",
       "      <td>0.619196</td>\n",
       "    </tr>\n",
       "    <tr>\n",
       "      <th>sum_payments8</th>\n",
       "      <td>0.502921</td>\n",
       "    </tr>\n",
       "    <tr>\n",
       "      <th>sessions7</th>\n",
       "      <td>0.454862</td>\n",
       "    </tr>\n",
       "    <tr>\n",
       "      <th>sessions5</th>\n",
       "      <td>0.414221</td>\n",
       "    </tr>\n",
       "    <tr>\n",
       "      <th>sum_payments7</th>\n",
       "      <td>0.335237</td>\n",
       "    </tr>\n",
       "    <tr>\n",
       "      <th>sum_payments6</th>\n",
       "      <td>0.274914</td>\n",
       "    </tr>\n",
       "    <tr>\n",
       "      <th>sum_payments5</th>\n",
       "      <td>0.239663</td>\n",
       "    </tr>\n",
       "    <tr>\n",
       "      <th>sessions6</th>\n",
       "      <td>0.235645</td>\n",
       "    </tr>\n",
       "    <tr>\n",
       "      <th>sum_payments4</th>\n",
       "      <td>0.218573</td>\n",
       "    </tr>\n",
       "    <tr>\n",
       "      <th>sum_payments3</th>\n",
       "      <td>0.200893</td>\n",
       "    </tr>\n",
       "    <tr>\n",
       "      <th>sum_payments2</th>\n",
       "      <td>0.185828</td>\n",
       "    </tr>\n",
       "    <tr>\n",
       "      <th>sum_payments1</th>\n",
       "      <td>0.160779</td>\n",
       "    </tr>\n",
       "    <tr>\n",
       "      <th>launches7</th>\n",
       "      <td>-0.607430</td>\n",
       "    </tr>\n",
       "    <tr>\n",
       "      <th>launches4</th>\n",
       "      <td>-0.759867</td>\n",
       "    </tr>\n",
       "    <tr>\n",
       "      <th>launches5</th>\n",
       "      <td>-0.833693</td>\n",
       "    </tr>\n",
       "    <tr>\n",
       "      <th>launches3</th>\n",
       "      <td>-0.838969</td>\n",
       "    </tr>\n",
       "    <tr>\n",
       "      <th>launches6</th>\n",
       "      <td>-0.909838</td>\n",
       "    </tr>\n",
       "    <tr>\n",
       "      <th>launches2</th>\n",
       "      <td>-1.033129</td>\n",
       "    </tr>\n",
       "    <tr>\n",
       "      <th>launches1</th>\n",
       "      <td>-1.442990</td>\n",
       "    </tr>\n",
       "  </tbody>\n",
       "</table>\n",
       "</div>"
      ],
      "text/plain": [
       "                   coef\n",
       "num_payments8  3.415361\n",
       "num_payments7  2.247397\n",
       "num_payments6  1.757264\n",
       "sessions8      1.605800\n",
       "num_payments5  1.471147\n",
       "sessions1      1.445354\n",
       "num_payments4  1.290498\n",
       "num_payments3  1.121328\n",
       "num_payments2  0.975069\n",
       "sessions2      0.951102\n",
       "sessions3      0.767048\n",
       "num_payments1  0.734173\n",
       "sessions4      0.631701\n",
       "launches8      0.619196\n",
       "sum_payments8  0.502921\n",
       "sessions7      0.454862\n",
       "sessions5      0.414221\n",
       "sum_payments7  0.335237\n",
       "sum_payments6  0.274914\n",
       "sum_payments5  0.239663\n",
       "sessions6      0.235645\n",
       "sum_payments4  0.218573\n",
       "sum_payments3  0.200893\n",
       "sum_payments2  0.185828\n",
       "sum_payments1  0.160779\n",
       "launches7     -0.607430\n",
       "launches4     -0.759867\n",
       "launches5     -0.833693\n",
       "launches3     -0.838969\n",
       "launches6     -0.909838\n",
       "launches2     -1.033129\n",
       "launches1     -1.442990"
      ]
     },
     "execution_count": 94,
     "metadata": {},
     "output_type": "execute_result"
    }
   ],
   "source": [
    "pd.DataFrame(logit.coef_.reshape(-1, 1), index=X.columns,\n",
    "             columns=['coef']).sort_values(by='coef',\n",
    "                                                ascending=False)"
   ]
  },
  {
   "cell_type": "code",
   "execution_count": 95,
   "metadata": {
    "id": "bDsDbdyS_M10",
    "outputId": "6fe3f23c-7ac3-45d8-fd8a-dee153599df3"
   },
   "outputs": [
    {
     "data": {
      "image/png": "[encoded data removed]",
      "text/plain": [
       "<Figure size 504x504 with 2 Axes>"
      ]
     },
     "metadata": {
      "needs_background": "light"
     },
     "output_type": "display_data"
    }
   ],
   "source": [
    "plot_confusion_matrix(actual=y_valid, predicted=(logit_pred_probs > 0.29),\n",
    "                     classes=logit.classes_)"
   ]
  },
  {
   "cell_type": "code",
   "execution_count": null,
   "metadata": {
    "id": "YVpZJaRT_M11"
   },
   "outputs": [],
   "source": [
    "# import pickle"
   ]
  },
  {
   "cell_type": "code",
   "execution_count": null,
   "metadata": {
    "id": "9faYLmwP_M11"
   },
   "outputs": [],
   "source": [
    "# data_to_share = {'X_train': X_train,\n",
    "#                  'y_train': y_train,\n",
    "#                  'X_valid': X_valid,\n",
    "#                  'y_valid': y_valid}"
   ]
  },
  {
   "cell_type": "code",
   "execution_count": null,
   "metadata": {
    "id": "jOxDgPCp_M11"
   },
   "outputs": [],
   "source": [
    "# with open('../../data/mobile_app_launches_sessions_payments.pkl', 'wb') as f:\n",
    "#     pickle.dump(data_to_share, f)"
   ]
  }
 ],
 "metadata": {
  "colab": {
   "name": "mobile_app_predict_payment.ipynb",
   "provenance": []
  },
  "kernelspec": {
   "display_name": "Python 3 (ipykernel)",
   "language": "python",
   "name": "python3"
  },
  "language_info": {
   "codemirror_mode": {
    "name": "ipython",
    "version": 3
   },
   "file_extension": ".py",
   "mimetype": "text/x-python",
   "name": "python",
   "nbconvert_exporter": "python",
   "pygments_lexer": "ipython3",
   "version": "3.9.10"
  }
 },
 "nbformat": 4,
 "nbformat_minor": 1
}
