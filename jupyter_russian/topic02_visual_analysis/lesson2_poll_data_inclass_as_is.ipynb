{
    "metadata": {
        "kernelspec": {
            "name": "python3",
            "display_name": "Python 3",
            "language": "python"
        },
        "language_info": {
            "name": "python",
            "version": "3.9.7",
            "mimetype": "text/x-python",
            "codemirror_mode": {
                "name": "ipython",
                "version": 3
            },
            "pygments_lexer": "ipython3",
            "nbconvert_exporter": "python",
            "file_extension": ".py"
        }
    },
    "nbformat_minor": 2,
    "nbformat": 4,
    "cells": [
        {
            "cell_type": "code",
            "source": [
                "import numpy as np\n",
                "import pandas as pd\n",
                "import seaborn as sns\n",
                "from matplotlib import pyplot as plt\n",
                "\n",
                "%matplotlib inline\n",
                "sns.set(rc={'figure.figsize' : (9,6)})"
            ],
            "metadata": {
                "azdata_cell_guid": "7453a636-379c-4896-81ae-7ee2fabe2c57"
            },
            "outputs": [],
            "execution_count": 1
        },
        {
            "cell_type": "code",
            "source": [
                "poll_data = pd.read_csv(\n",
                "    \"../../data/mlcourse_open_first_survey_parsed.csv\", index_col=\"id\"\n",
                ")"
            ],
            "metadata": {
                "azdata_cell_guid": "5dac6be7-c565-4af7-b208-cac6c2538e37"
            },
            "outputs": [],
            "execution_count": 3
        },
        {
            "cell_type": "code",
            "source": [
                "poll_data.head(2)"
            ],
            "metadata": {
                "azdata_cell_guid": "f050741b-ac8b-4b9e-8d23-253551f8c96b"
            },
            "outputs": [
                {
                    "data": {
                        "text/plain": "                       Timestamp  \\\nid                                 \n0   2016/12/05 10:39:59 am GMT+3   \n1   2016/12/05 10:44:27 am GMT+3   \n\n                           Представьтесь в 2-3 фразах  \\\nid                                                      \n0                                    крутой Developer   \n1   Разработчик Navision. Изучаю тему DS для возмо...   \n\n   Работали ли Вы с Jupyter notebooks?  \\\nid                                       \n0                                   Да   \n1                                   Да   \n\n                               Что Вы ждете от курса?  \\\nid                                                      \n0   Ребята, вижу ваш настрой, уверен курс будет ин...   \n1   Практики, подкрепленной теорией. Хочется упоря...   \n\n   Потом мы прямо этот же набор данных поанализируем с Pandas. Так что какой Ваш любимый вид спорта?  \\\nid                                                                                                     \n0                                           Starcraft                                                  \n1                                                 NaN                                                  \n\n   Ладно, посерьезней: согласны ли Вы на обработку персональных данных?  \\\nid                                                                        \n0                                                  Да                     \n1                                                  Да                     \n\n    Какие оцениваете свой уровень математической подготовки? (матан, линал, теорвер)  \\\nid                                                                                     \n0                                                   4                                  \n1                                                   1                                  \n\n   Чему равна дисперсия равномерного на [0,6] распределения?  \\\nid                                                             \n0                                                   3          \n1                                                   3          \n\n   Найдите минимум функции 3x^4-8x^3+6x^2-12 на отрезке [-3,3]  \\\nid                                                               \n0                                                 -12            \n1                                                 NaN            \n\n    Сколько параметров у нормального распределения?  \\\nid                                                    \n0                                               2.0   \n1                                               2.0   \n\n   Сможете написать на Python генератор чисел Фибоначчи?  \\\nid                                                         \n0                                                  Да      \n1                                     Да, но фиговый.      \n\n   Хорошо, а готовы к началу курса (6 сентября 2017) освоить азы Python? На уровне Code Academy, DataCamp или github.com/Yorko/python_intro  \\\nid                                                                                                                                            \n0                                                  Да                                                                                         \n1                                                  Да                                                                                         \n\n   Оцените свой уровень владения GitHub  \\\nid                                        \n0                                  Проф   \n1                Могу скачать материалы   \n\n   Посоветуйте хороший фильм в стиле \"Игра в имитацию\" :)  \nid                                                         \n0   Прочитай книгу Лема \"Голос Неба\", очень много ...      \n1                                                 NaN      ",
                        "text/html": "<div>\n<style scoped>\n    .dataframe tbody tr th:only-of-type {\n        vertical-align: middle;\n    }\n\n    .dataframe tbody tr th {\n        vertical-align: top;\n    }\n\n    .dataframe thead th {\n        text-align: right;\n    }\n</style>\n<table border=\"1\" class=\"dataframe\">\n  <thead>\n    <tr style=\"text-align: right;\">\n      <th></th>\n      <th>Timestamp</th>\n      <th>Представьтесь в 2-3 фразах</th>\n      <th>Работали ли Вы с Jupyter notebooks?</th>\n      <th>Что Вы ждете от курса?</th>\n      <th>Потом мы прямо этот же набор данных поанализируем с Pandas. Так что какой Ваш любимый вид спорта?</th>\n      <th>Ладно, посерьезней: согласны ли Вы на обработку персональных данных?</th>\n      <th>Какие оцениваете свой уровень математической подготовки? (матан, линал, теорвер)</th>\n      <th>Чему равна дисперсия равномерного на [0,6] распределения?</th>\n      <th>Найдите минимум функции 3x^4-8x^3+6x^2-12 на отрезке [-3,3]</th>\n      <th>Сколько параметров у нормального распределения?</th>\n      <th>Сможете написать на Python генератор чисел Фибоначчи?</th>\n      <th>Хорошо, а готовы к началу курса (6 сентября 2017) освоить азы Python? На уровне Code Academy, DataCamp или github.com/Yorko/python_intro</th>\n      <th>Оцените свой уровень владения GitHub</th>\n      <th>Посоветуйте хороший фильм в стиле \"Игра в имитацию\" :)</th>\n    </tr>\n    <tr>\n      <th>id</th>\n      <th></th>\n      <th></th>\n      <th></th>\n      <th></th>\n      <th></th>\n      <th></th>\n      <th></th>\n      <th></th>\n      <th></th>\n      <th></th>\n      <th></th>\n      <th></th>\n      <th></th>\n      <th></th>\n    </tr>\n  </thead>\n  <tbody>\n    <tr>\n      <th>0</th>\n      <td>2016/12/05 10:39:59 am GMT+3</td>\n      <td>крутой Developer</td>\n      <td>Да</td>\n      <td>Ребята, вижу ваш настрой, уверен курс будет ин...</td>\n      <td>Starcraft</td>\n      <td>Да</td>\n      <td>4</td>\n      <td>3</td>\n      <td>-12</td>\n      <td>2.0</td>\n      <td>Да</td>\n      <td>Да</td>\n      <td>Проф</td>\n      <td>Прочитай книгу Лема \"Голос Неба\", очень много ...</td>\n    </tr>\n    <tr>\n      <th>1</th>\n      <td>2016/12/05 10:44:27 am GMT+3</td>\n      <td>Разработчик Navision. Изучаю тему DS для возмо...</td>\n      <td>Да</td>\n      <td>Практики, подкрепленной теорией. Хочется упоря...</td>\n      <td>NaN</td>\n      <td>Да</td>\n      <td>1</td>\n      <td>3</td>\n      <td>NaN</td>\n      <td>2.0</td>\n      <td>Да, но фиговый.</td>\n      <td>Да</td>\n      <td>Могу скачать материалы</td>\n      <td>NaN</td>\n    </tr>\n  </tbody>\n</table>\n</div>"
                    },
                    "metadata": {},
                    "execution_count": 4,
                    "output_type": "execute_result"
                }
            ],
            "execution_count": 4
        },
        {
            "cell_type": "code",
            "source": [
                "poll_data.info()"
            ],
            "metadata": {
                "azdata_cell_guid": "51200d42-e5cc-4096-9bfa-3ab464aa0212"
            },
            "outputs": [
                {
                    "name": "stdout",
                    "text": "<class 'pandas.core.frame.DataFrame'>\nInt64Index: 2944 entries, 0 to 3215\nData columns (total 14 columns):\n #   Column                                                                                                                                    Non-Null Count  Dtype  \n---  ------                                                                                                                                    --------------  -----  \n 0   Timestamp                                                                                                                                 2944 non-null   object \n 1   Представьтесь в 2-3 фразах                                                                                                                2944 non-null   object \n 2   Работали ли Вы с Jupyter notebooks?                                                                                                       2931 non-null   object \n 3   Что Вы ждете от курса?                                                                                                                    2944 non-null   object \n 4   Потом мы прямо этот же набор данных поанализируем с Pandas. Так что какой Ваш любимый вид спорта?                                         2638 non-null   object \n 5   Ладно, посерьезней: согласны ли Вы на обработку персональных данных?                                                                      2944 non-null   object \n 6   Какие оцениваете свой уровень математической подготовки? (матан, линал, теорвер)                                                          2944 non-null   int64  \n 7   Чему равна дисперсия равномерного на [0,6] распределения?                                                                                 2689 non-null   object \n 8   Найдите минимум функции 3x^4-8x^3+6x^2-12 на отрезке [-3,3]                                                                               2623 non-null   object \n 9   Сколько параметров у нормального распределения?                                                                                           2725 non-null   float64\n 10  Сможете написать на Python генератор чисел Фибоначчи?                                                                                     2944 non-null   object \n 11  Хорошо, а готовы к началу курса (6 сентября 2017) освоить азы Python? На уровне Code Academy, DataCamp или github.com/Yorko/python_intro  2944 non-null   object \n 12  Оцените свой уровень владения GitHub                                                                                                      2910 non-null   object \n 13  Посоветуйте хороший фильм в стиле \"Игра в имитацию\" :)                                                                                    2086 non-null   object \ndtypes: float64(1), int64(1), object(12)\nmemory usage: 345.0+ KB\n",
                    "output_type": "stream"
                }
            ],
            "execution_count": 5
        },
        {
            "cell_type": "code",
            "source": [
                "poll_data.shape"
            ],
            "metadata": {
                "azdata_cell_guid": "f9f96340-77be-41f4-86a1-2e92b1dfd3dc"
            },
            "outputs": [
                {
                    "data": {
                        "text/plain": "(2944, 14)"
                    },
                    "metadata": {},
                    "execution_count": 6,
                    "output_type": "execute_result"
                }
            ],
            "execution_count": 6
        },
        {
            "cell_type": "markdown",
            "source": [
                "**Переименуем признаки.**"
            ],
            "metadata": {
                "azdata_cell_guid": "a7f4f332-e22a-4cd5-8e06-31e20d5c35b2"
            }
        },
        {
            "cell_type": "code",
            "source": [
                "rename_dic = dict(\n",
                "    zip(\n",
                "        poll_data.columns,\n",
                "        [\n",
                "            \"time\",\n",
                "            \"intro\",\n",
                "            \"jupyter\",\n",
                "            \"expect\",\n",
                "            \"sport\",\n",
                "            \"personal\",\n",
                "            \"math_level\",\n",
                "            \"quest1\",\n",
                "            \"quest2\",\n",
                "            \"quest3\",\n",
                "            \"fib_gen\",\n",
                "            \"python\",\n",
                "            \"github\",\n",
                "            \"movie\",\n",
                "        ],\n",
                "    )\n",
                ")"
            ],
            "metadata": {
                "azdata_cell_guid": "b2611ed5-6196-4de9-b68e-8e53c2595300"
            },
            "outputs": [],
            "execution_count": 8
        },
        {
            "cell_type": "code",
            "source": [
                "rename_dic"
            ],
            "metadata": {
                "azdata_cell_guid": "569be604-6fa6-4396-800c-237255018891"
            },
            "outputs": [
                {
                    "data": {
                        "text/plain": "{'Timestamp': 'time',\n 'Представьтесь в 2-3 фразах': 'intro',\n 'Работали ли Вы с Jupyter notebooks?': 'jupyter',\n 'Что Вы ждете от курса?': 'expect',\n 'Потом мы прямо этот же набор данных поанализируем с Pandas. Так что какой Ваш любимый вид спорта?': 'sport',\n 'Ладно, посерьезней: согласны ли Вы на обработку персональных данных?': 'personal',\n 'Какие оцениваете свой уровень математической подготовки? (матан, линал, теорвер)': 'math_level',\n 'Чему равна дисперсия равномерного на [0,6] распределения?': 'quest1',\n 'Найдите минимум функции 3x^4-8x^3+6x^2-12 на отрезке [-3,3]': 'quest2',\n 'Сколько параметров у нормального распределения?': 'quest3',\n 'Сможете написать на Python генератор чисел Фибоначчи?': 'fib_gen',\n 'Хорошо, а готовы к началу курса (6 сентября 2017) освоить азы Python? На уровне Code Academy, DataCamp или github.com/Yorko/python_intro': 'python',\n 'Оцените свой уровень владения GitHub': 'github',\n 'Посоветуйте хороший фильм в стиле \"Игра в имитацию\" :)': 'movie'}"
                    },
                    "metadata": {},
                    "execution_count": 9,
                    "output_type": "execute_result"
                }
            ],
            "execution_count": 9
        },
        {
            "cell_type": "code",
            "source": [
                "poll_data.rename(columns=rename_dic, inplace=True)"
            ],
            "metadata": {
                "azdata_cell_guid": "63405905-f50b-4596-bd31-e97afd634f2f"
            },
            "outputs": [],
            "execution_count": 10
        },
        {
            "cell_type": "code",
            "source": [
                "poll_data.head(2)"
            ],
            "metadata": {
                "azdata_cell_guid": "804abda8-5041-40cf-b752-d4908d8fb8c7"
            },
            "outputs": [
                {
                    "data": {
                        "text/plain": "                            time  \\\nid                                 \n0   2016/12/05 10:39:59 am GMT+3   \n1   2016/12/05 10:44:27 am GMT+3   \n\n                                                intro jupyter  \\\nid                                                              \n0                                    крутой Developer      Да   \n1   Разработчик Navision. Изучаю тему DS для возмо...      Да   \n\n                                               expect      sport personal  \\\nid                                                                          \n0   Ребята, вижу ваш настрой, уверен курс будет ин...  Starcraft       Да   \n1   Практики, подкрепленной теорией. Хочется упоря...        NaN       Да   \n\n    math_level quest1 quest2  quest3          fib_gen python  \\\nid                                                             \n0            4      3    -12     2.0               Да     Да   \n1            1      3    NaN     2.0  Да, но фиговый.     Да   \n\n                    github                                              movie  \nid                                                                             \n0                     Проф  Прочитай книгу Лема \"Голос Неба\", очень много ...  \n1   Могу скачать материалы                                                NaN  ",
                        "text/html": "<div>\n<style scoped>\n    .dataframe tbody tr th:only-of-type {\n        vertical-align: middle;\n    }\n\n    .dataframe tbody tr th {\n        vertical-align: top;\n    }\n\n    .dataframe thead th {\n        text-align: right;\n    }\n</style>\n<table border=\"1\" class=\"dataframe\">\n  <thead>\n    <tr style=\"text-align: right;\">\n      <th></th>\n      <th>time</th>\n      <th>intro</th>\n      <th>jupyter</th>\n      <th>expect</th>\n      <th>sport</th>\n      <th>personal</th>\n      <th>math_level</th>\n      <th>quest1</th>\n      <th>quest2</th>\n      <th>quest3</th>\n      <th>fib_gen</th>\n      <th>python</th>\n      <th>github</th>\n      <th>movie</th>\n    </tr>\n    <tr>\n      <th>id</th>\n      <th></th>\n      <th></th>\n      <th></th>\n      <th></th>\n      <th></th>\n      <th></th>\n      <th></th>\n      <th></th>\n      <th></th>\n      <th></th>\n      <th></th>\n      <th></th>\n      <th></th>\n      <th></th>\n    </tr>\n  </thead>\n  <tbody>\n    <tr>\n      <th>0</th>\n      <td>2016/12/05 10:39:59 am GMT+3</td>\n      <td>крутой Developer</td>\n      <td>Да</td>\n      <td>Ребята, вижу ваш настрой, уверен курс будет ин...</td>\n      <td>Starcraft</td>\n      <td>Да</td>\n      <td>4</td>\n      <td>3</td>\n      <td>-12</td>\n      <td>2.0</td>\n      <td>Да</td>\n      <td>Да</td>\n      <td>Проф</td>\n      <td>Прочитай книгу Лема \"Голос Неба\", очень много ...</td>\n    </tr>\n    <tr>\n      <th>1</th>\n      <td>2016/12/05 10:44:27 am GMT+3</td>\n      <td>Разработчик Navision. Изучаю тему DS для возмо...</td>\n      <td>Да</td>\n      <td>Практики, подкрепленной теорией. Хочется упоря...</td>\n      <td>NaN</td>\n      <td>Да</td>\n      <td>1</td>\n      <td>3</td>\n      <td>NaN</td>\n      <td>2.0</td>\n      <td>Да, но фиговый.</td>\n      <td>Да</td>\n      <td>Могу скачать материалы</td>\n      <td>NaN</td>\n    </tr>\n  </tbody>\n</table>\n</div>"
                    },
                    "metadata": {},
                    "execution_count": 11,
                    "output_type": "execute_result"
                }
            ],
            "execution_count": 11
        },
        {
            "cell_type": "code",
            "source": [
                "poll_data[\"jupyter\"].value_counts().head()"
            ],
            "metadata": {
                "azdata_cell_guid": "80cd1cd4-69b2-4923-938f-ad328700a6fc"
            },
            "outputs": [
                {
                    "data": {
                        "text/plain": "Да                                                              2071\nНет                                                              766\nнемного                                                            7\nНемного                                                            3\nНемного,  недавно начал проходить курс от яндекса на курсоре       2\nName: jupyter, dtype: int64"
                    },
                    "metadata": {},
                    "execution_count": 12,
                    "output_type": "execute_result"
                }
            ],
            "execution_count": 12
        },
        {
            "cell_type": "code",
            "source": [
                "jupyer_levels = poll_data[\"jupyter\"].map({\"Да\": 1, \"Нет\": 0}).fillna(2)"
            ],
            "metadata": {
                "azdata_cell_guid": "fcea95b9-71fd-4a97-86fe-d953b57904a2"
            },
            "outputs": [],
            "execution_count": 15
        },
        {
            "cell_type": "code",
            "source": [
                "jupyer_levels.value_counts(normalize=True)"
            ],
            "metadata": {
                "azdata_cell_guid": "c67fa87f-1900-4bb8-af0b-b7569e6f5e97"
            },
            "outputs": [
                {
                    "data": {
                        "text/plain": "1.0    0.703465\n0.0    0.260190\n2.0    0.036345\nName: jupyter, dtype: float64"
                    },
                    "metadata": {},
                    "execution_count": 18,
                    "output_type": "execute_result"
                }
            ],
            "execution_count": 18
        },
        {
            "cell_type": "code",
            "source": [
                "sns.countplot(x=jupyer_levels);"
            ],
            "metadata": {
                "azdata_cell_guid": "fc4b18ed-6483-4f1e-93a8-dbde6cdfe80e"
            },
            "outputs": [
                {
                    "data": {
                        "text/plain": "<Figure size 648x432 with 1 Axes>",
                        "image/png": "[encoded data removed]"
                    },
                    "metadata": {},
                    "output_type": "display_data"
                }
            ],
            "execution_count": 20
        },
        {
            "cell_type": "code",
            "source": [
                "poll_data.columns"
            ],
            "metadata": {
                "azdata_cell_guid": "977830ed-b1d6-4b63-b2b1-b40b41fba001"
            },
            "outputs": [
                {
                    "data": {
                        "text/plain": "Index(['time', 'intro', 'jupyter', 'expect', 'sport', 'personal', 'math_level',\n       'quest1', 'quest2', 'quest3', 'fib_gen', 'python', 'github', 'movie'],\n      dtype='object')"
                    },
                    "metadata": {},
                    "execution_count": 21,
                    "output_type": "execute_result"
                }
            ],
            "execution_count": 21
        },
        {
            "cell_type": "code",
            "source": [
                "poll_data.sport.value_counts().head()"
            ],
            "metadata": {
                "azdata_cell_guid": "7b5d4555-16b8-439f-8f0b-b5c6e6d4e568"
            },
            "outputs": [
                {
                    "data": {
                        "text/plain": "Футбол       197\nфутбол       113\nБаскетбол    113\nПлавание      94\nХоккей        66\nName: sport, dtype: int64"
                    },
                    "metadata": {},
                    "execution_count": 22,
                    "output_type": "execute_result"
                }
            ],
            "execution_count": 22
        },
        {
            "cell_type": "markdown",
            "source": [
                "**Процент ответивших на 3 вопрос**"
            ],
            "metadata": {
                "azdata_cell_guid": "f0837a7f-be4e-45f5-8f0e-9c0451bd15a0"
            }
        },
        {
            "cell_type": "code",
            "source": [
                "(poll_data[\"quest3\"] == 2).dropna().sum() / poll_data[\"quest3\"][\n",
                "    ~poll_data[\"quest3\"].isnull()\n",
                "].shape[0]"
            ],
            "metadata": {
                "azdata_cell_guid": "9c3428b8-24d8-466d-a98a-7f7f6f91d32c"
            },
            "outputs": [
                {
                    "data": {
                        "text/plain": "0.9244036697247706"
                    },
                    "metadata": {},
                    "execution_count": 23,
                    "output_type": "execute_result"
                }
            ],
            "execution_count": 23
        },
        {
            "cell_type": "markdown",
            "source": [
                "**Ищем топ-10 слов в представлении себя. При этом уберем стоп-слова**"
            ],
            "metadata": {
                "azdata_cell_guid": "177a00a6-7e40-4186-9ba7-066ab3f48378"
            }
        },
        {
            "cell_type": "code",
            "source": [
                "all_words = np.concatenate(poll_data[\"intro\"].apply(lambda s: s.strip().split()).values)"
            ],
            "metadata": {
                "azdata_cell_guid": "21be6380-b93e-4fde-89be-73a94852891c"
            },
            "outputs": [],
            "execution_count": 45
        },
        {
            "cell_type": "code",
            "source": [
                "all_words = set(np.concatenate(poll_data[\"intro\"].apply(lambda s: s.strip().split()).values)) #обнулит одинаковые значения"
            ],
            "metadata": {
                "azdata_cell_guid": "5d9749bd-471f-4b68-8589-642c2cba5e04"
            },
            "outputs": [],
            "execution_count": 42
        },
        {
            "cell_type": "code",
            "source": [
                "poll_data[\"intro\"].apply(lambda s: s.strip().split()).values"
            ],
            "metadata": {
                "azdata_cell_guid": "4c8a44dd-88ab-43bd-9355-8413aa222c9a"
            },
            "outputs": [
                {
                    "data": {
                        "text/plain": "array([list(['крутой', 'Developer']),\n       list(['Разработчик', 'Navision.', 'Изучаю', 'тему', 'DS', 'для', 'возможной', 'переквалификации.']),\n       list(['Я', 'Software', 'Engeneer', 'разработчик,', 'активно', 'интересующийся', 'областью', 'машинного', 'обучения.', 'Имею', 'реальный', 'опыт', 'в', 'DL', '(неcколько', 'задача', 'связанных', 'с', 'разпознавание', 'объектов', 'и', 'классификацией', 'изображений).']),\n       ...,\n       list(['Занимаюсь', 'сопровождением', 'автоматизированных', 'систем,', 'в', 'т.ч.', 'тех,', 'в', 'которых', 'очень', 'много', 'данных', 'в', 'БД', 'хранится.', 'Люблю', '\"покопаться\"', 'в', 'данных.', 'Изучаю', 'питон', 'с', '2017', 'года']),\n       list(['разработчик', 'Python,', 'JS']),\n       list(['Работал', 'аналитиком', 'в', 'разных', 'сферах,', 'включая', 'e-commerce,', 'телеком', 'и', 'онлайн-банкинг.', 'Увлекаюсь', 'программированием'])],\n      dtype=object)"
                    },
                    "metadata": {},
                    "execution_count": 25,
                    "output_type": "execute_result"
                }
            ],
            "execution_count": 25
        },
        {
            "cell_type": "code",
            "source": [
                "len(all_words)"
            ],
            "metadata": {
                "azdata_cell_guid": "eb6e059f-32d9-42c4-8a82-16d79508fdbe"
            },
            "outputs": [
                {
                    "data": {
                        "text/plain": "8294"
                    },
                    "metadata": {},
                    "execution_count": 43,
                    "output_type": "execute_result"
                }
            ],
            "execution_count": 43
        },
        {
            "cell_type": "code",
            "source": [
                "pd.Series(list(all_words)).value_counts()"
            ],
            "metadata": {
                "azdata_cell_guid": "c2b96910-2e62-4d99-9c3d-ffac95361270"
            },
            "outputs": [
                {
                    "data": {
                        "text/plain": "в                  1235\nи                   734\nна                  409\nпо                  283\nСтудент             279\n                   ... \nнаправления,          1\nнетехнического        1\nБиоинформатик,        1\nправа.                1\nонлайн-банкинг.       1\nLength: 8294, dtype: int64"
                    },
                    "metadata": {},
                    "execution_count": 46,
                    "output_type": "execute_result"
                }
            ],
            "execution_count": 46
        },
        {
            "cell_type": "code",
            "source": [
                "pip install nltk"
            ],
            "metadata": {
                "azdata_cell_guid": "4f6d3ad6-7072-46dc-a982-aa8f7c219b39"
            },
            "outputs": [
                {
                    "name": "stdout",
                    "text": "Note: you may need to restart the kernel to use updated packages.\n",
                    "output_type": "stream"
                },
                {
                    "name": "stderr",
                    "text": "WARNING: Retrying (Retry(total=4, connect=None, read=None, redirect=None, status=None)) after connection broken by 'ProtocolError('Connection aborted.', ConnectionResetError(10054, 'An existing connection was forcibly closed by the remote host', None, 10054, None))': /simple/nltk/\nWARNING: Retrying (Retry(total=3, connect=None, read=None, redirect=None, status=None)) after connection broken by 'ProtocolError('Connection aborted.', ConnectionResetError(10054, 'An existing connection was forcibly closed by the remote host', None, 10054, None))': /simple/nltk/\nWARNING: Retrying (Retry(total=2, connect=None, read=None, redirect=None, status=None)) after connection broken by 'ProtocolError('Connection aborted.', ConnectionResetError(10054, 'An existing connection was forcibly closed by the remote host', None, 10054, None))': /simple/nltk/\nWARNING: Retrying (Retry(total=1, connect=None, read=None, redirect=None, status=None)) after connection broken by 'ProtocolError('Connection aborted.', ConnectionResetError(10054, 'An existing connection was forcibly closed by the remote host', None, 10054, None))': /simple/nltk/\nWARNING: Retrying (Retry(total=0, connect=None, read=None, redirect=None, status=None)) after connection broken by 'ProtocolError('Connection aborted.', ConnectionResetError(10054, 'An existing connection was forcibly closed by the remote host', None, 10054, None))': /simple/nltk/\nERROR: Could not find a version that satisfies the requirement nltk (from versions: none)\nERROR: No matching distribution found for nltk\nWARNING: You are using pip version 21.3.1; however, version 22.0.4 is available.\nYou should consider upgrading via the 'c:\\Python 3.9\\python.exe -m pip install --upgrade pip' command.\n",
                    "output_type": "stream"
                }
            ],
            "execution_count": 3
        },
        {
            "cell_type": "code",
            "source": [
                "import nltk"
            ],
            "metadata": {
                "azdata_cell_guid": "3de496e5-240d-4bcc-821a-c32c45914378"
            },
            "outputs": [
                {
                    "traceback": [
                        "\u001b[1;31m---------------------------------------------------------------------------\u001b[0m",
                        "\u001b[1;31mModuleNotFoundError\u001b[0m                       Traceback (most recent call last)",
                        "\u001b[1;32m<ipython-input-1-1d2184025e54>\u001b[0m in \u001b[0;36m<module>\u001b[1;34m\u001b[0m\n\u001b[1;32m----> 1\u001b[1;33m \u001b[1;32mimport\u001b[0m \u001b[0mnltk\u001b[0m\u001b[1;33m\u001b[0m\u001b[1;33m\u001b[0m\u001b[0m\n\u001b[0m",
                        "\u001b[1;31mModuleNotFoundError\u001b[0m: No module named 'nltk'"
                    ],
                    "ename": "ModuleNotFoundError",
                    "evalue": "No module named 'nltk'",
                    "output_type": "error"
                }
            ],
            "execution_count": 1
        },
        {
            "cell_type": "code",
            "source": [
                "nltk.download(\"stopwords\")"
            ],
            "metadata": {
                "azdata_cell_guid": "bd1e8849-c0c6-4973-81fa-b52a45be9487"
            },
            "outputs": [],
            "execution_count": null
        },
        {
            "cell_type": "code",
            "source": [
                "nltk.corpus.stopwords.words(\"russian\")[:10]"
            ],
            "metadata": {
                "azdata_cell_guid": "08a96d8c-b995-4100-93d9-9b9947cd489f"
            },
            "outputs": [],
            "execution_count": null
        },
        {
            "cell_type": "code",
            "source": [
                "words_series = pd.Series(list(all_words))\n",
                "words_series[\n",
                "    ~words_series.isin(nltk.corpus.stopwords.words(\"russian\"))\n",
                "].value_counts().head(10)"
            ],
            "metadata": {
                "azdata_cell_guid": "31b5f5ec-507b-4f14-babc-8740e8b30d9c"
            },
            "outputs": [],
            "execution_count": null
        }
    ]
}