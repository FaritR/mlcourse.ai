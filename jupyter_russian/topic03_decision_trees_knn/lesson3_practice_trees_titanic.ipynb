{
    "metadata": {
        "kernelspec": {
            "name": "python3",
            "display_name": "Python 3",
            "language": "python"
        },
        "language_info": {
            "name": "python",
            "version": "3.9.7",
            "mimetype": "text/x-python",
            "codemirror_mode": {
                "name": "ipython",
                "version": 3
            },
            "pygments_lexer": "ipython3",
            "nbconvert_exporter": "python",
            "file_extension": ".py"
        },
        "anaconda-cloud": {},
        "name": "lesson3_homework_trees_titanic_solution.ipynb"
    },
    "nbformat_minor": 2,
    "nbformat": 4,
    "cells": [
        {
            "cell_type": "markdown",
            "source": [
                "<center>\n",
                "<img src=\"../../img/ods_stickers.jpg\">\n",
                "## Открытый курс по машинному обучению. Сессия № 2\n",
                "</center>\n",
                "Автор материала: программист-исследователь Mail.ru Group, старший преподаватель Факультета Компьютерных Наук ВШЭ Юрий Кашницкий. Материал распространяется на условиях лицензии [Creative Commons CC BY-NC-SA 4.0](https://creativecommons.org/licenses/by-nc-sa/4.0/). Можно использовать в любых целях (редактировать, поправлять и брать за основу), кроме коммерческих, но с обязательным упоминанием автора материала."
            ],
            "metadata": {
                "azdata_cell_guid": "4b2293ca-2534-48bb-8827-4736902d53c8"
            }
        },
        {
            "cell_type": "markdown",
            "source": [
                "# <center>Тема 3. Обучение с учителем. Методы классификации\n",
                "## <center>Практика. Дерево решений в задаче предсказания выживания пассажиров \"Титаника\". Решение"
            ],
            "metadata": {
                "azdata_cell_guid": "e765cd58-9dfb-489a-ba8b-81f4b32836f2"
            }
        },
        {
            "cell_type": "markdown",
            "source": [
                "**Заполните код в клетках и выберите ответы в [веб-форме](https://goo.gl/TBwVhQ).**\n",
                "\n",
                "**<a href=\"https://www.kaggle.com/c/titanic\">Соревнование</a> Kaggle \"Titanic: Machine Learning from Disaster\".**"
            ],
            "metadata": {
                "azdata_cell_guid": "4ded219b-012c-4ea9-a3b5-b52b9ae318d2"
            }
        },
        {
            "cell_type": "code",
            "source": [
                "import numpy as np\n",
                "import pandas as pd\n",
                "from sklearn.ensemble import RandomForestClassifier\n",
                "from sklearn.metrics import accuracy_score, confusion_matrix, roc_auc_score\n",
                "from sklearn.model_selection import GridSearchCV\n",
                "from sklearn.tree import DecisionTreeClassifier, export_graphviz\n",
                "from sklearn import tree\n",
                "\n",
                "%matplotlib inline\n",
                "import seaborn as sns\n",
                "from matplotlib import pyplot as plt\n",
                "sns.set(rc={'figure.figsize' : (9, 6)})"
            ],
            "metadata": {
                "azdata_cell_guid": "70cb2e32-a733-4d22-bdca-ef0d3e6344ed"
            },
            "outputs": [],
            "execution_count": 1
        },
        {
            "cell_type": "markdown",
            "source": [
                "**Функция для формирования csv-файла посылки на Kaggle:**"
            ],
            "metadata": {
                "azdata_cell_guid": "361a697a-57fe-45f0-9417-b090a4ea075c"
            }
        },
        {
            "cell_type": "code",
            "source": [
                "def write_to_submission_file(\n",
                "    predicted_labels,\n",
                "    out_file,\n",
                "    train_num=891,\n",
                "    target=\"Survived\",\n",
                "    index_label=\"PassengerId\",\n",
                "):\n",
                "    # turn predictions into data frame and save as csv file\n",
                "    predicted_df = pd.DataFrame(\n",
                "        predicted_labels,\n",
                "        index=np.arange(train_num + 1, train_num + 1 + predicted_labels.shape[0]),\n",
                "        columns=[target],\n",
                "    )\n",
                "    predicted_df.to_csv(out_file, index_label=index_label)"
            ],
            "metadata": {
                "azdata_cell_guid": "bc0047f7-c04e-450e-9ed2-a7d3dfc85f87"
            },
            "outputs": [],
            "execution_count": 2
        },
        {
            "cell_type": "markdown",
            "source": [
                "**Считываем обучающую и тестовую выборки.**"
            ],
            "metadata": {
                "azdata_cell_guid": "1355b792-0ae6-4e5a-8773-c44a1534f1ce"
            }
        },
        {
            "cell_type": "code",
            "source": [
                "train_df = pd.read_csv(\"../../data/titanic_train.csv\")\n",
                "test_df = pd.read_csv(\"../../data/titanic_test.csv\")"
            ],
            "metadata": {
                "azdata_cell_guid": "13869836-50fd-4806-ba4e-c19654e37949"
            },
            "outputs": [],
            "execution_count": 18
        },
        {
            "cell_type": "code",
            "source": [
                "y = train_df[\"Survived\"]"
            ],
            "metadata": {
                "azdata_cell_guid": "e92d6ee4-60af-42b2-a739-e264f33c61f0"
            },
            "outputs": [],
            "execution_count": 19
        },
        {
            "cell_type": "code",
            "source": [
                "train_df.head()"
            ],
            "metadata": {
                "azdata_cell_guid": "afba6185-8df9-4181-8a2a-91658b2baef7"
            },
            "outputs": [
                {
                    "data": {
                        "text/plain": "   PassengerId  Survived  Pclass  \\\n0            1         0       3   \n1            2         1       1   \n2            3         1       3   \n3            4         1       1   \n4            5         0       3   \n\n                                                Name     Sex   Age  SibSp  \\\n0                            Braund, Mr. Owen Harris    male  22.0      1   \n1  Cumings, Mrs. John Bradley (Florence Briggs Th...  female  38.0      1   \n2                             Heikkinen, Miss. Laina  female  26.0      0   \n3       Futrelle, Mrs. Jacques Heath (Lily May Peel)  female  35.0      1   \n4                           Allen, Mr. William Henry    male  35.0      0   \n\n   Parch            Ticket     Fare Cabin Embarked  \n0      0         A/5 21171   7.2500   NaN        S  \n1      0          PC 17599  71.2833   C85        C  \n2      0  STON/O2. 3101282   7.9250   NaN        S  \n3      0            113803  53.1000  C123        S  \n4      0            373450   8.0500   NaN        S  ",
                        "text/html": "<div>\n<style scoped>\n    .dataframe tbody tr th:only-of-type {\n        vertical-align: middle;\n    }\n\n    .dataframe tbody tr th {\n        vertical-align: top;\n    }\n\n    .dataframe thead th {\n        text-align: right;\n    }\n</style>\n<table border=\"1\" class=\"dataframe\">\n  <thead>\n    <tr style=\"text-align: right;\">\n      <th></th>\n      <th>PassengerId</th>\n      <th>Survived</th>\n      <th>Pclass</th>\n      <th>Name</th>\n      <th>Sex</th>\n      <th>Age</th>\n      <th>SibSp</th>\n      <th>Parch</th>\n      <th>Ticket</th>\n      <th>Fare</th>\n      <th>Cabin</th>\n      <th>Embarked</th>\n    </tr>\n  </thead>\n  <tbody>\n    <tr>\n      <th>0</th>\n      <td>1</td>\n      <td>0</td>\n      <td>3</td>\n      <td>Braund, Mr. Owen Harris</td>\n      <td>male</td>\n      <td>22.0</td>\n      <td>1</td>\n      <td>0</td>\n      <td>A/5 21171</td>\n      <td>7.2500</td>\n      <td>NaN</td>\n      <td>S</td>\n    </tr>\n    <tr>\n      <th>1</th>\n      <td>2</td>\n      <td>1</td>\n      <td>1</td>\n      <td>Cumings, Mrs. John Bradley (Florence Briggs Th...</td>\n      <td>female</td>\n      <td>38.0</td>\n      <td>1</td>\n      <td>0</td>\n      <td>PC 17599</td>\n      <td>71.2833</td>\n      <td>C85</td>\n      <td>C</td>\n    </tr>\n    <tr>\n      <th>2</th>\n      <td>3</td>\n      <td>1</td>\n      <td>3</td>\n      <td>Heikkinen, Miss. Laina</td>\n      <td>female</td>\n      <td>26.0</td>\n      <td>0</td>\n      <td>0</td>\n      <td>STON/O2. 3101282</td>\n      <td>7.9250</td>\n      <td>NaN</td>\n      <td>S</td>\n    </tr>\n    <tr>\n      <th>3</th>\n      <td>4</td>\n      <td>1</td>\n      <td>1</td>\n      <td>Futrelle, Mrs. Jacques Heath (Lily May Peel)</td>\n      <td>female</td>\n      <td>35.0</td>\n      <td>1</td>\n      <td>0</td>\n      <td>113803</td>\n      <td>53.1000</td>\n      <td>C123</td>\n      <td>S</td>\n    </tr>\n    <tr>\n      <th>4</th>\n      <td>5</td>\n      <td>0</td>\n      <td>3</td>\n      <td>Allen, Mr. William Henry</td>\n      <td>male</td>\n      <td>35.0</td>\n      <td>0</td>\n      <td>0</td>\n      <td>373450</td>\n      <td>8.0500</td>\n      <td>NaN</td>\n      <td>S</td>\n    </tr>\n  </tbody>\n</table>\n</div>"
                    },
                    "metadata": {},
                    "execution_count": 20,
                    "output_type": "execute_result"
                }
            ],
            "execution_count": 20
        },
        {
            "cell_type": "code",
            "source": [
                "test_df"
            ],
            "metadata": {
                "azdata_cell_guid": "4ece2ea6-285f-4433-935d-91cbadc20d29"
            },
            "outputs": [
                {
                    "data": {
                        "text/plain": "     PassengerId  Pclass                                          Name  \\\n0            892       3                              Kelly, Mr. James   \n1            893       3              Wilkes, Mrs. James (Ellen Needs)   \n2            894       2                     Myles, Mr. Thomas Francis   \n3            895       3                              Wirz, Mr. Albert   \n4            896       3  Hirvonen, Mrs. Alexander (Helga E Lindqvist)   \n..           ...     ...                                           ...   \n413         1305       3                            Spector, Mr. Woolf   \n414         1306       1                  Oliva y Ocana, Dona. Fermina   \n415         1307       3                  Saether, Mr. Simon Sivertsen   \n416         1308       3                           Ware, Mr. Frederick   \n417         1309       3                      Peter, Master. Michael J   \n\n        Sex   Age  SibSp  Parch              Ticket      Fare Cabin Embarked  \n0      male  34.5      0      0              330911    7.8292   NaN        Q  \n1    female  47.0      1      0              363272    7.0000   NaN        S  \n2      male  62.0      0      0              240276    9.6875   NaN        Q  \n3      male  27.0      0      0              315154    8.6625   NaN        S  \n4    female  22.0      1      1             3101298   12.2875   NaN        S  \n..      ...   ...    ...    ...                 ...       ...   ...      ...  \n413    male   NaN      0      0           A.5. 3236    8.0500   NaN        S  \n414  female  39.0      0      0            PC 17758  108.9000  C105        C  \n415    male  38.5      0      0  SOTON/O.Q. 3101262    7.2500   NaN        S  \n416    male   NaN      0      0              359309    8.0500   NaN        S  \n417    male   NaN      1      1                2668   22.3583   NaN        C  \n\n[418 rows x 11 columns]",
                        "text/html": "<div>\n<style scoped>\n    .dataframe tbody tr th:only-of-type {\n        vertical-align: middle;\n    }\n\n    .dataframe tbody tr th {\n        vertical-align: top;\n    }\n\n    .dataframe thead th {\n        text-align: right;\n    }\n</style>\n<table border=\"1\" class=\"dataframe\">\n  <thead>\n    <tr style=\"text-align: right;\">\n      <th></th>\n      <th>PassengerId</th>\n      <th>Pclass</th>\n      <th>Name</th>\n      <th>Sex</th>\n      <th>Age</th>\n      <th>SibSp</th>\n      <th>Parch</th>\n      <th>Ticket</th>\n      <th>Fare</th>\n      <th>Cabin</th>\n      <th>Embarked</th>\n    </tr>\n  </thead>\n  <tbody>\n    <tr>\n      <th>0</th>\n      <td>892</td>\n      <td>3</td>\n      <td>Kelly, Mr. James</td>\n      <td>male</td>\n      <td>34.5</td>\n      <td>0</td>\n      <td>0</td>\n      <td>330911</td>\n      <td>7.8292</td>\n      <td>NaN</td>\n      <td>Q</td>\n    </tr>\n    <tr>\n      <th>1</th>\n      <td>893</td>\n      <td>3</td>\n      <td>Wilkes, Mrs. James (Ellen Needs)</td>\n      <td>female</td>\n      <td>47.0</td>\n      <td>1</td>\n      <td>0</td>\n      <td>363272</td>\n      <td>7.0000</td>\n      <td>NaN</td>\n      <td>S</td>\n    </tr>\n    <tr>\n      <th>2</th>\n      <td>894</td>\n      <td>2</td>\n      <td>Myles, Mr. Thomas Francis</td>\n      <td>male</td>\n      <td>62.0</td>\n      <td>0</td>\n      <td>0</td>\n      <td>240276</td>\n      <td>9.6875</td>\n      <td>NaN</td>\n      <td>Q</td>\n    </tr>\n    <tr>\n      <th>3</th>\n      <td>895</td>\n      <td>3</td>\n      <td>Wirz, Mr. Albert</td>\n      <td>male</td>\n      <td>27.0</td>\n      <td>0</td>\n      <td>0</td>\n      <td>315154</td>\n      <td>8.6625</td>\n      <td>NaN</td>\n      <td>S</td>\n    </tr>\n    <tr>\n      <th>4</th>\n      <td>896</td>\n      <td>3</td>\n      <td>Hirvonen, Mrs. Alexander (Helga E Lindqvist)</td>\n      <td>female</td>\n      <td>22.0</td>\n      <td>1</td>\n      <td>1</td>\n      <td>3101298</td>\n      <td>12.2875</td>\n      <td>NaN</td>\n      <td>S</td>\n    </tr>\n    <tr>\n      <th>...</th>\n      <td>...</td>\n      <td>...</td>\n      <td>...</td>\n      <td>...</td>\n      <td>...</td>\n      <td>...</td>\n      <td>...</td>\n      <td>...</td>\n      <td>...</td>\n      <td>...</td>\n      <td>...</td>\n    </tr>\n    <tr>\n      <th>413</th>\n      <td>1305</td>\n      <td>3</td>\n      <td>Spector, Mr. Woolf</td>\n      <td>male</td>\n      <td>NaN</td>\n      <td>0</td>\n      <td>0</td>\n      <td>A.5. 3236</td>\n      <td>8.0500</td>\n      <td>NaN</td>\n      <td>S</td>\n    </tr>\n    <tr>\n      <th>414</th>\n      <td>1306</td>\n      <td>1</td>\n      <td>Oliva y Ocana, Dona. Fermina</td>\n      <td>female</td>\n      <td>39.0</td>\n      <td>0</td>\n      <td>0</td>\n      <td>PC 17758</td>\n      <td>108.9000</td>\n      <td>C105</td>\n      <td>C</td>\n    </tr>\n    <tr>\n      <th>415</th>\n      <td>1307</td>\n      <td>3</td>\n      <td>Saether, Mr. Simon Sivertsen</td>\n      <td>male</td>\n      <td>38.5</td>\n      <td>0</td>\n      <td>0</td>\n      <td>SOTON/O.Q. 3101262</td>\n      <td>7.2500</td>\n      <td>NaN</td>\n      <td>S</td>\n    </tr>\n    <tr>\n      <th>416</th>\n      <td>1308</td>\n      <td>3</td>\n      <td>Ware, Mr. Frederick</td>\n      <td>male</td>\n      <td>NaN</td>\n      <td>0</td>\n      <td>0</td>\n      <td>359309</td>\n      <td>8.0500</td>\n      <td>NaN</td>\n      <td>S</td>\n    </tr>\n    <tr>\n      <th>417</th>\n      <td>1309</td>\n      <td>3</td>\n      <td>Peter, Master. Michael J</td>\n      <td>male</td>\n      <td>NaN</td>\n      <td>1</td>\n      <td>1</td>\n      <td>2668</td>\n      <td>22.3583</td>\n      <td>NaN</td>\n      <td>C</td>\n    </tr>\n  </tbody>\n</table>\n<p>418 rows × 11 columns</p>\n</div>"
                    },
                    "metadata": {},
                    "execution_count": 21,
                    "output_type": "execute_result"
                }
            ],
            "execution_count": 21
        },
        {
            "cell_type": "code",
            "source": [
                "train_df.describe(include=\"all\")"
            ],
            "metadata": {
                "azdata_cell_guid": "31b32c01-00d3-46b8-a8e6-3dcc8e20a30f"
            },
            "outputs": [
                {
                    "data": {
                        "text/plain": "        PassengerId    Survived      Pclass                     Name   Sex  \\\ncount    891.000000  891.000000  891.000000                      891   891   \nunique          NaN         NaN         NaN                      891     2   \ntop             NaN         NaN         NaN  Braund, Mr. Owen Harris  male   \nfreq            NaN         NaN         NaN                        1   577   \nmean     446.000000    0.383838    2.308642                      NaN   NaN   \nstd      257.353842    0.486592    0.836071                      NaN   NaN   \nmin        1.000000    0.000000    1.000000                      NaN   NaN   \n25%      223.500000    0.000000    2.000000                      NaN   NaN   \n50%      446.000000    0.000000    3.000000                      NaN   NaN   \n75%      668.500000    1.000000    3.000000                      NaN   NaN   \nmax      891.000000    1.000000    3.000000                      NaN   NaN   \n\n               Age       SibSp       Parch  Ticket        Fare    Cabin  \\\ncount   714.000000  891.000000  891.000000     891  891.000000      204   \nunique         NaN         NaN         NaN     681         NaN      147   \ntop            NaN         NaN         NaN  347082         NaN  B96 B98   \nfreq           NaN         NaN         NaN       7         NaN        4   \nmean     29.699118    0.523008    0.381594     NaN   32.204208      NaN   \nstd      14.526497    1.102743    0.806057     NaN   49.693429      NaN   \nmin       0.420000    0.000000    0.000000     NaN    0.000000      NaN   \n25%      20.125000    0.000000    0.000000     NaN    7.910400      NaN   \n50%      28.000000    0.000000    0.000000     NaN   14.454200      NaN   \n75%      38.000000    1.000000    0.000000     NaN   31.000000      NaN   \nmax      80.000000    8.000000    6.000000     NaN  512.329200      NaN   \n\n       Embarked  \ncount       889  \nunique        3  \ntop           S  \nfreq        644  \nmean        NaN  \nstd         NaN  \nmin         NaN  \n25%         NaN  \n50%         NaN  \n75%         NaN  \nmax         NaN  ",
                        "text/html": "<div>\n<style scoped>\n    .dataframe tbody tr th:only-of-type {\n        vertical-align: middle;\n    }\n\n    .dataframe tbody tr th {\n        vertical-align: top;\n    }\n\n    .dataframe thead th {\n        text-align: right;\n    }\n</style>\n<table border=\"1\" class=\"dataframe\">\n  <thead>\n    <tr style=\"text-align: right;\">\n      <th></th>\n      <th>PassengerId</th>\n      <th>Survived</th>\n      <th>Pclass</th>\n      <th>Name</th>\n      <th>Sex</th>\n      <th>Age</th>\n      <th>SibSp</th>\n      <th>Parch</th>\n      <th>Ticket</th>\n      <th>Fare</th>\n      <th>Cabin</th>\n      <th>Embarked</th>\n    </tr>\n  </thead>\n  <tbody>\n    <tr>\n      <th>count</th>\n      <td>891.000000</td>\n      <td>891.000000</td>\n      <td>891.000000</td>\n      <td>891</td>\n      <td>891</td>\n      <td>714.000000</td>\n      <td>891.000000</td>\n      <td>891.000000</td>\n      <td>891</td>\n      <td>891.000000</td>\n      <td>204</td>\n      <td>889</td>\n    </tr>\n    <tr>\n      <th>unique</th>\n      <td>NaN</td>\n      <td>NaN</td>\n      <td>NaN</td>\n      <td>891</td>\n      <td>2</td>\n      <td>NaN</td>\n      <td>NaN</td>\n      <td>NaN</td>\n      <td>681</td>\n      <td>NaN</td>\n      <td>147</td>\n      <td>3</td>\n    </tr>\n    <tr>\n      <th>top</th>\n      <td>NaN</td>\n      <td>NaN</td>\n      <td>NaN</td>\n      <td>Braund, Mr. Owen Harris</td>\n      <td>male</td>\n      <td>NaN</td>\n      <td>NaN</td>\n      <td>NaN</td>\n      <td>347082</td>\n      <td>NaN</td>\n      <td>B96 B98</td>\n      <td>S</td>\n    </tr>\n    <tr>\n      <th>freq</th>\n      <td>NaN</td>\n      <td>NaN</td>\n      <td>NaN</td>\n      <td>1</td>\n      <td>577</td>\n      <td>NaN</td>\n      <td>NaN</td>\n      <td>NaN</td>\n      <td>7</td>\n      <td>NaN</td>\n      <td>4</td>\n      <td>644</td>\n    </tr>\n    <tr>\n      <th>mean</th>\n      <td>446.000000</td>\n      <td>0.383838</td>\n      <td>2.308642</td>\n      <td>NaN</td>\n      <td>NaN</td>\n      <td>29.699118</td>\n      <td>0.523008</td>\n      <td>0.381594</td>\n      <td>NaN</td>\n      <td>32.204208</td>\n      <td>NaN</td>\n      <td>NaN</td>\n    </tr>\n    <tr>\n      <th>std</th>\n      <td>257.353842</td>\n      <td>0.486592</td>\n      <td>0.836071</td>\n      <td>NaN</td>\n      <td>NaN</td>\n      <td>14.526497</td>\n      <td>1.102743</td>\n      <td>0.806057</td>\n      <td>NaN</td>\n      <td>49.693429</td>\n      <td>NaN</td>\n      <td>NaN</td>\n    </tr>\n    <tr>\n      <th>min</th>\n      <td>1.000000</td>\n      <td>0.000000</td>\n      <td>1.000000</td>\n      <td>NaN</td>\n      <td>NaN</td>\n      <td>0.420000</td>\n      <td>0.000000</td>\n      <td>0.000000</td>\n      <td>NaN</td>\n      <td>0.000000</td>\n      <td>NaN</td>\n      <td>NaN</td>\n    </tr>\n    <tr>\n      <th>25%</th>\n      <td>223.500000</td>\n      <td>0.000000</td>\n      <td>2.000000</td>\n      <td>NaN</td>\n      <td>NaN</td>\n      <td>20.125000</td>\n      <td>0.000000</td>\n      <td>0.000000</td>\n      <td>NaN</td>\n      <td>7.910400</td>\n      <td>NaN</td>\n      <td>NaN</td>\n    </tr>\n    <tr>\n      <th>50%</th>\n      <td>446.000000</td>\n      <td>0.000000</td>\n      <td>3.000000</td>\n      <td>NaN</td>\n      <td>NaN</td>\n      <td>28.000000</td>\n      <td>0.000000</td>\n      <td>0.000000</td>\n      <td>NaN</td>\n      <td>14.454200</td>\n      <td>NaN</td>\n      <td>NaN</td>\n    </tr>\n    <tr>\n      <th>75%</th>\n      <td>668.500000</td>\n      <td>1.000000</td>\n      <td>3.000000</td>\n      <td>NaN</td>\n      <td>NaN</td>\n      <td>38.000000</td>\n      <td>1.000000</td>\n      <td>0.000000</td>\n      <td>NaN</td>\n      <td>31.000000</td>\n      <td>NaN</td>\n      <td>NaN</td>\n    </tr>\n    <tr>\n      <th>max</th>\n      <td>891.000000</td>\n      <td>1.000000</td>\n      <td>3.000000</td>\n      <td>NaN</td>\n      <td>NaN</td>\n      <td>80.000000</td>\n      <td>8.000000</td>\n      <td>6.000000</td>\n      <td>NaN</td>\n      <td>512.329200</td>\n      <td>NaN</td>\n      <td>NaN</td>\n    </tr>\n  </tbody>\n</table>\n</div>"
                    },
                    "metadata": {},
                    "execution_count": 22,
                    "output_type": "execute_result"
                }
            ],
            "execution_count": 22
        },
        {
            "cell_type": "code",
            "source": [
                "test_df.describe(include=\"all\")"
            ],
            "metadata": {
                "azdata_cell_guid": "0c9e3371-ae25-46d3-8e08-0faf7898e542"
            },
            "outputs": [
                {
                    "data": {
                        "text/plain": "        PassengerId      Pclass              Name   Sex         Age  \\\ncount    418.000000  418.000000               418   418  332.000000   \nunique          NaN         NaN               418     2         NaN   \ntop             NaN         NaN  Kelly, Mr. James  male         NaN   \nfreq            NaN         NaN                 1   266         NaN   \nmean    1100.500000    2.265550               NaN   NaN   30.272590   \nstd      120.810458    0.841838               NaN   NaN   14.181209   \nmin      892.000000    1.000000               NaN   NaN    0.170000   \n25%      996.250000    1.000000               NaN   NaN   21.000000   \n50%     1100.500000    3.000000               NaN   NaN   27.000000   \n75%     1204.750000    3.000000               NaN   NaN   39.000000   \nmax     1309.000000    3.000000               NaN   NaN   76.000000   \n\n             SibSp       Parch    Ticket        Fare            Cabin Embarked  \ncount   418.000000  418.000000       418  417.000000               91      418  \nunique         NaN         NaN       363         NaN               76        3  \ntop            NaN         NaN  PC 17608         NaN  B57 B59 B63 B66        S  \nfreq           NaN         NaN         5         NaN                3      270  \nmean      0.447368    0.392344       NaN   35.627188              NaN      NaN  \nstd       0.896760    0.981429       NaN   55.907576              NaN      NaN  \nmin       0.000000    0.000000       NaN    0.000000              NaN      NaN  \n25%       0.000000    0.000000       NaN    7.895800              NaN      NaN  \n50%       0.000000    0.000000       NaN   14.454200              NaN      NaN  \n75%       1.000000    0.000000       NaN   31.500000              NaN      NaN  \nmax       8.000000    9.000000       NaN  512.329200              NaN      NaN  ",
                        "text/html": "<div>\n<style scoped>\n    .dataframe tbody tr th:only-of-type {\n        vertical-align: middle;\n    }\n\n    .dataframe tbody tr th {\n        vertical-align: top;\n    }\n\n    .dataframe thead th {\n        text-align: right;\n    }\n</style>\n<table border=\"1\" class=\"dataframe\">\n  <thead>\n    <tr style=\"text-align: right;\">\n      <th></th>\n      <th>PassengerId</th>\n      <th>Pclass</th>\n      <th>Name</th>\n      <th>Sex</th>\n      <th>Age</th>\n      <th>SibSp</th>\n      <th>Parch</th>\n      <th>Ticket</th>\n      <th>Fare</th>\n      <th>Cabin</th>\n      <th>Embarked</th>\n    </tr>\n  </thead>\n  <tbody>\n    <tr>\n      <th>count</th>\n      <td>418.000000</td>\n      <td>418.000000</td>\n      <td>418</td>\n      <td>418</td>\n      <td>332.000000</td>\n      <td>418.000000</td>\n      <td>418.000000</td>\n      <td>418</td>\n      <td>417.000000</td>\n      <td>91</td>\n      <td>418</td>\n    </tr>\n    <tr>\n      <th>unique</th>\n      <td>NaN</td>\n      <td>NaN</td>\n      <td>418</td>\n      <td>2</td>\n      <td>NaN</td>\n      <td>NaN</td>\n      <td>NaN</td>\n      <td>363</td>\n      <td>NaN</td>\n      <td>76</td>\n      <td>3</td>\n    </tr>\n    <tr>\n      <th>top</th>\n      <td>NaN</td>\n      <td>NaN</td>\n      <td>Kelly, Mr. James</td>\n      <td>male</td>\n      <td>NaN</td>\n      <td>NaN</td>\n      <td>NaN</td>\n      <td>PC 17608</td>\n      <td>NaN</td>\n      <td>B57 B59 B63 B66</td>\n      <td>S</td>\n    </tr>\n    <tr>\n      <th>freq</th>\n      <td>NaN</td>\n      <td>NaN</td>\n      <td>1</td>\n      <td>266</td>\n      <td>NaN</td>\n      <td>NaN</td>\n      <td>NaN</td>\n      <td>5</td>\n      <td>NaN</td>\n      <td>3</td>\n      <td>270</td>\n    </tr>\n    <tr>\n      <th>mean</th>\n      <td>1100.500000</td>\n      <td>2.265550</td>\n      <td>NaN</td>\n      <td>NaN</td>\n      <td>30.272590</td>\n      <td>0.447368</td>\n      <td>0.392344</td>\n      <td>NaN</td>\n      <td>35.627188</td>\n      <td>NaN</td>\n      <td>NaN</td>\n    </tr>\n    <tr>\n      <th>std</th>\n      <td>120.810458</td>\n      <td>0.841838</td>\n      <td>NaN</td>\n      <td>NaN</td>\n      <td>14.181209</td>\n      <td>0.896760</td>\n      <td>0.981429</td>\n      <td>NaN</td>\n      <td>55.907576</td>\n      <td>NaN</td>\n      <td>NaN</td>\n    </tr>\n    <tr>\n      <th>min</th>\n      <td>892.000000</td>\n      <td>1.000000</td>\n      <td>NaN</td>\n      <td>NaN</td>\n      <td>0.170000</td>\n      <td>0.000000</td>\n      <td>0.000000</td>\n      <td>NaN</td>\n      <td>0.000000</td>\n      <td>NaN</td>\n      <td>NaN</td>\n    </tr>\n    <tr>\n      <th>25%</th>\n      <td>996.250000</td>\n      <td>1.000000</td>\n      <td>NaN</td>\n      <td>NaN</td>\n      <td>21.000000</td>\n      <td>0.000000</td>\n      <td>0.000000</td>\n      <td>NaN</td>\n      <td>7.895800</td>\n      <td>NaN</td>\n      <td>NaN</td>\n    </tr>\n    <tr>\n      <th>50%</th>\n      <td>1100.500000</td>\n      <td>3.000000</td>\n      <td>NaN</td>\n      <td>NaN</td>\n      <td>27.000000</td>\n      <td>0.000000</td>\n      <td>0.000000</td>\n      <td>NaN</td>\n      <td>14.454200</td>\n      <td>NaN</td>\n      <td>NaN</td>\n    </tr>\n    <tr>\n      <th>75%</th>\n      <td>1204.750000</td>\n      <td>3.000000</td>\n      <td>NaN</td>\n      <td>NaN</td>\n      <td>39.000000</td>\n      <td>1.000000</td>\n      <td>0.000000</td>\n      <td>NaN</td>\n      <td>31.500000</td>\n      <td>NaN</td>\n      <td>NaN</td>\n    </tr>\n    <tr>\n      <th>max</th>\n      <td>1309.000000</td>\n      <td>3.000000</td>\n      <td>NaN</td>\n      <td>NaN</td>\n      <td>76.000000</td>\n      <td>8.000000</td>\n      <td>9.000000</td>\n      <td>NaN</td>\n      <td>512.329200</td>\n      <td>NaN</td>\n      <td>NaN</td>\n    </tr>\n  </tbody>\n</table>\n</div>"
                    },
                    "metadata": {},
                    "execution_count": 23,
                    "output_type": "execute_result"
                }
            ],
            "execution_count": 23
        },
        {
            "cell_type": "code",
            "source": [
                "train_df.info()"
            ],
            "metadata": {
                "azdata_cell_guid": "fe48d198-e7f3-4b46-a4b2-a5cb17cd4000"
            },
            "outputs": [
                {
                    "name": "stdout",
                    "text": "<class 'pandas.core.frame.DataFrame'>\nRangeIndex: 891 entries, 0 to 890\nData columns (total 12 columns):\n #   Column       Non-Null Count  Dtype  \n---  ------       --------------  -----  \n 0   PassengerId  891 non-null    int64  \n 1   Survived     891 non-null    int64  \n 2   Pclass       891 non-null    int64  \n 3   Name         891 non-null    object \n 4   Sex          891 non-null    object \n 5   Age          714 non-null    float64\n 6   SibSp        891 non-null    int64  \n 7   Parch        891 non-null    int64  \n 8   Ticket       891 non-null    object \n 9   Fare         891 non-null    float64\n 10  Cabin        204 non-null    object \n 11  Embarked     889 non-null    object \ndtypes: float64(2), int64(5), object(5)\nmemory usage: 83.7+ KB\n",
                    "output_type": "stream"
                }
            ],
            "execution_count": 24
        },
        {
            "cell_type": "markdown",
            "source": [
                "**Заполним пропуски медианными значениями.**"
            ],
            "metadata": {
                "azdata_cell_guid": "a88f61c9-a3fb-4d10-a1dc-ecbc436af17d"
            }
        },
        {
            "cell_type": "code",
            "source": [
                "train_df[\"Age\"].fillna(train_df[\"Age\"].median(), inplace=True)\n",
                "test_df[\"Age\"].fillna(train_df[\"Age\"].median(), inplace=True)\n",
                "train_df[\"Embarked\"].fillna(\"S\", inplace=True)\n",
                "test_df[\"Fare\"].fillna(train_df[\"Fare\"].median(), inplace=True)"
            ],
            "metadata": {
                "azdata_cell_guid": "172178ed-39a3-4b93-9aaf-8e929566147c"
            },
            "outputs": [],
            "execution_count": 25
        },
        {
            "cell_type": "markdown",
            "source": [
                "**Кодируем категориальные признаки `Pclass`, `Sex`, `SibSp`, `Parch` и `Embarked` с помощью техники One-Hot-Encoding.**"
            ],
            "metadata": {
                "azdata_cell_guid": "166270a9-6aee-4930-8490-46d818baf008"
            }
        },
        {
            "cell_type": "code",
            "source": [
                "train_df = pd.concat(\n",
                "    [\n",
                "        train_df,\n",
                "        pd.get_dummies(train_df[\"Pclass\"], prefix=\"PClass\"),\n",
                "        pd.get_dummies(train_df[\"Sex\"], prefix=\"Sex\"),\n",
                "        pd.get_dummies(train_df[\"SibSp\"], prefix=\"SibSp\"),\n",
                "        pd.get_dummies(train_df[\"Parch\"], prefix=\"Parch\"),\n",
                "        pd.get_dummies(train_df[\"Embarked\"], prefix=\"Embarked\"),\n",
                "    ],\n",
                "    axis=1,\n",
                ")\n",
                "test_df = pd.concat(\n",
                "    [\n",
                "        test_df,\n",
                "        pd.get_dummies(test_df[\"Pclass\"], prefix=\"PClass\"),\n",
                "        pd.get_dummies(test_df[\"Sex\"], prefix=\"Sex\"),\n",
                "        pd.get_dummies(test_df[\"SibSp\"], prefix=\"SibSp\"),\n",
                "        pd.get_dummies(test_df[\"Parch\"], prefix=\"Parch\"),\n",
                "        pd.get_dummies(test_df[\"Embarked\"], prefix=\"Embarked\"),\n",
                "    ],\n",
                "    axis=1,\n",
                ")"
            ],
            "metadata": {
                "azdata_cell_guid": "a73b2d0c-1adb-4a65-94b9-b58f21771f22"
            },
            "outputs": [],
            "execution_count": 26
        },
        {
            "cell_type": "code",
            "source": [
                "train_df.drop(\n",
                "    [\n",
                "        \"Survived\",\n",
                "        \"Pclass\",\n",
                "        \"Name\",\n",
                "        \"Sex\",\n",
                "        \"SibSp\",\n",
                "        \"Parch\",\n",
                "        \"Ticket\",\n",
                "        \"Cabin\",\n",
                "        \"Embarked\",\n",
                "        \"PassengerId\",\n",
                "    ],\n",
                "    axis=1,\n",
                "    inplace=True,\n",
                ")\n",
                "test_df.drop(\n",
                "    [\n",
                "        \"Pclass\",\n",
                "        \"Name\",\n",
                "        \"Sex\",\n",
                "        \"SibSp\",\n",
                "        \"Parch\",\n",
                "        \"Ticket\",\n",
                "        \"Cabin\",\n",
                "        \"Embarked\",\n",
                "        \"PassengerId\",\n",
                "    ],\n",
                "    axis=1,\n",
                "    inplace=True,\n",
                ")"
            ],
            "metadata": {
                "azdata_cell_guid": "4a716d4c-a996-4740-bf47-3f24fb976a6f"
            },
            "outputs": [],
            "execution_count": 27
        },
        {
            "cell_type": "markdown",
            "source": [
                "**В тестовой выборке появляется новое значение Parch = 9, которого нет в обучающей выборке. Проигнорируем его.**"
            ],
            "metadata": {
                "azdata_cell_guid": "73dfe952-4f83-43b6-a232-898cb1db2666"
            }
        },
        {
            "cell_type": "code",
            "source": [
                "train_df.shape, test_df.shape"
            ],
            "metadata": {
                "azdata_cell_guid": "a04f31cb-e770-4282-b4a3-6f9f38e86c3d"
            },
            "outputs": [
                {
                    "data": {
                        "text/plain": "((891, 24), (418, 25))"
                    },
                    "metadata": {},
                    "execution_count": 28,
                    "output_type": "execute_result"
                }
            ],
            "execution_count": 28
        },
        {
            "cell_type": "code",
            "source": [
                "set(test_df.columns) - set(train_df.columns)"
            ],
            "metadata": {
                "azdata_cell_guid": "640b306a-9a21-4622-affa-1dd32d85d9d7"
            },
            "outputs": [
                {
                    "data": {
                        "text/plain": "{'Parch_9'}"
                    },
                    "metadata": {},
                    "execution_count": 29,
                    "output_type": "execute_result"
                }
            ],
            "execution_count": 29
        },
        {
            "cell_type": "code",
            "source": [
                "test_df.drop([\"Parch_9\"], axis=1, inplace=True)"
            ],
            "metadata": {
                "azdata_cell_guid": "c2854f6f-6ab0-4c3c-af92-69e89c18e592"
            },
            "outputs": [],
            "execution_count": 30
        },
        {
            "cell_type": "code",
            "source": [
                "train_df.head()"
            ],
            "metadata": {
                "azdata_cell_guid": "e80294bc-8415-499a-8700-9ab58072f8e4"
            },
            "outputs": [
                {
                    "data": {
                        "text/plain": "    Age     Fare  PClass_1  PClass_2  PClass_3  Sex_female  Sex_male  SibSp_0  \\\n0  22.0   7.2500         0         0         1           0         1        0   \n1  38.0  71.2833         1         0         0           1         0        0   \n2  26.0   7.9250         0         0         1           1         0        1   \n3  35.0  53.1000         1         0         0           1         0        0   \n4  35.0   8.0500         0         0         1           0         1        1   \n\n   SibSp_1  SibSp_2  ...  Parch_0  Parch_1  Parch_2  Parch_3  Parch_4  \\\n0        1        0  ...        1        0        0        0        0   \n1        1        0  ...        1        0        0        0        0   \n2        0        0  ...        1        0        0        0        0   \n3        1        0  ...        1        0        0        0        0   \n4        0        0  ...        1        0        0        0        0   \n\n   Parch_5  Parch_6  Embarked_C  Embarked_Q  Embarked_S  \n0        0        0           0           0           1  \n1        0        0           1           0           0  \n2        0        0           0           0           1  \n3        0        0           0           0           1  \n4        0        0           0           0           1  \n\n[5 rows x 24 columns]",
                        "text/html": "<div>\n<style scoped>\n    .dataframe tbody tr th:only-of-type {\n        vertical-align: middle;\n    }\n\n    .dataframe tbody tr th {\n        vertical-align: top;\n    }\n\n    .dataframe thead th {\n        text-align: right;\n    }\n</style>\n<table border=\"1\" class=\"dataframe\">\n  <thead>\n    <tr style=\"text-align: right;\">\n      <th></th>\n      <th>Age</th>\n      <th>Fare</th>\n      <th>PClass_1</th>\n      <th>PClass_2</th>\n      <th>PClass_3</th>\n      <th>Sex_female</th>\n      <th>Sex_male</th>\n      <th>SibSp_0</th>\n      <th>SibSp_1</th>\n      <th>SibSp_2</th>\n      <th>...</th>\n      <th>Parch_0</th>\n      <th>Parch_1</th>\n      <th>Parch_2</th>\n      <th>Parch_3</th>\n      <th>Parch_4</th>\n      <th>Parch_5</th>\n      <th>Parch_6</th>\n      <th>Embarked_C</th>\n      <th>Embarked_Q</th>\n      <th>Embarked_S</th>\n    </tr>\n  </thead>\n  <tbody>\n    <tr>\n      <th>0</th>\n      <td>22.0</td>\n      <td>7.2500</td>\n      <td>0</td>\n      <td>0</td>\n      <td>1</td>\n      <td>0</td>\n      <td>1</td>\n      <td>0</td>\n      <td>1</td>\n      <td>0</td>\n      <td>...</td>\n      <td>1</td>\n      <td>0</td>\n      <td>0</td>\n      <td>0</td>\n      <td>0</td>\n      <td>0</td>\n      <td>0</td>\n      <td>0</td>\n      <td>0</td>\n      <td>1</td>\n    </tr>\n    <tr>\n      <th>1</th>\n      <td>38.0</td>\n      <td>71.2833</td>\n      <td>1</td>\n      <td>0</td>\n      <td>0</td>\n      <td>1</td>\n      <td>0</td>\n      <td>0</td>\n      <td>1</td>\n      <td>0</td>\n      <td>...</td>\n      <td>1</td>\n      <td>0</td>\n      <td>0</td>\n      <td>0</td>\n      <td>0</td>\n      <td>0</td>\n      <td>0</td>\n      <td>1</td>\n      <td>0</td>\n      <td>0</td>\n    </tr>\n    <tr>\n      <th>2</th>\n      <td>26.0</td>\n      <td>7.9250</td>\n      <td>0</td>\n      <td>0</td>\n      <td>1</td>\n      <td>1</td>\n      <td>0</td>\n      <td>1</td>\n      <td>0</td>\n      <td>0</td>\n      <td>...</td>\n      <td>1</td>\n      <td>0</td>\n      <td>0</td>\n      <td>0</td>\n      <td>0</td>\n      <td>0</td>\n      <td>0</td>\n      <td>0</td>\n      <td>0</td>\n      <td>1</td>\n    </tr>\n    <tr>\n      <th>3</th>\n      <td>35.0</td>\n      <td>53.1000</td>\n      <td>1</td>\n      <td>0</td>\n      <td>0</td>\n      <td>1</td>\n      <td>0</td>\n      <td>0</td>\n      <td>1</td>\n      <td>0</td>\n      <td>...</td>\n      <td>1</td>\n      <td>0</td>\n      <td>0</td>\n      <td>0</td>\n      <td>0</td>\n      <td>0</td>\n      <td>0</td>\n      <td>0</td>\n      <td>0</td>\n      <td>1</td>\n    </tr>\n    <tr>\n      <th>4</th>\n      <td>35.0</td>\n      <td>8.0500</td>\n      <td>0</td>\n      <td>0</td>\n      <td>1</td>\n      <td>0</td>\n      <td>1</td>\n      <td>1</td>\n      <td>0</td>\n      <td>0</td>\n      <td>...</td>\n      <td>1</td>\n      <td>0</td>\n      <td>0</td>\n      <td>0</td>\n      <td>0</td>\n      <td>0</td>\n      <td>0</td>\n      <td>0</td>\n      <td>0</td>\n      <td>1</td>\n    </tr>\n  </tbody>\n</table>\n<p>5 rows × 24 columns</p>\n</div>"
                    },
                    "metadata": {},
                    "execution_count": 31,
                    "output_type": "execute_result"
                }
            ],
            "execution_count": 31
        },
        {
            "cell_type": "code",
            "source": [
                "test_df.head()"
            ],
            "metadata": {
                "azdata_cell_guid": "86690845-22e9-44a9-8988-9f9121aacf65"
            },
            "outputs": [
                {
                    "data": {
                        "text/plain": "    Age     Fare  PClass_1  PClass_2  PClass_3  Sex_female  Sex_male  SibSp_0  \\\n0  34.5   7.8292         0         0         1           0         1        1   \n1  47.0   7.0000         0         0         1           1         0        0   \n2  62.0   9.6875         0         1         0           0         1        1   \n3  27.0   8.6625         0         0         1           0         1        1   \n4  22.0  12.2875         0         0         1           1         0        0   \n\n   SibSp_1  SibSp_2  ...  Parch_0  Parch_1  Parch_2  Parch_3  Parch_4  \\\n0        0        0  ...        1        0        0        0        0   \n1        1        0  ...        1        0        0        0        0   \n2        0        0  ...        1        0        0        0        0   \n3        0        0  ...        1        0        0        0        0   \n4        1        0  ...        0        1        0        0        0   \n\n   Parch_5  Parch_6  Embarked_C  Embarked_Q  Embarked_S  \n0        0        0           0           1           0  \n1        0        0           0           0           1  \n2        0        0           0           1           0  \n3        0        0           0           0           1  \n4        0        0           0           0           1  \n\n[5 rows x 24 columns]",
                        "text/html": "<div>\n<style scoped>\n    .dataframe tbody tr th:only-of-type {\n        vertical-align: middle;\n    }\n\n    .dataframe tbody tr th {\n        vertical-align: top;\n    }\n\n    .dataframe thead th {\n        text-align: right;\n    }\n</style>\n<table border=\"1\" class=\"dataframe\">\n  <thead>\n    <tr style=\"text-align: right;\">\n      <th></th>\n      <th>Age</th>\n      <th>Fare</th>\n      <th>PClass_1</th>\n      <th>PClass_2</th>\n      <th>PClass_3</th>\n      <th>Sex_female</th>\n      <th>Sex_male</th>\n      <th>SibSp_0</th>\n      <th>SibSp_1</th>\n      <th>SibSp_2</th>\n      <th>...</th>\n      <th>Parch_0</th>\n      <th>Parch_1</th>\n      <th>Parch_2</th>\n      <th>Parch_3</th>\n      <th>Parch_4</th>\n      <th>Parch_5</th>\n      <th>Parch_6</th>\n      <th>Embarked_C</th>\n      <th>Embarked_Q</th>\n      <th>Embarked_S</th>\n    </tr>\n  </thead>\n  <tbody>\n    <tr>\n      <th>0</th>\n      <td>34.5</td>\n      <td>7.8292</td>\n      <td>0</td>\n      <td>0</td>\n      <td>1</td>\n      <td>0</td>\n      <td>1</td>\n      <td>1</td>\n      <td>0</td>\n      <td>0</td>\n      <td>...</td>\n      <td>1</td>\n      <td>0</td>\n      <td>0</td>\n      <td>0</td>\n      <td>0</td>\n      <td>0</td>\n      <td>0</td>\n      <td>0</td>\n      <td>1</td>\n      <td>0</td>\n    </tr>\n    <tr>\n      <th>1</th>\n      <td>47.0</td>\n      <td>7.0000</td>\n      <td>0</td>\n      <td>0</td>\n      <td>1</td>\n      <td>1</td>\n      <td>0</td>\n      <td>0</td>\n      <td>1</td>\n      <td>0</td>\n      <td>...</td>\n      <td>1</td>\n      <td>0</td>\n      <td>0</td>\n      <td>0</td>\n      <td>0</td>\n      <td>0</td>\n      <td>0</td>\n      <td>0</td>\n      <td>0</td>\n      <td>1</td>\n    </tr>\n    <tr>\n      <th>2</th>\n      <td>62.0</td>\n      <td>9.6875</td>\n      <td>0</td>\n      <td>1</td>\n      <td>0</td>\n      <td>0</td>\n      <td>1</td>\n      <td>1</td>\n      <td>0</td>\n      <td>0</td>\n      <td>...</td>\n      <td>1</td>\n      <td>0</td>\n      <td>0</td>\n      <td>0</td>\n      <td>0</td>\n      <td>0</td>\n      <td>0</td>\n      <td>0</td>\n      <td>1</td>\n      <td>0</td>\n    </tr>\n    <tr>\n      <th>3</th>\n      <td>27.0</td>\n      <td>8.6625</td>\n      <td>0</td>\n      <td>0</td>\n      <td>1</td>\n      <td>0</td>\n      <td>1</td>\n      <td>1</td>\n      <td>0</td>\n      <td>0</td>\n      <td>...</td>\n      <td>1</td>\n      <td>0</td>\n      <td>0</td>\n      <td>0</td>\n      <td>0</td>\n      <td>0</td>\n      <td>0</td>\n      <td>0</td>\n      <td>0</td>\n      <td>1</td>\n    </tr>\n    <tr>\n      <th>4</th>\n      <td>22.0</td>\n      <td>12.2875</td>\n      <td>0</td>\n      <td>0</td>\n      <td>1</td>\n      <td>1</td>\n      <td>0</td>\n      <td>0</td>\n      <td>1</td>\n      <td>0</td>\n      <td>...</td>\n      <td>0</td>\n      <td>1</td>\n      <td>0</td>\n      <td>0</td>\n      <td>0</td>\n      <td>0</td>\n      <td>0</td>\n      <td>0</td>\n      <td>0</td>\n      <td>1</td>\n    </tr>\n  </tbody>\n</table>\n<p>5 rows × 24 columns</p>\n</div>"
                    },
                    "metadata": {},
                    "execution_count": 32,
                    "output_type": "execute_result"
                }
            ],
            "execution_count": 32
        },
        {
            "cell_type": "markdown",
            "source": [
                "## 1. Дерево решений без настройки параметров "
            ],
            "metadata": {
                "azdata_cell_guid": "86474762-4558-4052-a940-a335f9339cd8"
            }
        },
        {
            "cell_type": "markdown",
            "source": [
                "**Обучите на имеющейся выборке дерево решений (`DecisionTreeClassifier`) максимальной глубины 2. Используйте параметр `random_state=17` для воспроизводимости результатов.**"
            ],
            "metadata": {
                "azdata_cell_guid": "1fe7b7d6-ec6a-409d-b3e1-ef51eba6746b"
            }
        },
        {
            "cell_type": "code",
            "source": [
                "# Ваш код здесь\r\n",
                "clf = tree.DecisionTreeClassifier(max_depth=2, random_state=17)\r\n",
                "clf.fit(train_df, y)"
            ],
            "metadata": {
                "azdata_cell_guid": "f6b5e3a7-fbc3-4bcb-98d4-94f21ac92cf6"
            },
            "outputs": [
                {
                    "data": {
                        "text/plain": "DecisionTreeClassifier(max_depth=2, random_state=17)"
                    },
                    "metadata": {},
                    "execution_count": 33,
                    "output_type": "execute_result"
                }
            ],
            "execution_count": 33
        },
        {
            "cell_type": "markdown",
            "source": [
                "**Сделайте с помощью полученной модели прогноз для тестовой выборки **"
            ],
            "metadata": {
                "azdata_cell_guid": "3a34f594-5c81-4cf8-ae76-6116afeffe08"
            }
        },
        {
            "cell_type": "code",
            "source": [
                "# Ваш код здесь\r\n",
                "y_pred = clf.predict(train_df)"
            ],
            "metadata": {
                "azdata_cell_guid": "e5fefecc-165d-4d94-bd3c-dc7d591355fa"
            },
            "outputs": [],
            "execution_count": 34
        },
        {
            "cell_type": "code",
            "source": [
                "accuracy_score(y, y_pred)"
            ],
            "metadata": {
                "azdata_cell_guid": "abd63e42-6b5b-4012-b564-1e720b9a2a8e"
            },
            "outputs": [
                {
                    "data": {
                        "text/plain": "0.7957351290684624"
                    },
                    "metadata": {},
                    "execution_count": 35,
                    "output_type": "execute_result"
                }
            ],
            "execution_count": 35
        },
        {
            "cell_type": "markdown",
            "source": [
                "**Сформируйте файл посылки и отправьте на Kaggle**"
            ],
            "metadata": {
                "azdata_cell_guid": "f3332b52-f388-4b3b-be3e-11cfc7eb5ac2"
            }
        },
        {
            "cell_type": "code",
            "source": [
                "# Ваш код здесь\r\n",
                "write_to_submission_file(train_df, y_pred, train_num=891, target='Survived')"
            ],
            "metadata": {
                "azdata_cell_guid": "27054d85-9a1a-48b0-8d37-8653bfb8eced"
            },
            "outputs": [],
            "execution_count": null
        },
        {
            "cell_type": "markdown",
            "source": [
                "<font color='red'>Вопрос 1. </font> Каков результат первой посылки (дерево решений без настройки параметров) в публичном рейтинге соревнования Titanic?\n",
                "- 0.746\n",
                "- 0.756\n",
                "- 0.766\n",
                "- 0.776"
            ],
            "metadata": {
                "azdata_cell_guid": "ce02cf8e-9908-4b54-aa35-c6599b4bb365"
            }
        },
        {
            "cell_type": "code",
            "source": [
                "# Ваш код здесь"
            ],
            "metadata": {
                "azdata_cell_guid": "8d53ea37-fe48-4cfb-8eee-fcd32ce8bbb0"
            },
            "outputs": [],
            "execution_count": null
        },
        {
            "cell_type": "code",
            "source": [
                "plt.figure(figsize=(25, 12))\r\n",
                "tree.plot_tree(clf, fontsize=10, feature_names=list(train_df), filled=True)\r\n",
                "plt.show( )"
            ],
            "metadata": {
                "azdata_cell_guid": "6604213c-413f-4c87-ae37-15181964a2ee"
            },
            "outputs": [
                {
                    "data": {
                        "text/plain": "<Figure size 1800x864 with 1 Axes>",
                        "image/png": "[encoded data removed]"
                    },
                    "metadata": {},
                    "output_type": "display_data"
                }
            ],
            "execution_count": 36
        },
        {
            "cell_type": "markdown",
            "source": [
                "**Отобразите дерево с помощью `export_graphviz` и `dot`.**"
            ],
            "metadata": {
                "azdata_cell_guid": "96706251-7514-4768-bc14-ce12889b43ea"
            }
        },
        {
            "cell_type": "markdown",
            "source": [
                "<font color='red'>Вопрос 2. </font> Сколько признаков задействуются при прогнозе деревом решений глубины 2?\n",
                "- 2\n",
                "- 3\n",
                "- 4\n",
                "- 5"
            ],
            "metadata": {
                "azdata_cell_guid": "bd3e1eb4-a8df-444b-bfe5-0360b31f1171"
            }
        },
        {
            "cell_type": "markdown",
            "source": [
                "## 2. Дерево решений с настройкой параметров "
            ],
            "metadata": {
                "azdata_cell_guid": "2417644a-55d5-4f4f-8ce2-e36bbd43bbde"
            }
        },
        {
            "cell_type": "markdown",
            "source": [
                "**Обучите на имеющейся выборке дерево решений (`DecisionTreeClassifier`). Также укажите `random_state=17`. Максимальную глубину и минимальное число элементов в листе настройте на 5-кратной кросс-валидации с помощью `GridSearchCV`.**"
            ],
            "metadata": {
                "azdata_cell_guid": "70c9f901-ce55-4fa1-bac1-c72e002a3dcc"
            }
        },
        {
            "cell_type": "code",
            "source": [
                "# tree params for grid search\n",
                "clf = tree.DecisionTreeClassifier()\n",
                "tree_params = {\"max_depth\": range(1, 5), \"min_samples_leaf\": range(1, 5)}\n",
                "# Ваш код здесь\n",
                "grid_search_cv_clf = GridSearchCV(clf, tree_params, cv=5)\n",
                "grid_search_cv_clf.fit(train_df, y)\n",
                "best_clf = grid_search_cv_clf.best_estimator_"
            ],
            "metadata": {
                "azdata_cell_guid": "26e55997-0084-4bbc-a888-258e47eca5b2"
            },
            "outputs": [],
            "execution_count": 37
        },
        {
            "cell_type": "code",
            "source": [
                "y_pred = best_clf.predict(train_df)"
            ],
            "metadata": {
                "azdata_cell_guid": "cb70d90e-a5b0-44ca-b72d-b6cd462882dc"
            },
            "outputs": [],
            "execution_count": 43
        },
        {
            "cell_type": "code",
            "source": [
                "best_clf.score(train_df, y_pred)"
            ],
            "metadata": {
                "azdata_cell_guid": "8577dfc9-200f-45cd-b6a7-bb7e1aeb44e2"
            },
            "outputs": [
                {
                    "data": {
                        "text/plain": "1.0"
                    },
                    "metadata": {},
                    "execution_count": 51,
                    "output_type": "execute_result"
                }
            ],
            "execution_count": 51
        },
        {
            "cell_type": "code",
            "source": [
                "best_clf.score(train_df, y)"
            ],
            "metadata": {
                "azdata_cell_guid": "40c58977-e97c-48cb-b12e-b90521539324"
            },
            "outputs": [
                {
                    "data": {
                        "text/plain": "0.8237934904601572"
                    },
                    "metadata": {},
                    "execution_count": 53,
                    "output_type": "execute_result"
                }
            ],
            "execution_count": 53
        },
        {
            "cell_type": "code",
            "source": [
                "accuracy_score(y, y_pred)"
            ],
            "metadata": {
                "azdata_cell_guid": "6d47f94d-edd0-4c2f-b013-1db93c22e4fc"
            },
            "outputs": [
                {
                    "data": {
                        "text/plain": "0.8237934904601572"
                    },
                    "metadata": {},
                    "execution_count": 52,
                    "output_type": "execute_result"
                }
            ],
            "execution_count": 52
        },
        {
            "cell_type": "code",
            "source": [
                "from sklearn.model_selection import cross_val_score\r\n",
                "cross_val_score(best_clf, train_df, y, cv=5).mean()"
            ],
            "metadata": {
                "azdata_cell_guid": "9142f37e-a597-4ace-9744-1f27fb32322e"
            },
            "outputs": [
                {
                    "data": {
                        "text/plain": "0.8103132257862031"
                    },
                    "metadata": {},
                    "execution_count": 49,
                    "output_type": "execute_result"
                }
            ],
            "execution_count": 49
        },
        {
            "cell_type": "code",
            "source": [
                "grid_search_cv_clf.best_score_"
            ],
            "metadata": {
                "azdata_cell_guid": "110c608f-038f-4247-ae43-2843eaf8f6fb"
            },
            "outputs": [
                {
                    "data": {
                        "text/plain": "0.8103132257862031"
                    },
                    "metadata": {},
                    "execution_count": 55,
                    "output_type": "execute_result"
                }
            ],
            "execution_count": 55
        },
        {
            "cell_type": "code",
            "source": [
                ""
            ],
            "metadata": {
                "azdata_cell_guid": "93682187-4f46-4329-8a36-258cca448cc2"
            },
            "outputs": [],
            "execution_count": null
        },
        {
            "cell_type": "markdown",
            "source": [
                "<font color='red'>Вопрос 3. </font> Каковы лучшие параметры дерева, настроенные на кросс-валидации с помощью `GridSearchCV`?\n",
                "- max_depth=2, min_samples_leaf=1\n",
                "- max_depth=2, min_samples_leaf=4\n",
                "- max_depth=3, min_samples_leaf=2\n",
                "- max_depth=3, min_samples_leaf=3"
            ],
            "metadata": {
                "azdata_cell_guid": "b0788f97-bea7-4b83-8e14-48b129f0fdbf"
            }
        },
        {
            "cell_type": "markdown",
            "source": [
                "<font color='red'>Вопрос 4. </font> Какой получилась средняя доля верных ответов на кросс-валидации для дерева решений с лучшим сочетанием гиперпараметров `max_depth` и `min_samples_leaf`?\n",
                "- 0.77\n",
                "- 0.79\n",
                "- 0.81\n",
                "- 0.83"
            ],
            "metadata": {
                "azdata_cell_guid": "63d974f3-5deb-4f7f-883d-1f45d50ab4a7"
            }
        },
        {
            "cell_type": "markdown",
            "source": [
                "**Сделайте с помощью полученной модели прогноз для тестовой выборки.**"
            ],
            "metadata": {
                "azdata_cell_guid": "c6e8ceef-8b0c-4041-9c4a-6ef16ef4f548"
            }
        },
        {
            "cell_type": "code",
            "source": [
                "# Ваш код здесь"
            ],
            "metadata": {
                "azdata_cell_guid": "20b1618b-91c6-42aa-b046-2f3b140a1caa"
            },
            "outputs": [],
            "execution_count": null
        },
        {
            "cell_type": "markdown",
            "source": [
                "**Сформируйте файл посылки и отправьте на Kaggle.**"
            ],
            "metadata": {
                "azdata_cell_guid": "e8a87a55-3585-4615-b8b9-bb115adde627"
            }
        },
        {
            "cell_type": "code",
            "source": [
                "# Ваш код здесь"
            ],
            "metadata": {
                "azdata_cell_guid": "21e46071-5a3a-4582-af2e-901fd54947ee"
            },
            "outputs": [],
            "execution_count": null
        },
        {
            "cell_type": "markdown",
            "source": [
                "<font color='red'>Вопрос 5. </font> Каков результат второй посылки (дерево решений с настройкой гиперпараметров) в публичном рейтинге соревнования Titanic?\n",
                "- 0.7499\n",
                "- 0.7599\n",
                "- 0.7699\n",
                "- 0.7799"
            ],
            "metadata": {
                "azdata_cell_guid": "084900c3-7f62-4567-a4de-ee564b41b0c9"
            }
        },
        {
            "cell_type": "markdown",
            "source": [
                "## Ссылки:"
            ],
            "metadata": {
                "azdata_cell_guid": "9f3c5320-45bc-400a-a64b-6b8abae4643c"
            }
        },
        {
            "cell_type": "markdown",
            "source": [
                " - <a href=\"https://www.kaggle.com/c/titanic\">Соревнование</a> Kaggle \"Titanic: Machine Learning from Disaster\"\n",
                " - <a href=\"https://www.dataquest.io/mission/74/getting-started-with-kaggle/\">Тьюториал</a> Dataquest по задаче Kaggle \"Titanic: Machine Learning from Disaster\""
            ],
            "metadata": {
                "azdata_cell_guid": "e75693fe-b48e-466c-8179-12ec3c3dd507"
            }
        }
    ]
}